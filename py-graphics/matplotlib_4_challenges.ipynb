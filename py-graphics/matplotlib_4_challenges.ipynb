{
  "nbformat": 4,
  "nbformat_minor": 0,
  "metadata": {
    "colab": {
      "name": "matplotlib_4_challenges.ipynb",
      "provenance": [],
      "collapsed_sections": [],
      "include_colab_link": true
    },
    "kernelspec": {
      "name": "python3",
      "display_name": "Python 3"
    }
  },
  "cells": [
    {
      "cell_type": "markdown",
      "metadata": {
        "id": "view-in-github",
        "colab_type": "text"
      },
      "source": [
        "<a href=\"https://colab.research.google.com/github/o-going/pdm01/blob/master/py-graphics/matplotlib_4_challenges.ipynb\" target=\"_parent\"><img src=\"https://colab.research.google.com/assets/colab-badge.svg\" alt=\"Open In Colab\"/></a>"
      ]
    },
    {
      "cell_type": "markdown",
      "metadata": {
        "id": "9Wej-7GZ4f3N",
        "colab_type": "text"
      },
      "source": [
        "# Challenge\n",
        "## Python module 2. **matplotlib**\n",
        "### Python graphics using matplotlib\n",
        "- Visualization\n",
        "- Front-end deployment to WEB or Mobile"
      ]
    },
    {
      "cell_type": "markdown",
      "metadata": {
        "id": "h6yEJiGJ4Lbk",
        "colab_type": "text"
      },
      "source": [
        "### 무작위수 분포 그려보기"
      ]
    },
    {
      "cell_type": "markdown",
      "metadata": {
        "id": "b-JcgSU-Ktyz",
        "colab_type": "text"
      },
      "source": [
        "### [도전1.] 균일분포와 정규분포를 비교하는 그림을 그리시오.\n",
        "- subplot 이용\n",
        "- style(제목, x-축 레이블, y-축 레이블, ...)\n",
        "\n",
        "> [hint] 검색: \"How to add title to subplots in Matplotlib?\""
      ]
    },
    {
      "cell_type": "code",
      "metadata": {
        "id": "VYLXnxyahggS",
        "colab_type": "code",
        "colab": {}
      },
      "source": [
        "import numpy as np\n",
        "import matplotlib.pyplot as plt"
      ],
      "execution_count": 1,
      "outputs": []
    },
    {
      "cell_type": "code",
      "metadata": {
        "id": "k0XaT2f9JGZy",
        "colab_type": "code",
        "colab": {
          "base_uri": "https://localhost:8080/",
          "height": 355
        },
        "outputId": "dec84867-1faf-4cc0-9729-d583a6dad5e5"
      },
      "source": [
        "plt.hist(np.random.rand(1000))"
      ],
      "execution_count": 2,
      "outputs": [
        {
          "output_type": "execute_result",
          "data": {
            "text/plain": [
              "(array([101., 108.,  89., 104., 102.,  83., 102., 112., 106.,  93.]),\n",
              " array([0.00131085, 0.10106163, 0.20081242, 0.30056321, 0.400314  ,\n",
              "        0.50006479, 0.59981557, 0.69956636, 0.79931715, 0.89906794,\n",
              "        0.99881873]),\n",
              " <a list of 10 Patch objects>)"
            ]
          },
          "metadata": {
            "tags": []
          },
          "execution_count": 2
        },
        {
          "output_type": "display_data",
          "data": {
            "image/png": "[encoded data removed]",
            "text/plain": [
              "<Figure size 432x288 with 1 Axes>"
            ]
          },
          "metadata": {
            "tags": [],
            "needs_background": "light"
          }
        }
      ]
    },
    {
      "cell_type": "code",
      "metadata": {
        "id": "T8SCqKVeMhBF",
        "colab_type": "code",
        "colab": {
          "base_uri": "https://localhost:8080/",
          "height": 355
        },
        "outputId": "dd90d82c-24c1-45a1-ea88-d51c6b2ecddd"
      },
      "source": [
        "plt.hist(np.random.randn(1000))"
      ],
      "execution_count": 3,
      "outputs": [
        {
          "output_type": "execute_result",
          "data": {
            "text/plain": [
              "(array([  3.,  26.,  89., 217., 277., 221., 124.,  34.,   7.,   2.]),\n",
              " array([-3.26032376, -2.56351163, -1.8666995 , -1.16988737, -0.47307524,\n",
              "         0.22373689,  0.92054902,  1.61736115,  2.31417328,  3.01098541,\n",
              "         3.70779754]),\n",
              " <a list of 10 Patch objects>)"
            ]
          },
          "metadata": {
            "tags": []
          },
          "execution_count": 3
        },
        {
          "output_type": "display_data",
          "data": {
            "image/png": "[encoded data removed]",
            "text/plain": [
              "<Figure size 432x288 with 1 Axes>"
            ]
          },
          "metadata": {
            "tags": [],
            "needs_background": "light"
          }
        }
      ]
    },
    {
      "cell_type": "markdown",
      "metadata": {
        "id": "N3H3K5KKh4y8",
        "colab_type": "text"
      },
      "source": [
        "### subplot(121), subplot(122)\n"
      ]
    },
    {
      "cell_type": "markdown",
      "metadata": {
        "id": "D5XGB1v_PAeU",
        "colab_type": "text"
      },
      "source": [
        "### [도전 2.] 0~9 사이의 무작위 정수 1000개를 만들어서 각 수의 빈도에 대한 히스토그램, 막대그래프, 꺽은선 그래프를 그리고 비교하시오.\n",
        "- subplot 이용\n",
        "- style(제목, x-축 레이블, y-축 레이블, ...)\n",
        "\n"
      ]
    },
    {
      "cell_type": "code",
      "metadata": {
        "id": "ldfnLgdpiQGg",
        "colab_type": "code",
        "colab": {}
      },
      "source": [
        "n1000 = np.random.randint(0,10,1000)"
      ],
      "execution_count": 4,
      "outputs": []
    },
    {
      "cell_type": "code",
      "metadata": {
        "id": "xza_yV8nMshU",
        "colab_type": "code",
        "colab": {}
      },
      "source": [
        "value, count= np.unique(n1000, return_counts=True)\n",
        "# count"
      ],
      "execution_count": 5,
      "outputs": []
    },
    {
      "cell_type": "code",
      "metadata": {
        "id": "CtOSk4RpQTXG",
        "colab_type": "code",
        "colab": {
          "base_uri": "https://localhost:8080/",
          "height": 283
        },
        "outputId": "f457bc09-5446-4f67-ecc6-b5cdd3c76dfe"
      },
      "source": [
        "plt.bar(value,count) #,color=\"bgrcmyk\")  # 'bgrcmykw"
      ],
      "execution_count": 6,
      "outputs": [
        {
          "output_type": "execute_result",
          "data": {
            "text/plain": [
              "<BarContainer object of 10 artists>"
            ]
          },
          "metadata": {
            "tags": []
          },
          "execution_count": 6
        },
        {
          "output_type": "display_data",
          "data": {
            "image/png": "[encoded data removed]",
            "text/plain": [
              "<Figure size 432x288 with 1 Axes>"
            ]
          },
          "metadata": {
            "tags": [],
            "needs_background": "light"
          }
        }
      ]
    },
    {
      "cell_type": "markdown",
      "metadata": {
        "id": "vJOiAMJ5Jpnq",
        "colab_type": "text"
      },
      "source": [
        "> [Python 그래픽스](https://datascienceschool.net/view-notebook/d0b1637803754bb083b5722c9f2209d0/)\n"
      ]
    }
  ]
}