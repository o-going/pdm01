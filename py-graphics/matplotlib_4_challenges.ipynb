{
  "nbformat": 4,
  "nbformat_minor": 0,
  "metadata": {
    "colab": {
      "name": "matplotlib_4_challenges.ipynb",
      "provenance": [],
      "collapsed_sections": [],
      "include_colab_link": true
    },
    "kernelspec": {
      "name": "python3",
      "display_name": "Python 3"
    }
  },
  "cells": [
    {
      "cell_type": "markdown",
      "metadata": {
        "id": "view-in-github",
        "colab_type": "text"
      },
      "source": [
        "<a href=\"https://colab.research.google.com/github/o-going/pdm01/blob/master/py-graphics/matplotlib_4_challenges.ipynb\" target=\"_parent\"><img src=\"https://colab.research.google.com/assets/colab-badge.svg\" alt=\"Open In Colab\"/></a>"
      ]
    },
    {
      "cell_type": "markdown",
      "metadata": {
        "id": "9Wej-7GZ4f3N",
        "colab_type": "text"
      },
      "source": [
        "# Challenge\n",
        "## Python module 2. **matplotlib**\n",
        "### Python graphics using matplotlib\n",
        "- Visualization\n",
        "- Front-end deployment to WEB or Mobile"
      ]
    },
    {
      "cell_type": "markdown",
      "metadata": {
        "id": "h6yEJiGJ4Lbk",
        "colab_type": "text"
      },
      "source": [
        "### 무작위수 분포 그려보기"
      ]
    },
    {
      "cell_type": "markdown",
      "metadata": {
        "id": "b-JcgSU-Ktyz",
        "colab_type": "text"
      },
      "source": [
        "### [도전1.] 균일분포와 정규분포를 비교하는 그림을 그리시오.\n",
        "- subplot 이용\n",
        "- style(제목, x-축 레이블, y-축 레이블, ...)\n",
        "\n",
        "> [hint] 검색: \"How to add title to subplots in Matplotlib?\""
      ]
    },
    {
      "cell_type": "code",
      "metadata": {
        "id": "VYLXnxyahggS",
        "colab_type": "code",
        "colab": {}
      },
      "source": [
        "import numpy as np\n",
        "import matplotlib.pyplot as plt"
      ],
      "execution_count": 3,
      "outputs": []
    },
    {
      "cell_type": "code",
      "metadata": {
        "id": "k0XaT2f9JGZy",
        "colab_type": "code",
        "colab": {
          "base_uri": "https://localhost:8080/",
          "height": 355
        },
        "outputId": "e5f360ed-76c7-4969-c433-f1e981c23865"
      },
      "source": [
        "plt.hist(np.random.rand(1000))"
      ],
      "execution_count": 24,
      "outputs": [
        {
          "output_type": "execute_result",
          "data": {
            "text/plain": [
              "(array([114., 114.,  89.,  85.,  98.,  94., 114.,  91., 107.,  94.]),\n",
              " array([7.71726788e-05, 9.98160065e-02, 1.99554840e-01, 2.99293674e-01,\n",
              "        3.99032508e-01, 4.98771342e-01, 5.98510176e-01, 6.98249010e-01,\n",
              "        7.97987844e-01, 8.97726677e-01, 9.97465511e-01]),\n",
              " <a list of 10 Patch objects>)"
            ]
          },
          "metadata": {
            "tags": []
          },
          "execution_count": 24
        },
        {
          "output_type": "display_data",
          "data": {
            "image/png": "[encoded data removed]",
            "text/plain": [
              "<Figure size 432x288 with 1 Axes>"
            ]
          },
          "metadata": {
            "tags": [],
            "needs_background": "light"
          }
        }
      ]
    },
    {
      "cell_type": "code",
      "metadata": {
        "id": "T8SCqKVeMhBF",
        "colab_type": "code",
        "colab": {
          "base_uri": "https://localhost:8080/",
          "height": 355
        },
        "outputId": "ce0d0d46-58a4-4939-e19e-edad59c7e733"
      },
      "source": [
        "plt.hist(np.random.randn(1000))"
      ],
      "execution_count": 26,
      "outputs": [
        {
          "output_type": "execute_result",
          "data": {
            "text/plain": [
              "(array([  4.,  11.,  41., 124., 218., 238., 200., 107.,  47.,  10.]),\n",
              " array([-3.32351491, -2.70890334, -2.09429176, -1.47968018, -0.86506861,\n",
              "        -0.25045703,  0.36415455,  0.97876612,  1.5933777 ,  2.20798928,\n",
              "         2.82260085]),\n",
              " <a list of 10 Patch objects>)"
            ]
          },
          "metadata": {
            "tags": []
          },
          "execution_count": 26
        },
        {
          "output_type": "display_data",
          "data": {
            "image/png": "[encoded data removed]",
            "text/plain": [
              "<Figure size 432x288 with 1 Axes>"
            ]
          },
          "metadata": {
            "tags": [],
            "needs_background": "light"
          }
        }
      ]
    },
    {
      "cell_type": "markdown",
      "metadata": {
        "id": "N3H3K5KKh4y8",
        "colab_type": "text"
      },
      "source": [
        "### subplot(121), subplot(122)\n"
      ]
    },
    {
      "cell_type": "code",
      "metadata": {
        "id": "GvKQSOI0-uLm",
        "colab_type": "code",
        "colab": {
          "base_uri": "https://localhost:8080/",
          "height": 355
        },
        "outputId": "4d0d1c55-5fcc-48fe-e173-3595be46f94e"
      },
      "source": [
        "fig = plt.figure(figsize=(15,5))  # plt size 설정\n",
        "\n",
        "# 균일분포\n",
        "ax1=plt.subplot(121)\n",
        "plt.hist(np.random.rand(1000),color='green')\n",
        "plt.xlabel('x axis',fontsize=15)\n",
        "plt.ylabel('y axis',fontsize=15)\n",
        "ax1.title.set_text('uniform distribution')\n",
        "\n",
        "# 정규분포\n",
        "ax2=plt.subplot(122)\n",
        "plt.hist(np.random.randn(1000),color='orange')\n",
        "plt.xlabel('x axis',fontsize=15)\n",
        "plt.ylabel('y axis',fontsize=15)\n",
        "ax2.title.set_text('normal distribution')"
      ],
      "execution_count": 158,
      "outputs": [
        {
          "output_type": "display_data",
          "data": {
            "image/png": "[encoded data removed]",
            "text/plain": [
              "<Figure size 1080x360 with 2 Axes>"
            ]
          },
          "metadata": {
            "tags": [],
            "needs_background": "light"
          }
        }
      ]
    },
    {
      "cell_type": "markdown",
      "metadata": {
        "id": "D5XGB1v_PAeU",
        "colab_type": "text"
      },
      "source": [
        "### [도전 2.] 0~9 사이의 무작위 정수 1000개를 만들어서 각 수의 빈도에 대한 히스토그램, 막대그래프, 꺽은선 그래프를 그리고 비교하시오.\n",
        "- subplot 이용\n",
        "- style(제목, x-축 레이블, y-축 레이블, ...)\n",
        "\n"
      ]
    },
    {
      "cell_type": "code",
      "metadata": {
        "id": "ldfnLgdpiQGg",
        "colab_type": "code",
        "colab": {}
      },
      "source": [
        "n1000 = np.random.randint(0,10,1000)"
      ],
      "execution_count": 117,
      "outputs": []
    },
    {
      "cell_type": "code",
      "metadata": {
        "id": "xza_yV8nMshU",
        "colab_type": "code",
        "colab": {
          "base_uri": "https://localhost:8080/",
          "height": 35
        },
        "outputId": "f96c83e8-be3e-441c-b9e5-5c35a11d5342"
      },
      "source": [
        "value, count= np.unique(n1000, return_counts=True)\n",
        "count"
      ],
      "execution_count": 118,
      "outputs": [
        {
          "output_type": "execute_result",
          "data": {
            "text/plain": [
              "array([109,  98,  84, 107, 102,  98,  89,  98, 128,  87])"
            ]
          },
          "metadata": {
            "tags": []
          },
          "execution_count": 118
        }
      ]
    },
    {
      "cell_type": "code",
      "metadata": {
        "id": "IMsmzCwrtKzH",
        "colab_type": "code",
        "colab": {
          "base_uri": "https://localhost:8080/",
          "height": 35
        },
        "outputId": "e06986c1-9a01-4b70-f36c-b11470c1b2a3"
      },
      "source": [
        "value"
      ],
      "execution_count": 129,
      "outputs": [
        {
          "output_type": "execute_result",
          "data": {
            "text/plain": [
              "array([0, 1, 2, 3, 4, 5, 6, 7, 8, 9])"
            ]
          },
          "metadata": {
            "tags": []
          },
          "execution_count": 129
        }
      ]
    },
    {
      "cell_type": "code",
      "metadata": {
        "id": "CtOSk4RpQTXG",
        "colab_type": "code",
        "colab": {
          "base_uri": "https://localhost:8080/",
          "height": 355
        },
        "outputId": "ef9c13ca-d104-40ab-ab15-4034dfe1c475"
      },
      "source": [
        "fig = plt.figure(figsize=(18,5))  # plt size 설정\n",
        "\n",
        "# 1 histogram\n",
        "ax1=plt.subplot(131)\n",
        "plt.hist(count, color='pink')\n",
        "plt.xlabel('count',fontsize=15)\n",
        "plt.ylabel('frequency',fontsize=15)\n",
        "ax1.title.set_text('histogram')\n",
        "\n",
        "# 2 bar graph\n",
        "ax2=plt.subplot(132)\n",
        "plt.bar(value,count, color='green')\n",
        "plt.xlabel('value',fontsize=15)\n",
        "plt.ylabel('count',fontsize=15)\n",
        "ax2.title.set_text('bar graph')\n",
        "\n",
        "# 3 line graph\n",
        "ax3=plt.subplot(133)\n",
        "plt.plot(value, count, color='orange')\n",
        "plt.xlabel('value',fontsize=15)\n",
        "plt.ylabel('count',fontsize=15)\n",
        "ax3.title.set_text('line graph')\n",
        "\n",
        "# histogram 같은 경우는 count에 대한 빈도수(개수)를 보여주고, bar graph와 line graph 같은 경우는 value에 대한 count(개수)가 그래프에 잘 드러나 있다. 각각 그래프 마다 빈도수가 잘 보여지고 있다."
      ],
      "execution_count": 160,
      "outputs": [
        {
          "output_type": "display_data",
          "data": {
            "image/png": "[encoded data removed]",
            "text/plain": [
              "<Figure size 1296x360 with 3 Axes>"
            ]
          },
          "metadata": {
            "tags": [],
            "needs_background": "light"
          }
        }
      ]
    },
    {
      "cell_type": "markdown",
      "metadata": {
        "id": "vJOiAMJ5Jpnq",
        "colab_type": "text"
      },
      "source": [
        "> [Python 그래픽스](https://datascienceschool.net/view-notebook/d0b1637803754bb083b5722c9f2209d0/)\n"
      ]
    }
  ]
}