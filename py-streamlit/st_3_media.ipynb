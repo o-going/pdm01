{
  "nbformat": 4,
  "nbformat_minor": 0,
  "metadata": {
    "colab": {
      "name": "st_3_media.ipynb",
      "provenance": [],
      "collapsed_sections": [],
      "include_colab_link": true
    },
    "kernelspec": {
      "name": "python3",
      "display_name": "Python 3"
    }
  },
  "cells": [
    {
      "cell_type": "markdown",
      "metadata": {
        "id": "view-in-github",
        "colab_type": "text"
      },
      "source": [
        "<a href=\"https://colab.research.google.com/github/o-going/pdm01/blob/master/py-streamlit/st_3_media.ipynb\" target=\"_parent\"><img src=\"https://colab.research.google.com/assets/colab-badge.svg\" alt=\"Open In Colab\"/></a>"
      ]
    },
    {
      "cell_type": "markdown",
      "metadata": {
        "id": "O5Gq5ZnKOKpX"
      },
      "source": [
        "\n",
        "\n",
        "# streamlit\n",
        "\n",
        "- WebApp generation module => \n",
        "[streamlit-vs-dash-vs-shiny-vs-voila-vs-flask-vs-jupyter](https://towardsdatascience.com/streamlit-vs-dash-vs-shiny-vs-voila-vs-flask-vs-jupyter-24739ab5d569)\n",
        "- !pip install -q streamlit\n",
        "- !pip install pyngrok\n",
        "\n",
        "- Run webapp in Colab\n",
        "    * make streamlit python code\n",
        "    * !streamlit run *.py &>/dev/null&\n",
        "\n",
        "> [How to run streamlit app in colab?](https://mc.ai/how-to-run-and-share-your-deep-learning-web-app-on-colab-2/)"
      ]
    },
    {
      "cell_type": "code",
      "metadata": {
        "id": "R8l0okryNgBJ",
        "outputId": "70abd6ec-e11d-4888-914a-3e1ff348601f",
        "colab": {
          "base_uri": "https://localhost:8080/",
          "height": 307
        }
      },
      "source": [
        "!pip install -q streamlit"
      ],
      "execution_count": 1,
      "outputs": [
        {
          "output_type": "stream",
          "text": [
            "\u001b[K     |████████████████████████████████| 7.4MB 2.6MB/s \n",
            "\u001b[K     |████████████████████████████████| 6.7MB 42.5MB/s \n",
            "\u001b[K     |████████████████████████████████| 112kB 48.6MB/s \n",
            "\u001b[K     |████████████████████████████████| 133kB 41.2MB/s \n",
            "\u001b[K     |████████████████████████████████| 163kB 44.8MB/s \n",
            "\u001b[K     |████████████████████████████████| 4.4MB 38.4MB/s \n",
            "\u001b[K     |████████████████████████████████| 102kB 9.6MB/s \n",
            "\u001b[K     |████████████████████████████████| 71kB 7.0MB/s \n",
            "\u001b[K     |████████████████████████████████| 71kB 6.5MB/s \n",
            "\u001b[K     |████████████████████████████████| 122kB 42.8MB/s \n",
            "\u001b[?25h  Building wheel for blinker (setup.py) ... \u001b[?25l\u001b[?25hdone\n",
            "  Building wheel for watchdog (setup.py) ... \u001b[?25l\u001b[?25hdone\n",
            "  Building wheel for pathtools (setup.py) ... \u001b[?25l\u001b[?25hdone\n",
            "\u001b[31mERROR: google-colab 1.0.0 has requirement ipykernel~=4.10, but you'll have ipykernel 5.3.4 which is incompatible.\u001b[0m\n",
            "\u001b[31mERROR: botocore 1.19.0 has requirement urllib3<1.26,>=1.25.4; python_version != \"3.4\", but you'll have urllib3 1.24.3 which is incompatible.\u001b[0m\n"
          ],
          "name": "stdout"
        }
      ]
    },
    {
      "cell_type": "code",
      "metadata": {
        "id": "7kz92O-cUf5v",
        "outputId": "7a450678-4aaf-46c8-b7d1-c94770118e8b",
        "colab": {
          "base_uri": "https://localhost:8080/",
          "height": 235
        }
      },
      "source": [
        "!pip install pyngrok"
      ],
      "execution_count": 2,
      "outputs": [
        {
          "output_type": "stream",
          "text": [
            "Collecting pyngrok\n",
            "  Downloading https://files.pythonhosted.org/packages/b3/8a/3cfab0f9f2ac0daf459bf4e378b1e692956315328c7c219ab3e2f401ef1d/pyngrok-4.2.2.tar.gz\n",
            "Requirement already satisfied: future in /usr/local/lib/python3.6/dist-packages (from pyngrok) (0.16.0)\n",
            "Requirement already satisfied: PyYAML in /usr/local/lib/python3.6/dist-packages (from pyngrok) (3.13)\n",
            "Building wheels for collected packages: pyngrok\n",
            "  Building wheel for pyngrok (setup.py) ... \u001b[?25l\u001b[?25hdone\n",
            "  Created wheel for pyngrok: filename=pyngrok-4.2.2-cp36-none-any.whl size=18025 sha256=93c1e38156839ca87bd67a18f876cf2afc966fe9c4f3c3c71626956def61cf01\n",
            "  Stored in directory: /root/.cache/pip/wheels/9c/d3/b5/502fbef4b2782a6142bc00c62ccde76ee04c9148fb43b1b2cd\n",
            "Successfully built pyngrok\n",
            "Installing collected packages: pyngrok\n",
            "Successfully installed pyngrok-4.2.2\n"
          ],
          "name": "stdout"
        }
      ]
    },
    {
      "cell_type": "markdown",
      "metadata": {
        "id": "qGIbFpyabeYG"
      },
      "source": [
        "### st-app-03\n",
        "- load media\n",
        "    - show image: st.image()\n",
        "    - show video: st.video()\n",
        "    - play audio: st.audio()\n",
        "\n",
        "> [streamlit 기초](https://medium.com/@lucaseo0147/kr-%ED%8C%8C%EC%9D%B4%EC%8D%AC-%EC%9B%B9%EC%96%B4%ED%94%8C%EB%A6%AC%EC%BC%80%EC%9D%B4%EC%85%98-%EB%A7%9B%EB%B3%B4%EA%B8%B0-feat-streamlit-846937a7438d)"
      ]
    },
    {
      "cell_type": "markdown",
      "metadata": {
        "id": "RFQf7xGBoWTg"
      },
      "source": [
        "### streamlit code\n",
        "```\n",
        "import streamlit as st\n",
        " \n",
        "## Show image\n",
        "## PIL : Python Image Library\n",
        "from PIL import Image\n",
        "img = Image.open(\"files/example_cat.jpeg\")\n",
        "st.image(img, width=400, caption=\"Image example: Cat\")\n",
        "\n",
        "## Show videos\n",
        "vid_file = open(\"files/example_vid_cat.mp4\", \"rb\").read()\n",
        "st.video(vid_file, start_time=2)\n",
        "\n",
        "## Play audio file.\n",
        "audio_file = open(\"files/loop_w_bass.mp3\", \"rb\").read()\n",
        "st.audio(audio_file, format=\"audio/mp3\", start_time=10)\n",
        "\n",
        "```"
      ]
    },
    {
      "cell_type": "code",
      "metadata": {
        "id": "t9OtZiJfOSKv"
      },
      "source": [
        "# !pip install PIL"
      ],
      "execution_count": null,
      "outputs": []
    },
    {
      "cell_type": "code",
      "metadata": {
        "id": "WLwyAK0xV_yu"
      },
      "source": [
        "!streamlit run st_03_media.py &>/dev/null&"
      ],
      "execution_count": 3,
      "outputs": []
    },
    {
      "cell_type": "code",
      "metadata": {
        "id": "SJRONSuiX4gJ",
        "outputId": "e2f0cf40-53bd-4c54-b566-8b2e04b622ed",
        "colab": {
          "base_uri": "https://localhost:8080/",
          "height": 91
        }
      },
      "source": [
        "from pyngrok import ngrok\n",
        "# Setup a tunnel to the streamlit port 8501\n",
        "public_url = ngrok.connect(port='8501')\n",
        "public_url"
      ],
      "execution_count": 4,
      "outputs": [
        {
          "output_type": "stream",
          "text": [
            ""
          ],
          "name": "stdout"
        },
        {
          "output_type": "stream",
          "text": [
            "/usr/local/lib/python3.6/dist-packages/ipykernel_launcher.py:3: DeprecationWarning: Support for \"return_ngrok_tunnel\" as \"False\" is deprecated and will be removed in 5.0.0, when this method will return a NgrokTunnel instead of a str\n",
            "  This is separate from the ipykernel package so we can avoid doing imports until\n"
          ],
          "name": "stderr"
        },
        {
          "output_type": "execute_result",
          "data": {
            "application/vnd.google.colaboratory.intrinsic+json": {
              "type": "string"
            },
            "text/plain": [
              "'http://5470207f8668.ngrok.io'"
            ]
          },
          "metadata": {
            "tags": []
          },
          "execution_count": 4
        }
      ]
    },
    {
      "cell_type": "markdown",
      "metadata": {
        "id": "fznmjk0r7FAM"
      },
      "source": [
        "## streamlit cheat sheet\n",
        "* https://share.streamlit.io/daniellewisdl/streamlit-cheat-sheet/app.py"
      ]
    },
    {
      "cell_type": "markdown",
      "metadata": {
        "id": "t7CpOdeFttzY"
      },
      "source": [
        "***"
      ]
    },
    {
      "cell_type": "markdown",
      "metadata": {
        "id": "oquiDq8xtTlG"
      },
      "source": [
        "### [도전 과제]\n",
        "\n",
        "- Update st_03_media.py\n",
        "    * Upload a photo from the local PC\n",
        "    * Show the photo uploaded"
      ]
    },
    {
      "cell_type": "markdown",
      "metadata": {
        "id": "T-1R8LT_UvNd"
      },
      "source": [
        "### Upload file from the local PC\n",
        "\n",
        "* use st.file_uploader()\n",
        "\n",
        "```\n",
        "#### Load images\n",
        "# Types of images\n",
        "imgTypes = [\"png\", \"jpg\"]\n",
        "\n",
        "st.info(\"Upload source image on Streamlit\")\n",
        "\n",
        "source_img_buf = st.file_uploader(\"Upload source image\", type=imgTypes, key='src')\n",
        "\n",
        "if source_img_buf is not None:\n",
        "    source_img = Image.open(source_img_buf)\n",
        "    #### Show image\n",
        "    st.image(source_img)\n",
        "\n",
        "```"
      ]
    },
    {
      "cell_type": "markdown",
      "metadata": {
        "id": "_-A11fShtv4v"
      },
      "source": [
        "***"
      ]
    },
    {
      "cell_type": "markdown",
      "metadata": {
        "id": "04-bP_keed1E"
      },
      "source": [
        "# st-app-demo-02\n",
        "- Upload photos\n"
      ]
    },
    {
      "cell_type": "markdown",
      "metadata": {
        "id": "AbdShmjut0Uc"
      },
      "source": [
        "### Colab에서 새로운 streamlit 앱을 실행하는 방법\n",
        "- 런타임 초기화\n",
        "- 새로 연결\n",
        "- upload files\n",
        "    * upload-photos-app.py"
      ]
    },
    {
      "cell_type": "code",
      "metadata": {
        "id": "r40wJWwIeZje"
      },
      "source": [
        "!streamlit run upload-photos-app.py &>/dev/null&"
      ],
      "execution_count": 3,
      "outputs": []
    },
    {
      "cell_type": "code",
      "metadata": {
        "id": "_WWniiGpeZjr",
        "cellView": "both",
        "outputId": "d3a444ac-561e-4553-c8d2-b6868a2f8480",
        "colab": {
          "base_uri": "https://localhost:8080/",
          "height": 91
        }
      },
      "source": [
        "#@title\n",
        "from pyngrok import ngrok\n",
        "# Setup a tunnel to the streamlit port 8501\n",
        "public_url = ngrok.connect(port='8501')\n",
        "public_url"
      ],
      "execution_count": 4,
      "outputs": [
        {
          "output_type": "stream",
          "text": [
            ""
          ],
          "name": "stdout"
        },
        {
          "output_type": "stream",
          "text": [
            "/usr/local/lib/python3.6/dist-packages/ipykernel_launcher.py:4: DeprecationWarning: Support for \"return_ngrok_tunnel\" as \"False\" is deprecated and will be removed in 5.0.0, when this method will return a NgrokTunnel instead of a str\n",
            "  after removing the cwd from sys.path.\n"
          ],
          "name": "stderr"
        },
        {
          "output_type": "execute_result",
          "data": {
            "application/vnd.google.colaboratory.intrinsic+json": {
              "type": "string"
            },
            "text/plain": [
              "'http://13af69cc5bdd.ngrok.io'"
            ]
          },
          "metadata": {
            "tags": []
          },
          "execution_count": 4
        }
      ]
    }
  ]
}