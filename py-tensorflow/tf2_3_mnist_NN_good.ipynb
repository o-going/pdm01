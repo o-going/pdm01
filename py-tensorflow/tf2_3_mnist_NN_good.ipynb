{
  "nbformat": 4,
  "nbformat_minor": 0,
  "metadata": {
    "colab": {
      "name": "tf2_3_mnist_NN_good.ipynb",
      "provenance": [],
      "collapsed_sections": [],
      "include_colab_link": true
    },
    "kernelspec": {
      "name": "python3",
      "display_name": "Python 3"
    },
    "accelerator": "GPU"
  },
  "cells": [
    {
      "cell_type": "markdown",
      "metadata": {
        "id": "view-in-github",
        "colab_type": "text"
      },
      "source": [
        "<a href=\"https://colab.research.google.com/github/o-going/pdm01/blob/master/py-tensorflow/tf2_3_mnist_NN_good.ipynb\" target=\"_parent\"><img src=\"https://colab.research.google.com/assets/colab-badge.svg\" alt=\"Open In Colab\"/></a>"
      ]
    },
    {
      "cell_type": "markdown",
      "metadata": {
        "id": "gq81W1V3PkOY"
      },
      "source": [
        "## Keras example: mnist analysisby simple NN (Neural network)\n",
        "\n",
        "- Keras was designed to easily use the famous deep-learning frameworks; tensorflow, tenano. \n",
        "- Keras provides an easy and convenient way to build deep learning models.\n",
        "\n",
        "    - Keras is an open source python library that enables you to easily build Deep Neural Networks. \n",
        "    - This library is implemented in TensorFlow 2.0.\n",
        "    - Tensorflow and Pytorch are the most used numerical platforms in Python to build Deep Learning algorithms.\n"
      ]
    },
    {
      "cell_type": "code",
      "metadata": {
        "id": "8GgGzPXPVyfa",
        "colab": {
          "base_uri": "https://localhost:8080/"
        },
        "outputId": "1702c94c-293b-4fdd-d251-5d5248c380b5"
      },
      "source": [
        "import numpy as np\n",
        "import tensorflow as tf\n",
        "from tensorflow import keras\n",
        "import pandas as pd\n",
        "import matplotlib.pyplot as plt\n",
        "%matplotlib inline\n",
        "\n",
        "print(tf.__version__)"
      ],
      "execution_count": 1,
      "outputs": [
        {
          "output_type": "stream",
          "text": [
            "2.3.0\n"
          ],
          "name": "stdout"
        }
      ]
    },
    {
      "cell_type": "code",
      "metadata": {
        "id": "BDbYHPtT3fqH",
        "colab": {
          "base_uri": "https://localhost:8080/"
        },
        "outputId": "81466a77-56ff-4cc5-e651-4e95fd5e8170"
      },
      "source": [
        "%%time\n",
        "from keras.datasets import mnist\n",
        "(X_train0, y_train0), (X_test0, y_test0) = mnist.load_data()"
      ],
      "execution_count": 2,
      "outputs": [
        {
          "output_type": "stream",
          "text": [
            "Downloading data from https://storage.googleapis.com/tensorflow/tf-keras-datasets/mnist.npz\n",
            "11493376/11490434 [==============================] - 0s 0us/step\n",
            "CPU times: user 321 ms, sys: 75.5 ms, total: 396 ms\n",
            "Wall time: 516 ms\n"
          ],
          "name": "stdout"
        }
      ]
    },
    {
      "cell_type": "code",
      "metadata": {
        "id": "Z12GoOpw3fqW",
        "colab": {
          "base_uri": "https://localhost:8080/"
        },
        "outputId": "97c67ad2-507d-4d2c-d30a-3b4dc5f81a5c"
      },
      "source": [
        "print(X_train0.shape, X_train0.dtype)\n",
        "print(y_train0.shape, y_train0.dtype)\n",
        "print(X_test0.shape, X_test0.dtype)\n",
        "print(y_test0.shape, y_test0.dtype)"
      ],
      "execution_count": 3,
      "outputs": [
        {
          "output_type": "stream",
          "text": [
            "(60000, 28, 28) uint8\n",
            "(60000,) uint8\n",
            "(10000, 28, 28) uint8\n",
            "(10000,) uint8\n"
          ],
          "name": "stdout"
        }
      ]
    },
    {
      "cell_type": "code",
      "metadata": {
        "id": "_NuYHtvPPWNE",
        "colab": {
          "base_uri": "https://localhost:8080/",
          "height": 286
        },
        "outputId": "b16beef3-1b2b-48f6-adee-1a55831baa01"
      },
      "source": [
        "# display one random image from the training set:\n",
        "class_names = [\"0\",\"1\",\"2\",\"3\",\"4\",\"5\",\"6\",\"7\",\"8\",\"9\"]\n",
        "\n",
        "idx = np.random.randint(0, X_train0.shape[0])\n",
        "print(idx)\n",
        "image = X_train0[idx]\n",
        "plt.imshow(image) #, cmap=plt.get_cmap('gray'))\n",
        "plt.title(class_names[y_train0[idx]])\n",
        "plt.xticks([])\n",
        "plt.yticks([])\n",
        "plt.show()"
      ],
      "execution_count": 4,
      "outputs": [
        {
          "output_type": "stream",
          "text": [
            "34933\n"
          ],
          "name": "stdout"
        },
        {
          "output_type": "display_data",
          "data": {
            "image/png": "[encoded data removed]",
            "text/plain": [
              "<Figure size 432x288 with 1 Axes>"
            ]
          },
          "metadata": {
            "tags": []
          }
        }
      ]
    },
    {
      "cell_type": "markdown",
      "metadata": {
        "id": "b_DqSJl3PWNH"
      },
      "source": [
        "### Show images of numbers"
      ]
    },
    {
      "cell_type": "code",
      "metadata": {
        "id": "C1JAXeMzPWNI",
        "colab": {
          "base_uri": "https://localhost:8080/",
          "height": 505
        },
        "outputId": "3c6f527c-79c7-4d0e-fa8e-56ef502ec249"
      },
      "source": [
        "fig = plt.figure(figsize=(10,6))\n",
        "for i in range(10):\n",
        "    plt.subplot(2, 5, i+1)\n",
        "    num0_9 = X_train0[y_train0 == i]\n",
        "    print(num0_9.shape)\n",
        "    plt.imshow(num0_9[0]) #, cmap='gray') #, interpolation='none')\n",
        "    plt.title(\"Class %d\" % (i))\n",
        "    plt.xticks([])\n",
        "    plt.yticks([])"
      ],
      "execution_count": 5,
      "outputs": [
        {
          "output_type": "stream",
          "text": [
            "(5923, 28, 28)\n",
            "(6742, 28, 28)\n",
            "(5958, 28, 28)\n",
            "(6131, 28, 28)\n",
            "(5842, 28, 28)\n",
            "(5421, 28, 28)\n",
            "(5918, 28, 28)\n",
            "(6265, 28, 28)\n",
            "(5851, 28, 28)\n",
            "(5949, 28, 28)\n"
          ],
          "name": "stdout"
        },
        {
          "output_type": "display_data",
          "data": {
            "image/png": "[encoded data removed]",
            "text/plain": [
              "<Figure size 720x432 with 10 Axes>"
            ]
          },
          "metadata": {
            "tags": []
          }
        }
      ]
    },
    {
      "cell_type": "markdown",
      "metadata": {
        "id": "7bxCq_2fPWNO"
      },
      "source": [
        "### 데이터를 float 타입으로 바꾸고 스케일링한다.\n",
        "- 2차원 영상을 1차원 벡터로 변환\n",
        "- (28,28) => (784,)\n",
        "- Scaling: (0 ~ 255)/255.0"
      ]
    },
    {
      "cell_type": "code",
      "metadata": {
        "id": "W-VqQgXvPWNP",
        "colab": {
          "base_uri": "https://localhost:8080/"
        },
        "outputId": "ec3a35c1-ea91-4ed4-f0c7-5e89a1cd117f"
      },
      "source": [
        "X_train = X_train0.reshape(60000, 784).astype('float32') / 255.0\n",
        "X_test = X_test0.reshape(10000, 784).astype('float32') / 255.0\n",
        "print(X_train.shape, X_train.dtype)\n",
        "print(X_test.shape, X_test.dtype)"
      ],
      "execution_count": 6,
      "outputs": [
        {
          "output_type": "stream",
          "text": [
            "(60000, 784) float32\n",
            "(10000, 784) float32\n"
          ],
          "name": "stdout"
        }
      ]
    },
    {
      "cell_type": "code",
      "metadata": {
        "id": "DQun3xjytOba",
        "colab": {
          "base_uri": "https://localhost:8080/"
        },
        "outputId": "b5258b7c-0a12-4eab-d6b1-f6bbffdc82f2"
      },
      "source": [
        "print(X_train0.shape, X_train.shape)"
      ],
      "execution_count": 7,
      "outputs": [
        {
          "output_type": "stream",
          "text": [
            "(60000, 28, 28) (60000, 784)\n"
          ],
          "name": "stdout"
        }
      ]
    },
    {
      "cell_type": "markdown",
      "metadata": {
        "id": "RC7TUw7YPWNS"
      },
      "source": [
        "### y 데이터는 One-Hot-Encoding 을 한다."
      ]
    },
    {
      "cell_type": "code",
      "metadata": {
        "id": "SNVNKtOWPWNT",
        "colab": {
          "base_uri": "https://localhost:8080/"
        },
        "outputId": "6287cb17-0097-4028-ed8b-0fc8c92d9300"
      },
      "source": [
        "y_train0[:5]"
      ],
      "execution_count": 8,
      "outputs": [
        {
          "output_type": "execute_result",
          "data": {
            "text/plain": [
              "array([5, 0, 4, 1, 9], dtype=uint8)"
            ]
          },
          "metadata": {
            "tags": []
          },
          "execution_count": 8
        }
      ]
    },
    {
      "cell_type": "code",
      "metadata": {
        "id": "jVlBVEPGPWNW",
        "colab": {
          "base_uri": "https://localhost:8080/"
        },
        "outputId": "9b77b7e7-48d2-4a7b-c811-d94ea24a597d"
      },
      "source": [
        "# Use function to_categorical() to do One-Hot-Encoding\n",
        "# tf.keras.utils.to_categorical\n",
        "from keras.utils import to_categorical\n",
        "\n",
        "y_train = to_categorical(y_train0, 10)\n",
        "y_test = to_categorical(y_test0, 10)\n",
        "y_train[:5]"
      ],
      "execution_count": 9,
      "outputs": [
        {
          "output_type": "execute_result",
          "data": {
            "text/plain": [
              "array([[0., 0., 0., 0., 0., 1., 0., 0., 0., 0.],\n",
              "       [1., 0., 0., 0., 0., 0., 0., 0., 0., 0.],\n",
              "       [0., 0., 0., 0., 1., 0., 0., 0., 0., 0.],\n",
              "       [0., 1., 0., 0., 0., 0., 0., 0., 0., 0.],\n",
              "       [0., 0., 0., 0., 0., 0., 0., 0., 0., 1.]], dtype=float32)"
            ]
          },
          "metadata": {
            "tags": []
          },
          "execution_count": 9
        }
      ]
    },
    {
      "cell_type": "markdown",
      "metadata": {
        "id": "EWSIzXy8PWNe"
      },
      "source": [
        "> One-Hot-Encoding을 하는 이유\n",
        "- 머신러닝의 목표가 특정 숫자 그림의 숫자를 정확하게 맞추는 것이 아니다.\n",
        "    1. 일단, 0에서 9까지의 숫자로 판단될 10개의 확률을 계산한다.\n",
        "    2. 그리고 특정 숫자로 판단될 확률이 제일 큰 수로 결정한다.\n",
        "- 3개 이상의 클래스를 구분하는 지도학습의 경우 One-Hot-Encoding은 필요한 과정이다."
      ]
    },
    {
      "cell_type": "markdown",
      "metadata": {
        "id": "1ss3oajj6hlB"
      },
      "source": [
        "\n",
        "\n",
        "---\n",
        "\n",
        "\n",
        "\n",
        "---\n",
        "\n"
      ]
    },
    {
      "cell_type": "markdown",
      "metadata": {
        "id": "uxDb3nEL3frI"
      },
      "source": [
        "# 신경망 (Neural network)\n",
        "\n",
        "## 신경망 구현 순서\n",
        "\n",
        "### Keras 를 사용하면 다음과 같은 순서로 신경망을 구성할 수 있다.\n",
        "\n",
        "1. **모형 객체 생성**, Sequential 모형 클래스 객체 생성\n",
        "2. **신경망 구성**, layer 추가하여 구성\n",
        "    - Dense layer 가 가장 일반적인 신경망\n",
        "    - 입력단부터 순차적으로 추가한다.\n",
        "    - 레이어는 출력 뉴런 갯수를 첫번째 인수로 받는다.\n",
        "    - 최초의 레이어는 input_shape 인수로 입력 크기를 설정해야 한다.\n",
        "    - activation 인수로 activation 함수 설정\n",
        "3. **compile** 메서드로 모형 완성.\n",
        "    - loss 인수로 Loss 함수 설정\n",
        "    - optimizer 인수로 최적화 알고리즘 설정\n",
        "    - metrics 인수로 트레이닝 단계에서 기록할 성능 기준 설정\n",
        "4. **fit** 메서드로 트레이닝\n",
        "    - epochs로 트레이닝 횟수 설정\n",
        "    - batch_size 로 mini batch size 설정\n",
        "    - metrics 인수로 설정한 성능 기준 기록을 출력으로 반환"
      ]
    },
    {
      "cell_type": "code",
      "metadata": {
        "id": "jhpH9wM23frJ"
      },
      "source": [
        "from keras.models import Sequential\n",
        "from keras.layers import Dense, Dropout"
      ],
      "execution_count": 10,
      "outputs": []
    },
    {
      "cell_type": "markdown",
      "metadata": {
        "id": "g1a9ee5bZvYa"
      },
      "source": [
        "## Starting model\n",
        "> 784개의 입력을 받는 하나의 hidden layer(16 neurons)와 출력레이어(10 neurons)로 구성된 단순한 신경망."
      ]
    },
    {
      "cell_type": "code",
      "metadata": {
        "id": "GfgcaZSL3frM"
      },
      "source": [
        "# Configure model\n",
        "np.random.seed(0)\n",
        "\n",
        "model = Sequential()\n",
        "model.add(Dense(16, input_dim=784, activation=\"sigmoid\"))  # first layer\n",
        "model.add(Dense(10, activation=\"softmax\")) # output layer"
      ],
      "execution_count": 11,
      "outputs": []
    },
    {
      "cell_type": "markdown",
      "metadata": {
        "id": "QI43K5ncKIsw"
      },
      "source": [
        "![mnist_NN_2_layers](https://raw.githubusercontent.com/Redwoods/Py/master/pdm2020/my-note/py-tensorflow/images/mnist_NN_2_layers.png)\n"
      ]
    },
    {
      "cell_type": "markdown",
      "metadata": {
        "id": "xL5MibkLECtt"
      },
      "source": [
        "### Model 정보 및 출력\n",
        "- summary()\n",
        "- plot_model()"
      ]
    },
    {
      "cell_type": "code",
      "metadata": {
        "id": "OEpkLD2pDn_l",
        "colab": {
          "base_uri": "https://localhost:8080/"
        },
        "outputId": "c9e8b358-2ab2-4108-b176-c0e4ff908126"
      },
      "source": [
        "# Summary of the model\n",
        "model.summary()"
      ],
      "execution_count": 12,
      "outputs": [
        {
          "output_type": "stream",
          "text": [
            "Model: \"sequential\"\n",
            "_________________________________________________________________\n",
            "Layer (type)                 Output Shape              Param #   \n",
            "=================================================================\n",
            "dense (Dense)                (None, 16)                12560     \n",
            "_________________________________________________________________\n",
            "dense_1 (Dense)              (None, 10)                170       \n",
            "=================================================================\n",
            "Total params: 12,730\n",
            "Trainable params: 12,730\n",
            "Non-trainable params: 0\n",
            "_________________________________________________________________\n"
          ],
          "name": "stdout"
        }
      ]
    },
    {
      "cell_type": "code",
      "metadata": {
        "id": "X3dW6WW0Edzq",
        "colab": {
          "base_uri": "https://localhost:8080/"
        },
        "outputId": "937e0b76-e354-4b59-cc54-ad9548db238e"
      },
      "source": [
        "# check parameters\n",
        "28*28*16+16, 16*10+10"
      ],
      "execution_count": 13,
      "outputs": [
        {
          "output_type": "execute_result",
          "data": {
            "text/plain": [
              "(12560, 170)"
            ]
          },
          "metadata": {
            "tags": []
          },
          "execution_count": 13
        }
      ]
    },
    {
      "cell_type": "code",
      "metadata": {
        "id": "xqGrDLam3fro",
        "colab": {
          "base_uri": "https://localhost:8080/",
          "height": 272
        },
        "outputId": "018e9447-4f7d-4420-b6d3-d717b6b9df7c"
      },
      "source": [
        "from keras.utils import plot_model\n",
        "plot_model(model, to_file='model.png')"
      ],
      "execution_count": 14,
      "outputs": [
        {
          "output_type": "execute_result",
          "data": {
            "image/png": "[encoded data removed]",
            "text/plain": [
              "<IPython.core.display.Image object>"
            ]
          },
          "metadata": {
            "tags": []
          },
          "execution_count": 14
        }
      ]
    },
    {
      "cell_type": "markdown",
      "metadata": {
        "id": "GDPqfKFkE5Nf"
      },
      "source": [
        "### 모델의 구조 살펴 보기"
      ]
    },
    {
      "cell_type": "code",
      "metadata": {
        "id": "dQblMjW-MN7r",
        "colab": {
          "base_uri": "https://localhost:8080/"
        },
        "outputId": "419db368-c645-45ea-91b7-a95945f3b77d"
      },
      "source": [
        "model"
      ],
      "execution_count": 15,
      "outputs": [
        {
          "output_type": "execute_result",
          "data": {
            "text/plain": [
              "<tensorflow.python.keras.engine.sequential.Sequential at 0x7f464c0b97f0>"
            ]
          },
          "metadata": {
            "tags": []
          },
          "execution_count": 15
        }
      ]
    },
    {
      "cell_type": "code",
      "metadata": {
        "id": "jM_MK74BNHYU",
        "colab": {
          "base_uri": "https://localhost:8080/"
        },
        "outputId": "46875a7e-f610-41ee-b77c-3e45b5ddd638"
      },
      "source": [
        "model.get_config()"
      ],
      "execution_count": 16,
      "outputs": [
        {
          "output_type": "execute_result",
          "data": {
            "text/plain": [
              "{'layers': [{'class_name': 'InputLayer',\n",
              "   'config': {'batch_input_shape': (None, 784),\n",
              "    'dtype': 'float32',\n",
              "    'name': 'dense_input',\n",
              "    'ragged': False,\n",
              "    'sparse': False}},\n",
              "  {'class_name': 'Dense',\n",
              "   'config': {'activation': 'sigmoid',\n",
              "    'activity_regularizer': None,\n",
              "    'batch_input_shape': (None, 784),\n",
              "    'bias_constraint': None,\n",
              "    'bias_initializer': {'class_name': 'Zeros', 'config': {}},\n",
              "    'bias_regularizer': None,\n",
              "    'dtype': 'float32',\n",
              "    'kernel_constraint': None,\n",
              "    'kernel_initializer': {'class_name': 'GlorotUniform',\n",
              "     'config': {'seed': None}},\n",
              "    'kernel_regularizer': None,\n",
              "    'name': 'dense',\n",
              "    'trainable': True,\n",
              "    'units': 16,\n",
              "    'use_bias': True}},\n",
              "  {'class_name': 'Dense',\n",
              "   'config': {'activation': 'softmax',\n",
              "    'activity_regularizer': None,\n",
              "    'bias_constraint': None,\n",
              "    'bias_initializer': {'class_name': 'Zeros', 'config': {}},\n",
              "    'bias_regularizer': None,\n",
              "    'dtype': 'float32',\n",
              "    'kernel_constraint': None,\n",
              "    'kernel_initializer': {'class_name': 'GlorotUniform',\n",
              "     'config': {'seed': None}},\n",
              "    'kernel_regularizer': None,\n",
              "    'name': 'dense_1',\n",
              "    'trainable': True,\n",
              "    'units': 10,\n",
              "    'use_bias': True}}],\n",
              " 'name': 'sequential'}"
            ]
          },
          "metadata": {
            "tags": []
          },
          "execution_count": 16
        }
      ]
    },
    {
      "cell_type": "code",
      "metadata": {
        "id": "HKb0O8bz3frv"
      },
      "source": [
        "l1 = model.layers[0]\n",
        "l2 = model.layers[1]"
      ],
      "execution_count": 17,
      "outputs": []
    },
    {
      "cell_type": "code",
      "metadata": {
        "id": "WlN4UR333frx",
        "colab": {
          "base_uri": "https://localhost:8080/"
        },
        "outputId": "3db8f449-1fdb-4007-874c-65ca5b2a64b3"
      },
      "source": [
        "l1.name, type(l1), l1.output_shape, l1.activation.__name__, l1.count_params()"
      ],
      "execution_count": 18,
      "outputs": [
        {
          "output_type": "execute_result",
          "data": {
            "text/plain": [
              "('dense',\n",
              " tensorflow.python.keras.layers.core.Dense,\n",
              " (None, 16),\n",
              " 'sigmoid',\n",
              " 12560)"
            ]
          },
          "metadata": {
            "tags": []
          },
          "execution_count": 18
        }
      ]
    },
    {
      "cell_type": "code",
      "metadata": {
        "id": "2CsdAPqOWhgr",
        "colab": {
          "base_uri": "https://localhost:8080/"
        },
        "outputId": "c4a94676-3591-4c89-e867-7c1bcb19e3c7"
      },
      "source": [
        "# number of parameters\n",
        "784*16 + 16"
      ],
      "execution_count": 19,
      "outputs": [
        {
          "output_type": "execute_result",
          "data": {
            "text/plain": [
              "12560"
            ]
          },
          "metadata": {
            "tags": []
          },
          "execution_count": 19
        }
      ]
    },
    {
      "cell_type": "code",
      "metadata": {
        "id": "StH9J4ID3fr0",
        "colab": {
          "base_uri": "https://localhost:8080/"
        },
        "outputId": "3e9830a3-236c-4bdc-e952-2b402e8bb7dc"
      },
      "source": [
        "l2.name, type(l1), l2.output_shape, l2.activation.__name__, l2.count_params()"
      ],
      "execution_count": 20,
      "outputs": [
        {
          "output_type": "execute_result",
          "data": {
            "text/plain": [
              "('dense_1',\n",
              " tensorflow.python.keras.layers.core.Dense,\n",
              " (None, 10),\n",
              " 'softmax',\n",
              " 170)"
            ]
          },
          "metadata": {
            "tags": []
          },
          "execution_count": 20
        }
      ]
    },
    {
      "cell_type": "code",
      "metadata": {
        "id": "_S7z0r6nWmRP",
        "colab": {
          "base_uri": "https://localhost:8080/"
        },
        "outputId": "062fd61e-a395-42ec-ab46-6e8db2a53ad7"
      },
      "source": [
        "# number of parameters\n",
        "16*10 + 10  "
      ],
      "execution_count": 21,
      "outputs": [
        {
          "output_type": "execute_result",
          "data": {
            "text/plain": [
              "170"
            ]
          },
          "metadata": {
            "tags": []
          },
          "execution_count": 21
        }
      ]
    },
    {
      "cell_type": "markdown",
      "metadata": {
        "id": "PfrTI1pL3fr3"
      },
      "source": [
        "## fit 메서드로 트레이닝\n",
        "\n",
        "- [optimizers](https://wiserloner.tistory.com/1032)\n",
        "- [GD, SGD](https://seamless.tistory.com/38)"
      ]
    },
    {
      "cell_type": "code",
      "metadata": {
        "id": "WPFBcg5_3fr4"
      },
      "source": [
        "# Select an optimizer\n",
        "model.compile(optimizer='sgd', loss='categorical_crossentropy', metrics=['accuracy'])\n",
        "# model.compile(optimizer='rmsprop', loss='categorical_crossentropy', metrics=['accuracy'])\n",
        "# model.compile(optimizer='adam', loss='categorical_crossentropy', metrics=['accuracy'])"
      ],
      "execution_count": 22,
      "outputs": []
    },
    {
      "cell_type": "code",
      "metadata": {
        "id": "YbTI5EF23fr8",
        "colab": {
          "base_uri": "https://localhost:8080/"
        },
        "outputId": "637fdb02-e562-4c36-b854-8bedff510f8f"
      },
      "source": [
        "%%time\n",
        "hist = model.fit(X_train, y_train, \n",
        "                 epochs=20, batch_size=100, \n",
        "                 validation_data=(X_test, y_test), \n",
        "                 verbose=1)\n",
        "\n",
        "\n",
        "# batch_size: 100 -> 60,000개의 트레이닝 데이터를 100개씩 600묶음으로 나눈 후, \n",
        "# 각 묶음에 대하어 forward, back propagation을 실시하면서 파라미터를 조정한다.\n",
        "# epochs: 전체 600개의 batch에 대하여 다 계산을 수행하면 epoch 1 종료.\n",
        "# validation_data: 테스트 데이터를 섞어서 검증한다."
      ],
      "execution_count": 23,
      "outputs": [
        {
          "output_type": "stream",
          "text": [
            "Epoch 1/20\n",
            "600/600 [==============================] - 1s 2ms/step - loss: 2.1335 - accuracy: 0.3908 - val_loss: 1.9148 - val_accuracy: 0.6078\n",
            "Epoch 2/20\n",
            "600/600 [==============================] - 1s 2ms/step - loss: 1.7630 - accuracy: 0.6338 - val_loss: 1.6047 - val_accuracy: 0.6701\n",
            "Epoch 3/20\n",
            "600/600 [==============================] - 1s 2ms/step - loss: 1.4905 - accuracy: 0.6861 - val_loss: 1.3633 - val_accuracy: 0.7211\n",
            "Epoch 4/20\n",
            "600/600 [==============================] - 1s 2ms/step - loss: 1.2787 - accuracy: 0.7284 - val_loss: 1.1766 - val_accuracy: 0.7550\n",
            "Epoch 5/20\n",
            "600/600 [==============================] - 1s 2ms/step - loss: 1.1156 - accuracy: 0.7603 - val_loss: 1.0334 - val_accuracy: 0.7849\n",
            "Epoch 6/20\n",
            "600/600 [==============================] - 1s 2ms/step - loss: 0.9904 - accuracy: 0.7888 - val_loss: 0.9230 - val_accuracy: 0.8091\n",
            "Epoch 7/20\n",
            "600/600 [==============================] - 1s 2ms/step - loss: 0.8935 - accuracy: 0.8109 - val_loss: 0.8371 - val_accuracy: 0.8238\n",
            "Epoch 8/20\n",
            "600/600 [==============================] - 1s 2ms/step - loss: 0.8169 - accuracy: 0.8270 - val_loss: 0.7680 - val_accuracy: 0.8414\n",
            "Epoch 9/20\n",
            "600/600 [==============================] - 1s 2ms/step - loss: 0.7551 - accuracy: 0.8393 - val_loss: 0.7122 - val_accuracy: 0.8543\n",
            "Epoch 10/20\n",
            "600/600 [==============================] - 1s 2ms/step - loss: 0.7043 - accuracy: 0.8491 - val_loss: 0.6656 - val_accuracy: 0.8612\n",
            "Epoch 11/20\n",
            "600/600 [==============================] - 1s 2ms/step - loss: 0.6617 - accuracy: 0.8571 - val_loss: 0.6265 - val_accuracy: 0.8672\n",
            "Epoch 12/20\n",
            "600/600 [==============================] - 1s 2ms/step - loss: 0.6255 - accuracy: 0.8634 - val_loss: 0.5929 - val_accuracy: 0.8737\n",
            "Epoch 13/20\n",
            "600/600 [==============================] - 1s 2ms/step - loss: 0.5944 - accuracy: 0.8688 - val_loss: 0.5642 - val_accuracy: 0.8785\n",
            "Epoch 14/20\n",
            "600/600 [==============================] - 1s 2ms/step - loss: 0.5674 - accuracy: 0.8739 - val_loss: 0.5393 - val_accuracy: 0.8832\n",
            "Epoch 15/20\n",
            "600/600 [==============================] - 1s 2ms/step - loss: 0.5438 - accuracy: 0.8773 - val_loss: 0.5173 - val_accuracy: 0.8864\n",
            "Epoch 16/20\n",
            "600/600 [==============================] - 1s 2ms/step - loss: 0.5230 - accuracy: 0.8802 - val_loss: 0.4980 - val_accuracy: 0.8891\n",
            "Epoch 17/20\n",
            "600/600 [==============================] - 1s 2ms/step - loss: 0.5046 - accuracy: 0.8829 - val_loss: 0.4809 - val_accuracy: 0.8914\n",
            "Epoch 18/20\n",
            "600/600 [==============================] - 1s 2ms/step - loss: 0.4883 - accuracy: 0.8857 - val_loss: 0.4656 - val_accuracy: 0.8941\n",
            "Epoch 19/20\n",
            "600/600 [==============================] - 1s 2ms/step - loss: 0.4736 - accuracy: 0.8881 - val_loss: 0.4520 - val_accuracy: 0.8956\n",
            "Epoch 20/20\n",
            "600/600 [==============================] - 1s 2ms/step - loss: 0.4605 - accuracy: 0.8898 - val_loss: 0.4399 - val_accuracy: 0.8976\n",
            "CPU times: user 30.7 s, sys: 5.64 s, total: 36.3 s\n",
            "Wall time: 29.6 s\n"
          ],
          "name": "stdout"
        }
      ]
    },
    {
      "cell_type": "markdown",
      "metadata": {
        "id": "7gvjGBmYYFI3"
      },
      "source": [
        "### Plot of performance and accuracy (모델 성능 및 정확도)"
      ]
    },
    {
      "cell_type": "code",
      "metadata": {
        "id": "FPeQByvA3fr_",
        "colab": {
          "base_uri": "https://localhost:8080/",
          "height": 265
        },
        "outputId": "366fd33e-9171-4fae-c66c-29cbb54297f6"
      },
      "source": [
        "# Plot performance\n",
        "plt.plot(hist.history['loss'])\n",
        "plt.show()"
      ],
      "execution_count": 24,
      "outputs": [
        {
          "output_type": "display_data",
          "data": {
            "image/png": "[encoded data removed]",
            "text/plain": [
              "<Figure size 432x288 with 1 Axes>"
            ]
          },
          "metadata": {
            "tags": [],
            "needs_background": "light"
          }
        }
      ]
    },
    {
      "cell_type": "code",
      "metadata": {
        "id": "m5ForJ5k3fsD",
        "colab": {
          "base_uri": "https://localhost:8080/",
          "height": 265
        },
        "outputId": "e345e4c0-e2aa-4964-cf67-517f4d98c79c"
      },
      "source": [
        "plt.plot(hist.history['accuracy'], 'b-', label=\"training\")\n",
        "plt.plot(hist.history['val_accuracy'], 'r:', label=\"test\")\n",
        "plt.legend()\n",
        "plt.show()"
      ],
      "execution_count": 25,
      "outputs": [
        {
          "output_type": "display_data",
          "data": {
            "image/png": "[encoded data removed]",
            "text/plain": [
              "<Figure size 432x288 with 1 Axes>"
            ]
          },
          "metadata": {
            "tags": [],
            "needs_background": "light"
          }
        }
      ]
    },
    {
      "cell_type": "markdown",
      "metadata": {
        "id": "R6pUmTTR3fsI"
      },
      "source": [
        "## 가중치 정보"
      ]
    },
    {
      "cell_type": "markdown",
      "metadata": {
        "id": "b6PeV3Yk3fsJ"
      },
      "source": [
        "> 트레이닝이 끝난 모형의 가중치 정보는 get_weights 메서드로 구할 수 있다. 이 메서드는 w 값과 b 값을 출력한다.\n",
        "- w: weights\n",
        "- b: bias"
      ]
    },
    {
      "cell_type": "code",
      "metadata": {
        "id": "ZWfw5Z_F3fsK",
        "colab": {
          "base_uri": "https://localhost:8080/"
        },
        "outputId": "fbd8c7e4-0190-4a06-db94-cd40e38f3d61"
      },
      "source": [
        "w1 = l1.get_weights()  # 784*16 + 16 = 12560\n",
        "w1[0].shape, w1[1].shape"
      ],
      "execution_count": 26,
      "outputs": [
        {
          "output_type": "execute_result",
          "data": {
            "text/plain": [
              "((784, 16), (16,))"
            ]
          },
          "metadata": {
            "tags": []
          },
          "execution_count": 26
        }
      ]
    },
    {
      "cell_type": "code",
      "metadata": {
        "id": "S9tVnYoX3fsN",
        "colab": {
          "base_uri": "https://localhost:8080/"
        },
        "outputId": "d8bd18aa-1e25-4090-f19e-eac92112d3a1"
      },
      "source": [
        "w2 = l2.get_weights()  # 16*10 + 10 = 170\n",
        "w2[0].shape, w2[1].shape"
      ],
      "execution_count": 27,
      "outputs": [
        {
          "output_type": "execute_result",
          "data": {
            "text/plain": [
              "((16, 10), (10,))"
            ]
          },
          "metadata": {
            "tags": []
          },
          "execution_count": 27
        }
      ]
    },
    {
      "cell_type": "markdown",
      "metadata": {
        "id": "iaRWl02D3fsR"
      },
      "source": [
        "## 모형의 사용\n",
        "\n",
        "> 트레이닝이 끝난 모형은 predict 메서드로 y 값을 출력하거나 출력된 y값을 각 클래스에 대한 판별함수로 가정하고 predict_classes 메서드로 classification을 할 수 있다."
      ]
    },
    {
      "cell_type": "code",
      "metadata": {
        "id": "3-ShrKKV3fsS",
        "colab": {
          "base_uri": "https://localhost:8080/",
          "height": 143
        },
        "outputId": "9d61e830-7d7e-470a-f403-7b81aca59216"
      },
      "source": [
        "plt.figure(figsize=(2, 2))\n",
        "plt.imshow(X_test0[0], cmap='gray')\n",
        "plt.grid(False)\n",
        "plt.xticks([])\n",
        "plt.yticks([])\n",
        "plt.show()"
      ],
      "execution_count": 28,
      "outputs": [
        {
          "output_type": "display_data",
          "data": {
            "image/png": "[encoded data removed]",
            "text/plain": [
              "<Figure size 144x144 with 1 Axes>"
            ]
          },
          "metadata": {
            "tags": []
          }
        }
      ]
    },
    {
      "cell_type": "code",
      "metadata": {
        "id": "sW4jz1rjPzgo",
        "colab": {
          "base_uri": "https://localhost:8080/"
        },
        "outputId": "ed4efad9-fac5-4ed0-cc6e-2ea4977a74c3"
      },
      "source": [
        "X_test[:1, :].shape"
      ],
      "execution_count": 29,
      "outputs": [
        {
          "output_type": "execute_result",
          "data": {
            "text/plain": [
              "(1, 784)"
            ]
          },
          "metadata": {
            "tags": []
          },
          "execution_count": 29
        }
      ]
    },
    {
      "cell_type": "code",
      "metadata": {
        "id": "n1SG0Okg3fsV",
        "colab": {
          "base_uri": "https://localhost:8080/"
        },
        "outputId": "e6edea5f-18e2-4dba-e598-6f9ef9cdb798"
      },
      "source": [
        "model.predict(X_test[:1, :])  # Probabilitic prediction viq one-hot encoding of labels"
      ],
      "execution_count": 30,
      "outputs": [
        {
          "output_type": "execute_result",
          "data": {
            "text/plain": [
              "array([[5.9307409e-03, 1.2986708e-03, 5.5439497e-04, 1.1850057e-02,\n",
              "        1.5168997e-03, 3.3831345e-03, 1.6147551e-05, 9.4707787e-01,\n",
              "        5.6875142e-04, 2.7803347e-02]], dtype=float32)"
            ]
          },
          "metadata": {
            "tags": []
          },
          "execution_count": 30
        }
      ]
    },
    {
      "cell_type": "code",
      "metadata": {
        "id": "J40aL4ts3fsY",
        "colab": {
          "base_uri": "https://localhost:8080/"
        },
        "outputId": "9068d831-4fad-4b81-a516-49770c7868cf"
      },
      "source": [
        "tf.argmax(model.predict(X_test[:1, :]),axis=1), np.argmax(model.predict(X_test[:1, :]),axis=1)"
      ],
      "execution_count": 31,
      "outputs": [
        {
          "output_type": "execute_result",
          "data": {
            "text/plain": [
              "(<tf.Tensor: shape=(1,), dtype=int64, numpy=array([7])>, array([7]))"
            ]
          },
          "metadata": {
            "tags": []
          },
          "execution_count": 31
        }
      ]
    },
    {
      "cell_type": "markdown",
      "metadata": {
        "id": "IlSTBslCPWN5"
      },
      "source": [
        "### 테스트 데이터에 대한 예측 정확도 계산 "
      ]
    },
    {
      "cell_type": "code",
      "metadata": {
        "id": "IKnsqRtKPWN6",
        "colab": {
          "base_uri": "https://localhost:8080/"
        },
        "outputId": "6d8382d7-283d-465d-9923-17a88869dee3"
      },
      "source": [
        "y_pred0 = model.predict(X_test, verbose=1)\n",
        "y_pred0[:5]"
      ],
      "execution_count": 32,
      "outputs": [
        {
          "output_type": "stream",
          "text": [
            "313/313 [==============================] - 0s 963us/step\n"
          ],
          "name": "stdout"
        },
        {
          "output_type": "execute_result",
          "data": {
            "text/plain": [
              "array([[5.93073806e-03, 1.29867007e-03, 5.54394675e-04, 1.18500460e-02,\n",
              "        1.51689898e-03, 3.38313123e-03, 1.61475509e-05, 9.47077870e-01,\n",
              "        5.68750838e-04, 2.78033391e-02],\n",
              "       [1.05714127e-01, 1.20216245e-02, 4.82401669e-01, 5.16334064e-02,\n",
              "        1.03523582e-03, 5.93295358e-02, 2.67781198e-01, 2.37016298e-04,\n",
              "        1.94457620e-02, 4.00409859e-04],\n",
              "       [3.35298624e-04, 9.29417968e-01, 2.48890761e-02, 5.27971843e-03,\n",
              "        3.24821426e-03, 3.96814151e-03, 4.81554586e-03, 1.19842645e-02,\n",
              "        1.15228901e-02, 4.53890301e-03],\n",
              "       [9.43377376e-01, 1.26671846e-04, 9.24212392e-03, 2.90401303e-03,\n",
              "        4.38874587e-04, 3.14367153e-02, 6.34933822e-03, 2.43901671e-03,\n",
              "        1.98571873e-03, 1.70015392e-03],\n",
              "       [1.62184483e-03, 1.17067806e-03, 1.46450540e-02, 2.29054131e-03,\n",
              "        7.92003036e-01, 6.29729871e-03, 1.65382978e-02, 1.38225090e-02,\n",
              "        6.50104228e-03, 1.45109579e-01]], dtype=float32)"
            ]
          },
          "metadata": {
            "tags": []
          },
          "execution_count": 32
        }
      ]
    },
    {
      "cell_type": "code",
      "metadata": {
        "id": "nZuSLtGuQ5Ds",
        "colab": {
          "base_uri": "https://localhost:8080/"
        },
        "outputId": "ca6eb7fa-7de5-4f68-e355-27e5f8f8b63e"
      },
      "source": [
        "np.argmax(y_pred0[:5],axis=1)"
      ],
      "execution_count": 33,
      "outputs": [
        {
          "output_type": "execute_result",
          "data": {
            "text/plain": [
              "array([7, 2, 1, 0, 4])"
            ]
          },
          "metadata": {
            "tags": []
          },
          "execution_count": 33
        }
      ]
    },
    {
      "cell_type": "code",
      "metadata": {
        "id": "DCPrM-b9RDuv"
      },
      "source": [
        "y_pred=np.argmax(y_pred0,axis=1)"
      ],
      "execution_count": 34,
      "outputs": []
    },
    {
      "cell_type": "code",
      "metadata": {
        "id": "TDAde7l2PWN9",
        "colab": {
          "base_uri": "https://localhost:8080/"
        },
        "outputId": "fdbe9be7-21fa-41c6-fddc-5bc36681b58c"
      },
      "source": [
        "t_count = np.sum(y_pred == y_test0) # True positive\n",
        "f_count = np.sum(y_pred != y_test0) # False positive\n",
        "f_count==10000-t_count"
      ],
      "execution_count": 35,
      "outputs": [
        {
          "output_type": "execute_result",
          "data": {
            "text/plain": [
              "True"
            ]
          },
          "metadata": {
            "tags": []
          },
          "execution_count": 35
        }
      ]
    },
    {
      "cell_type": "code",
      "metadata": {
        "id": "UMIbHVooPWOB",
        "colab": {
          "base_uri": "https://localhost:8080/"
        },
        "outputId": "7426e9f6-0118-46a7-c902-f23d6f23d0df"
      },
      "source": [
        "t_count,f_count"
      ],
      "execution_count": 36,
      "outputs": [
        {
          "output_type": "execute_result",
          "data": {
            "text/plain": [
              "(8976, 1024)"
            ]
          },
          "metadata": {
            "tags": []
          },
          "execution_count": 36
        }
      ]
    },
    {
      "cell_type": "code",
      "metadata": {
        "id": "qHFIPhUmPWOE",
        "colab": {
          "base_uri": "https://localhost:8080/"
        },
        "outputId": "aa8c94d3-8b35-41c7-8aad-b9771cf9f5e2"
      },
      "source": [
        "accuracy = t_count/10000*100\n",
        "accuracy"
      ],
      "execution_count": 37,
      "outputs": [
        {
          "output_type": "execute_result",
          "data": {
            "text/plain": [
              "89.75999999999999"
            ]
          },
          "metadata": {
            "tags": []
          },
          "execution_count": 37
        }
      ]
    },
    {
      "cell_type": "markdown",
      "metadata": {
        "id": "ErT2qfh8PWOH"
      },
      "source": [
        "### Accuracy of predicting test numbers is around 95% in NN (neural network).\n",
        "- Good!!"
      ]
    },
    {
      "cell_type": "code",
      "metadata": {
        "id": "jtN7Lee4Vo6q",
        "colab": {
          "base_uri": "https://localhost:8080/"
        },
        "outputId": "2c3b9b7a-e96e-4f1a-cf34-6661875ed243"
      },
      "source": [
        "# see which we predicted correctly and which not\n",
        "correct_indices = np.nonzero(y_pred == y_test0)[0]\n",
        "incorrect_indices = np.nonzero(y_pred != y_test0)[0]\n",
        "print()\n",
        "print(len(correct_indices),\" classified correctly\")\n",
        "print(len(incorrect_indices),\" classified incorrectly\")"
      ],
      "execution_count": 38,
      "outputs": [
        {
          "output_type": "stream",
          "text": [
            "\n",
            "8976  classified correctly\n",
            "1024  classified incorrectly\n"
          ],
          "name": "stdout"
        }
      ]
    },
    {
      "cell_type": "code",
      "metadata": {
        "id": "j0RPUxR2WKx-",
        "colab": {
          "base_uri": "https://localhost:8080/",
          "height": 811
        },
        "outputId": "8c0f708a-fca6-45ba-d4b1-b8daa9a79136"
      },
      "source": [
        "# adapt figure size to accomodate 18 subplots\n",
        "plt.rcParams['figure.figsize'] = (7,14)\n",
        "\n",
        "figure_evaluation = plt.figure()\n",
        "\n",
        "# plot 9 correct predictions\n",
        "for i, correct in enumerate(correct_indices[:9]):\n",
        "    plt.subplot(6,3,i+1)\n",
        "    plt.imshow(X_test[correct].reshape(28,28), cmap='gray', interpolation='none')\n",
        "    plt.title(\n",
        "      \"Predicted: {}, Truth: {}\".format(y_pred[correct],\n",
        "                                        y_test0[correct]))\n",
        "    plt.xticks([])\n",
        "    plt.yticks([])\n",
        "\n",
        "# plot 9 incorrect predictions\n",
        "for i, incorrect in enumerate(incorrect_indices[:9]):\n",
        "    plt.subplot(6,3,i+10)\n",
        "    plt.imshow(X_test[incorrect].reshape(28,28), cmap='gray', interpolation='none')\n",
        "    plt.title(\n",
        "      \"Predicted {}, Truth: {}\".format(y_pred[incorrect], \n",
        "                                       y_test0[incorrect]))\n",
        "    plt.xticks([])\n",
        "    plt.yticks([])\n",
        "\n",
        "# figure_evaluation"
      ],
      "execution_count": 39,
      "outputs": [
        {
          "output_type": "display_data",
          "data": {
            "image/png": "[encoded data removed]",
            "text/plain": [
              "<Figure size 504x1008 with 18 Axes>"
            ]
          },
          "metadata": {
            "tags": []
          }
        }
      ]
    },
    {
      "cell_type": "markdown",
      "metadata": {
        "id": "gBPKMI4y3fsa"
      },
      "source": [
        "## 모형의 저장\n",
        "\n",
        ">  트레이닝이 끝난 모형은 save 메서드로 가중치와 함께 hdf5 형식으로 저장하였다가 나중에 load 명령으로 불러 사용할 수 있다."
      ]
    },
    {
      "cell_type": "code",
      "metadata": {
        "id": "KCfbQl2v3fsa"
      },
      "source": [
        "model.save('model_NN_2layers_good.hdf5')\n",
        "# del model"
      ],
      "execution_count": 40,
      "outputs": []
    },
    {
      "cell_type": "code",
      "metadata": {
        "id": "b7-ysIVy3fse",
        "colab": {
          "base_uri": "https://localhost:8080/"
        },
        "outputId": "b8a5eb55-1638-4eb8-bda8-6acc55957c3e"
      },
      "source": [
        "from keras.models import load_model\n",
        "\n",
        "model2 = load_model('model_NN_2layers_good.hdf5')\n",
        "model2.predict(X_test[:1, :], verbose=0)\n",
        "np.argmax(model2.predict(X_test[:1, :], verbose=0),axis=1)"
      ],
      "execution_count": 41,
      "outputs": [
        {
          "output_type": "execute_result",
          "data": {
            "text/plain": [
              "array([7])"
            ]
          },
          "metadata": {
            "tags": []
          },
          "execution_count": 41
        }
      ]
    },
    {
      "cell_type": "code",
      "metadata": {
        "id": "euLaPown3fsi",
        "colab": {
          "base_uri": "https://localhost:8080/"
        },
        "outputId": "d1b0740d-1105-4513-862e-2f3e87328bbc"
      },
      "source": [
        "# Predict of the first 10 test data\n",
        "np.argmax(model2.predict(X_test[:10, :], verbose=0),axis=1)"
      ],
      "execution_count": 42,
      "outputs": [
        {
          "output_type": "execute_result",
          "data": {
            "text/plain": [
              "array([7, 2, 1, 0, 4, 1, 4, 9, 6, 9])"
            ]
          },
          "metadata": {
            "tags": []
          },
          "execution_count": 42
        }
      ]
    },
    {
      "cell_type": "markdown",
      "metadata": {
        "id": "hRL0bcIk3fst"
      },
      "source": [
        "### 저장된 모형을 이용하여 테스트 데이터에 대한 예측 정확도 계산 "
      ]
    },
    {
      "cell_type": "code",
      "metadata": {
        "id": "KPIoiMZC3fst",
        "colab": {
          "base_uri": "https://localhost:8080/"
        },
        "outputId": "b63c682c-281f-4d73-f782-9abdd9545b1a"
      },
      "source": [
        "# Wrong prediction\n",
        "np.argmax(model2.predict(X_test[8:9, :], verbose=1),axis=1)"
      ],
      "execution_count": 43,
      "outputs": [
        {
          "output_type": "stream",
          "text": [
            "1/1 [==============================] - 0s 1ms/step\n"
          ],
          "name": "stdout"
        },
        {
          "output_type": "execute_result",
          "data": {
            "text/plain": [
              "array([6])"
            ]
          },
          "metadata": {
            "tags": []
          },
          "execution_count": 43
        }
      ]
    },
    {
      "cell_type": "code",
      "metadata": {
        "id": "1A0mpUeg3fsy",
        "colab": {
          "base_uri": "https://localhost:8080/"
        },
        "outputId": "dbe7787d-84e7-4e0c-a48f-b7ffeb41514c"
      },
      "source": [
        "y_test0[8]  # Compare the true value and the prediction."
      ],
      "execution_count": 44,
      "outputs": [
        {
          "output_type": "execute_result",
          "data": {
            "text/plain": [
              "5"
            ]
          },
          "metadata": {
            "tags": []
          },
          "execution_count": 44
        }
      ]
    },
    {
      "cell_type": "code",
      "metadata": {
        "id": "M9zDSNI13fs1",
        "colab": {
          "base_uri": "https://localhost:8080/"
        },
        "outputId": "bc442827-ee3a-4397-d0fe-dc7e9cafc9fc"
      },
      "source": [
        "# 전체 테스트 데이터에 대한 예측\n",
        "x_pred = np.argmax(model2.predict(X_test, verbose=1, batch_size=100), axis=1)"
      ],
      "execution_count": 45,
      "outputs": [
        {
          "output_type": "stream",
          "text": [
            "100/100 [==============================] - 0s 2ms/step\n"
          ],
          "name": "stdout"
        }
      ]
    },
    {
      "cell_type": "code",
      "metadata": {
        "id": "QNEtpmQL3fs3",
        "colab": {
          "base_uri": "https://localhost:8080/"
        },
        "outputId": "9c7511b4-e142-46bd-f77f-7c010527a98f"
      },
      "source": [
        "t_count = np.sum(x_pred==y_test0) # True positive\n",
        "f_count = np.sum(x_pred!=y_test0) # False positive\n",
        "f_count==10000-t_count"
      ],
      "execution_count": 46,
      "outputs": [
        {
          "output_type": "execute_result",
          "data": {
            "text/plain": [
              "True"
            ]
          },
          "metadata": {
            "tags": []
          },
          "execution_count": 46
        }
      ]
    },
    {
      "cell_type": "code",
      "metadata": {
        "id": "YaKHTNi43fs8",
        "colab": {
          "base_uri": "https://localhost:8080/"
        },
        "outputId": "1bdb0322-ca8a-4573-ec7e-e7af001b996f"
      },
      "source": [
        "t_count,f_count"
      ],
      "execution_count": 47,
      "outputs": [
        {
          "output_type": "execute_result",
          "data": {
            "text/plain": [
              "(8976, 1024)"
            ]
          },
          "metadata": {
            "tags": []
          },
          "execution_count": 47
        }
      ]
    },
    {
      "cell_type": "code",
      "metadata": {
        "id": "aiDlchVL3fs-",
        "colab": {
          "base_uri": "https://localhost:8080/"
        },
        "outputId": "3d9230b0-4e48-4ea4-a9d2-eb38c873d38c"
      },
      "source": [
        "accuracy = t_count/10000*100\n",
        "accuracy"
      ],
      "execution_count": 48,
      "outputs": [
        {
          "output_type": "execute_result",
          "data": {
            "text/plain": [
              "89.75999999999999"
            ]
          },
          "metadata": {
            "tags": []
          },
          "execution_count": 48
        }
      ]
    },
    {
      "cell_type": "markdown",
      "metadata": {
        "id": "oUuN3t9XTpzO"
      },
      "source": [
        "### 모델 성능 평가\n",
        "- model.evaluate(X_test, y_test, batch_size)"
      ]
    },
    {
      "cell_type": "code",
      "metadata": {
        "id": "Wv3TNre7TO7Q",
        "colab": {
          "base_uri": "https://localhost:8080/"
        },
        "outputId": "9c6f3bb4-c21c-4770-c0bb-cf9cc4e3a768"
      },
      "source": [
        "model.evaluate(X_test, y_test, batch_size=100)"
      ],
      "execution_count": 49,
      "outputs": [
        {
          "output_type": "stream",
          "text": [
            "100/100 [==============================] - 0s 2ms/step - loss: 0.4399 - accuracy: 0.8976\n"
          ],
          "name": "stdout"
        },
        {
          "output_type": "execute_result",
          "data": {
            "text/plain": [
              "[0.4399082064628601, 0.897599995136261]"
            ]
          },
          "metadata": {
            "tags": []
          },
          "execution_count": 49
        }
      ]
    },
    {
      "cell_type": "code",
      "metadata": {
        "id": "-t9pu0IET_tZ",
        "colab": {
          "base_uri": "https://localhost:8080/"
        },
        "outputId": "6dfc800e-8755-43d9-a336-01bc6f9bc0c3"
      },
      "source": [
        "model2.evaluate(X_test, y_test, batch_size=100)"
      ],
      "execution_count": 50,
      "outputs": [
        {
          "output_type": "stream",
          "text": [
            "100/100 [==============================] - 0s 2ms/step - loss: 0.4399 - accuracy: 0.8976\n"
          ],
          "name": "stdout"
        },
        {
          "output_type": "execute_result",
          "data": {
            "text/plain": [
              "[0.4399082064628601, 0.897599995136261]"
            ]
          },
          "metadata": {
            "tags": []
          },
          "execution_count": 50
        }
      ]
    },
    {
      "cell_type": "markdown",
      "metadata": {
        "id": "MRK6YRJd3ftC"
      },
      "source": [
        "### Accuracy of predicting test numbers is around 95% in the good neural network model.\n",
        "\n",
        "> How to improve this model to the best model?\n",
        "- Change loss function\n",
        "- Change optimizer\n",
        "- Change activation\n",
        "- Change the number of neurons \n",
        "- Add new layers\n",
        "- Apply Dropout\n",
        "- ..."
      ]
    }
  ]
}