{
  "nbformat": 4,
  "nbformat_minor": 0,
  "metadata": {
    "colab": {
      "name": "tf2_8_cifar10_CNN_best.ipynb",
      "provenance": [],
      "collapsed_sections": [],
      "include_colab_link": true
    },
    "kernelspec": {
      "name": "python3",
      "display_name": "Python 3"
    },
    "accelerator": "GPU"
  },
  "cells": [
    {
      "cell_type": "markdown",
      "metadata": {
        "id": "view-in-github",
        "colab_type": "text"
      },
      "source": [
        "<a href=\"https://colab.research.google.com/github/o-going/pdm01/blob/master/py-tensorflow/tf2_8_cifar10_CNN_best.ipynb\" target=\"_parent\"><img src=\"https://colab.research.google.com/assets/colab-badge.svg\" alt=\"Open In Colab\"/></a>"
      ]
    },
    {
      "cell_type": "markdown",
      "metadata": {
        "id": "rswfCVLZ-QW0"
      },
      "source": [
        "# **CNN model of cifar-10 dataset**\n",
        "- Conv2D + FCN\n",
        "    * Conv2D : 2차원 합성곱 필터링 + 풀링(Pooling)\n",
        "    * FCN : 1차원 완전연결신경망\n",
        "\n",
        "***\n",
        "- ## Traget: Find the best model\n",
        "***\n",
        "\n",
        "![mnist_NN_2_layers](https://img1.daumcdn.net/thumb/R1280x0/?scode=mtistory2&fname=https%3A%2F%2Fblog.kakaocdn.net%2Fdn%2FdJp5Z6%2FbtqAPebnF3x%2FQCe5vVcskhmxe964bGz4iK%2Fimg.png)\n",
        "\n",
        "(source: https://img1.daumcdn.net/thumb/R1280x0/?scode=mtistory2&fname=https%3A%2F%2Fblog.kakaocdn.net%2Fdn%2FdJp5Z6%2FbtqAPebnF3x%2FQCe5vVcskhmxe964bGz4iK%2Fimg.png)"
      ]
    },
    {
      "cell_type": "markdown",
      "metadata": {
        "id": "ISueys4bNHd1"
      },
      "source": [
        "### CIFAR-10 Dataset (CIFAR: Canadian Institute For Advanced Research)\n",
        "> https://www.cs.toronto.edu/~kriz/cifar.html\n",
        "\n",
        "- (50000, 32, 32, 3), train\n",
        "- (10000, 32, 32, 3), test\n",
        "- color photographs of objects from 10 classes, such as frogs, birds, cats, ships, etc\n",
        "> class names\n",
        "> - ['airplane', 'automobile', 'bird', 'cat', 'deer', 'dog', 'frog', 'horse', 'ship', 'truck']\n",
        "\n",
        "- 참고 문헌  \n",
        "\n",
        "> https://becominghuman.ai/cifar-10-image-classification-fd2ace47c5e8  \n",
        "\n",
        "> https://becominghuman.ai/convolutional-neural-networks-cnns-convnets-for-visual-recognition-cae879a70f1a\n",
        "\n",
        "> https://towardsdatascience.com/cifar-10-image-classification-in-tensorflow-5b501f7dc77c"
      ]
    },
    {
      "cell_type": "markdown",
      "metadata": {
        "id": "1yhvkxS_HhpK"
      },
      "source": [
        "## Search the best model of C2F2\n",
        "- callback\n",
        "    - Early stopping\n",
        "    - model checkpoint"
      ]
    },
    {
      "cell_type": "code",
      "metadata": {
        "id": "8GgGzPXPVyfa",
        "colab": {
          "base_uri": "https://localhost:8080/"
        },
        "outputId": "9085b5bb-9bb0-4e25-a07d-e6144c47c08f"
      },
      "source": [
        "import numpy as np\n",
        "import tensorflow as tf\n",
        "from tensorflow import keras\n",
        "import pandas as pd\n",
        "import matplotlib.pyplot as plt\n",
        "%matplotlib inline\n",
        "\n",
        "tf.random.set_seed(0)\n",
        "\n",
        "print(tf.__version__)"
      ],
      "execution_count": 1,
      "outputs": [
        {
          "output_type": "stream",
          "text": [
            "2.3.0\n"
          ],
          "name": "stdout"
        }
      ]
    },
    {
      "cell_type": "code",
      "metadata": {
        "id": "nMZqMpIvIlwf"
      },
      "source": [
        "# import TF2 submodules\n",
        "from tensorflow.keras import layers, models, callbacks"
      ],
      "execution_count": 3,
      "outputs": []
    },
    {
      "cell_type": "markdown",
      "metadata": {
        "id": "-0IOOUM14Jk1"
      },
      "source": [
        "## **데이터 로딩, 정규화**"
      ]
    },
    {
      "cell_type": "code",
      "metadata": {
        "id": "N1ogJ7I64Fz-",
        "colab": {
          "base_uri": "https://localhost:8080/"
        },
        "outputId": "d9c74653-d1f2-4c13-9ad0-13bc3f97d5e2"
      },
      "source": [
        "from keras.datasets import cifar10\n",
        "\n",
        "(X_train0, y_train0), (X_test0, y_test0) = cifar10.load_data()\n",
        "\n",
        "# Reshape\n",
        "# X_train = X_train0.reshape(60000,28,28,1)\n",
        "# X_test = X_test0.reshape(10000,28,28,1)\n",
        "\n",
        "# Normalization\n",
        "X_train, X_test = X_train0/255.0, X_test0/255.0 # 정규화\n",
        "\n",
        "print(\"X_train={0}\".format(X_train.shape))\n",
        "print(\"y_train={0}\".format(y_train0.shape)) \n",
        "print(\"X_test={0}\".format(X_test.shape))\n",
        "print(\"y_test={0}\".format(y_test0.shape))"
      ],
      "execution_count": 4,
      "outputs": [
        {
          "output_type": "stream",
          "text": [
            "Downloading data from https://www.cs.toronto.edu/~kriz/cifar-10-python.tar.gz\n",
            "170500096/170498071 [==============================] - 2s 0us/step\n",
            "X_train=(50000, 32, 32, 3)\n",
            "y_train=(50000, 1)\n",
            "X_test=(10000, 32, 32, 3)\n",
            "y_test=(10000, 1)\n"
          ],
          "name": "stdout"
        }
      ]
    },
    {
      "cell_type": "code",
      "metadata": {
        "id": "F46-QZqJHiQ6",
        "colab": {
          "base_uri": "https://localhost:8080/"
        },
        "outputId": "2fcabc2c-42dc-48a2-aa6b-29275226d50c"
      },
      "source": [
        "# One-Hot-Encoding\n",
        "# Use function to_categorical() to do One-Hot-Encoding\n",
        "# tf.keras.utils.to_categorical\n",
        "from keras.utils import to_categorical\n",
        "\n",
        "y_train = to_categorical(y_train0, 10)\n",
        "y_test = to_categorical(y_test0, 10)\n",
        "y_train.shape,y_test.shape"
      ],
      "execution_count": 5,
      "outputs": [
        {
          "output_type": "execute_result",
          "data": {
            "text/plain": [
              "((50000, 10), (10000, 10))"
            ]
          },
          "metadata": {
            "tags": []
          },
          "execution_count": 5
        }
      ]
    },
    {
      "cell_type": "code",
      "metadata": {
        "id": "eZ3OfP5PkEkL",
        "colab": {
          "base_uri": "https://localhost:8080/"
        },
        "outputId": "f5aaa100-be23-4acc-9fa1-20d921d22214"
      },
      "source": [
        "# y_train0.shape vs. y_train.shape\n",
        "y_train0.shape, y_train.shape"
      ],
      "execution_count": 6,
      "outputs": [
        {
          "output_type": "execute_result",
          "data": {
            "text/plain": [
              "((50000, 1), (50000, 10))"
            ]
          },
          "metadata": {
            "tags": []
          },
          "execution_count": 6
        }
      ]
    },
    {
      "cell_type": "markdown",
      "metadata": {
        "id": "5z7SozStigmF"
      },
      "source": [
        "### Display images in CIFAR-10\n",
        "- one random image\n",
        "- 10 representative images"
      ]
    },
    {
      "cell_type": "code",
      "metadata": {
        "id": "IK7XT3XoirSL",
        "colab": {
          "base_uri": "https://localhost:8080/",
          "height": 286
        },
        "outputId": "ace1b0ac-7d1e-47fd-ba97-873816d30200"
      },
      "source": [
        "# Code here!\n",
        "# display one random image from the training set:\n",
        "class_names =  ['airplane', 'automobile', 'bird', 'cat', 'deer', 'dog', 'frog', 'horse', 'ship', 'truck']\n",
        "\n",
        "idx = np.random.randint(0, X_train0.shape[0])\n",
        "print(idx)\n",
        "image = X_train0[idx]\n",
        "plt.imshow(image) #, cmap=plt.get_cmap('gray'))\n",
        "plt.title(class_names[y_train0[idx][0]])\n",
        "plt.xticks([])\n",
        "plt.yticks([])\n",
        "plt.show()"
      ],
      "execution_count": 8,
      "outputs": [
        {
          "output_type": "stream",
          "text": [
            "2266\n"
          ],
          "name": "stdout"
        },
        {
          "output_type": "display_data",
          "data": {
            "image/png": "[encoded data removed]",
            "text/plain": [
              "<Figure size 432x288 with 1 Axes>"
            ]
          },
          "metadata": {
            "tags": []
          }
        }
      ]
    },
    {
      "cell_type": "code",
      "metadata": {
        "id": "LzhD5pcukau7",
        "colab": {
          "base_uri": "https://localhost:8080/",
          "height": 325
        },
        "outputId": "b75da072-5ecf-427b-f4da-1225b09b7f30"
      },
      "source": [
        "fig = plt.figure(figsize=(10,6))\n",
        "num0_9 = np.unique(y_train0, return_index=True)[1]\n",
        "images = X_train[num0_9]\n",
        "for i in range(10):\n",
        "    plt.subplot(2, 5, i+1)\n",
        "    # num0_9 = X_train0[y_train0 == i]\n",
        "    \n",
        "    # print(num0_9.shape)\n",
        "    # plt.imshow(num0_9[0]) \n",
        "    plt.imshow(images[i])\n",
        "    plt.title(\"Class %d\" % (i))\n",
        "    plt.xticks([])\n",
        "    plt.yticks([])"
      ],
      "execution_count": 9,
      "outputs": [
        {
          "output_type": "display_data",
          "data": {
            "image/png": "[encoded data removed]",
            "text/plain": [
              "<Figure size 720x432 with 10 Axes>"
            ]
          },
          "metadata": {
            "tags": []
          }
        }
      ]
    },
    {
      "cell_type": "markdown",
      "metadata": {
        "id": "55DYVfFXi0WR"
      },
      "source": [
        "# Design CNN"
      ]
    },
    {
      "cell_type": "markdown",
      "metadata": {
        "id": "iPcLIcUCcsiG"
      },
      "source": [
        "### import models, layers, callbacks\n",
        "- models: Sequential\n",
        "- layers: Conv2D, MaxPool2D, Flatten\n",
        "- callbacks: ModelCheckpoint, EarlyStopping"
      ]
    },
    {
      "cell_type": "code",
      "metadata": {
        "id": "NzqMC4Xtc3ZE"
      },
      "source": [
        "from keras.models import Sequential\n",
        "from keras.layers import Conv2D, MaxPool2D, Flatten\n",
        "from keras.callbacks import ModelCheckpoint, EarlyStopping"
      ],
      "execution_count": 10,
      "outputs": []
    },
    {
      "cell_type": "markdown",
      "metadata": {
        "id": "7Z6DJJUCei-s"
      },
      "source": [
        "## **CNN2 + FCN2**"
      ]
    },
    {
      "cell_type": "code",
      "metadata": {
        "id": "pV3NFglM7P65"
      },
      "source": [
        "c2f2 = keras.models.Sequential([ \n",
        "    Conv2D(input_shape=(32,32,3),kernel_size=(3,3),strides=(1,1),filters= 32,padding='same',activation='relu'),\n",
        "    MaxPool2D(pool_size=(2,2), strides=(2,2)), \n",
        "    Conv2D(kernel_size=(3,3),strides=(1,1),filters= 64,padding='same',activation='relu'),\n",
        "    MaxPool2D(pool_size=(2,2), strides=(2,2)),\n",
        "    Flatten(), \n",
        "    keras.layers.Dense(128, activation='relu'),  \n",
        "    keras.layers.Dropout(0.25), \n",
        "    keras.layers.Dense(10, activation='softmax')\n",
        "])\n",
        "\n",
        "c2f2.compile(optimizer='adam',\n",
        "              loss='categorical_crossentropy',\n",
        "              metrics=['accuracy']) "
      ],
      "execution_count": 11,
      "outputs": []
    },
    {
      "cell_type": "code",
      "metadata": {
        "id": "OGtCiKy57YkR",
        "colab": {
          "base_uri": "https://localhost:8080/"
        },
        "outputId": "edcb89a9-9679-4814-898d-a598a42593ac"
      },
      "source": [
        "c2f2.summary()"
      ],
      "execution_count": 12,
      "outputs": [
        {
          "output_type": "stream",
          "text": [
            "Model: \"sequential\"\n",
            "_________________________________________________________________\n",
            "Layer (type)                 Output Shape              Param #   \n",
            "=================================================================\n",
            "conv2d (Conv2D)              (None, 32, 32, 32)        896       \n",
            "_________________________________________________________________\n",
            "max_pooling2d (MaxPooling2D) (None, 16, 16, 32)        0         \n",
            "_________________________________________________________________\n",
            "conv2d_1 (Conv2D)            (None, 16, 16, 64)        18496     \n",
            "_________________________________________________________________\n",
            "max_pooling2d_1 (MaxPooling2 (None, 8, 8, 64)          0         \n",
            "_________________________________________________________________\n",
            "flatten (Flatten)            (None, 4096)              0         \n",
            "_________________________________________________________________\n",
            "dense (Dense)                (None, 128)               524416    \n",
            "_________________________________________________________________\n",
            "dropout (Dropout)            (None, 128)               0         \n",
            "_________________________________________________________________\n",
            "dense_1 (Dense)              (None, 10)                1290      \n",
            "=================================================================\n",
            "Total params: 545,098\n",
            "Trainable params: 545,098\n",
            "Non-trainable params: 0\n",
            "_________________________________________________________________\n"
          ],
          "name": "stdout"
        }
      ]
    },
    {
      "cell_type": "code",
      "metadata": {
        "id": "zw_pQPBdJmU8"
      },
      "source": [
        "cp_callback = callbacks.ModelCheckpoint(filepath=\"./cifar10_c2f2_best_weights.{epoch:03d}-{val_accuracy:.4f}.hdf5\", \n",
        "                              monitor='val_accuracy', verbose=0, save_best_only=True)\n",
        "es_callback = callbacks.EarlyStopping(monitor='val_accuracy', \n",
        "                            mode='max', verbose=1, patience=25)    # patience=10, 25, 50"
      ],
      "execution_count": 13,
      "outputs": []
    },
    {
      "cell_type": "code",
      "metadata": {
        "id": "94GWWQt-7eRS",
        "colab": {
          "base_uri": "https://localhost:8080/"
        },
        "outputId": "cd064890-8076-4313-adf3-0a33e8862284"
      },
      "source": [
        "hist = c2f2.fit(X_train, y_train, epochs = 500 , batch_size =32, \n",
        "         callbacks=[cp_callback, es_callback], \n",
        "         validation_data=(X_test,y_test))"
      ],
      "execution_count": 14,
      "outputs": [
        {
          "output_type": "stream",
          "text": [
            "Epoch 1/500\n",
            "1563/1563 [==============================] - 6s 4ms/step - loss: 1.5087 - accuracy: 0.4541 - val_loss: 1.2151 - val_accuracy: 0.5763\n",
            "Epoch 2/500\n",
            "1563/1563 [==============================] - 6s 4ms/step - loss: 1.1779 - accuracy: 0.5811 - val_loss: 1.0361 - val_accuracy: 0.6348\n",
            "Epoch 3/500\n",
            "1563/1563 [==============================] - 5s 4ms/step - loss: 1.0498 - accuracy: 0.6277 - val_loss: 0.9837 - val_accuracy: 0.6535\n",
            "Epoch 4/500\n",
            "1563/1563 [==============================] - 6s 4ms/step - loss: 0.9633 - accuracy: 0.6603 - val_loss: 0.9405 - val_accuracy: 0.6673\n",
            "Epoch 5/500\n",
            "1563/1563 [==============================] - 6s 4ms/step - loss: 0.9031 - accuracy: 0.6793 - val_loss: 0.8843 - val_accuracy: 0.6879\n",
            "Epoch 6/500\n",
            "1563/1563 [==============================] - 6s 4ms/step - loss: 0.8403 - accuracy: 0.6986 - val_loss: 0.8596 - val_accuracy: 0.7011\n",
            "Epoch 7/500\n",
            "1563/1563 [==============================] - 6s 4ms/step - loss: 0.7920 - accuracy: 0.7168 - val_loss: 0.8992 - val_accuracy: 0.6867\n",
            "Epoch 8/500\n",
            "1563/1563 [==============================] - 6s 4ms/step - loss: 0.7391 - accuracy: 0.7367 - val_loss: 0.8369 - val_accuracy: 0.7079\n",
            "Epoch 9/500\n",
            "1563/1563 [==============================] - 6s 4ms/step - loss: 0.6977 - accuracy: 0.7514 - val_loss: 0.8510 - val_accuracy: 0.7127\n",
            "Epoch 10/500\n",
            "1563/1563 [==============================] - 6s 4ms/step - loss: 0.6580 - accuracy: 0.7630 - val_loss: 0.8752 - val_accuracy: 0.7085\n",
            "Epoch 11/500\n",
            "1563/1563 [==============================] - 6s 4ms/step - loss: 0.6134 - accuracy: 0.7760 - val_loss: 0.9092 - val_accuracy: 0.6992\n",
            "Epoch 12/500\n",
            "1563/1563 [==============================] - 6s 4ms/step - loss: 0.5743 - accuracy: 0.7888 - val_loss: 0.9246 - val_accuracy: 0.7137\n",
            "Epoch 13/500\n",
            "1563/1563 [==============================] - 6s 4ms/step - loss: 0.5547 - accuracy: 0.7977 - val_loss: 0.9339 - val_accuracy: 0.7070\n",
            "Epoch 14/500\n",
            "1563/1563 [==============================] - 6s 4ms/step - loss: 0.5176 - accuracy: 0.8114 - val_loss: 0.9451 - val_accuracy: 0.7140\n",
            "Epoch 15/500\n",
            "1563/1563 [==============================] - 6s 4ms/step - loss: 0.4913 - accuracy: 0.8193 - val_loss: 1.0018 - val_accuracy: 0.7007\n",
            "Epoch 16/500\n",
            "1563/1563 [==============================] - 6s 4ms/step - loss: 0.4644 - accuracy: 0.8283 - val_loss: 0.9823 - val_accuracy: 0.7094\n",
            "Epoch 17/500\n",
            "1563/1563 [==============================] - 6s 4ms/step - loss: 0.4418 - accuracy: 0.8365 - val_loss: 1.0006 - val_accuracy: 0.7079\n",
            "Epoch 18/500\n",
            "1563/1563 [==============================] - 6s 4ms/step - loss: 0.4184 - accuracy: 0.8462 - val_loss: 1.0410 - val_accuracy: 0.7046\n",
            "Epoch 19/500\n",
            "1563/1563 [==============================] - 6s 4ms/step - loss: 0.3965 - accuracy: 0.8536 - val_loss: 1.0650 - val_accuracy: 0.7079\n",
            "Epoch 20/500\n",
            "1563/1563 [==============================] - 6s 4ms/step - loss: 0.3802 - accuracy: 0.8577 - val_loss: 1.1362 - val_accuracy: 0.7074\n",
            "Epoch 21/500\n",
            "1563/1563 [==============================] - 6s 4ms/step - loss: 0.3676 - accuracy: 0.8644 - val_loss: 1.1775 - val_accuracy: 0.7010\n",
            "Epoch 22/500\n",
            "1563/1563 [==============================] - 6s 4ms/step - loss: 0.3487 - accuracy: 0.8693 - val_loss: 1.1648 - val_accuracy: 0.7072\n",
            "Epoch 23/500\n",
            "1563/1563 [==============================] - 6s 4ms/step - loss: 0.3405 - accuracy: 0.8740 - val_loss: 1.1914 - val_accuracy: 0.7072\n",
            "Epoch 24/500\n",
            "1563/1563 [==============================] - 6s 4ms/step - loss: 0.3277 - accuracy: 0.8782 - val_loss: 1.1955 - val_accuracy: 0.7066\n",
            "Epoch 25/500\n",
            "1563/1563 [==============================] - 6s 4ms/step - loss: 0.3110 - accuracy: 0.8868 - val_loss: 1.2636 - val_accuracy: 0.7054\n",
            "Epoch 26/500\n",
            "1563/1563 [==============================] - 6s 4ms/step - loss: 0.3008 - accuracy: 0.8869 - val_loss: 1.2874 - val_accuracy: 0.7039\n",
            "Epoch 27/500\n",
            "1563/1563 [==============================] - 6s 4ms/step - loss: 0.2983 - accuracy: 0.8895 - val_loss: 1.2503 - val_accuracy: 0.7030\n",
            "Epoch 28/500\n",
            "1563/1563 [==============================] - 6s 4ms/step - loss: 0.2828 - accuracy: 0.8956 - val_loss: 1.3514 - val_accuracy: 0.6980\n",
            "Epoch 29/500\n",
            "1563/1563 [==============================] - 5s 4ms/step - loss: 0.2796 - accuracy: 0.8987 - val_loss: 1.4536 - val_accuracy: 0.6889\n",
            "Epoch 30/500\n",
            "1563/1563 [==============================] - 5s 4ms/step - loss: 0.2721 - accuracy: 0.9006 - val_loss: 1.4843 - val_accuracy: 0.6995\n",
            "Epoch 31/500\n",
            "1563/1563 [==============================] - 6s 4ms/step - loss: 0.2652 - accuracy: 0.9021 - val_loss: 1.3956 - val_accuracy: 0.7019\n",
            "Epoch 32/500\n",
            "1563/1563 [==============================] - 6s 4ms/step - loss: 0.2547 - accuracy: 0.9065 - val_loss: 1.4526 - val_accuracy: 0.7048\n",
            "Epoch 33/500\n",
            "1563/1563 [==============================] - 6s 4ms/step - loss: 0.2505 - accuracy: 0.9083 - val_loss: 1.5395 - val_accuracy: 0.6961\n",
            "Epoch 34/500\n",
            "1563/1563 [==============================] - 6s 4ms/step - loss: 0.2458 - accuracy: 0.9084 - val_loss: 1.5106 - val_accuracy: 0.6968\n",
            "Epoch 35/500\n",
            "1563/1563 [==============================] - 6s 4ms/step - loss: 0.2444 - accuracy: 0.9092 - val_loss: 1.4953 - val_accuracy: 0.6926\n",
            "Epoch 36/500\n",
            "1563/1563 [==============================] - 6s 4ms/step - loss: 0.2328 - accuracy: 0.9134 - val_loss: 1.6416 - val_accuracy: 0.6972\n",
            "Epoch 37/500\n",
            "1563/1563 [==============================] - 6s 4ms/step - loss: 0.2319 - accuracy: 0.9158 - val_loss: 1.5850 - val_accuracy: 0.7005\n",
            "Epoch 38/500\n",
            "1563/1563 [==============================] - 6s 4ms/step - loss: 0.2202 - accuracy: 0.9194 - val_loss: 1.6723 - val_accuracy: 0.6988\n",
            "Epoch 39/500\n",
            "1563/1563 [==============================] - 5s 4ms/step - loss: 0.2215 - accuracy: 0.9191 - val_loss: 1.6748 - val_accuracy: 0.6967\n",
            "Epoch 00039: early stopping\n"
          ],
          "name": "stdout"
        }
      ]
    },
    {
      "cell_type": "code",
      "metadata": {
        "id": "0-7is2U49A6Z",
        "colab": {
          "base_uri": "https://localhost:8080/"
        },
        "outputId": "d1db2f96-9d14-482d-910b-132d95d49026"
      },
      "source": [
        "c2f2.evaluate(X_test, y_test, batch_size =32)"
      ],
      "execution_count": 15,
      "outputs": [
        {
          "output_type": "stream",
          "text": [
            "313/313 [==============================] - 1s 2ms/step - loss: 1.6748 - accuracy: 0.6967\n"
          ],
          "name": "stdout"
        },
        {
          "output_type": "execute_result",
          "data": {
            "text/plain": [
              "[1.6748056411743164, 0.6966999769210815]"
            ]
          },
          "metadata": {
            "tags": []
          },
          "execution_count": 15
        }
      ]
    },
    {
      "cell_type": "markdown",
      "metadata": {
        "id": "SUJxRQtafihM"
      },
      "source": [
        "## **CNN2 + FCN3**"
      ]
    },
    {
      "cell_type": "code",
      "metadata": {
        "id": "Nl5CyAymAB34"
      },
      "source": [
        "c2f3 = keras.models.Sequential([ \n",
        "    Conv2D(input_shape=(32,32,3),kernel_size=(3,3),strides=(1,1),filters= 32,padding='same',activation='relu'),\n",
        "    MaxPool2D(pool_size=(2,2), strides=(2,2)), \n",
        "    Conv2D(kernel_size=(3,3),strides=(1,1),filters= 64,padding='same',activation='relu'),\n",
        "    MaxPool2D(pool_size=(2,2), strides=(2,2)),\n",
        "    Flatten(), \n",
        "    keras.layers.Dense(128, activation='relu'),  \n",
        "    keras.layers.Dropout(0.25), \n",
        "    keras.layers.Dense(64, activation='relu'),  \n",
        "    keras.layers.Dropout(0.25), \n",
        "    keras.layers.Dense(10, activation='softmax')\n",
        "])\n",
        "\n",
        "c2f3.compile(optimizer='adam',\n",
        "              loss='categorical_crossentropy',\n",
        "              metrics=['accuracy']) "
      ],
      "execution_count": 16,
      "outputs": []
    },
    {
      "cell_type": "code",
      "metadata": {
        "id": "gYxuGW_2ANL8",
        "colab": {
          "base_uri": "https://localhost:8080/"
        },
        "outputId": "b01f4b78-303f-4981-ad05-c4a67bbebf93"
      },
      "source": [
        "c2f3.summary()"
      ],
      "execution_count": 17,
      "outputs": [
        {
          "output_type": "stream",
          "text": [
            "Model: \"sequential_1\"\n",
            "_________________________________________________________________\n",
            "Layer (type)                 Output Shape              Param #   \n",
            "=================================================================\n",
            "conv2d_2 (Conv2D)            (None, 32, 32, 32)        896       \n",
            "_________________________________________________________________\n",
            "max_pooling2d_2 (MaxPooling2 (None, 16, 16, 32)        0         \n",
            "_________________________________________________________________\n",
            "conv2d_3 (Conv2D)            (None, 16, 16, 64)        18496     \n",
            "_________________________________________________________________\n",
            "max_pooling2d_3 (MaxPooling2 (None, 8, 8, 64)          0         \n",
            "_________________________________________________________________\n",
            "flatten_1 (Flatten)          (None, 4096)              0         \n",
            "_________________________________________________________________\n",
            "dense_2 (Dense)              (None, 128)               524416    \n",
            "_________________________________________________________________\n",
            "dropout_1 (Dropout)          (None, 128)               0         \n",
            "_________________________________________________________________\n",
            "dense_3 (Dense)              (None, 64)                8256      \n",
            "_________________________________________________________________\n",
            "dropout_2 (Dropout)          (None, 64)                0         \n",
            "_________________________________________________________________\n",
            "dense_4 (Dense)              (None, 10)                650       \n",
            "=================================================================\n",
            "Total params: 552,714\n",
            "Trainable params: 552,714\n",
            "Non-trainable params: 0\n",
            "_________________________________________________________________\n"
          ],
          "name": "stdout"
        }
      ]
    },
    {
      "cell_type": "code",
      "metadata": {
        "id": "KMsTuhO2x61z"
      },
      "source": [
        "cp_callback = callbacks.ModelCheckpoint(filepath=\"./cifar10_c2f3_best_weights.{epoch:03d}-{val_accuracy:.4f}.hdf5\", \n",
        "                              monitor='val_accuracy', verbose=0, save_best_only=True)\n",
        "es_callback = callbacks.EarlyStopping(monitor='val_accuracy', \n",
        "                            mode='max', verbose=1, patience=25)    # patience=10, 25, 50"
      ],
      "execution_count": 18,
      "outputs": []
    },
    {
      "cell_type": "code",
      "metadata": {
        "id": "lO1of4AOAQlV",
        "colab": {
          "base_uri": "https://localhost:8080/"
        },
        "outputId": "de8e43b1-0db9-467f-a258-6ef0df0f0e63"
      },
      "source": [
        "c2f3.fit(X_train, y_train, epochs=500, batch_size =32, \n",
        "         callbacks=[cp_callback, es_callback], \n",
        "         validation_data=(X_test,y_test))"
      ],
      "execution_count": 19,
      "outputs": [
        {
          "output_type": "stream",
          "text": [
            "Epoch 1/500\n",
            "1563/1563 [==============================] - 6s 4ms/step - loss: 1.5704 - accuracy: 0.4280 - val_loss: 1.2126 - val_accuracy: 0.5694\n",
            "Epoch 2/500\n",
            "1563/1563 [==============================] - 6s 4ms/step - loss: 1.2155 - accuracy: 0.5710 - val_loss: 1.0829 - val_accuracy: 0.6189\n",
            "Epoch 3/500\n",
            "1563/1563 [==============================] - 6s 4ms/step - loss: 1.0741 - accuracy: 0.6247 - val_loss: 0.9877 - val_accuracy: 0.6531\n",
            "Epoch 4/500\n",
            "1563/1563 [==============================] - 6s 4ms/step - loss: 0.9824 - accuracy: 0.6600 - val_loss: 0.9538 - val_accuracy: 0.6728\n",
            "Epoch 5/500\n",
            "1563/1563 [==============================] - 6s 4ms/step - loss: 0.9116 - accuracy: 0.6834 - val_loss: 0.9840 - val_accuracy: 0.6692\n",
            "Epoch 6/500\n",
            "1563/1563 [==============================] - 6s 4ms/step - loss: 0.8531 - accuracy: 0.7043 - val_loss: 0.8936 - val_accuracy: 0.6920\n",
            "Epoch 7/500\n",
            "1563/1563 [==============================] - 6s 4ms/step - loss: 0.8033 - accuracy: 0.7211 - val_loss: 0.9207 - val_accuracy: 0.6816\n",
            "Epoch 8/500\n",
            "1563/1563 [==============================] - 6s 4ms/step - loss: 0.7535 - accuracy: 0.7387 - val_loss: 0.8844 - val_accuracy: 0.7008\n",
            "Epoch 9/500\n",
            "1563/1563 [==============================] - 6s 4ms/step - loss: 0.7078 - accuracy: 0.7510 - val_loss: 0.8961 - val_accuracy: 0.7035\n",
            "Epoch 10/500\n",
            "1563/1563 [==============================] - 6s 4ms/step - loss: 0.6734 - accuracy: 0.7654 - val_loss: 0.8673 - val_accuracy: 0.7109\n",
            "Epoch 11/500\n",
            "1563/1563 [==============================] - 6s 4ms/step - loss: 0.6346 - accuracy: 0.7785 - val_loss: 0.8748 - val_accuracy: 0.7107\n",
            "Epoch 12/500\n",
            "1563/1563 [==============================] - 6s 4ms/step - loss: 0.6088 - accuracy: 0.7863 - val_loss: 0.9028 - val_accuracy: 0.7087\n",
            "Epoch 13/500\n",
            "1563/1563 [==============================] - 6s 4ms/step - loss: 0.5739 - accuracy: 0.7979 - val_loss: 0.9103 - val_accuracy: 0.7101\n",
            "Epoch 14/500\n",
            "1563/1563 [==============================] - 6s 4ms/step - loss: 0.5509 - accuracy: 0.8072 - val_loss: 0.9476 - val_accuracy: 0.7100\n",
            "Epoch 15/500\n",
            "1563/1563 [==============================] - 6s 4ms/step - loss: 0.5298 - accuracy: 0.8131 - val_loss: 0.9410 - val_accuracy: 0.7057\n",
            "Epoch 16/500\n",
            "1563/1563 [==============================] - 6s 4ms/step - loss: 0.5047 - accuracy: 0.8230 - val_loss: 0.9460 - val_accuracy: 0.7141\n",
            "Epoch 17/500\n",
            "1563/1563 [==============================] - 7s 4ms/step - loss: 0.4866 - accuracy: 0.8271 - val_loss: 1.0220 - val_accuracy: 0.7002\n",
            "Epoch 18/500\n",
            "1563/1563 [==============================] - 6s 4ms/step - loss: 0.4688 - accuracy: 0.8318 - val_loss: 0.9985 - val_accuracy: 0.7073\n",
            "Epoch 19/500\n",
            "1563/1563 [==============================] - 6s 4ms/step - loss: 0.4514 - accuracy: 0.8413 - val_loss: 1.0341 - val_accuracy: 0.7074\n",
            "Epoch 20/500\n",
            "1563/1563 [==============================] - 6s 4ms/step - loss: 0.4375 - accuracy: 0.8451 - val_loss: 1.0455 - val_accuracy: 0.7052\n",
            "Epoch 21/500\n",
            "1563/1563 [==============================] - 6s 4ms/step - loss: 0.4200 - accuracy: 0.8511 - val_loss: 1.0199 - val_accuracy: 0.7167\n",
            "Epoch 22/500\n",
            "1563/1563 [==============================] - 6s 4ms/step - loss: 0.4054 - accuracy: 0.8559 - val_loss: 1.0930 - val_accuracy: 0.7085\n",
            "Epoch 23/500\n",
            "1563/1563 [==============================] - 6s 4ms/step - loss: 0.3865 - accuracy: 0.8614 - val_loss: 1.1297 - val_accuracy: 0.7107\n",
            "Epoch 24/500\n",
            "1563/1563 [==============================] - 6s 4ms/step - loss: 0.3915 - accuracy: 0.8607 - val_loss: 1.0845 - val_accuracy: 0.7012\n",
            "Epoch 25/500\n",
            "1563/1563 [==============================] - 6s 4ms/step - loss: 0.3715 - accuracy: 0.8665 - val_loss: 1.1643 - val_accuracy: 0.7049\n",
            "Epoch 26/500\n",
            "1563/1563 [==============================] - 6s 4ms/step - loss: 0.3636 - accuracy: 0.8699 - val_loss: 1.1358 - val_accuracy: 0.7076\n",
            "Epoch 27/500\n",
            "1563/1563 [==============================] - 6s 4ms/step - loss: 0.3576 - accuracy: 0.8738 - val_loss: 1.1774 - val_accuracy: 0.7022\n",
            "Epoch 28/500\n",
            "1563/1563 [==============================] - 6s 4ms/step - loss: 0.3507 - accuracy: 0.8768 - val_loss: 1.1807 - val_accuracy: 0.7020\n",
            "Epoch 29/500\n",
            "1563/1563 [==============================] - 6s 4ms/step - loss: 0.3326 - accuracy: 0.8815 - val_loss: 1.1877 - val_accuracy: 0.7034\n",
            "Epoch 30/500\n",
            "1563/1563 [==============================] - 6s 4ms/step - loss: 0.3247 - accuracy: 0.8851 - val_loss: 1.2301 - val_accuracy: 0.7041\n",
            "Epoch 31/500\n",
            "1563/1563 [==============================] - 6s 4ms/step - loss: 0.3222 - accuracy: 0.8858 - val_loss: 1.2523 - val_accuracy: 0.6986\n",
            "Epoch 32/500\n",
            "1563/1563 [==============================] - 6s 4ms/step - loss: 0.3153 - accuracy: 0.8910 - val_loss: 1.2780 - val_accuracy: 0.7003\n",
            "Epoch 33/500\n",
            "1563/1563 [==============================] - 6s 4ms/step - loss: 0.3079 - accuracy: 0.8916 - val_loss: 1.2667 - val_accuracy: 0.7060\n",
            "Epoch 34/500\n",
            "1563/1563 [==============================] - 6s 4ms/step - loss: 0.3027 - accuracy: 0.8930 - val_loss: 1.3386 - val_accuracy: 0.7047\n",
            "Epoch 35/500\n",
            "1563/1563 [==============================] - 6s 4ms/step - loss: 0.2897 - accuracy: 0.8973 - val_loss: 1.3057 - val_accuracy: 0.7019\n",
            "Epoch 36/500\n",
            "1563/1563 [==============================] - 6s 4ms/step - loss: 0.2948 - accuracy: 0.8961 - val_loss: 1.2857 - val_accuracy: 0.7017\n",
            "Epoch 37/500\n",
            "1563/1563 [==============================] - 6s 4ms/step - loss: 0.2897 - accuracy: 0.8973 - val_loss: 1.3360 - val_accuracy: 0.6984\n",
            "Epoch 38/500\n",
            "1563/1563 [==============================] - 6s 4ms/step - loss: 0.2847 - accuracy: 0.9011 - val_loss: 1.3509 - val_accuracy: 0.6976\n",
            "Epoch 39/500\n",
            "1563/1563 [==============================] - 6s 4ms/step - loss: 0.2808 - accuracy: 0.9014 - val_loss: 1.4152 - val_accuracy: 0.6978\n",
            "Epoch 40/500\n",
            "1563/1563 [==============================] - 6s 4ms/step - loss: 0.2765 - accuracy: 0.9044 - val_loss: 1.4545 - val_accuracy: 0.6975\n",
            "Epoch 41/500\n",
            "1563/1563 [==============================] - 6s 4ms/step - loss: 0.2709 - accuracy: 0.9068 - val_loss: 1.4012 - val_accuracy: 0.7005\n",
            "Epoch 42/500\n",
            "1563/1563 [==============================] - 6s 4ms/step - loss: 0.2684 - accuracy: 0.9060 - val_loss: 1.4250 - val_accuracy: 0.7039\n",
            "Epoch 43/500\n",
            "1563/1563 [==============================] - 6s 4ms/step - loss: 0.2657 - accuracy: 0.9067 - val_loss: 1.5120 - val_accuracy: 0.7010\n",
            "Epoch 44/500\n",
            "1563/1563 [==============================] - 6s 4ms/step - loss: 0.2565 - accuracy: 0.9090 - val_loss: 1.5010 - val_accuracy: 0.6981\n",
            "Epoch 45/500\n",
            "1563/1563 [==============================] - 6s 4ms/step - loss: 0.2488 - accuracy: 0.9127 - val_loss: 1.4742 - val_accuracy: 0.7029\n",
            "Epoch 46/500\n",
            "1563/1563 [==============================] - 6s 4ms/step - loss: 0.2497 - accuracy: 0.9125 - val_loss: 1.5718 - val_accuracy: 0.6959\n",
            "Epoch 00046: early stopping\n"
          ],
          "name": "stdout"
        },
        {
          "output_type": "execute_result",
          "data": {
            "text/plain": [
              "<tensorflow.python.keras.callbacks.History at 0x7f90ac2329b0>"
            ]
          },
          "metadata": {
            "tags": []
          },
          "execution_count": 19
        }
      ]
    },
    {
      "cell_type": "code",
      "metadata": {
        "id": "W-eIxCasDBil",
        "colab": {
          "base_uri": "https://localhost:8080/"
        },
        "outputId": "09a29f9e-f886-4dcb-b2d5-0f7532286203"
      },
      "source": [
        " c2f3.evaluate(X_test, y_test, batch_size = 32)"
      ],
      "execution_count": 20,
      "outputs": [
        {
          "output_type": "stream",
          "text": [
            "313/313 [==============================] - 1s 2ms/step - loss: 1.5718 - accuracy: 0.6959\n"
          ],
          "name": "stdout"
        },
        {
          "output_type": "execute_result",
          "data": {
            "text/plain": [
              "[1.5718008279800415, 0.695900022983551]"
            ]
          },
          "metadata": {
            "tags": []
          },
          "execution_count": 20
        }
      ]
    },
    {
      "cell_type": "markdown",
      "metadata": {
        "id": "5XYSVtC-DVsz"
      },
      "source": [
        "# **[DIY] Hidden layer에 따른 정확도**"
      ]
    },
    {
      "cell_type": "code",
      "metadata": {
        "id": "OiCc_UO2rGmp",
        "colab": {
          "base_uri": "https://localhost:8080/"
        },
        "outputId": "399523aa-9e96-4e05-cc00-d542e721b62f"
      },
      "source": [
        "score1=c2f2.evaluate(X_test, y_test, batch_size = 32)\n",
        "score2=c2f3.evaluate(X_test, y_test, batch_size = 32)\n",
        "losses = [score1[0],score2[0]]\n",
        "accuracies= [score1[1],score2[1]]\n",
        "losses,accuracies"
      ],
      "execution_count": 21,
      "outputs": [
        {
          "output_type": "stream",
          "text": [
            "313/313 [==============================] - 1s 3ms/step - loss: 1.6748 - accuracy: 0.6967\n",
            "313/313 [==============================] - 1s 2ms/step - loss: 1.5718 - accuracy: 0.6959\n"
          ],
          "name": "stdout"
        },
        {
          "output_type": "execute_result",
          "data": {
            "text/plain": [
              "([1.6748056411743164, 1.5718008279800415],\n",
              " [0.6966999769210815, 0.695900022983551])"
            ]
          },
          "metadata": {
            "tags": []
          },
          "execution_count": 21
        }
      ]
    },
    {
      "cell_type": "code",
      "metadata": {
        "id": "vZv6a2aVRw9j",
        "colab": {
          "base_uri": "https://localhost:8080/",
          "height": 269
        },
        "outputId": "d20c6223-1c94-4685-ae17-b94a239b20d8"
      },
      "source": [
        "x = np.arange(2)\n",
        "cnns = ['C2F2','C2F3']\n",
        "\n",
        "plt.bar(x, accuracies)\n",
        "plt.xticks(x, cnns)\n",
        "plt.ylim((.5,1.0))\n",
        "plt.show()"
      ],
      "execution_count": 22,
      "outputs": [
        {
          "output_type": "display_data",
          "data": {
            "image/png": "[encoded data removed]",
            "text/plain": [
              "<Figure size 432x288 with 1 Axes>"
            ]
          },
          "metadata": {
            "tags": [],
            "needs_background": "light"
          }
        }
      ]
    },
    {
      "cell_type": "markdown",
      "metadata": {
        "id": "63oPbpPejqOj"
      },
      "source": [
        "## Complex model\n",
        "- C4F5 model\n",
        "\n",
        "![cnn_c4f5.png](https://raw.githubusercontent.com/Redwoods/Py/master//pdm2020/my-note/py-tensorflow/images/cnn_c4f5.png)"
      ]
    },
    {
      "cell_type": "code",
      "metadata": {
        "id": "kSN8pq8DkQ6B"
      },
      "source": [
        "c4f5 = keras.models.Sequential([ \n",
        "    Conv2D(input_shape=(32,32,3),kernel_size=(3,3),strides=(1,1),filters= 64,padding='same',activation='relu'),\n",
        "    MaxPool2D(pool_size=(2,2), strides=(2,2)), \n",
        "    Conv2D(kernel_size=(3,3),strides=(1,1),filters= 128,padding='same',activation='relu'),\n",
        "    MaxPool2D(pool_size=(2,2), strides=(2,2)),\n",
        "    Conv2D(kernel_size=(3,3),strides=(1,1),filters= 256,padding='same',activation='relu'),\n",
        "    MaxPool2D(pool_size=(2,2), strides=(2,2)),\n",
        "    Conv2D(kernel_size=(3,3),strides=(1,1),filters= 512,padding='same',activation='relu'),\n",
        "    MaxPool2D(pool_size=(2,2), strides=(2,2)),\n",
        "    Flatten(), \n",
        "    keras.layers.Dense(128, activation='relu'),  \n",
        "    keras.layers.Dropout(0.25), \n",
        "    keras.layers.Dense(256, activation='relu'),  \n",
        "    keras.layers.Dropout(0.25), \n",
        "    keras.layers.Dense(512, activation='relu'),  \n",
        "    keras.layers.Dropout(0.25), \n",
        "    keras.layers.Dense(1024, activation='relu'),  \n",
        "    keras.layers.Dropout(0.25), \n",
        "    keras.layers.Dense(10, activation='softmax')\n",
        "])\n",
        "\n",
        "c4f5.compile(optimizer='adam',\n",
        "              loss='categorical_crossentropy',\n",
        "              metrics=['accuracy']) "
      ],
      "execution_count": 23,
      "outputs": []
    },
    {
      "cell_type": "code",
      "metadata": {
        "colab": {
          "base_uri": "https://localhost:8080/"
        },
        "id": "k7qWzpLRkQ6C",
        "outputId": "3e9390a5-0f78-470a-b9e5-f77e3fc9867d"
      },
      "source": [
        "c4f5.summary()"
      ],
      "execution_count": 24,
      "outputs": [
        {
          "output_type": "stream",
          "text": [
            "Model: \"sequential_2\"\n",
            "_________________________________________________________________\n",
            "Layer (type)                 Output Shape              Param #   \n",
            "=================================================================\n",
            "conv2d_4 (Conv2D)            (None, 32, 32, 64)        1792      \n",
            "_________________________________________________________________\n",
            "max_pooling2d_4 (MaxPooling2 (None, 16, 16, 64)        0         \n",
            "_________________________________________________________________\n",
            "conv2d_5 (Conv2D)            (None, 16, 16, 128)       73856     \n",
            "_________________________________________________________________\n",
            "max_pooling2d_5 (MaxPooling2 (None, 8, 8, 128)         0         \n",
            "_________________________________________________________________\n",
            "conv2d_6 (Conv2D)            (None, 8, 8, 256)         295168    \n",
            "_________________________________________________________________\n",
            "max_pooling2d_6 (MaxPooling2 (None, 4, 4, 256)         0         \n",
            "_________________________________________________________________\n",
            "conv2d_7 (Conv2D)            (None, 4, 4, 512)         1180160   \n",
            "_________________________________________________________________\n",
            "max_pooling2d_7 (MaxPooling2 (None, 2, 2, 512)         0         \n",
            "_________________________________________________________________\n",
            "flatten_2 (Flatten)          (None, 2048)              0         \n",
            "_________________________________________________________________\n",
            "dense_5 (Dense)              (None, 128)               262272    \n",
            "_________________________________________________________________\n",
            "dropout_3 (Dropout)          (None, 128)               0         \n",
            "_________________________________________________________________\n",
            "dense_6 (Dense)              (None, 256)               33024     \n",
            "_________________________________________________________________\n",
            "dropout_4 (Dropout)          (None, 256)               0         \n",
            "_________________________________________________________________\n",
            "dense_7 (Dense)              (None, 512)               131584    \n",
            "_________________________________________________________________\n",
            "dropout_5 (Dropout)          (None, 512)               0         \n",
            "_________________________________________________________________\n",
            "dense_8 (Dense)              (None, 1024)              525312    \n",
            "_________________________________________________________________\n",
            "dropout_6 (Dropout)          (None, 1024)              0         \n",
            "_________________________________________________________________\n",
            "dense_9 (Dense)              (None, 10)                10250     \n",
            "=================================================================\n",
            "Total params: 2,513,418\n",
            "Trainable params: 2,513,418\n",
            "Non-trainable params: 0\n",
            "_________________________________________________________________\n"
          ],
          "name": "stdout"
        }
      ]
    },
    {
      "cell_type": "code",
      "metadata": {
        "id": "-pKJWy-2kQ6C"
      },
      "source": [
        "cp_callback = callbacks.ModelCheckpoint(filepath=\"./cifar10_c4f5_best_weights.{epoch:03d}-{val_accuracy:.4f}.hdf5\", \n",
        "                              monitor='val_accuracy', verbose=0, save_best_only=True)\n",
        "es_callback = callbacks.EarlyStopping(monitor='val_accuracy', \n",
        "                            mode='max', verbose=1, patience=25)    # patience=10, 25, 50"
      ],
      "execution_count": 25,
      "outputs": []
    },
    {
      "cell_type": "code",
      "metadata": {
        "colab": {
          "base_uri": "https://localhost:8080/"
        },
        "id": "wKdgr9EskQ6C",
        "outputId": "6834a484-adad-45ae-b302-b4bb74b4502e"
      },
      "source": [
        "c4f5.fit(X_train, y_train, epochs=500, batch_size =32, \n",
        "         callbacks=[cp_callback, es_callback], \n",
        "         validation_data=(X_test,y_test))"
      ],
      "execution_count": 26,
      "outputs": [
        {
          "output_type": "stream",
          "text": [
            "Epoch 1/500\n",
            "1563/1563 [==============================] - 11s 7ms/step - loss: 1.6364 - accuracy: 0.3748 - val_loss: 1.3230 - val_accuracy: 0.5161\n",
            "Epoch 2/500\n",
            "1563/1563 [==============================] - 11s 7ms/step - loss: 1.2055 - accuracy: 0.5727 - val_loss: 1.0775 - val_accuracy: 0.6209\n",
            "Epoch 3/500\n",
            "1563/1563 [==============================] - 11s 7ms/step - loss: 1.0181 - accuracy: 0.6484 - val_loss: 0.9828 - val_accuracy: 0.6700\n",
            "Epoch 4/500\n",
            "1563/1563 [==============================] - 11s 7ms/step - loss: 0.8918 - accuracy: 0.6973 - val_loss: 0.9403 - val_accuracy: 0.6860\n",
            "Epoch 5/500\n",
            "1563/1563 [==============================] - 11s 7ms/step - loss: 0.8012 - accuracy: 0.7309 - val_loss: 0.8935 - val_accuracy: 0.6931\n",
            "Epoch 6/500\n",
            "1563/1563 [==============================] - 11s 7ms/step - loss: 0.7344 - accuracy: 0.7561 - val_loss: 0.8475 - val_accuracy: 0.7196\n",
            "Epoch 7/500\n",
            "1563/1563 [==============================] - 11s 7ms/step - loss: 0.6785 - accuracy: 0.7766 - val_loss: 0.8084 - val_accuracy: 0.7310\n",
            "Epoch 8/500\n",
            "1563/1563 [==============================] - 11s 7ms/step - loss: 0.6218 - accuracy: 0.7971 - val_loss: 0.8285 - val_accuracy: 0.7269\n",
            "Epoch 9/500\n",
            "1563/1563 [==============================] - 11s 7ms/step - loss: 0.5890 - accuracy: 0.8073 - val_loss: 0.8777 - val_accuracy: 0.7197\n",
            "Epoch 10/500\n",
            "1563/1563 [==============================] - 11s 7ms/step - loss: 0.5440 - accuracy: 0.8230 - val_loss: 0.8147 - val_accuracy: 0.7415\n",
            "Epoch 11/500\n",
            "1563/1563 [==============================] - 11s 7ms/step - loss: 0.5161 - accuracy: 0.8338 - val_loss: 0.8240 - val_accuracy: 0.7323\n",
            "Epoch 12/500\n",
            "1563/1563 [==============================] - 11s 7ms/step - loss: 0.4855 - accuracy: 0.8445 - val_loss: 0.8800 - val_accuracy: 0.7249\n",
            "Epoch 13/500\n",
            "1563/1563 [==============================] - 11s 7ms/step - loss: 0.4602 - accuracy: 0.8519 - val_loss: 0.8224 - val_accuracy: 0.7459\n",
            "Epoch 14/500\n",
            "1563/1563 [==============================] - 11s 7ms/step - loss: 0.4375 - accuracy: 0.8617 - val_loss: 0.8795 - val_accuracy: 0.7350\n",
            "Epoch 15/500\n",
            "1563/1563 [==============================] - 11s 7ms/step - loss: 0.4270 - accuracy: 0.8657 - val_loss: 0.8993 - val_accuracy: 0.7282\n",
            "Epoch 16/500\n",
            "1563/1563 [==============================] - 11s 7ms/step - loss: 0.4037 - accuracy: 0.8710 - val_loss: 0.8623 - val_accuracy: 0.7488\n",
            "Epoch 17/500\n",
            "1563/1563 [==============================] - 11s 7ms/step - loss: 0.3948 - accuracy: 0.8766 - val_loss: 0.9164 - val_accuracy: 0.7359\n",
            "Epoch 18/500\n",
            "1563/1563 [==============================] - 11s 7ms/step - loss: 0.3708 - accuracy: 0.8843 - val_loss: 0.9153 - val_accuracy: 0.7355\n",
            "Epoch 19/500\n",
            "1563/1563 [==============================] - 11s 7ms/step - loss: 0.3731 - accuracy: 0.8882 - val_loss: 0.8769 - val_accuracy: 0.7452\n",
            "Epoch 20/500\n",
            "1563/1563 [==============================] - 11s 7ms/step - loss: 0.3535 - accuracy: 0.8905 - val_loss: 0.9495 - val_accuracy: 0.7247\n",
            "Epoch 21/500\n",
            "1563/1563 [==============================] - 11s 7ms/step - loss: 0.3479 - accuracy: 0.8944 - val_loss: 0.9611 - val_accuracy: 0.7281\n",
            "Epoch 22/500\n",
            "1563/1563 [==============================] - 11s 7ms/step - loss: 0.3535 - accuracy: 0.8927 - val_loss: 0.9212 - val_accuracy: 0.7355\n",
            "Epoch 23/500\n",
            "1563/1563 [==============================] - 11s 7ms/step - loss: 0.3362 - accuracy: 0.8954 - val_loss: 0.9192 - val_accuracy: 0.7388\n",
            "Epoch 24/500\n",
            "1563/1563 [==============================] - 11s 7ms/step - loss: 0.3379 - accuracy: 0.8986 - val_loss: 0.9201 - val_accuracy: 0.7258\n",
            "Epoch 25/500\n",
            "1563/1563 [==============================] - 11s 7ms/step - loss: 0.3123 - accuracy: 0.9058 - val_loss: 1.0830 - val_accuracy: 0.7275\n",
            "Epoch 26/500\n",
            "1563/1563 [==============================] - 11s 7ms/step - loss: 0.3042 - accuracy: 0.9104 - val_loss: 0.9680 - val_accuracy: 0.7257\n",
            "Epoch 27/500\n",
            "1563/1563 [==============================] - 11s 7ms/step - loss: 0.3206 - accuracy: 0.9062 - val_loss: 0.9255 - val_accuracy: 0.7323\n",
            "Epoch 28/500\n",
            "1563/1563 [==============================] - 11s 7ms/step - loss: 0.2985 - accuracy: 0.9123 - val_loss: 0.9734 - val_accuracy: 0.7418\n",
            "Epoch 29/500\n",
            "1563/1563 [==============================] - 11s 7ms/step - loss: 0.2873 - accuracy: 0.9167 - val_loss: 0.9656 - val_accuracy: 0.7350\n",
            "Epoch 30/500\n",
            "1563/1563 [==============================] - 11s 7ms/step - loss: 0.3060 - accuracy: 0.9117 - val_loss: 1.1008 - val_accuracy: 0.7363\n",
            "Epoch 31/500\n",
            "1563/1563 [==============================] - 11s 7ms/step - loss: 0.2892 - accuracy: 0.9175 - val_loss: 1.0038 - val_accuracy: 0.7455\n",
            "Epoch 32/500\n",
            "1563/1563 [==============================] - 11s 7ms/step - loss: 0.2721 - accuracy: 0.9218 - val_loss: 1.0201 - val_accuracy: 0.7251\n",
            "Epoch 33/500\n",
            "1563/1563 [==============================] - 11s 7ms/step - loss: 0.2864 - accuracy: 0.9208 - val_loss: 0.9706 - val_accuracy: 0.7463\n",
            "Epoch 34/500\n",
            "1563/1563 [==============================] - 11s 7ms/step - loss: 0.2673 - accuracy: 0.9245 - val_loss: 1.0076 - val_accuracy: 0.7371\n",
            "Epoch 35/500\n",
            "1563/1563 [==============================] - 11s 7ms/step - loss: 0.2802 - accuracy: 0.9222 - val_loss: 0.9306 - val_accuracy: 0.7344\n",
            "Epoch 36/500\n",
            "1563/1563 [==============================] - 11s 7ms/step - loss: 0.2683 - accuracy: 0.9247 - val_loss: 0.9554 - val_accuracy: 0.7403\n",
            "Epoch 37/500\n",
            "1563/1563 [==============================] - 11s 7ms/step - loss: 0.2644 - accuracy: 0.9260 - val_loss: 1.0017 - val_accuracy: 0.7419\n",
            "Epoch 38/500\n",
            "1563/1563 [==============================] - 11s 7ms/step - loss: 0.2716 - accuracy: 0.9241 - val_loss: 1.0666 - val_accuracy: 0.7376\n",
            "Epoch 39/500\n",
            "1563/1563 [==============================] - 11s 7ms/step - loss: 0.2828 - accuracy: 0.9225 - val_loss: 1.0909 - val_accuracy: 0.7348\n",
            "Epoch 40/500\n",
            "1563/1563 [==============================] - 11s 7ms/step - loss: 0.2604 - accuracy: 0.9312 - val_loss: 1.0537 - val_accuracy: 0.7227\n",
            "Epoch 41/500\n",
            "1563/1563 [==============================] - 11s 7ms/step - loss: 0.2732 - accuracy: 0.9261 - val_loss: 1.0396 - val_accuracy: 0.7460\n",
            "Epoch 00041: early stopping\n"
          ],
          "name": "stdout"
        },
        {
          "output_type": "execute_result",
          "data": {
            "text/plain": [
              "<tensorflow.python.keras.callbacks.History at 0x7f90ac2b0f98>"
            ]
          },
          "metadata": {
            "tags": []
          },
          "execution_count": 26
        }
      ]
    },
    {
      "cell_type": "code",
      "metadata": {
        "colab": {
          "base_uri": "https://localhost:8080/"
        },
        "id": "jfwYHBexkQ6D",
        "outputId": "b3875f1b-cdf7-4206-f782-7a23b3d0973f"
      },
      "source": [
        " c4f5.evaluate(X_test, y_test, batch_size = 32)"
      ],
      "execution_count": 27,
      "outputs": [
        {
          "output_type": "stream",
          "text": [
            "313/313 [==============================] - 1s 3ms/step - loss: 1.0396 - accuracy: 0.7460\n"
          ],
          "name": "stdout"
        },
        {
          "output_type": "execute_result",
          "data": {
            "text/plain": [
              "[1.03964102268219, 0.7459999918937683]"
            ]
          },
          "metadata": {
            "tags": []
          },
          "execution_count": 27
        }
      ]
    },
    {
      "cell_type": "markdown",
      "metadata": {
        "id": "3Ub3qGnjs4EI"
      },
      "source": [
        "## Graph of loss and accuracy\n",
        "- model: C4f5"
      ]
    },
    {
      "cell_type": "code",
      "metadata": {
        "id": "NiSAsgsNtUte"
      },
      "source": [
        "c4f5 = keras.models.Sequential([ \n",
        "    Conv2D(input_shape=(32,32,3),kernel_size=(3,3),strides=(1,1),filters= 64,padding='same',activation='relu'),\n",
        "    MaxPool2D(pool_size=(2,2), strides=(2,2)), \n",
        "    Conv2D(kernel_size=(3,3),strides=(1,1),filters= 128,padding='same',activation='relu'),\n",
        "    MaxPool2D(pool_size=(2,2), strides=(2,2)),\n",
        "    Conv2D(kernel_size=(3,3),strides=(1,1),filters= 256,padding='same',activation='relu'),\n",
        "    MaxPool2D(pool_size=(2,2), strides=(2,2)),\n",
        "    Conv2D(kernel_size=(3,3),strides=(1,1),filters= 512,padding='same',activation='relu'),\n",
        "    MaxPool2D(pool_size=(2,2), strides=(2,2)),\n",
        "    Flatten(), \n",
        "    keras.layers.Dense(128, activation='relu'),  \n",
        "    keras.layers.Dropout(0.25), \n",
        "    keras.layers.Dense(256, activation='relu'),  \n",
        "    keras.layers.Dropout(0.25), \n",
        "    keras.layers.Dense(512, activation='relu'),  \n",
        "    keras.layers.Dropout(0.25), \n",
        "    keras.layers.Dense(1024, activation='relu'),  \n",
        "    keras.layers.Dropout(0.25), \n",
        "    keras.layers.Dense(10, activation='softmax')\n",
        "])\n",
        "\n",
        "c4f5.compile(optimizer='adam',\n",
        "              loss='categorical_crossentropy',\n",
        "              metrics=['accuracy'])"
      ],
      "execution_count": 28,
      "outputs": []
    },
    {
      "cell_type": "code",
      "metadata": {
        "id": "-Yfqv2AqtUtz",
        "colab": {
          "base_uri": "https://localhost:8080/"
        },
        "outputId": "b9fb8c37-4885-40a9-9565-ff2541363b4a"
      },
      "source": [
        "epoch = 41\n",
        "hist = c4f5.fit(X_train, y_train, \n",
        "         epochs = epoch, \n",
        "         batch_size =32, \n",
        "         validation_data=(X_test,y_test))"
      ],
      "execution_count": 29,
      "outputs": [
        {
          "output_type": "stream",
          "text": [
            "Epoch 1/41\n",
            "1563/1563 [==============================] - 11s 7ms/step - loss: 1.6639 - accuracy: 0.3683 - val_loss: 1.2949 - val_accuracy: 0.5226\n",
            "Epoch 2/41\n",
            "1563/1563 [==============================] - 11s 7ms/step - loss: 1.2441 - accuracy: 0.5541 - val_loss: 1.1150 - val_accuracy: 0.6078\n",
            "Epoch 3/41\n",
            "1563/1563 [==============================] - 11s 7ms/step - loss: 1.0505 - accuracy: 0.6347 - val_loss: 0.9686 - val_accuracy: 0.6707\n",
            "Epoch 4/41\n",
            "1563/1563 [==============================] - 11s 7ms/step - loss: 0.9251 - accuracy: 0.6847 - val_loss: 0.9443 - val_accuracy: 0.6780\n",
            "Epoch 5/41\n",
            "1563/1563 [==============================] - 11s 7ms/step - loss: 0.8375 - accuracy: 0.7175 - val_loss: 0.9033 - val_accuracy: 0.6994\n",
            "Epoch 6/41\n",
            "1563/1563 [==============================] - 11s 7ms/step - loss: 0.7636 - accuracy: 0.7447 - val_loss: 0.8905 - val_accuracy: 0.7058\n",
            "Epoch 7/41\n",
            "1563/1563 [==============================] - 11s 7ms/step - loss: 0.7040 - accuracy: 0.7675 - val_loss: 0.8964 - val_accuracy: 0.7013\n",
            "Epoch 8/41\n",
            "1563/1563 [==============================] - 11s 7ms/step - loss: 0.6557 - accuracy: 0.7830 - val_loss: 0.8450 - val_accuracy: 0.7190\n",
            "Epoch 9/41\n",
            "1563/1563 [==============================] - 11s 7ms/step - loss: 0.6131 - accuracy: 0.7992 - val_loss: 0.8728 - val_accuracy: 0.7188\n",
            "Epoch 10/41\n",
            "1563/1563 [==============================] - 11s 7ms/step - loss: 0.5763 - accuracy: 0.8124 - val_loss: 0.8180 - val_accuracy: 0.7356\n",
            "Epoch 11/41\n",
            "1563/1563 [==============================] - 11s 7ms/step - loss: 0.5342 - accuracy: 0.8252 - val_loss: 0.8606 - val_accuracy: 0.7229\n",
            "Epoch 12/41\n",
            "1563/1563 [==============================] - 11s 7ms/step - loss: 0.5051 - accuracy: 0.8388 - val_loss: 0.8540 - val_accuracy: 0.7361\n",
            "Epoch 13/41\n",
            "1563/1563 [==============================] - 11s 7ms/step - loss: 0.4782 - accuracy: 0.8473 - val_loss: 0.9043 - val_accuracy: 0.7248\n",
            "Epoch 14/41\n",
            "1563/1563 [==============================] - 11s 7ms/step - loss: 0.4561 - accuracy: 0.8546 - val_loss: 0.8914 - val_accuracy: 0.7297\n",
            "Epoch 15/41\n",
            "1563/1563 [==============================] - 11s 7ms/step - loss: 0.4434 - accuracy: 0.8591 - val_loss: 0.9349 - val_accuracy: 0.7307\n",
            "Epoch 16/41\n",
            "1563/1563 [==============================] - 11s 7ms/step - loss: 0.4281 - accuracy: 0.8655 - val_loss: 0.9560 - val_accuracy: 0.7308\n",
            "Epoch 17/41\n",
            "1563/1563 [==============================] - 11s 7ms/step - loss: 0.4150 - accuracy: 0.8698 - val_loss: 0.9084 - val_accuracy: 0.7301\n",
            "Epoch 18/41\n",
            "1563/1563 [==============================] - 11s 7ms/step - loss: 0.3832 - accuracy: 0.8814 - val_loss: 0.9131 - val_accuracy: 0.7281\n",
            "Epoch 19/41\n",
            "1563/1563 [==============================] - 11s 7ms/step - loss: 0.3637 - accuracy: 0.8871 - val_loss: 0.9604 - val_accuracy: 0.7281\n",
            "Epoch 20/41\n",
            "1563/1563 [==============================] - 11s 7ms/step - loss: 0.3774 - accuracy: 0.8840 - val_loss: 0.9253 - val_accuracy: 0.7364\n",
            "Epoch 21/41\n",
            "1563/1563 [==============================] - 11s 7ms/step - loss: 0.3603 - accuracy: 0.8912 - val_loss: 1.0233 - val_accuracy: 0.7254\n",
            "Epoch 22/41\n",
            "1563/1563 [==============================] - 11s 7ms/step - loss: 0.3460 - accuracy: 0.8953 - val_loss: 0.9758 - val_accuracy: 0.7310\n",
            "Epoch 23/41\n",
            "1563/1563 [==============================] - 11s 7ms/step - loss: 0.3423 - accuracy: 0.8970 - val_loss: 0.9756 - val_accuracy: 0.7316\n",
            "Epoch 24/41\n",
            "1563/1563 [==============================] - 11s 7ms/step - loss: 0.3324 - accuracy: 0.8991 - val_loss: 0.9511 - val_accuracy: 0.7225\n",
            "Epoch 25/41\n",
            "1563/1563 [==============================] - 11s 7ms/step - loss: 0.3301 - accuracy: 0.9025 - val_loss: 1.0166 - val_accuracy: 0.7210\n",
            "Epoch 26/41\n",
            "1563/1563 [==============================] - 11s 7ms/step - loss: 0.3110 - accuracy: 0.9081 - val_loss: 0.9970 - val_accuracy: 0.7285\n",
            "Epoch 27/41\n",
            "1563/1563 [==============================] - 11s 7ms/step - loss: 0.3091 - accuracy: 0.9110 - val_loss: 1.0770 - val_accuracy: 0.7193\n",
            "Epoch 28/41\n",
            "1563/1563 [==============================] - 11s 7ms/step - loss: 0.3022 - accuracy: 0.9116 - val_loss: 0.9892 - val_accuracy: 0.7292\n",
            "Epoch 29/41\n",
            "1563/1563 [==============================] - 11s 7ms/step - loss: 0.3077 - accuracy: 0.9115 - val_loss: 1.0434 - val_accuracy: 0.7207\n",
            "Epoch 30/41\n",
            "1563/1563 [==============================] - 11s 7ms/step - loss: 0.2938 - accuracy: 0.9157 - val_loss: 0.9872 - val_accuracy: 0.7268\n",
            "Epoch 31/41\n",
            "1563/1563 [==============================] - 11s 7ms/step - loss: 0.3404 - accuracy: 0.9036 - val_loss: 1.0191 - val_accuracy: 0.7186\n",
            "Epoch 32/41\n",
            "1563/1563 [==============================] - 11s 7ms/step - loss: 0.3168 - accuracy: 0.9109 - val_loss: 1.0726 - val_accuracy: 0.6595\n",
            "Epoch 33/41\n",
            "1563/1563 [==============================] - 11s 7ms/step - loss: 0.3210 - accuracy: 0.9063 - val_loss: 1.0779 - val_accuracy: 0.7396\n",
            "Epoch 34/41\n",
            "1563/1563 [==============================] - 11s 7ms/step - loss: 0.3379 - accuracy: 0.9055 - val_loss: 1.0797 - val_accuracy: 0.7157\n",
            "Epoch 35/41\n",
            "1563/1563 [==============================] - 11s 7ms/step - loss: 0.2777 - accuracy: 0.9230 - val_loss: 1.0233 - val_accuracy: 0.7350\n",
            "Epoch 36/41\n",
            "1563/1563 [==============================] - 11s 7ms/step - loss: 0.2634 - accuracy: 0.9259 - val_loss: 1.0374 - val_accuracy: 0.7228\n",
            "Epoch 37/41\n",
            "1563/1563 [==============================] - 11s 7ms/step - loss: 0.2902 - accuracy: 0.9183 - val_loss: 1.1021 - val_accuracy: 0.7290\n",
            "Epoch 38/41\n",
            "1563/1563 [==============================] - 11s 7ms/step - loss: 0.2720 - accuracy: 0.9236 - val_loss: 1.1651 - val_accuracy: 0.7118\n",
            "Epoch 39/41\n",
            "1563/1563 [==============================] - 11s 7ms/step - loss: 0.2751 - accuracy: 0.9248 - val_loss: 1.0421 - val_accuracy: 0.7236\n",
            "Epoch 40/41\n",
            "1563/1563 [==============================] - 11s 7ms/step - loss: 0.2748 - accuracy: 0.9231 - val_loss: 1.0771 - val_accuracy: 0.7329\n",
            "Epoch 41/41\n",
            "1563/1563 [==============================] - 11s 7ms/step - loss: 0.2682 - accuracy: 0.9256 - val_loss: 1.1103 - val_accuracy: 0.7206\n"
          ],
          "name": "stdout"
        }
      ]
    },
    {
      "cell_type": "code",
      "metadata": {
        "id": "WNmXXLhvWUiK",
        "colab": {
          "base_uri": "https://localhost:8080/",
          "height": 313
        },
        "outputId": "8d1d9335-dd70-4eaa-ecdd-20953500eff5"
      },
      "source": [
        "# Plot loass and accuracy\n",
        "# Plot training & validation accuracy values\n",
        "epochs = epoch\n",
        "loss_list = [100 * i for i in hist.history['loss']]\n",
        "acc_list = [100 * i for i in hist.history['accuracy']]\n",
        "plt.plot(range(1,epochs+1),loss_list) \n",
        "plt.plot(range(1,epochs+1),acc_list) \n",
        "plt.title('Model loss & accuracy')\n",
        "plt.ylabel('Accuracy (%)')\n",
        "plt.xlabel('Epoch')\n",
        "plt.legend(['loss', 'accuracy'], loc='center left')"
      ],
      "execution_count": 30,
      "outputs": [
        {
          "output_type": "execute_result",
          "data": {
            "text/plain": [
              "<matplotlib.legend.Legend at 0x7f90a4210160>"
            ]
          },
          "metadata": {
            "tags": []
          },
          "execution_count": 30
        },
        {
          "output_type": "display_data",
          "data": {
            "image/png": "[encoded data removed]",
            "text/plain": [
              "<Figure size 432x288 with 1 Axes>"
            ]
          },
          "metadata": {
            "tags": [],
            "needs_background": "light"
          }
        }
      ]
    },
    {
      "cell_type": "code",
      "metadata": {
        "id": "0wNssVPhu_8m"
      },
      "source": [
        "vloss_list = [100 * i for i in hist.history['val_loss']]\n",
        "vacc_list = [100 * i for i in hist.history['val_accuracy']]"
      ],
      "execution_count": 31,
      "outputs": []
    },
    {
      "cell_type": "code",
      "metadata": {
        "id": "TX5Uzro4vjaY",
        "colab": {
          "base_uri": "https://localhost:8080/",
          "height": 313
        },
        "outputId": "fd5519a3-10d4-484f-9927-7c16c4b9bc72"
      },
      "source": [
        "plt.plot(range(1,epochs+1),vloss_list)  \n",
        "plt.plot(range(1,epochs+1),vacc_list)  \n",
        "plt.title('Model val_loss & val_accuracy')\n",
        "plt.ylabel('Accuracy (%)')\n",
        "plt.xlabel('Epoch')\n",
        "plt.legend(['val_loss', 'val_accuracy'], loc='center left')"
      ],
      "execution_count": 32,
      "outputs": [
        {
          "output_type": "execute_result",
          "data": {
            "text/plain": [
              "<matplotlib.legend.Legend at 0x7f90a4566588>"
            ]
          },
          "metadata": {
            "tags": []
          },
          "execution_count": 32
        },
        {
          "output_type": "display_data",
          "data": {
            "image/png": "[encoded data removed]",
            "text/plain": [
              "<Figure size 432x288 with 1 Axes>"
            ]
          },
          "metadata": {
            "tags": [],
            "needs_background": "light"
          }
        }
      ]
    },
    {
      "cell_type": "code",
      "metadata": {
        "id": "blALTNdyvjVK",
        "colab": {
          "base_uri": "https://localhost:8080/",
          "height": 313
        },
        "outputId": "a4d7bc3a-33b6-46ad-8b7d-52a86361c958"
      },
      "source": [
        "plt.plot(range(1,epochs+1),acc_list)  \n",
        "plt.plot(range(1,epochs+1),vacc_list)  \n",
        "plt.plot(np.argmax(np.array(vacc_list))+1,vacc_list[np.argmax(np.array(vacc_list))], 'r*') \n",
        "plt.title('accuracy vs. val_accuracy, best = ' +str(vacc_list[np.argmax(np.array(vacc_list))]))\n",
        "plt.ylabel('Accuracy (%)')\n",
        "plt.xlabel('Epoch')\n",
        "plt.legend(['accuracy','val_accuracy','best']) #, loc='center bottom')\n"
      ],
      "execution_count": 33,
      "outputs": [
        {
          "output_type": "execute_result",
          "data": {
            "text/plain": [
              "<matplotlib.legend.Legend at 0x7f910a2a2208>"
            ]
          },
          "metadata": {
            "tags": []
          },
          "execution_count": 33
        },
        {
          "output_type": "display_data",
          "data": {
            "image/png": "[encoded data removed]",
            "text/plain": [
              "<Figure size 432x288 with 1 Axes>"
            ]
          },
          "metadata": {
            "tags": [],
            "needs_background": "light"
          }
        }
      ]
    },
    {
      "cell_type": "markdown",
      "metadata": {
        "id": "SQ3M6vRVXG78"
      },
      "source": [
        "## cifar10 모델 학습\n",
        "> https://gruuuuu.github.io/machine-learning/cifar10-cnn/#"
      ]
    },
    {
      "cell_type": "markdown",
      "metadata": {
        "id": "gBPKMI4y3fsa"
      },
      "source": [
        "## 모형의 저장\n",
        "\n",
        "- 트레이닝이 끝난 모형은 save 메서드로 가중치와 함께 hdf5 형식으로 저장\n",
        "- load 명령으로 불러 사용"
      ]
    },
    {
      "cell_type": "code",
      "metadata": {
        "id": "KCfbQl2v3fsa"
      },
      "source": [
        "# c2f2.save('fmnist_cnn_best.hdf5')"
      ],
      "execution_count": null,
      "outputs": []
    },
    {
      "cell_type": "code",
      "metadata": {
        "id": "b7-ysIVy3fse",
        "colab": {
          "base_uri": "https://localhost:8080/"
        },
        "outputId": "3c7d64aa-e371-47d5-9666-d59dd0437c68"
      },
      "source": [
        "from keras.models import load_model\n",
        "\n",
        "model = load_model('cifar10_c4f5_best_weights.016-0.7488.hdf5')\n",
        "model.evaluate(X_test, y_test, batch_size=32)"
      ],
      "execution_count": 34,
      "outputs": [
        {
          "output_type": "stream",
          "text": [
            "313/313 [==============================] - 1s 4ms/step - loss: 0.8623 - accuracy: 0.7488\n"
          ],
          "name": "stdout"
        },
        {
          "output_type": "execute_result",
          "data": {
            "text/plain": [
              "[0.862330973148346, 0.7487999796867371]"
            ]
          },
          "metadata": {
            "tags": []
          },
          "execution_count": 34
        }
      ]
    },
    {
      "cell_type": "markdown",
      "metadata": {
        "id": "KF3UzDJotZrh"
      },
      "source": [
        "## Confusion matrix"
      ]
    },
    {
      "cell_type": "code",
      "metadata": {
        "id": "RV1IaOyeu6Em"
      },
      "source": [
        "from sklearn.metrics import confusion_matrix\n",
        "import seaborn as sns"
      ],
      "execution_count": 35,
      "outputs": []
    },
    {
      "cell_type": "code",
      "metadata": {
        "id": "Bxs1eC-cuO0Y"
      },
      "source": [
        "predictions = model.predict(X_test)"
      ],
      "execution_count": 36,
      "outputs": []
    },
    {
      "cell_type": "code",
      "metadata": {
        "colab": {
          "base_uri": "https://localhost:8080/"
        },
        "id": "6Tqhg-UJujo5",
        "outputId": "3138845f-a116-417f-df9b-672bb708a0f9"
      },
      "source": [
        "predictions.shape"
      ],
      "execution_count": 37,
      "outputs": [
        {
          "output_type": "execute_result",
          "data": {
            "text/plain": [
              "(10000, 10)"
            ]
          },
          "metadata": {
            "tags": []
          },
          "execution_count": 37
        }
      ]
    },
    {
      "cell_type": "code",
      "metadata": {
        "colab": {
          "base_uri": "https://localhost:8080/"
        },
        "id": "nZch1JFSufoR",
        "outputId": "1c48b117-1c72-49e6-8968-0a18a1a28ba0"
      },
      "source": [
        "predictions0 = np.argmax(predictions, axis=1)\n",
        "predictions0.shape"
      ],
      "execution_count": 38,
      "outputs": [
        {
          "output_type": "execute_result",
          "data": {
            "text/plain": [
              "(10000,)"
            ]
          },
          "metadata": {
            "tags": []
          },
          "execution_count": 38
        }
      ]
    },
    {
      "cell_type": "code",
      "metadata": {
        "id": "hiPMQeYXt12l"
      },
      "source": [
        "cm = confusion_matrix(y_test0, predictions0)"
      ],
      "execution_count": 39,
      "outputs": []
    },
    {
      "cell_type": "code",
      "metadata": {
        "id": "YITaGwYjvatc"
      },
      "source": [
        "class_names = ['airplane', 'automobile', 'bird', 'cat', 'deer', 'dog', 'frog', 'horse', 'ship', 'truck']"
      ],
      "execution_count": 40,
      "outputs": []
    },
    {
      "cell_type": "code",
      "metadata": {
        "colab": {
          "base_uri": "https://localhost:8080/",
          "height": 551
        },
        "id": "2qGHMNU3u8ut",
        "outputId": "c997a120-db85-4204-adc2-017b2dc92f9c"
      },
      "source": [
        "plt.figure(figsize=(9,9))\n",
        "sns.heatmap(cm, cbar=False, xticklabels=class_names, yticklabels=class_names, fmt='d', annot=True, cmap=plt.cm.coolwarm)\n",
        "plt.xlabel('Predicted')\n",
        "plt.ylabel('Actual')\n",
        "plt.show()"
      ],
      "execution_count": 43,
      "outputs": [
        {
          "output_type": "display_data",
          "data": {
            "image/png": "[encoded data removed]",
            "text/plain": [
              "<Figure size 648x648 with 1 Axes>"
            ]
          },
          "metadata": {
            "tags": [],
            "needs_background": "light"
          }
        }
      ]
    },
    {
      "cell_type": "markdown",
      "metadata": {
        "id": "0n2PfCMBh2ju"
      },
      "source": [
        "# State of current scores of cifar-10\n",
        "\n",
        "> https://paperswithcode.com/sota/image-classification-on-cifar-10"
      ]
    },
    {
      "cell_type": "markdown",
      "metadata": {
        "id": "7abyx_2n0_7d"
      },
      "source": [
        "## Transfer learning on cifar-10\n",
        "\n",
        "- https://medium.com/@andrew.dabydeen/transfer-learning-using-resnet50-and-cifar-10-6242ed4b4245\n",
        "\n",
        "- https://medium.com/swlh/comparative-analysis-of-cifar-10-image-classification-transfer-learning-vs-user-defined-cnns-e673685d925e\n",
        "\n",
        "- https://medium.com/swlh/hands-on-the-cifar-10-dataset-with-transfer-learning-2e768fd6c318\n",
        "\n",
        "- https://medium.com/analytics-vidhya/the-transfer-learning-experience-with-vgg16-and-cifar-10-dataset-9b25b306a23f"
      ]
    },
    {
      "cell_type": "code",
      "metadata": {
        "id": "o5iFioeMiAHE"
      },
      "source": [
        ""
      ],
      "execution_count": null,
      "outputs": []
    }
  ]
}