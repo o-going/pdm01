{
  "nbformat": 4,
  "nbformat_minor": 0,
  "metadata": {
    "colab": {
      "name": "tf2_3_mnist_NN.ipynb",
      "provenance": [],
      "collapsed_sections": [],
      "include_colab_link": true
    },
    "kernelspec": {
      "name": "python3",
      "display_name": "Python 3"
    },
    "accelerator": "GPU"
  },
  "cells": [
    {
      "cell_type": "markdown",
      "metadata": {
        "id": "view-in-github",
        "colab_type": "text"
      },
      "source": [
        "<a href=\"https://colab.research.google.com/github/o-going/pdm01/blob/master/py-tensorflow/tf2_3_mnist_NN.ipynb\" target=\"_parent\"><img src=\"https://colab.research.google.com/assets/colab-badge.svg\" alt=\"Open In Colab\"/></a>"
      ]
    },
    {
      "cell_type": "markdown",
      "metadata": {
        "id": "gq81W1V3PkOY"
      },
      "source": [
        "## Keras example: mnist analysisby simple NN (Neural network)\n",
        "\n",
        "- Keras was designed to easily use the famous deep-learning frameworks; tensorflow, tenano. \n",
        "- Keras provides an easy and convenient way to build deep learning models.\n",
        "\n",
        "    - Keras is an open source python library that enables you to easily build Deep Neural Networks. \n",
        "    - This library is implemented in TensorFlow 2.0.\n",
        "    - Tensorflow and Pytorch are the most used numerical platforms in Python to build Deep Learning algorithms.\n"
      ]
    },
    {
      "cell_type": "code",
      "metadata": {
        "id": "8GgGzPXPVyfa",
        "colab": {
          "base_uri": "https://localhost:8080/"
        },
        "outputId": "dfa924ea-4588-4934-ba86-9d2cbc396b73"
      },
      "source": [
        "import numpy as np\n",
        "import tensorflow as tf\n",
        "from tensorflow import keras\n",
        "import pandas as pd\n",
        "import matplotlib.pyplot as plt\n",
        "%matplotlib inline\n",
        "\n",
        "print(tf.__version__)"
      ],
      "execution_count": 3,
      "outputs": [
        {
          "output_type": "stream",
          "text": [
            "2.3.0\n"
          ],
          "name": "stdout"
        }
      ]
    },
    {
      "cell_type": "code",
      "metadata": {
        "id": "BDbYHPtT3fqH",
        "colab": {
          "base_uri": "https://localhost:8080/"
        },
        "outputId": "2155efec-aa53-41f3-9e5a-22d01093e016"
      },
      "source": [
        "%%time\n",
        "from keras.datasets import mnist\n",
        "(X_train0, y_train0), (X_test0, y_test0) = mnist.load_data()"
      ],
      "execution_count": 4,
      "outputs": [
        {
          "output_type": "stream",
          "text": [
            "Downloading data from https://storage.googleapis.com/tensorflow/tf-keras-datasets/mnist.npz\n",
            "11493376/11490434 [==============================] - 0s 0us/step\n",
            "CPU times: user 350 ms, sys: 70.1 ms, total: 420 ms\n",
            "Wall time: 629 ms\n"
          ],
          "name": "stdout"
        }
      ]
    },
    {
      "cell_type": "code",
      "metadata": {
        "id": "Z12GoOpw3fqW",
        "colab": {
          "base_uri": "https://localhost:8080/"
        },
        "outputId": "055a779f-abd7-4d78-e3e2-b2fa06e4f664"
      },
      "source": [
        "print(X_train0.shape, X_train0.dtype)\n",
        "print(y_train0.shape, y_train0.dtype)\n",
        "print(X_test0.shape, X_test0.dtype)\n",
        "print(y_test0.shape, y_test0.dtype)"
      ],
      "execution_count": 5,
      "outputs": [
        {
          "output_type": "stream",
          "text": [
            "(60000, 28, 28) uint8\n",
            "(60000,) uint8\n",
            "(10000, 28, 28) uint8\n",
            "(10000,) uint8\n"
          ],
          "name": "stdout"
        }
      ]
    },
    {
      "cell_type": "code",
      "metadata": {
        "id": "_NuYHtvPPWNE",
        "colab": {
          "base_uri": "https://localhost:8080/",
          "height": 286
        },
        "outputId": "25cdc7f6-23bd-4e4c-a51a-7c5b86d5b3cb"
      },
      "source": [
        "# display one random image from the training set:\n",
        "class_names = [\"0\",\"1\",\"2\",\"3\",\"4\",\"5\",\"6\",\"7\",\"8\",\"9\"]\n",
        "\n",
        "idx = np.random.randint(0, X_train0.shape[0])\n",
        "print(idx)\n",
        "image = X_train0[idx]\n",
        "plt.imshow(image) #, cmap=plt.get_cmap('gray'))\n",
        "plt.title(class_names[y_train0[idx]])\n",
        "plt.xticks([])\n",
        "plt.yticks([])\n",
        "plt.show()"
      ],
      "execution_count": 6,
      "outputs": [
        {
          "output_type": "stream",
          "text": [
            "44872\n"
          ],
          "name": "stdout"
        },
        {
          "output_type": "display_data",
          "data": {
            "image/png": "[encoded data removed]",
            "text/plain": [
              "<Figure size 432x288 with 1 Axes>"
            ]
          },
          "metadata": {
            "tags": []
          }
        }
      ]
    },
    {
      "cell_type": "markdown",
      "metadata": {
        "id": "b_DqSJl3PWNH"
      },
      "source": [
        "### Show images of numbers"
      ]
    },
    {
      "cell_type": "code",
      "metadata": {
        "id": "C1JAXeMzPWNI",
        "colab": {
          "base_uri": "https://localhost:8080/",
          "height": 505
        },
        "outputId": "7e7394d8-c23a-4707-a643-556fee28e46a"
      },
      "source": [
        "fig = plt.figure(figsize=(10,6))\n",
        "for i in range(10):\n",
        "    plt.subplot(2, 5, i+1)\n",
        "    num0_9 = X_train0[y_train0 == i]\n",
        "    print(num0_9.shape)\n",
        "    plt.imshow(num0_9[0]) #, cmap='gray') #, interpolation='none')\n",
        "    plt.title(\"Class %d\" % (i))\n",
        "    plt.xticks([])\n",
        "    plt.yticks([])\n"
      ],
      "execution_count": 7,
      "outputs": [
        {
          "output_type": "stream",
          "text": [
            "(5923, 28, 28)\n",
            "(6742, 28, 28)\n",
            "(5958, 28, 28)\n",
            "(6131, 28, 28)\n",
            "(5842, 28, 28)\n",
            "(5421, 28, 28)\n",
            "(5918, 28, 28)\n",
            "(6265, 28, 28)\n",
            "(5851, 28, 28)\n",
            "(5949, 28, 28)\n"
          ],
          "name": "stdout"
        },
        {
          "output_type": "display_data",
          "data": {
            "image/png": "[encoded data removed]",
            "text/plain": [
              "<Figure size 720x432 with 10 Axes>"
            ]
          },
          "metadata": {
            "tags": []
          }
        }
      ]
    },
    {
      "cell_type": "markdown",
      "metadata": {
        "id": "7bxCq_2fPWNO"
      },
      "source": [
        "### 데이터를 float 타입으로 바꾸고 스케일링한다.\n",
        "- 2차원 영상을 1차원 벡터로 변환\n",
        "- (28,28) => (784,)\n",
        "- Scaling: (0 ~ 255)/255.0"
      ]
    },
    {
      "cell_type": "code",
      "metadata": {
        "id": "W-VqQgXvPWNP",
        "colab": {
          "base_uri": "https://localhost:8080/"
        },
        "outputId": "43c09ef0-3d7f-4f8e-c963-cb60edfc9ac5"
      },
      "source": [
        "X_train = X_train0.reshape(60000, 784).astype('float32') / 255.0\n",
        "X_test = X_test0.reshape(10000, 784).astype('float32') / 255.0\n",
        "print(X_train.shape, X_train.dtype)\n",
        "print(X_test.shape, X_test.dtype)"
      ],
      "execution_count": 8,
      "outputs": [
        {
          "output_type": "stream",
          "text": [
            "(60000, 784) float32\n",
            "(10000, 784) float32\n"
          ],
          "name": "stdout"
        }
      ]
    },
    {
      "cell_type": "code",
      "metadata": {
        "id": "DQun3xjytOba",
        "colab": {
          "base_uri": "https://localhost:8080/"
        },
        "outputId": "ec3a1e47-f9b0-4b8a-a59e-862d972a2a92"
      },
      "source": [
        "print(X_train0.shape, X_train.shape)"
      ],
      "execution_count": 9,
      "outputs": [
        {
          "output_type": "stream",
          "text": [
            "(60000, 28, 28) (60000, 784)\n"
          ],
          "name": "stdout"
        }
      ]
    },
    {
      "cell_type": "markdown",
      "metadata": {
        "id": "RC7TUw7YPWNS"
      },
      "source": [
        "### y 데이터는 One-Hot-Encoding 을 한다."
      ]
    },
    {
      "cell_type": "code",
      "metadata": {
        "id": "SNVNKtOWPWNT",
        "colab": {
          "base_uri": "https://localhost:8080/"
        },
        "outputId": "e036ae4f-c12d-4023-f607-2838a14af2c1"
      },
      "source": [
        "y_train0[:5]"
      ],
      "execution_count": 10,
      "outputs": [
        {
          "output_type": "execute_result",
          "data": {
            "text/plain": [
              "array([5, 0, 4, 1, 9], dtype=uint8)"
            ]
          },
          "metadata": {
            "tags": []
          },
          "execution_count": 10
        }
      ]
    },
    {
      "cell_type": "code",
      "metadata": {
        "id": "jVlBVEPGPWNW",
        "colab": {
          "base_uri": "https://localhost:8080/"
        },
        "outputId": "01d799cf-0b1f-4ecd-e210-ba33776424b3"
      },
      "source": [
        "# Use function to_categorical() to do One-Hot-Encoding\n",
        "# tf.keras.utils.to_categorical\n",
        "from keras.utils import to_categorical\n",
        "\n",
        "y_train = to_categorical(y_train0, 10)\n",
        "y_test = to_categorical(y_test0, 10)\n",
        "y_train[:5]"
      ],
      "execution_count": 11,
      "outputs": [
        {
          "output_type": "execute_result",
          "data": {
            "text/plain": [
              "array([[0., 0., 0., 0., 0., 1., 0., 0., 0., 0.],\n",
              "       [1., 0., 0., 0., 0., 0., 0., 0., 0., 0.],\n",
              "       [0., 0., 0., 0., 1., 0., 0., 0., 0., 0.],\n",
              "       [0., 1., 0., 0., 0., 0., 0., 0., 0., 0.],\n",
              "       [0., 0., 0., 0., 0., 0., 0., 0., 0., 1.]], dtype=float32)"
            ]
          },
          "metadata": {
            "tags": []
          },
          "execution_count": 11
        }
      ]
    },
    {
      "cell_type": "markdown",
      "metadata": {
        "id": "EWSIzXy8PWNe"
      },
      "source": [
        "> One-Hot-Encoding을 하는 이유\n",
        "- 머신러닝의 목표가 특정 숫자 그림의 숫자를 정확하게 맞추는 것이 아니다.\n",
        "    1. 일단, 0에서 9까지의 숫자로 판단될 10개의 확률을 계산한다.\n",
        "    2. 그리고 특정 숫자로 판단될 확률이 제일 큰 수로 결정한다.\n",
        "- 3개 이상의 클래스를 구분하는 지도학습의 경우 One-Hot-Encoding은 필요한 과정이다."
      ]
    },
    {
      "cell_type": "markdown",
      "metadata": {
        "id": "1ss3oajj6hlB"
      },
      "source": [
        "\n",
        "\n",
        "---\n",
        "\n",
        "\n",
        "\n",
        "---\n",
        "\n"
      ]
    },
    {
      "cell_type": "markdown",
      "metadata": {
        "id": "uxDb3nEL3frI"
      },
      "source": [
        "# 신경망 (Neural network)\n",
        "\n",
        "## 신경망 구현 순서\n",
        "\n",
        "### Keras 를 사용하면 다음과 같은 순서로 신경망을 구성할 수 있다.\n",
        "\n",
        "1. **모형 객체 생성**, Sequential 모형 클래스 객체 생성\n",
        "2. **신경망 구성**, layer 추가하여 구성\n",
        "    - Dense layer 가 가장 일반적인 신경망\n",
        "    - 입력단부터 순차적으로 추가한다.\n",
        "    - 레이어는 출력 뉴런 갯수를 첫번째 인수로 받는다.\n",
        "    - 최초의 레이어는 input_shape 인수로 입력 크기를 설정해야 한다.\n",
        "    - activation 인수로 activation 함수 설정\n",
        "3. **compile** 메서드로 모형 완성.\n",
        "    - loss 인수로 Loss 함수 설정\n",
        "    - optimizer 인수로 최적화 알고리즘 설정\n",
        "    - metrics 인수로 트레이닝 단계에서 기록할 성능 기준 설정\n",
        "4. **fit** 메서드로 트레이닝\n",
        "    - epochs로 트레이닝 횟수 설정\n",
        "    - batch_size 로 mini batch size 설정\n",
        "    - metrics 인수로 설정한 성능 기준 기록을 출력으로 반환"
      ]
    },
    {
      "cell_type": "code",
      "metadata": {
        "id": "jhpH9wM23frJ"
      },
      "source": [
        "from keras.models import Sequential\n",
        "from keras.layers import Dense, Dropout"
      ],
      "execution_count": 12,
      "outputs": []
    },
    {
      "cell_type": "markdown",
      "metadata": {
        "id": "g1a9ee5bZvYa"
      },
      "source": [
        "## Starting model\n",
        "> 784개의 입력을 받는 하나의 hidden layer(16 neurons)와 출력레이어(10 neurons)로 구성된 단순한 신경망."
      ]
    },
    {
      "cell_type": "code",
      "metadata": {
        "id": "GfgcaZSL3frM"
      },
      "source": [
        "# Configure model\n",
        "np.random.seed(0)\n",
        "\n",
        "model = Sequential()\n",
        "model.add(Dense(16, input_dim=784, activation=\"sigmoid\"))  # first layer\n",
        "model.add(Dense(10, activation=\"softmax\")) # output layer"
      ],
      "execution_count": 13,
      "outputs": []
    },
    {
      "cell_type": "markdown",
      "metadata": {
        "id": "QI43K5ncKIsw"
      },
      "source": [
        "![mnist_NN_2_layers](https://raw.githubusercontent.com/Redwoods/Py/master/pdm2020/my-note/py-tensorflow/images/mnist_NN_2_layers.png)\n"
      ]
    },
    {
      "cell_type": "markdown",
      "metadata": {
        "id": "xL5MibkLECtt"
      },
      "source": [
        "### Model 정보 및 출력\n",
        "- summary()\n",
        "- plot_model()"
      ]
    },
    {
      "cell_type": "code",
      "metadata": {
        "id": "OEpkLD2pDn_l",
        "colab": {
          "base_uri": "https://localhost:8080/"
        },
        "outputId": "e6278f4a-9172-473c-e1ed-293be3f2c4d7"
      },
      "source": [
        "# Summary of the model\n",
        "model.summary()"
      ],
      "execution_count": 14,
      "outputs": [
        {
          "output_type": "stream",
          "text": [
            "Model: \"sequential\"\n",
            "_________________________________________________________________\n",
            "Layer (type)                 Output Shape              Param #   \n",
            "=================================================================\n",
            "dense (Dense)                (None, 16)                12560     \n",
            "_________________________________________________________________\n",
            "dense_1 (Dense)              (None, 10)                170       \n",
            "=================================================================\n",
            "Total params: 12,730\n",
            "Trainable params: 12,730\n",
            "Non-trainable params: 0\n",
            "_________________________________________________________________\n"
          ],
          "name": "stdout"
        }
      ]
    },
    {
      "cell_type": "code",
      "metadata": {
        "id": "X3dW6WW0Edzq",
        "colab": {
          "base_uri": "https://localhost:8080/"
        },
        "outputId": "908890e0-9bf4-4d61-b52f-ef54c8182c39"
      },
      "source": [
        "# check parameters\n",
        "28*28*16+16, 16*10+10"
      ],
      "execution_count": 15,
      "outputs": [
        {
          "output_type": "execute_result",
          "data": {
            "text/plain": [
              "(12560, 170)"
            ]
          },
          "metadata": {
            "tags": []
          },
          "execution_count": 15
        }
      ]
    },
    {
      "cell_type": "code",
      "metadata": {
        "id": "xqGrDLam3fro",
        "colab": {
          "base_uri": "https://localhost:8080/",
          "height": 272
        },
        "outputId": "37ceb3f5-8746-4257-88b6-58a5dc4c5a10"
      },
      "source": [
        "from keras.utils import plot_model\n",
        "plot_model(model, to_file='model.png')"
      ],
      "execution_count": 16,
      "outputs": [
        {
          "output_type": "execute_result",
          "data": {
            "image/png": "[encoded data removed]",
            "text/plain": [
              "<IPython.core.display.Image object>"
            ]
          },
          "metadata": {
            "tags": []
          },
          "execution_count": 16
        }
      ]
    },
    {
      "cell_type": "markdown",
      "metadata": {
        "id": "GDPqfKFkE5Nf"
      },
      "source": [
        "### 모델의 구조 살펴 보기"
      ]
    },
    {
      "cell_type": "code",
      "metadata": {
        "id": "dQblMjW-MN7r",
        "colab": {
          "base_uri": "https://localhost:8080/"
        },
        "outputId": "b689e57d-b00b-46d2-891c-995ff3ceb1d2"
      },
      "source": [
        "model"
      ],
      "execution_count": 17,
      "outputs": [
        {
          "output_type": "execute_result",
          "data": {
            "text/plain": [
              "<tensorflow.python.keras.engine.sequential.Sequential at 0x7f6d3067e898>"
            ]
          },
          "metadata": {
            "tags": []
          },
          "execution_count": 17
        }
      ]
    },
    {
      "cell_type": "code",
      "metadata": {
        "id": "jM_MK74BNHYU",
        "colab": {
          "base_uri": "https://localhost:8080/"
        },
        "outputId": "92815f4a-523c-41b2-8d53-0a2aa01a8be3"
      },
      "source": [
        "model.get_config()"
      ],
      "execution_count": 18,
      "outputs": [
        {
          "output_type": "execute_result",
          "data": {
            "text/plain": [
              "{'layers': [{'class_name': 'InputLayer',\n",
              "   'config': {'batch_input_shape': (None, 784),\n",
              "    'dtype': 'float32',\n",
              "    'name': 'dense_input',\n",
              "    'ragged': False,\n",
              "    'sparse': False}},\n",
              "  {'class_name': 'Dense',\n",
              "   'config': {'activation': 'sigmoid',\n",
              "    'activity_regularizer': None,\n",
              "    'batch_input_shape': (None, 784),\n",
              "    'bias_constraint': None,\n",
              "    'bias_initializer': {'class_name': 'Zeros', 'config': {}},\n",
              "    'bias_regularizer': None,\n",
              "    'dtype': 'float32',\n",
              "    'kernel_constraint': None,\n",
              "    'kernel_initializer': {'class_name': 'GlorotUniform',\n",
              "     'config': {'seed': None}},\n",
              "    'kernel_regularizer': None,\n",
              "    'name': 'dense',\n",
              "    'trainable': True,\n",
              "    'units': 16,\n",
              "    'use_bias': True}},\n",
              "  {'class_name': 'Dense',\n",
              "   'config': {'activation': 'softmax',\n",
              "    'activity_regularizer': None,\n",
              "    'bias_constraint': None,\n",
              "    'bias_initializer': {'class_name': 'Zeros', 'config': {}},\n",
              "    'bias_regularizer': None,\n",
              "    'dtype': 'float32',\n",
              "    'kernel_constraint': None,\n",
              "    'kernel_initializer': {'class_name': 'GlorotUniform',\n",
              "     'config': {'seed': None}},\n",
              "    'kernel_regularizer': None,\n",
              "    'name': 'dense_1',\n",
              "    'trainable': True,\n",
              "    'units': 10,\n",
              "    'use_bias': True}}],\n",
              " 'name': 'sequential'}"
            ]
          },
          "metadata": {
            "tags": []
          },
          "execution_count": 18
        }
      ]
    },
    {
      "cell_type": "code",
      "metadata": {
        "id": "HKb0O8bz3frv"
      },
      "source": [
        "l1 = model.layers[0]\n",
        "l2 = model.layers[1]"
      ],
      "execution_count": 19,
      "outputs": []
    },
    {
      "cell_type": "code",
      "metadata": {
        "id": "WlN4UR333frx",
        "colab": {
          "base_uri": "https://localhost:8080/"
        },
        "outputId": "17701dce-bb36-4848-b91d-5bd2c80a3d17"
      },
      "source": [
        "l1.name, type(l1), l1.output_shape, l1.activation.__name__, l1.count_params()"
      ],
      "execution_count": 20,
      "outputs": [
        {
          "output_type": "execute_result",
          "data": {
            "text/plain": [
              "('dense',\n",
              " tensorflow.python.keras.layers.core.Dense,\n",
              " (None, 16),\n",
              " 'sigmoid',\n",
              " 12560)"
            ]
          },
          "metadata": {
            "tags": []
          },
          "execution_count": 20
        }
      ]
    },
    {
      "cell_type": "code",
      "metadata": {
        "id": "2CsdAPqOWhgr",
        "colab": {
          "base_uri": "https://localhost:8080/"
        },
        "outputId": "2433cbe0-e272-4e75-965d-61fce1fafa37"
      },
      "source": [
        "# number of parameters\n",
        "784*16 + 16"
      ],
      "execution_count": 21,
      "outputs": [
        {
          "output_type": "execute_result",
          "data": {
            "text/plain": [
              "12560"
            ]
          },
          "metadata": {
            "tags": []
          },
          "execution_count": 21
        }
      ]
    },
    {
      "cell_type": "code",
      "metadata": {
        "id": "StH9J4ID3fr0",
        "colab": {
          "base_uri": "https://localhost:8080/"
        },
        "outputId": "40ae7258-334a-4fb5-c409-aacac2a19d3f"
      },
      "source": [
        "l2.name, type(l1), l2.output_shape, l2.activation.__name__, l2.count_params()"
      ],
      "execution_count": 22,
      "outputs": [
        {
          "output_type": "execute_result",
          "data": {
            "text/plain": [
              "('dense_1',\n",
              " tensorflow.python.keras.layers.core.Dense,\n",
              " (None, 10),\n",
              " 'softmax',\n",
              " 170)"
            ]
          },
          "metadata": {
            "tags": []
          },
          "execution_count": 22
        }
      ]
    },
    {
      "cell_type": "code",
      "metadata": {
        "id": "_S7z0r6nWmRP",
        "colab": {
          "base_uri": "https://localhost:8080/"
        },
        "outputId": "4b62115a-2725-4a0c-a622-1c1ea8c895a5"
      },
      "source": [
        "# number of parameters\n",
        "16*10 + 10  "
      ],
      "execution_count": 23,
      "outputs": [
        {
          "output_type": "execute_result",
          "data": {
            "text/plain": [
              "170"
            ]
          },
          "metadata": {
            "tags": []
          },
          "execution_count": 23
        }
      ]
    },
    {
      "cell_type": "markdown",
      "metadata": {
        "id": "PfrTI1pL3fr3"
      },
      "source": [
        "## fit 메서드로 트레이닝"
      ]
    },
    {
      "cell_type": "code",
      "metadata": {
        "id": "WPFBcg5_3fr4"
      },
      "source": [
        "model.compile(optimizer='sgd', loss='mean_squared_error', metrics=['accuracy'])"
      ],
      "execution_count": 24,
      "outputs": []
    },
    {
      "cell_type": "code",
      "metadata": {
        "id": "YbTI5EF23fr8",
        "colab": {
          "base_uri": "https://localhost:8080/"
        },
        "outputId": "46d2393c-e6f4-4e45-ff9e-469db7084f1a"
      },
      "source": [
        "%%time\n",
        "hist = model.fit(X_train, y_train, \n",
        "                 epochs=20, batch_size=100, \n",
        "                 validation_data=(X_test, y_test), \n",
        "                 verbose=1)\n",
        "\n",
        "\n",
        "# batch_size: 100 -> 60,000개의 트레이닝 데이터를 100개씩 600묶음으로 나눈 후, \n",
        "# 각 묶음에 대하어 forward, back propagation을 실시하면서 파라미터를 조정한다.\n",
        "# epochs: 전체 600개의 batch에 대하여 다 계산을 수행하면 epoch 1 종료.\n",
        "# validation_data: 테스트 데이터를 섞어서 검증한다."
      ],
      "execution_count": 25,
      "outputs": [
        {
          "output_type": "stream",
          "text": [
            "Epoch 1/20\n",
            "600/600 [==============================] - 2s 3ms/step - loss: 0.0915 - accuracy: 0.0987 - val_loss: 0.0911 - val_accuracy: 0.1029\n",
            "Epoch 2/20\n",
            "600/600 [==============================] - 1s 2ms/step - loss: 0.0910 - accuracy: 0.0983 - val_loss: 0.0906 - val_accuracy: 0.1050\n",
            "Epoch 3/20\n",
            "600/600 [==============================] - 2s 3ms/step - loss: 0.0905 - accuracy: 0.1032 - val_loss: 0.0902 - val_accuracy: 0.1163\n",
            "Epoch 4/20\n",
            "600/600 [==============================] - 1s 2ms/step - loss: 0.0901 - accuracy: 0.1172 - val_loss: 0.0899 - val_accuracy: 0.1331\n",
            "Epoch 5/20\n",
            "600/600 [==============================] - 1s 2ms/step - loss: 0.0898 - accuracy: 0.1353 - val_loss: 0.0896 - val_accuracy: 0.1518\n",
            "Epoch 6/20\n",
            "600/600 [==============================] - 2s 3ms/step - loss: 0.0895 - accuracy: 0.1507 - val_loss: 0.0893 - val_accuracy: 0.1663\n",
            "Epoch 7/20\n",
            "600/600 [==============================] - 1s 2ms/step - loss: 0.0893 - accuracy: 0.1638 - val_loss: 0.0891 - val_accuracy: 0.1773\n",
            "Epoch 8/20\n",
            "600/600 [==============================] - 1s 2ms/step - loss: 0.0890 - accuracy: 0.1750 - val_loss: 0.0888 - val_accuracy: 0.1871\n",
            "Epoch 9/20\n",
            "600/600 [==============================] - 2s 3ms/step - loss: 0.0888 - accuracy: 0.1831 - val_loss: 0.0886 - val_accuracy: 0.1948\n",
            "Epoch 10/20\n",
            "600/600 [==============================] - 2s 3ms/step - loss: 0.0885 - accuracy: 0.1904 - val_loss: 0.0883 - val_accuracy: 0.2038\n",
            "Epoch 11/20\n",
            "600/600 [==============================] - 1s 2ms/step - loss: 0.0883 - accuracy: 0.1976 - val_loss: 0.0881 - val_accuracy: 0.2134\n",
            "Epoch 12/20\n",
            "600/600 [==============================] - 2s 3ms/step - loss: 0.0881 - accuracy: 0.2072 - val_loss: 0.0879 - val_accuracy: 0.2229\n",
            "Epoch 13/20\n",
            "600/600 [==============================] - 2s 3ms/step - loss: 0.0878 - accuracy: 0.2207 - val_loss: 0.0876 - val_accuracy: 0.2372\n",
            "Epoch 14/20\n",
            "600/600 [==============================] - 2s 3ms/step - loss: 0.0876 - accuracy: 0.2390 - val_loss: 0.0874 - val_accuracy: 0.2592\n",
            "Epoch 15/20\n",
            "600/600 [==============================] - 2s 3ms/step - loss: 0.0874 - accuracy: 0.2664 - val_loss: 0.0872 - val_accuracy: 0.2918\n",
            "Epoch 16/20\n",
            "600/600 [==============================] - 2s 3ms/step - loss: 0.0872 - accuracy: 0.3022 - val_loss: 0.0870 - val_accuracy: 0.3339\n",
            "Epoch 17/20\n",
            "600/600 [==============================] - 2s 3ms/step - loss: 0.0869 - accuracy: 0.3452 - val_loss: 0.0867 - val_accuracy: 0.3773\n",
            "Epoch 18/20\n",
            "600/600 [==============================] - 2s 3ms/step - loss: 0.0867 - accuracy: 0.3869 - val_loss: 0.0865 - val_accuracy: 0.4146\n",
            "Epoch 19/20\n",
            "600/600 [==============================] - 2s 3ms/step - loss: 0.0865 - accuracy: 0.4207 - val_loss: 0.0863 - val_accuracy: 0.4410\n",
            "Epoch 20/20\n",
            "600/600 [==============================] - 2s 3ms/step - loss: 0.0862 - accuracy: 0.4417 - val_loss: 0.0860 - val_accuracy: 0.4591\n",
            "CPU times: user 34 s, sys: 5.18 s, total: 39.2 s\n",
            "Wall time: 32.6 s\n"
          ],
          "name": "stdout"
        }
      ]
    },
    {
      "cell_type": "markdown",
      "metadata": {
        "id": "7gvjGBmYYFI3"
      },
      "source": [
        "### Plot of performance and accuracy (모델 성능 및 정확도)"
      ]
    },
    {
      "cell_type": "code",
      "metadata": {
        "id": "FPeQByvA3fr_",
        "colab": {
          "base_uri": "https://localhost:8080/",
          "height": 265
        },
        "outputId": "4844ebd7-50e5-4d5e-a626-e8cfd2ff5bdf"
      },
      "source": [
        "# Plot performance\n",
        "plt.plot(hist.history['loss'])\n",
        "plt.show()"
      ],
      "execution_count": 26,
      "outputs": [
        {
          "output_type": "display_data",
          "data": {
            "image/png": "[encoded data removed]",
            "text/plain": [
              "<Figure size 432x288 with 1 Axes>"
            ]
          },
          "metadata": {
            "tags": [],
            "needs_background": "light"
          }
        }
      ]
    },
    {
      "cell_type": "code",
      "metadata": {
        "id": "m5ForJ5k3fsD",
        "colab": {
          "base_uri": "https://localhost:8080/",
          "height": 265
        },
        "outputId": "98c4b869-84a9-4c5f-efc0-c0da770a319d"
      },
      "source": [
        "plt.plot(hist.history['accuracy'], 'b-', label=\"training\")\n",
        "plt.plot(hist.history['val_accuracy'], 'r:', label=\"test\")\n",
        "plt.legend()\n",
        "plt.show()"
      ],
      "execution_count": 27,
      "outputs": [
        {
          "output_type": "display_data",
          "data": {
            "image/png": "[encoded data removed]",
            "text/plain": [
              "<Figure size 432x288 with 1 Axes>"
            ]
          },
          "metadata": {
            "tags": [],
            "needs_background": "light"
          }
        }
      ]
    },
    {
      "cell_type": "markdown",
      "metadata": {
        "id": "R6pUmTTR3fsI"
      },
      "source": [
        "## 가중치 정보"
      ]
    },
    {
      "cell_type": "markdown",
      "metadata": {
        "id": "b6PeV3Yk3fsJ"
      },
      "source": [
        "> 트레이닝이 끝난 모형의 가중치 정보는 get_weights 메서드로 구할 수 있다. 이 메서드는 w 값과 b 값을 출력한다.\n",
        "- w: weights\n",
        "- b: bias"
      ]
    },
    {
      "cell_type": "code",
      "metadata": {
        "id": "ZWfw5Z_F3fsK",
        "colab": {
          "base_uri": "https://localhost:8080/"
        },
        "outputId": "fbc977c7-139f-4bbd-9690-d2804d9fe5a3"
      },
      "source": [
        "w1 = l1.get_weights()  # 784*16 + 16 = 12560\n",
        "w1[0].shape, w1[1].shape"
      ],
      "execution_count": 28,
      "outputs": [
        {
          "output_type": "execute_result",
          "data": {
            "text/plain": [
              "((784, 16), (16,))"
            ]
          },
          "metadata": {
            "tags": []
          },
          "execution_count": 28
        }
      ]
    },
    {
      "cell_type": "code",
      "metadata": {
        "id": "S9tVnYoX3fsN",
        "colab": {
          "base_uri": "https://localhost:8080/"
        },
        "outputId": "4d22e1fe-0ce9-4c2d-b1b5-d78c2338353d"
      },
      "source": [
        "w2 = l2.get_weights()  # 16*10 + 10 = 170\n",
        "w2[0].shape, w2[1].shape"
      ],
      "execution_count": 29,
      "outputs": [
        {
          "output_type": "execute_result",
          "data": {
            "text/plain": [
              "((16, 10), (10,))"
            ]
          },
          "metadata": {
            "tags": []
          },
          "execution_count": 29
        }
      ]
    },
    {
      "cell_type": "markdown",
      "metadata": {
        "id": "iaRWl02D3fsR"
      },
      "source": [
        "## 모형의 사용\n",
        "\n",
        "> 트레이닝이 끝난 모형은 predict 메서드로 y 값을 출력하거나 출력된 y값을 각 클래스에 대한 판별함수로 가정하고 predict_classes 메서드로 classification을 할 수 있다."
      ]
    },
    {
      "cell_type": "code",
      "metadata": {
        "id": "3-ShrKKV3fsS",
        "colab": {
          "base_uri": "https://localhost:8080/",
          "height": 143
        },
        "outputId": "08213eac-a13b-4bd4-ac02-053bde21bd66"
      },
      "source": [
        "plt.figure(figsize=(2, 2))\n",
        "plt.imshow(X_test0[0], cmap='gray')\n",
        "plt.grid(False)\n",
        "plt.xticks([])\n",
        "plt.yticks([])\n",
        "plt.show()"
      ],
      "execution_count": 30,
      "outputs": [
        {
          "output_type": "display_data",
          "data": {
            "image/png": "[encoded data removed]",
            "text/plain": [
              "<Figure size 144x144 with 1 Axes>"
            ]
          },
          "metadata": {
            "tags": []
          }
        }
      ]
    },
    {
      "cell_type": "code",
      "metadata": {
        "id": "sW4jz1rjPzgo",
        "colab": {
          "base_uri": "https://localhost:8080/"
        },
        "outputId": "0fe21c59-4903-44de-8d95-34498ab22923"
      },
      "source": [
        "X_test[:1, :].shape"
      ],
      "execution_count": 31,
      "outputs": [
        {
          "output_type": "execute_result",
          "data": {
            "text/plain": [
              "(1, 784)"
            ]
          },
          "metadata": {
            "tags": []
          },
          "execution_count": 31
        }
      ]
    },
    {
      "cell_type": "code",
      "metadata": {
        "id": "n1SG0Okg3fsV",
        "colab": {
          "base_uri": "https://localhost:8080/"
        },
        "outputId": "c3a66206-dcc4-4578-ee1c-64b1b2de7c6c"
      },
      "source": [
        "model.predict(X_test[:1, :])  # Probabilitic prediction viq one-hot encoding of labels"
      ],
      "execution_count": 32,
      "outputs": [
        {
          "output_type": "execute_result",
          "data": {
            "text/plain": [
              "array([[0.11561986, 0.08615899, 0.10543197, 0.13147561, 0.10025208,\n",
              "        0.07271272, 0.09900782, 0.13695066, 0.08759384, 0.06479644]],\n",
              "      dtype=float32)"
            ]
          },
          "metadata": {
            "tags": []
          },
          "execution_count": 32
        }
      ]
    },
    {
      "cell_type": "code",
      "metadata": {
        "id": "J40aL4ts3fsY",
        "colab": {
          "base_uri": "https://localhost:8080/"
        },
        "outputId": "e584c15d-0274-45e0-f15b-bb9bb45eb70f"
      },
      "source": [
        "tf.argmax(model.predict(X_test[:1, :]),axis=1), np.argmax(model.predict(X_test[:1, :]),axis=1)"
      ],
      "execution_count": 33,
      "outputs": [
        {
          "output_type": "execute_result",
          "data": {
            "text/plain": [
              "(<tf.Tensor: shape=(1,), dtype=int64, numpy=array([7])>, array([7]))"
            ]
          },
          "metadata": {
            "tags": []
          },
          "execution_count": 33
        }
      ]
    },
    {
      "cell_type": "markdown",
      "metadata": {
        "id": "IlSTBslCPWN5"
      },
      "source": [
        "### 테스트 데이터에 대한 예측 정확도 계산 "
      ]
    },
    {
      "cell_type": "code",
      "metadata": {
        "id": "IKnsqRtKPWN6",
        "colab": {
          "base_uri": "https://localhost:8080/"
        },
        "outputId": "f7ac9b98-f6bd-47cd-f420-69574d8bebd2"
      },
      "source": [
        "y_pred0 = model.predict(X_test, verbose=1)\n",
        "y_pred0[:5]"
      ],
      "execution_count": 34,
      "outputs": [
        {
          "output_type": "stream",
          "text": [
            "313/313 [==============================] - 0s 1ms/step\n"
          ],
          "name": "stdout"
        },
        {
          "output_type": "execute_result",
          "data": {
            "text/plain": [
              "array([[0.11561986, 0.08615899, 0.10543197, 0.1314756 , 0.10025208,\n",
              "        0.07271271, 0.09900782, 0.13695066, 0.08759383, 0.06479644],\n",
              "       [0.11536347, 0.08086887, 0.13436759, 0.12501965, 0.09063438,\n",
              "        0.08382632, 0.1119241 , 0.11253221, 0.08671206, 0.05875135],\n",
              "       [0.07531533, 0.13968892, 0.12010031, 0.10447592, 0.12516992,\n",
              "        0.06472114, 0.08949073, 0.11770088, 0.10782495, 0.05551182],\n",
              "       [0.1714205 , 0.05518545, 0.10075746, 0.14885198, 0.07124461,\n",
              "        0.07458504, 0.11222592, 0.12135524, 0.07202702, 0.07234674],\n",
              "       [0.08696799, 0.09845264, 0.12182784, 0.10167493, 0.12353905,\n",
              "        0.06137274, 0.10096159, 0.13679887, 0.09342074, 0.07498354]],\n",
              "      dtype=float32)"
            ]
          },
          "metadata": {
            "tags": []
          },
          "execution_count": 34
        }
      ]
    },
    {
      "cell_type": "code",
      "metadata": {
        "id": "nZuSLtGuQ5Ds",
        "colab": {
          "base_uri": "https://localhost:8080/"
        },
        "outputId": "f0538633-9694-45b6-fe17-fbe372d6f26a"
      },
      "source": [
        "np.argmax(y_pred0[:5],axis=1),y_test0[:5]"
      ],
      "execution_count": 36,
      "outputs": [
        {
          "output_type": "execute_result",
          "data": {
            "text/plain": [
              "(array([7, 2, 1, 0, 7]), array([7, 2, 1, 0, 4], dtype=uint8))"
            ]
          },
          "metadata": {
            "tags": []
          },
          "execution_count": 36
        }
      ]
    },
    {
      "cell_type": "code",
      "metadata": {
        "id": "DCPrM-b9RDuv"
      },
      "source": [
        "y_pred=np.argmax(y_pred0,axis=1)"
      ],
      "execution_count": 37,
      "outputs": []
    },
    {
      "cell_type": "code",
      "metadata": {
        "colab": {
          "base_uri": "https://localhost:8080/"
        },
        "id": "sENLHqQldJ9H",
        "outputId": "fb597612-d2e8-42df-850f-7b62b2de3b48"
      },
      "source": [
        "y_pred[:5]"
      ],
      "execution_count": 41,
      "outputs": [
        {
          "output_type": "execute_result",
          "data": {
            "text/plain": [
              "array([7, 2, 1, 0, 7])"
            ]
          },
          "metadata": {
            "tags": []
          },
          "execution_count": 41
        }
      ]
    },
    {
      "cell_type": "code",
      "metadata": {
        "id": "TDAde7l2PWN9",
        "colab": {
          "base_uri": "https://localhost:8080/"
        },
        "outputId": "f843bca0-3734-4ce5-ffed-8908a8198241"
      },
      "source": [
        "t_count = np.sum(y_pred == y_test0) # True positive\n",
        "f_count = np.sum(y_pred != y_test0) # False positive\n",
        "f_count==10000-t_count"
      ],
      "execution_count": 42,
      "outputs": [
        {
          "output_type": "execute_result",
          "data": {
            "text/plain": [
              "True"
            ]
          },
          "metadata": {
            "tags": []
          },
          "execution_count": 42
        }
      ]
    },
    {
      "cell_type": "code",
      "metadata": {
        "id": "UMIbHVooPWOB",
        "colab": {
          "base_uri": "https://localhost:8080/"
        },
        "outputId": "a51d2be5-d680-4857-bfe0-3d31c5d32fcc"
      },
      "source": [
        "t_count,f_count"
      ],
      "execution_count": 43,
      "outputs": [
        {
          "output_type": "execute_result",
          "data": {
            "text/plain": [
              "(4591, 5409)"
            ]
          },
          "metadata": {
            "tags": []
          },
          "execution_count": 43
        }
      ]
    },
    {
      "cell_type": "code",
      "metadata": {
        "id": "qHFIPhUmPWOE",
        "colab": {
          "base_uri": "https://localhost:8080/"
        },
        "outputId": "80a485aa-d14f-4532-92a9-718d0e7592d7"
      },
      "source": [
        "accuracy = t_count/10000*100\n",
        "accuracy"
      ],
      "execution_count": 44,
      "outputs": [
        {
          "output_type": "execute_result",
          "data": {
            "text/plain": [
              "45.910000000000004"
            ]
          },
          "metadata": {
            "tags": []
          },
          "execution_count": 44
        }
      ]
    },
    {
      "cell_type": "markdown",
      "metadata": {
        "id": "ErT2qfh8PWOH"
      },
      "source": [
        "### Accuracy of predicting test numbers is around 28% in NN (neural network).\n",
        "- Poor!!"
      ]
    },
    {
      "cell_type": "code",
      "metadata": {
        "id": "jtN7Lee4Vo6q",
        "colab": {
          "base_uri": "https://localhost:8080/"
        },
        "outputId": "3fb6cff7-9062-49b5-af9f-34e48a93bb7f"
      },
      "source": [
        "# see which we predicted correctly and which not\n",
        "correct_indices = np.nonzero(y_pred == y_test0)[0]\n",
        "incorrect_indices = np.nonzero(y_pred != y_test0)[0]\n",
        "print()\n",
        "print(len(correct_indices),\" classified correctly\")\n",
        "print(len(incorrect_indices),\" classified incorrectly\")"
      ],
      "execution_count": 45,
      "outputs": [
        {
          "output_type": "stream",
          "text": [
            "\n",
            "4591  classified correctly\n",
            "5409  classified incorrectly\n"
          ],
          "name": "stdout"
        }
      ]
    },
    {
      "cell_type": "code",
      "metadata": {
        "id": "j0RPUxR2WKx-",
        "colab": {
          "base_uri": "https://localhost:8080/",
          "height": 811
        },
        "outputId": "767e89c7-426a-4bec-ba78-f615af852342"
      },
      "source": [
        "# adapt figure size to accomodate 18 subplots\n",
        "plt.rcParams['figure.figsize'] = (7,14)\n",
        "\n",
        "figure_evaluation = plt.figure()\n",
        "\n",
        "# plot 9 correct predictions\n",
        "for i, correct in enumerate(correct_indices[:9]):\n",
        "    plt.subplot(6,3,i+1)\n",
        "    plt.imshow(X_test[correct].reshape(28,28), cmap='gray', interpolation='none')\n",
        "    plt.title(\n",
        "      \"Predicted: {}, Truth: {}\".format(y_pred[correct],\n",
        "                                        y_test0[correct]))\n",
        "    plt.xticks([])\n",
        "    plt.yticks([])\n",
        "\n",
        "# plot 9 incorrect predictions\n",
        "for i, incorrect in enumerate(incorrect_indices[:9]):\n",
        "    plt.subplot(6,3,i+10)\n",
        "    plt.imshow(X_test[incorrect].reshape(28,28), cmap='gray', interpolation='none')\n",
        "    plt.title(\n",
        "      \"Predicted {}, Truth: {}\".format(y_pred[incorrect], \n",
        "                                       y_test0[incorrect]))\n",
        "    plt.xticks([])\n",
        "    plt.yticks([])\n",
        "\n",
        "# figure_evaluation"
      ],
      "execution_count": 46,
      "outputs": [
        {
          "output_type": "display_data",
          "data": {
            "image/png": "[encoded data removed]",
            "text/plain": [
              "<Figure size 504x1008 with 18 Axes>"
            ]
          },
          "metadata": {
            "tags": []
          }
        }
      ]
    },
    {
      "cell_type": "markdown",
      "metadata": {
        "id": "gBPKMI4y3fsa"
      },
      "source": [
        "## 모형의 저장\n",
        "\n",
        ">  트레이닝이 끝난 모형은 save 메서드로 가중치와 함께 hdf5 형식으로 저장하였다가 나중에 load 명령으로 불러 사용할 수 있다."
      ]
    },
    {
      "cell_type": "code",
      "metadata": {
        "id": "KCfbQl2v3fsa"
      },
      "source": [
        "model.save('model_NN_2layers.hdf5')\n",
        "# del model"
      ],
      "execution_count": 47,
      "outputs": []
    },
    {
      "cell_type": "code",
      "metadata": {
        "id": "b7-ysIVy3fse",
        "colab": {
          "base_uri": "https://localhost:8080/"
        },
        "outputId": "8530b58f-016b-4602-85b3-6466c5b020ef"
      },
      "source": [
        "from keras.models import load_model\n",
        "\n",
        "model2 = load_model('model_NN_2layers.hdf5')\n",
        "model2.predict(X_test[:1, :], verbose=0)\n",
        "np.argmax(model2.predict(X_test[:1, :], verbose=0),axis=1)"
      ],
      "execution_count": 48,
      "outputs": [
        {
          "output_type": "execute_result",
          "data": {
            "text/plain": [
              "array([7])"
            ]
          },
          "metadata": {
            "tags": []
          },
          "execution_count": 48
        }
      ]
    },
    {
      "cell_type": "code",
      "metadata": {
        "id": "euLaPown3fsi",
        "colab": {
          "base_uri": "https://localhost:8080/"
        },
        "outputId": "a66eaf98-562d-4b6b-8dae-90792d3a0abd"
      },
      "source": [
        "# Predict of the first 10 test data\n",
        "np.argmax(model2.predict(X_test[:10, :], verbose=0),axis=1)"
      ],
      "execution_count": 49,
      "outputs": [
        {
          "output_type": "execute_result",
          "data": {
            "text/plain": [
              "array([7, 2, 1, 0, 7, 1, 4, 2, 4, 2])"
            ]
          },
          "metadata": {
            "tags": []
          },
          "execution_count": 49
        }
      ]
    },
    {
      "cell_type": "markdown",
      "metadata": {
        "id": "hRL0bcIk3fst"
      },
      "source": [
        "### 저장된 모형을 이용하여 테스트 데이터에 대한 예측 정확도 계산 "
      ]
    },
    {
      "cell_type": "code",
      "metadata": {
        "id": "KPIoiMZC3fst",
        "colab": {
          "base_uri": "https://localhost:8080/"
        },
        "outputId": "2c8b7dc9-444a-4639-e70a-0dd972f559ef"
      },
      "source": [
        "# Wrong prediction\n",
        "np.argmax(model2.predict(X_test[8:9, :], verbose=1),axis=1)"
      ],
      "execution_count": 50,
      "outputs": [
        {
          "output_type": "stream",
          "text": [
            "1/1 [==============================] - 0s 4ms/step\n"
          ],
          "name": "stdout"
        },
        {
          "output_type": "execute_result",
          "data": {
            "text/plain": [
              "array([4])"
            ]
          },
          "metadata": {
            "tags": []
          },
          "execution_count": 50
        }
      ]
    },
    {
      "cell_type": "code",
      "metadata": {
        "id": "1A0mpUeg3fsy",
        "colab": {
          "base_uri": "https://localhost:8080/"
        },
        "outputId": "ad4c1b68-2aac-48d4-84e3-c5fa29d81f67"
      },
      "source": [
        "y_test0[8]  # Compare the true value and the prediction."
      ],
      "execution_count": 51,
      "outputs": [
        {
          "output_type": "execute_result",
          "data": {
            "text/plain": [
              "5"
            ]
          },
          "metadata": {
            "tags": []
          },
          "execution_count": 51
        }
      ]
    },
    {
      "cell_type": "code",
      "metadata": {
        "id": "M9zDSNI13fs1",
        "colab": {
          "base_uri": "https://localhost:8080/"
        },
        "outputId": "865f4896-1f9f-433e-ab8c-eead34eb29b5"
      },
      "source": [
        "# 전체 테스트 데이터에 대한 예측\n",
        "x_pred = np.argmax(model2.predict(X_test, verbose=1, batch_size=100), axis=1)"
      ],
      "execution_count": 52,
      "outputs": [
        {
          "output_type": "stream",
          "text": [
            "100/100 [==============================] - 0s 2ms/step\n"
          ],
          "name": "stdout"
        }
      ]
    },
    {
      "cell_type": "code",
      "metadata": {
        "id": "QNEtpmQL3fs3",
        "colab": {
          "base_uri": "https://localhost:8080/"
        },
        "outputId": "1ea6f952-552b-4b04-a98a-a63fc6a66436"
      },
      "source": [
        "t_count = np.sum(x_pred==y_test0) # True positive\n",
        "f_count = np.sum(x_pred!=y_test0) # False positive\n",
        "f_count==10000-t_count"
      ],
      "execution_count": 53,
      "outputs": [
        {
          "output_type": "execute_result",
          "data": {
            "text/plain": [
              "True"
            ]
          },
          "metadata": {
            "tags": []
          },
          "execution_count": 53
        }
      ]
    },
    {
      "cell_type": "code",
      "metadata": {
        "id": "YaKHTNi43fs8",
        "colab": {
          "base_uri": "https://localhost:8080/"
        },
        "outputId": "eddace14-61a2-4d7d-c70b-40e5c62ec6d1"
      },
      "source": [
        "t_count,f_count"
      ],
      "execution_count": 54,
      "outputs": [
        {
          "output_type": "execute_result",
          "data": {
            "text/plain": [
              "(4591, 5409)"
            ]
          },
          "metadata": {
            "tags": []
          },
          "execution_count": 54
        }
      ]
    },
    {
      "cell_type": "code",
      "metadata": {
        "id": "aiDlchVL3fs-",
        "colab": {
          "base_uri": "https://localhost:8080/"
        },
        "outputId": "3c9dc1df-1863-417f-d48f-9d0cf140d97d"
      },
      "source": [
        "accuracy = t_count/10000*100\n",
        "accuracy"
      ],
      "execution_count": 55,
      "outputs": [
        {
          "output_type": "execute_result",
          "data": {
            "text/plain": [
              "45.910000000000004"
            ]
          },
          "metadata": {
            "tags": []
          },
          "execution_count": 55
        }
      ]
    },
    {
      "cell_type": "markdown",
      "metadata": {
        "id": "oUuN3t9XTpzO"
      },
      "source": [
        "### 모델 성능 평가\n",
        "- model.evaluate(X_test, y_test, batch_size)"
      ]
    },
    {
      "cell_type": "code",
      "metadata": {
        "id": "Wv3TNre7TO7Q",
        "colab": {
          "base_uri": "https://localhost:8080/"
        },
        "outputId": "5ec0f648-f7ea-485b-e7e5-5185237fe6d1"
      },
      "source": [
        "model.evaluate(X_test, y_test, batch_size=100)"
      ],
      "execution_count": 56,
      "outputs": [
        {
          "output_type": "stream",
          "text": [
            "100/100 [==============================] - 0s 2ms/step - loss: 0.0860 - accuracy: 0.4591\n"
          ],
          "name": "stdout"
        },
        {
          "output_type": "execute_result",
          "data": {
            "text/plain": [
              "[0.08601266890764236, 0.45910000801086426]"
            ]
          },
          "metadata": {
            "tags": []
          },
          "execution_count": 56
        }
      ]
    },
    {
      "cell_type": "code",
      "metadata": {
        "id": "-t9pu0IET_tZ",
        "colab": {
          "base_uri": "https://localhost:8080/"
        },
        "outputId": "6cefebb9-b363-4819-bc68-4f59c941c630"
      },
      "source": [
        "model2.evaluate(X_test, y_test, batch_size=100)"
      ],
      "execution_count": 57,
      "outputs": [
        {
          "output_type": "stream",
          "text": [
            "100/100 [==============================] - 0s 2ms/step - loss: 0.0860 - accuracy: 0.4591\n"
          ],
          "name": "stdout"
        },
        {
          "output_type": "execute_result",
          "data": {
            "text/plain": [
              "[0.08601266890764236, 0.45910000801086426]"
            ]
          },
          "metadata": {
            "tags": []
          },
          "execution_count": 57
        }
      ]
    },
    {
      "cell_type": "markdown",
      "metadata": {
        "id": "MRK6YRJd3ftC"
      },
      "source": [
        "### Accuracy of predicting test numbers is around 28% in simple neural network model.\n",
        "\n",
        "> How to improve this simple model?\n",
        "- Change loss function\n",
        "- Change optimizer\n",
        "- Change activation\n",
        "- Change the number of neurons \n",
        "- Add new layers\n",
        "- Apply Dropout\n",
        "- ..."
      ]
    },
    {
      "cell_type": "markdown",
      "metadata": {
        "id": "6x1DNMB_Yxey"
      },
      "source": [
        "\n",
        "\n",
        "---\n",
        "\n"
      ]
    }
  ]
}