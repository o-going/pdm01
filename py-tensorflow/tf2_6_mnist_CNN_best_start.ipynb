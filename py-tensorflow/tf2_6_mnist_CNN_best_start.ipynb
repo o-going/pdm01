{
  "nbformat": 4,
  "nbformat_minor": 0,
  "metadata": {
    "colab": {
      "name": "tf2_6_mnist_CNN_best_start.ipynb",
      "provenance": [],
      "collapsed_sections": [],
      "include_colab_link": true
    },
    "kernelspec": {
      "name": "python3",
      "display_name": "Python 3"
    },
    "accelerator": "GPU"
  },
  "cells": [
    {
      "cell_type": "markdown",
      "metadata": {
        "id": "view-in-github",
        "colab_type": "text"
      },
      "source": [
        "<a href=\"https://colab.research.google.com/github/o-going/pdm01/blob/master/py-tensorflow/tf2_6_mnist_CNN_best_start.ipynb\" target=\"_parent\"><img src=\"https://colab.research.google.com/assets/colab-badge.svg\" alt=\"Open In Colab\"/></a>"
      ]
    },
    {
      "cell_type": "markdown",
      "metadata": {
        "id": "rswfCVLZ-QW0"
      },
      "source": [
        "# **CNN model of mnist dataset**\n",
        "- Conv2D + FCN\n",
        "    * Conv2D : 2차원 합성곱 필터링 + 풀링(Pooling)\n",
        "    * FCN : 1차원 완전연결신경망\n",
        "\n",
        "***\n",
        "- ## Traget: **Find the best model**\n",
        "***\n",
        "\n",
        "![mnist_NN_2_layers](https://img1.daumcdn.net/thumb/R1280x0/?scode=mtistory2&fname=https%3A%2F%2Fblog.kakaocdn.net%2Fdn%2FdJp5Z6%2FbtqAPebnF3x%2FQCe5vVcskhmxe964bGz4iK%2Fimg.png)\n",
        "\n",
        "(source: https://img1.daumcdn.net/thumb/R1280x0/?scode=mtistory2&fname=https%3A%2F%2Fblog.kakaocdn.net%2Fdn%2FdJp5Z6%2FbtqAPebnF3x%2FQCe5vVcskhmxe964bGz4iK%2Fimg.png)"
      ]
    },
    {
      "cell_type": "markdown",
      "metadata": {
        "id": "1yhvkxS_HhpK"
      },
      "source": [
        "## Search the best model of C2F2\n",
        "- callback\n",
        "    - Early stopping\n",
        "    - model checkpoint"
      ]
    },
    {
      "cell_type": "code",
      "metadata": {
        "id": "8GgGzPXPVyfa",
        "colab": {
          "base_uri": "https://localhost:8080/"
        },
        "outputId": "a3381c2d-7a8f-47c5-c45f-3f207272087c"
      },
      "source": [
        "import numpy as np\n",
        "import tensorflow as tf\n",
        "from tensorflow import keras\n",
        "import pandas as pd\n",
        "import matplotlib.pyplot as plt\n",
        "%matplotlib inline\n",
        "\n",
        "print(tf.__version__)\n",
        "tf.random.set_seed(0)"
      ],
      "execution_count": 1,
      "outputs": [
        {
          "output_type": "stream",
          "text": [
            "2.3.0\n"
          ],
          "name": "stdout"
        }
      ]
    },
    {
      "cell_type": "code",
      "metadata": {
        "id": "nMZqMpIvIlwf"
      },
      "source": [
        "# import TF2 submodules\n",
        "from tensorflow.keras import layers, models, callbacks"
      ],
      "execution_count": 2,
      "outputs": []
    },
    {
      "cell_type": "markdown",
      "metadata": {
        "id": "-0IOOUM14Jk1"
      },
      "source": [
        "## **데이터 로딩, 정규화**"
      ]
    },
    {
      "cell_type": "code",
      "metadata": {
        "id": "N1ogJ7I64Fz-",
        "colab": {
          "base_uri": "https://localhost:8080/"
        },
        "outputId": "35edde86-31d9-4043-d8d0-b4f7039e0f1c"
      },
      "source": [
        "from keras.datasets import mnist\n",
        "\n",
        "(X_train0, y_train0), (X_test0, y_test0) = mnist.load_data()\n",
        "\n",
        "# Reshape\n",
        "X_train = X_train0.reshape(60000,28,28,1)\n",
        "X_test = X_test0.reshape(10000,28,28,1)\n",
        "\n",
        "# Normalization\n",
        "X_train, X_test = X_train/255.0, X_test/255.0 # 정규화\n",
        "\n",
        "print(\"X_train={0}\".format(X_train.shape))\n",
        "print(\"y_train={0}\".format(y_train0.shape)) \n",
        "print(\"X_test={0}\".format(X_test.shape))\n",
        "print(\"y_test={0}\".format(y_test0.shape))"
      ],
      "execution_count": 3,
      "outputs": [
        {
          "output_type": "stream",
          "text": [
            "Downloading data from https://storage.googleapis.com/tensorflow/tf-keras-datasets/mnist.npz\n",
            "11493376/11490434 [==============================] - 0s 0us/step\n",
            "X_train=(60000, 28, 28, 1)\n",
            "y_train=(60000,)\n",
            "X_test=(10000, 28, 28, 1)\n",
            "y_test=(10000,)\n"
          ],
          "name": "stdout"
        }
      ]
    },
    {
      "cell_type": "code",
      "metadata": {
        "id": "F46-QZqJHiQ6",
        "colab": {
          "base_uri": "https://localhost:8080/"
        },
        "outputId": "79ab86e8-e0ea-4e2e-86f4-7b0d66337572"
      },
      "source": [
        "# One-Hot-Encoding\n",
        "# Use function to_categorical() to do One-Hot-Encoding\n",
        "# tf.keras.utils.to_categorical\n",
        "from keras.utils import to_categorical\n",
        "\n",
        "y_train = to_categorical(y_train0, 10)\n",
        "y_test = to_categorical(y_test0, 10)\n",
        "y_train.shape,y_test.shape"
      ],
      "execution_count": 4,
      "outputs": [
        {
          "output_type": "execute_result",
          "data": {
            "text/plain": [
              "((60000, 10), (10000, 10))"
            ]
          },
          "metadata": {
            "tags": []
          },
          "execution_count": 4
        }
      ]
    },
    {
      "cell_type": "code",
      "metadata": {
        "id": "eZ3OfP5PkEkL",
        "colab": {
          "base_uri": "https://localhost:8080/"
        },
        "outputId": "9db4132d-bc89-40fa-ebf7-d00defafcacd"
      },
      "source": [
        "# y_train0.shape vs. y_train.shape\n",
        "y_train0.shape, y_train.shape"
      ],
      "execution_count": 5,
      "outputs": [
        {
          "output_type": "execute_result",
          "data": {
            "text/plain": [
              "((60000,), (60000, 10))"
            ]
          },
          "metadata": {
            "tags": []
          },
          "execution_count": 5
        }
      ]
    },
    {
      "cell_type": "markdown",
      "metadata": {
        "id": "5z7SozStigmF"
      },
      "source": [
        "### Display numbers\n",
        "- one random number\n",
        "- 10 representative numbers"
      ]
    },
    {
      "cell_type": "code",
      "metadata": {
        "id": "IK7XT3XoirSL",
        "colab": {
          "base_uri": "https://localhost:8080/",
          "height": 286
        },
        "outputId": "30f86e2e-7aad-4986-d17b-d4e12b946bb7"
      },
      "source": [
        "# Code here!\n",
        "# display one random image from the training set:\n",
        "class_names = [\"0\",\"1\",\"2\",\"3\",\"4\",\"5\",\"6\",\"7\",\"8\",\"9\"]\n",
        "\n",
        "idx = np.random.randint(0, X_train0.shape[0])\n",
        "print(idx)\n",
        "image = X_train0[idx]\n",
        "plt.imshow(image) #, cmap=plt.get_cmap('gray'))\n",
        "plt.title(class_names[y_train0[idx]])\n",
        "plt.xticks([])\n",
        "plt.yticks([])\n",
        "plt.show()"
      ],
      "execution_count": 6,
      "outputs": [
        {
          "output_type": "stream",
          "text": [
            "7942\n"
          ],
          "name": "stdout"
        },
        {
          "output_type": "display_data",
          "data": {
            "image/png": "[encoded data removed]",
            "text/plain": [
              "<Figure size 432x288 with 1 Axes>"
            ]
          },
          "metadata": {
            "tags": []
          }
        }
      ]
    },
    {
      "cell_type": "code",
      "metadata": {
        "id": "LzhD5pcukau7",
        "colab": {
          "base_uri": "https://localhost:8080/",
          "height": 325
        },
        "outputId": "51c468b8-809c-48fd-8626-ab9ca63f641e"
      },
      "source": [
        "fig = plt.figure(figsize=(10,6))\n",
        "for i in range(10):\n",
        "    plt.subplot(2, 5, i+1)\n",
        "    num0_9 = X_train0[y_train0 == i]\n",
        "    # print(num0_9.shape)\n",
        "    plt.imshow(num0_9[0]) #, cmap='gray') #, interpolation='none')\n",
        "    plt.title(\"Class %d\" % (i))\n",
        "    plt.xticks([])\n",
        "    plt.yticks([])"
      ],
      "execution_count": 7,
      "outputs": [
        {
          "output_type": "display_data",
          "data": {
            "image/png": "[encoded data removed]",
            "text/plain": [
              "<Figure size 720x432 with 10 Axes>"
            ]
          },
          "metadata": {
            "tags": []
          }
        }
      ]
    },
    {
      "cell_type": "markdown",
      "metadata": {
        "id": "55DYVfFXi0WR"
      },
      "source": [
        "# Design CNN"
      ]
    },
    {
      "cell_type": "markdown",
      "metadata": {
        "id": "iPcLIcUCcsiG"
      },
      "source": [
        "### import models, layers, callbacks\n",
        "- models: Sequential\n",
        "- layers: Conv2D, MaxPool2D, Flatten\n",
        "- callbacks: ModelCheckpoint, EarlyStopping"
      ]
    },
    {
      "cell_type": "code",
      "metadata": {
        "id": "NzqMC4Xtc3ZE"
      },
      "source": [
        "from keras.models import Sequential\n",
        "from keras.layers import Conv2D, MaxPool2D, Flatten\n",
        "from keras.callbacks import ModelCheckpoint, EarlyStopping"
      ],
      "execution_count": 8,
      "outputs": []
    },
    {
      "cell_type": "markdown",
      "metadata": {
        "id": "7Z6DJJUCei-s"
      },
      "source": [
        "## **CNN2 + FCN2**"
      ]
    },
    {
      "cell_type": "code",
      "metadata": {
        "id": "pV3NFglM7P65"
      },
      "source": [
        "c2f2 = keras.models.Sequential([ \n",
        "    Conv2D(input_shape=(28,28,1),kernel_size=(3,3),strides=(1,1),filters= 32,padding='same',activation='relu'),\n",
        "    MaxPool2D(pool_size=(2,2), strides=(2,2)), \n",
        "    Conv2D(kernel_size=(3,3),strides=(1,1),filters= 64,padding='same',activation='relu'),\n",
        "    MaxPool2D(pool_size=(2,2), strides=(2,2)),\n",
        "    Flatten(), \n",
        "    keras.layers.Dense(128, activation='relu'),  \n",
        "    keras.layers.Dropout(0.25), \n",
        "    keras.layers.Dense(10, activation='softmax')\n",
        "])\n",
        "\n",
        "c2f2.compile(optimizer='adam',\n",
        "              loss='categorical_crossentropy',\n",
        "              metrics=['accuracy']) "
      ],
      "execution_count": 9,
      "outputs": []
    },
    {
      "cell_type": "code",
      "metadata": {
        "id": "OGtCiKy57YkR",
        "colab": {
          "base_uri": "https://localhost:8080/"
        },
        "outputId": "e8416214-c134-4246-bf46-b2a501c14ca7"
      },
      "source": [
        "c2f2.summary()"
      ],
      "execution_count": 10,
      "outputs": [
        {
          "output_type": "stream",
          "text": [
            "Model: \"sequential\"\n",
            "_________________________________________________________________\n",
            "Layer (type)                 Output Shape              Param #   \n",
            "=================================================================\n",
            "conv2d (Conv2D)              (None, 28, 28, 32)        320       \n",
            "_________________________________________________________________\n",
            "max_pooling2d (MaxPooling2D) (None, 14, 14, 32)        0         \n",
            "_________________________________________________________________\n",
            "conv2d_1 (Conv2D)            (None, 14, 14, 64)        18496     \n",
            "_________________________________________________________________\n",
            "max_pooling2d_1 (MaxPooling2 (None, 7, 7, 64)          0         \n",
            "_________________________________________________________________\n",
            "flatten (Flatten)            (None, 3136)              0         \n",
            "_________________________________________________________________\n",
            "dense (Dense)                (None, 128)               401536    \n",
            "_________________________________________________________________\n",
            "dropout (Dropout)            (None, 128)               0         \n",
            "_________________________________________________________________\n",
            "dense_1 (Dense)              (None, 10)                1290      \n",
            "=================================================================\n",
            "Total params: 421,642\n",
            "Trainable params: 421,642\n",
            "Non-trainable params: 0\n",
            "_________________________________________________________________\n"
          ],
          "name": "stdout"
        }
      ]
    },
    {
      "cell_type": "code",
      "metadata": {
        "colab": {
          "base_uri": "https://localhost:8080/"
        },
        "id": "hdyS55p3j6Ji",
        "outputId": "c5279c8e-3f27-4609-9cee-ca77c22709ff"
      },
      "source": [
        "# 1st Conv2D parameters\n",
        "9*32+32"
      ],
      "execution_count": 13,
      "outputs": [
        {
          "output_type": "execute_result",
          "data": {
            "text/plain": [
              "320"
            ]
          },
          "metadata": {
            "tags": []
          },
          "execution_count": 13
        }
      ]
    },
    {
      "cell_type": "code",
      "metadata": {
        "colab": {
          "base_uri": "https://localhost:8080/"
        },
        "id": "kIz89EgRkEyF",
        "outputId": "461fdc45-e58d-4f8e-88cf-53eaa29b7efd"
      },
      "source": [
        "# 2nd Conv2D parameters\n",
        "32*64*3*3 + 64"
      ],
      "execution_count": 15,
      "outputs": [
        {
          "output_type": "execute_result",
          "data": {
            "text/plain": [
              "18496"
            ]
          },
          "metadata": {
            "tags": []
          },
          "execution_count": 15
        }
      ]
    },
    {
      "cell_type": "code",
      "metadata": {
        "id": "zw_pQPBdJmU8"
      },
      "source": [
        "cp_callback = callbacks.ModelCheckpoint(filepath=\"./mnist_c2f2_best_weights.{epoch:03d}-{val_accuracy:.4f}.hdf5\", \n",
        "                              monitor='val_accuracy', verbose=0, save_best_only=True)\n",
        "es_callback = callbacks.EarlyStopping(monitor='val_accuracy', \n",
        "                            mode='max', verbose=1, patience=20)    # patience=10, 20, 50"
      ],
      "execution_count": 16,
      "outputs": []
    },
    {
      "cell_type": "code",
      "metadata": {
        "id": "94GWWQt-7eRS",
        "colab": {
          "base_uri": "https://localhost:8080/"
        },
        "outputId": "404955e2-c2b8-4b0d-eec4-e08393adcdf4"
      },
      "source": [
        "# Train CNN model\n",
        "# Find and save the best model.\n",
        "hist = c2f2.fit(X_train, y_train, epochs = 500 , batch_size =32, \n",
        "         callbacks=[cp_callback, es_callback], \n",
        "         validation_data=(X_test,y_test))"
      ],
      "execution_count": 17,
      "outputs": [
        {
          "output_type": "stream",
          "text": [
            "Epoch 1/500\n",
            "1875/1875 [==============================] - 6s 3ms/step - loss: 0.1538 - accuracy: 0.9532 - val_loss: 0.0451 - val_accuracy: 0.9851\n",
            "Epoch 2/500\n",
            "1875/1875 [==============================] - 6s 3ms/step - loss: 0.0526 - accuracy: 0.9840 - val_loss: 0.0406 - val_accuracy: 0.9871\n",
            "Epoch 3/500\n",
            "1875/1875 [==============================] - 5s 3ms/step - loss: 0.0397 - accuracy: 0.9880 - val_loss: 0.0335 - val_accuracy: 0.9897\n",
            "Epoch 4/500\n",
            "1875/1875 [==============================] - 5s 3ms/step - loss: 0.0304 - accuracy: 0.9908 - val_loss: 0.0285 - val_accuracy: 0.9896\n",
            "Epoch 5/500\n",
            "1875/1875 [==============================] - 5s 3ms/step - loss: 0.0238 - accuracy: 0.9926 - val_loss: 0.0237 - val_accuracy: 0.9923\n",
            "Epoch 6/500\n",
            "1875/1875 [==============================] - 5s 3ms/step - loss: 0.0197 - accuracy: 0.9935 - val_loss: 0.0250 - val_accuracy: 0.9923\n",
            "Epoch 7/500\n",
            "1875/1875 [==============================] - 5s 3ms/step - loss: 0.0164 - accuracy: 0.9944 - val_loss: 0.0279 - val_accuracy: 0.9916\n",
            "Epoch 8/500\n",
            "1875/1875 [==============================] - 5s 3ms/step - loss: 0.0141 - accuracy: 0.9953 - val_loss: 0.0320 - val_accuracy: 0.9909\n",
            "Epoch 9/500\n",
            "1875/1875 [==============================] - 5s 3ms/step - loss: 0.0126 - accuracy: 0.9958 - val_loss: 0.0373 - val_accuracy: 0.9892\n",
            "Epoch 10/500\n",
            "1875/1875 [==============================] - 5s 3ms/step - loss: 0.0107 - accuracy: 0.9965 - val_loss: 0.0261 - val_accuracy: 0.9924\n",
            "Epoch 11/500\n",
            "1875/1875 [==============================] - 5s 3ms/step - loss: 0.0098 - accuracy: 0.9967 - val_loss: 0.0341 - val_accuracy: 0.9906\n",
            "Epoch 12/500\n",
            "1875/1875 [==============================] - 5s 3ms/step - loss: 0.0083 - accuracy: 0.9971 - val_loss: 0.0312 - val_accuracy: 0.9924\n",
            "Epoch 13/500\n",
            "1875/1875 [==============================] - 5s 3ms/step - loss: 0.0088 - accuracy: 0.9970 - val_loss: 0.0273 - val_accuracy: 0.9930\n",
            "Epoch 14/500\n",
            "1875/1875 [==============================] - 5s 3ms/step - loss: 0.0078 - accuracy: 0.9974 - val_loss: 0.0254 - val_accuracy: 0.9931\n",
            "Epoch 15/500\n",
            "1875/1875 [==============================] - 5s 3ms/step - loss: 0.0078 - accuracy: 0.9977 - val_loss: 0.0311 - val_accuracy: 0.9914\n",
            "Epoch 16/500\n",
            "1875/1875 [==============================] - 5s 3ms/step - loss: 0.0066 - accuracy: 0.9980 - val_loss: 0.0387 - val_accuracy: 0.9912\n",
            "Epoch 17/500\n",
            "1875/1875 [==============================] - 5s 3ms/step - loss: 0.0073 - accuracy: 0.9974 - val_loss: 0.0334 - val_accuracy: 0.9925\n",
            "Epoch 18/500\n",
            "1875/1875 [==============================] - 5s 3ms/step - loss: 0.0046 - accuracy: 0.9984 - val_loss: 0.0446 - val_accuracy: 0.9912\n",
            "Epoch 19/500\n",
            "1875/1875 [==============================] - 5s 3ms/step - loss: 0.0064 - accuracy: 0.9979 - val_loss: 0.0456 - val_accuracy: 0.9914\n",
            "Epoch 20/500\n",
            "1875/1875 [==============================] - 5s 3ms/step - loss: 0.0053 - accuracy: 0.9982 - val_loss: 0.0370 - val_accuracy: 0.9926\n",
            "Epoch 21/500\n",
            "1875/1875 [==============================] - 5s 3ms/step - loss: 0.0048 - accuracy: 0.9984 - val_loss: 0.0338 - val_accuracy: 0.9917\n",
            "Epoch 22/500\n",
            "1875/1875 [==============================] - 5s 3ms/step - loss: 0.0047 - accuracy: 0.9985 - val_loss: 0.0434 - val_accuracy: 0.9911\n",
            "Epoch 23/500\n",
            "1875/1875 [==============================] - 5s 3ms/step - loss: 0.0057 - accuracy: 0.9982 - val_loss: 0.0417 - val_accuracy: 0.9924\n",
            "Epoch 24/500\n",
            "1875/1875 [==============================] - 5s 3ms/step - loss: 0.0047 - accuracy: 0.9985 - val_loss: 0.0368 - val_accuracy: 0.9922\n",
            "Epoch 25/500\n",
            "1875/1875 [==============================] - 5s 3ms/step - loss: 0.0047 - accuracy: 0.9985 - val_loss: 0.0543 - val_accuracy: 0.9903\n",
            "Epoch 26/500\n",
            "1875/1875 [==============================] - 5s 3ms/step - loss: 0.0054 - accuracy: 0.9981 - val_loss: 0.0402 - val_accuracy: 0.9923\n",
            "Epoch 27/500\n",
            "1875/1875 [==============================] - 5s 3ms/step - loss: 0.0044 - accuracy: 0.9988 - val_loss: 0.0437 - val_accuracy: 0.9916\n",
            "Epoch 28/500\n",
            "1875/1875 [==============================] - 5s 3ms/step - loss: 0.0051 - accuracy: 0.9983 - val_loss: 0.0441 - val_accuracy: 0.9922\n",
            "Epoch 29/500\n",
            "1875/1875 [==============================] - 5s 3ms/step - loss: 0.0036 - accuracy: 0.9990 - val_loss: 0.0404 - val_accuracy: 0.9928\n",
            "Epoch 30/500\n",
            "1875/1875 [==============================] - 5s 3ms/step - loss: 0.0041 - accuracy: 0.9987 - val_loss: 0.0419 - val_accuracy: 0.9926\n",
            "Epoch 31/500\n",
            "1875/1875 [==============================] - 5s 3ms/step - loss: 0.0041 - accuracy: 0.9987 - val_loss: 0.0386 - val_accuracy: 0.9930\n",
            "Epoch 32/500\n",
            "1875/1875 [==============================] - 5s 3ms/step - loss: 0.0033 - accuracy: 0.9990 - val_loss: 0.0459 - val_accuracy: 0.9929\n",
            "Epoch 33/500\n",
            "1875/1875 [==============================] - 5s 3ms/step - loss: 0.0046 - accuracy: 0.9985 - val_loss: 0.0479 - val_accuracy: 0.9922\n",
            "Epoch 34/500\n",
            "1875/1875 [==============================] - 5s 3ms/step - loss: 0.0040 - accuracy: 0.9987 - val_loss: 0.0432 - val_accuracy: 0.9933\n",
            "Epoch 35/500\n",
            "1875/1875 [==============================] - 5s 3ms/step - loss: 0.0045 - accuracy: 0.9987 - val_loss: 0.0524 - val_accuracy: 0.9933\n",
            "Epoch 36/500\n",
            "1875/1875 [==============================] - 5s 3ms/step - loss: 0.0033 - accuracy: 0.9990 - val_loss: 0.0586 - val_accuracy: 0.9919\n",
            "Epoch 37/500\n",
            "1875/1875 [==============================] - 5s 3ms/step - loss: 0.0035 - accuracy: 0.9990 - val_loss: 0.0529 - val_accuracy: 0.9927\n",
            "Epoch 38/500\n",
            "1875/1875 [==============================] - 5s 3ms/step - loss: 0.0045 - accuracy: 0.9988 - val_loss: 0.0465 - val_accuracy: 0.9923\n",
            "Epoch 39/500\n",
            "1875/1875 [==============================] - 5s 3ms/step - loss: 0.0034 - accuracy: 0.9989 - val_loss: 0.0554 - val_accuracy: 0.9912\n",
            "Epoch 40/500\n",
            "1875/1875 [==============================] - 5s 3ms/step - loss: 0.0048 - accuracy: 0.9987 - val_loss: 0.0579 - val_accuracy: 0.9920\n",
            "Epoch 41/500\n",
            "1875/1875 [==============================] - 5s 3ms/step - loss: 0.0036 - accuracy: 0.9988 - val_loss: 0.0496 - val_accuracy: 0.9918\n",
            "Epoch 42/500\n",
            "1875/1875 [==============================] - 5s 3ms/step - loss: 0.0027 - accuracy: 0.9991 - val_loss: 0.0592 - val_accuracy: 0.9916\n",
            "Epoch 43/500\n",
            "1875/1875 [==============================] - 5s 3ms/step - loss: 0.0043 - accuracy: 0.9987 - val_loss: 0.0534 - val_accuracy: 0.9919\n",
            "Epoch 44/500\n",
            "1875/1875 [==============================] - 5s 3ms/step - loss: 0.0033 - accuracy: 0.9991 - val_loss: 0.0600 - val_accuracy: 0.9915\n",
            "Epoch 45/500\n",
            "1875/1875 [==============================] - 5s 3ms/step - loss: 0.0031 - accuracy: 0.9990 - val_loss: 0.0605 - val_accuracy: 0.9912\n",
            "Epoch 46/500\n",
            "1875/1875 [==============================] - 5s 3ms/step - loss: 0.0032 - accuracy: 0.9992 - val_loss: 0.0591 - val_accuracy: 0.9925\n",
            "Epoch 47/500\n",
            "1875/1875 [==============================] - 5s 3ms/step - loss: 0.0035 - accuracy: 0.9988 - val_loss: 0.0557 - val_accuracy: 0.9912\n",
            "Epoch 48/500\n",
            "1875/1875 [==============================] - 5s 3ms/step - loss: 0.0058 - accuracy: 0.9986 - val_loss: 0.0595 - val_accuracy: 0.9920\n",
            "Epoch 49/500\n",
            "1875/1875 [==============================] - 5s 3ms/step - loss: 0.0044 - accuracy: 0.9988 - val_loss: 0.0477 - val_accuracy: 0.9919\n",
            "Epoch 50/500\n",
            "1875/1875 [==============================] - 5s 3ms/step - loss: 0.0023 - accuracy: 0.9993 - val_loss: 0.0567 - val_accuracy: 0.9917\n",
            "Epoch 51/500\n",
            "1875/1875 [==============================] - 5s 3ms/step - loss: 0.0039 - accuracy: 0.9989 - val_loss: 0.0519 - val_accuracy: 0.9925\n",
            "Epoch 52/500\n",
            "1875/1875 [==============================] - 5s 3ms/step - loss: 0.0044 - accuracy: 0.9990 - val_loss: 0.0565 - val_accuracy: 0.9918\n",
            "Epoch 53/500\n",
            "1875/1875 [==============================] - 5s 3ms/step - loss: 0.0042 - accuracy: 0.9988 - val_loss: 0.0653 - val_accuracy: 0.9921\n",
            "Epoch 54/500\n",
            "1875/1875 [==============================] - 5s 3ms/step - loss: 0.0043 - accuracy: 0.9989 - val_loss: 0.0596 - val_accuracy: 0.9924\n",
            "Epoch 00054: early stopping\n"
          ],
          "name": "stdout"
        }
      ]
    },
    {
      "cell_type": "code",
      "metadata": {
        "id": "0-7is2U49A6Z",
        "colab": {
          "base_uri": "https://localhost:8080/"
        },
        "outputId": "673d6fe7-7b72-4cfa-f972-2c33f3cdf051"
      },
      "source": [
        "c2f2.evaluate(X_test, y_test, batch_size =32)"
      ],
      "execution_count": 18,
      "outputs": [
        {
          "output_type": "stream",
          "text": [
            "313/313 [==============================] - 1s 2ms/step - loss: 0.0596 - accuracy: 0.9924\n"
          ],
          "name": "stdout"
        },
        {
          "output_type": "execute_result",
          "data": {
            "text/plain": [
              "[0.059602972120046616, 0.9923999905586243]"
            ]
          },
          "metadata": {
            "tags": []
          },
          "execution_count": 18
        }
      ]
    },
    {
      "cell_type": "markdown",
      "metadata": {
        "id": "3Ub3qGnjs4EI"
      },
      "source": [
        "## Graph of loss and accuracy\n",
        "- model: C2F2"
      ]
    },
    {
      "cell_type": "code",
      "metadata": {
        "id": "WNmXXLhvWUiK",
        "colab": {
          "base_uri": "https://localhost:8080/",
          "height": 313
        },
        "outputId": "e6c734b0-f2ba-40ab-8104-dcc662151a82"
      },
      "source": [
        "# Plot loass and accuracy\n",
        "# Plot training & validation accuracy values\n",
        "epochs = 54\n",
        "loss_list = [100 * i for i in hist.history['loss']]\n",
        "acc_list = [100 * i for i in hist.history['accuracy']]\n",
        "plt.plot(range(1,epochs+1),loss_list) \n",
        "plt.plot(range(1,epochs+1),acc_list) \n",
        "plt.title('Model loss & accuracy')\n",
        "plt.ylabel('Accuracy (%)')\n",
        "plt.xlabel('Epoch')\n",
        "plt.legend(['loss', 'accuracy'], loc='center left')"
      ],
      "execution_count": 19,
      "outputs": [
        {
          "output_type": "execute_result",
          "data": {
            "text/plain": [
              "<matplotlib.legend.Legend at 0x7f66fc0ceac8>"
            ]
          },
          "metadata": {
            "tags": []
          },
          "execution_count": 19
        },
        {
          "output_type": "display_data",
          "data": {
            "image/png": "[encoded data removed]",
            "text/plain": [
              "<Figure size 432x288 with 1 Axes>"
            ]
          },
          "metadata": {
            "tags": [],
            "needs_background": "light"
          }
        }
      ]
    },
    {
      "cell_type": "code",
      "metadata": {
        "id": "0wNssVPhu_8m"
      },
      "source": [
        "vloss_list = [100 * i for i in hist.history['val_loss']]\n",
        "vacc_list = [100 * i for i in hist.history['val_accuracy']]"
      ],
      "execution_count": 20,
      "outputs": []
    },
    {
      "cell_type": "code",
      "metadata": {
        "id": "TX5Uzro4vjaY",
        "colab": {
          "base_uri": "https://localhost:8080/",
          "height": 313
        },
        "outputId": "44d8994d-4862-42e1-9fab-393151793736"
      },
      "source": [
        "plt.plot(range(1,epochs+1),vloss_list)  \n",
        "plt.plot(range(1,epochs+1),vacc_list)  \n",
        "plt.title('Model val_loss & val_accuracy')\n",
        "plt.ylabel('Accuracy (%)')\n",
        "plt.xlabel('Epoch')\n",
        "plt.legend(['val_loss', 'val_accuracy'], loc='center left')"
      ],
      "execution_count": 21,
      "outputs": [
        {
          "output_type": "execute_result",
          "data": {
            "text/plain": [
              "<matplotlib.legend.Legend at 0x7f66fc0deb38>"
            ]
          },
          "metadata": {
            "tags": []
          },
          "execution_count": 21
        },
        {
          "output_type": "display_data",
          "data": {
            "image/png": "[encoded data removed]",
            "text/plain": [
              "<Figure size 432x288 with 1 Axes>"
            ]
          },
          "metadata": {
            "tags": [],
            "needs_background": "light"
          }
        }
      ]
    },
    {
      "cell_type": "code",
      "metadata": {
        "id": "WkK7XXY2x8J4",
        "colab": {
          "base_uri": "https://localhost:8080/"
        },
        "outputId": "45f084bf-183b-4adf-d9ef-0196da06fe7d"
      },
      "source": [
        "np.argmax(np.array(vacc_list))"
      ],
      "execution_count": 23,
      "outputs": [
        {
          "output_type": "execute_result",
          "data": {
            "text/plain": [
              "33"
            ]
          },
          "metadata": {
            "tags": []
          },
          "execution_count": 23
        }
      ]
    },
    {
      "cell_type": "code",
      "metadata": {
        "id": "S8LAN1AYzykJ",
        "colab": {
          "base_uri": "https://localhost:8080/"
        },
        "outputId": "a3d67142-0519-4bd4-d89e-3f95477f7ead"
      },
      "source": [
        "vacc_list[np.argmax(np.array(vacc_list))]"
      ],
      "execution_count": 24,
      "outputs": [
        {
          "output_type": "execute_result",
          "data": {
            "text/plain": [
              "99.33000206947327"
            ]
          },
          "metadata": {
            "tags": []
          },
          "execution_count": 24
        }
      ]
    },
    {
      "cell_type": "code",
      "metadata": {
        "id": "blALTNdyvjVK",
        "colab": {
          "base_uri": "https://localhost:8080/",
          "height": 313
        },
        "outputId": "78696d98-58ee-46c9-ae6a-0e00cb0b4120"
      },
      "source": [
        "plt.plot(range(1,epochs+1),acc_list)  \n",
        "plt.plot(range(1,epochs+1),vacc_list)  \n",
        "plt.title('accuracy vs. val_accuracy')\n",
        "plt.ylabel('Accuracy (%)')\n",
        "plt.xlabel('Epoch')\n",
        "plt.legend(['accuracy','val_accuracy'], loc='center')\n",
        "plt.plot(np.argmax(np.array(vacc_list))+1,vacc_list[np.argmax(np.array(vacc_list))], 'r*') "
      ],
      "execution_count": 25,
      "outputs": [
        {
          "output_type": "execute_result",
          "data": {
            "text/plain": [
              "[<matplotlib.lines.Line2D at 0x7f66e474a2b0>]"
            ]
          },
          "metadata": {
            "tags": []
          },
          "execution_count": 25
        },
        {
          "output_type": "display_data",
          "data": {
            "image/png": "[encoded data removed]",
            "text/plain": [
              "<Figure size 432x288 with 1 Axes>"
            ]
          },
          "metadata": {
            "tags": [],
            "needs_background": "light"
          }
        }
      ]
    },
    {
      "cell_type": "markdown",
      "metadata": {
        "id": "gBPKMI4y3fsa"
      },
      "source": [
        "## 최적화된 모형 불러와서 이용\n",
        "\n",
        "- callbacks.ModelCheckpoint를 이용해서 트레이닝 중 val_accuacy가 가장 높은 모형을 가중치와 함께 hdf5 형식으로 저장\n",
        "- load 명령으로 불러 사용\n",
        "\n",
        "> mnist_c2f2_best_weights.034-0.9933.hdf5"
      ]
    },
    {
      "cell_type": "code",
      "metadata": {
        "id": "KCfbQl2v3fsa"
      },
      "source": [
        "# c2f2.save('cnn_best.hdf5')"
      ],
      "execution_count": null,
      "outputs": []
    },
    {
      "cell_type": "code",
      "metadata": {
        "id": "b7-ysIVy3fse",
        "colab": {
          "base_uri": "https://localhost:8080/"
        },
        "outputId": "6cc806cf-a69e-4e3e-b855-ee9a4c560112"
      },
      "source": [
        "from keras.models import load_model\n",
        "\n",
        "model = load_model('mnist_c2f2_best_weights.034-0.9933.hdf5')\n",
        "model.evaluate(X_test, y_test, batch_size=32)"
      ],
      "execution_count": 26,
      "outputs": [
        {
          "output_type": "stream",
          "text": [
            "313/313 [==============================] - 1s 2ms/step - loss: 0.0432 - accuracy: 0.9933\n"
          ],
          "name": "stdout"
        },
        {
          "output_type": "execute_result",
          "data": {
            "text/plain": [
              "[0.043200403451919556, 0.9933000206947327]"
            ]
          },
          "metadata": {
            "tags": []
          },
          "execution_count": 26
        }
      ]
    },
    {
      "cell_type": "markdown",
      "metadata": {
        "id": "3dO5bh1ILJP_"
      },
      "source": [
        "## [DIY] C2F3의 best model을 구하시오."
      ]
    },
    {
      "cell_type": "markdown",
      "metadata": {
        "id": "SUJxRQtafihM"
      },
      "source": [
        "## **CNN2 + FCN3**"
      ]
    },
    {
      "cell_type": "code",
      "metadata": {
        "id": "Nl5CyAymAB34"
      },
      "source": [
        "c2f3 = keras.models.Sequential([ \n",
        "    Conv2D(input_shape=(28,28,1),kernel_size=(3,3),strides=(1,1),filters= 32,padding='same',activation='relu'),\n",
        "    MaxPool2D(pool_size=(2,2), strides=(2,2)), \n",
        "    Conv2D(kernel_size=(3,3),strides=(1,1),filters= 64,padding='same',activation='relu'),\n",
        "    MaxPool2D(pool_size=(2,2), strides=(2,2)),\n",
        "    Flatten(), \n",
        "    keras.layers.Dense(128, activation='relu'),  \n",
        "    keras.layers.Dropout(0.25), \n",
        "    keras.layers.Dense(64, activation='relu'),  \n",
        "    keras.layers.Dropout(0.25), \n",
        "    keras.layers.Dense(10, activation='softmax')\n",
        "])\n",
        "\n",
        "c2f3.compile(optimizer='adam',\n",
        "              loss='categorical_crossentropy',\n",
        "              metrics=['accuracy']) "
      ],
      "execution_count": 27,
      "outputs": []
    },
    {
      "cell_type": "code",
      "metadata": {
        "id": "gYxuGW_2ANL8",
        "colab": {
          "base_uri": "https://localhost:8080/"
        },
        "outputId": "44a3ba3c-89eb-4106-8234-f1b4ba5c1760"
      },
      "source": [
        "c2f3.summary()"
      ],
      "execution_count": 28,
      "outputs": [
        {
          "output_type": "stream",
          "text": [
            "Model: \"sequential_1\"\n",
            "_________________________________________________________________\n",
            "Layer (type)                 Output Shape              Param #   \n",
            "=================================================================\n",
            "conv2d_2 (Conv2D)            (None, 28, 28, 32)        320       \n",
            "_________________________________________________________________\n",
            "max_pooling2d_2 (MaxPooling2 (None, 14, 14, 32)        0         \n",
            "_________________________________________________________________\n",
            "conv2d_3 (Conv2D)            (None, 14, 14, 64)        18496     \n",
            "_________________________________________________________________\n",
            "max_pooling2d_3 (MaxPooling2 (None, 7, 7, 64)          0         \n",
            "_________________________________________________________________\n",
            "flatten_1 (Flatten)          (None, 3136)              0         \n",
            "_________________________________________________________________\n",
            "dense_2 (Dense)              (None, 128)               401536    \n",
            "_________________________________________________________________\n",
            "dropout_1 (Dropout)          (None, 128)               0         \n",
            "_________________________________________________________________\n",
            "dense_3 (Dense)              (None, 64)                8256      \n",
            "_________________________________________________________________\n",
            "dropout_2 (Dropout)          (None, 64)                0         \n",
            "_________________________________________________________________\n",
            "dense_4 (Dense)              (None, 10)                650       \n",
            "=================================================================\n",
            "Total params: 429,258\n",
            "Trainable params: 429,258\n",
            "Non-trainable params: 0\n",
            "_________________________________________________________________\n"
          ],
          "name": "stdout"
        }
      ]
    },
    {
      "cell_type": "code",
      "metadata": {
        "id": "rnjas5uPnYjY"
      },
      "source": [
        "# Your code here!!\n",
        "\n",
        "cp_callback = callbacks.ModelCheckpoint(filepath=\"./mnist_c2f2_best_weights.{epoch:03d}-{val_accuracy:.4f}.hdf5\", \n",
        "                              monitor='val_accuracy', verbose=0, save_best_only=True)\n",
        "es_callback = callbacks.EarlyStopping(monitor='val_accuracy', \n",
        "                            mode='max', verbose=1, patience=50)    # patience=10, 20, 50"
      ],
      "execution_count": 29,
      "outputs": []
    },
    {
      "cell_type": "code",
      "metadata": {
        "colab": {
          "base_uri": "https://localhost:8080/"
        },
        "id": "kSLFuIxxq9XO",
        "outputId": "01ec27a5-15fd-4e5a-ad99-4af8d4182d37"
      },
      "source": [
        "# Train CNN model\n",
        "# Find and save the best model.\n",
        "hist = c2f3.fit(X_train, y_train, epochs = 500 , batch_size =32, \n",
        "         callbacks=[cp_callback, es_callback], \n",
        "         validation_data=(X_test,y_test))"
      ],
      "execution_count": 30,
      "outputs": [
        {
          "output_type": "stream",
          "text": [
            "Epoch 1/500\n",
            "1875/1875 [==============================] - 5s 3ms/step - loss: 0.2136 - accuracy: 0.9349 - val_loss: 0.0508 - val_accuracy: 0.9842\n",
            "Epoch 2/500\n",
            "1875/1875 [==============================] - 5s 3ms/step - loss: 0.0708 - accuracy: 0.9800 - val_loss: 0.0331 - val_accuracy: 0.9900\n",
            "Epoch 3/500\n",
            "1875/1875 [==============================] - 5s 3ms/step - loss: 0.0524 - accuracy: 0.9848 - val_loss: 0.0277 - val_accuracy: 0.9917\n",
            "Epoch 4/500\n",
            "1875/1875 [==============================] - 5s 3ms/step - loss: 0.0417 - accuracy: 0.9876 - val_loss: 0.0323 - val_accuracy: 0.9897\n",
            "Epoch 5/500\n",
            "1875/1875 [==============================] - 5s 3ms/step - loss: 0.0355 - accuracy: 0.9900 - val_loss: 0.0341 - val_accuracy: 0.9884\n",
            "Epoch 6/500\n",
            "1875/1875 [==============================] - 5s 3ms/step - loss: 0.0292 - accuracy: 0.9915 - val_loss: 0.0318 - val_accuracy: 0.9913\n",
            "Epoch 7/500\n",
            "1875/1875 [==============================] - 5s 3ms/step - loss: 0.0259 - accuracy: 0.9923 - val_loss: 0.0324 - val_accuracy: 0.9914\n",
            "Epoch 8/500\n",
            "1875/1875 [==============================] - 5s 3ms/step - loss: 0.0217 - accuracy: 0.9931 - val_loss: 0.0239 - val_accuracy: 0.9932\n",
            "Epoch 9/500\n",
            "1875/1875 [==============================] - 5s 3ms/step - loss: 0.0179 - accuracy: 0.9945 - val_loss: 0.0234 - val_accuracy: 0.9932\n",
            "Epoch 10/500\n",
            "1875/1875 [==============================] - 5s 3ms/step - loss: 0.0183 - accuracy: 0.9945 - val_loss: 0.0238 - val_accuracy: 0.9934\n",
            "Epoch 11/500\n",
            "1875/1875 [==============================] - 5s 3ms/step - loss: 0.0171 - accuracy: 0.9954 - val_loss: 0.0296 - val_accuracy: 0.9910\n",
            "Epoch 12/500\n",
            "1875/1875 [==============================] - 5s 3ms/step - loss: 0.0141 - accuracy: 0.9955 - val_loss: 0.0323 - val_accuracy: 0.9917\n",
            "Epoch 13/500\n",
            "1875/1875 [==============================] - 5s 3ms/step - loss: 0.0147 - accuracy: 0.9956 - val_loss: 0.0353 - val_accuracy: 0.9921\n",
            "Epoch 14/500\n",
            "1875/1875 [==============================] - 5s 3ms/step - loss: 0.0139 - accuracy: 0.9960 - val_loss: 0.0354 - val_accuracy: 0.9916\n",
            "Epoch 15/500\n",
            "1875/1875 [==============================] - 5s 3ms/step - loss: 0.0124 - accuracy: 0.9962 - val_loss: 0.0344 - val_accuracy: 0.9915\n",
            "Epoch 16/500\n",
            "1875/1875 [==============================] - 5s 3ms/step - loss: 0.0123 - accuracy: 0.9963 - val_loss: 0.0410 - val_accuracy: 0.9916\n",
            "Epoch 17/500\n",
            "1875/1875 [==============================] - 5s 3ms/step - loss: 0.0091 - accuracy: 0.9971 - val_loss: 0.0368 - val_accuracy: 0.9923\n",
            "Epoch 18/500\n",
            "1875/1875 [==============================] - 5s 3ms/step - loss: 0.0123 - accuracy: 0.9965 - val_loss: 0.0331 - val_accuracy: 0.9918\n",
            "Epoch 19/500\n",
            "1875/1875 [==============================] - 5s 3ms/step - loss: 0.0100 - accuracy: 0.9968 - val_loss: 0.0328 - val_accuracy: 0.9932\n",
            "Epoch 20/500\n",
            "1875/1875 [==============================] - 5s 3ms/step - loss: 0.0085 - accuracy: 0.9974 - val_loss: 0.0342 - val_accuracy: 0.9925\n",
            "Epoch 21/500\n",
            "1875/1875 [==============================] - 5s 3ms/step - loss: 0.0101 - accuracy: 0.9970 - val_loss: 0.0410 - val_accuracy: 0.9921\n",
            "Epoch 22/500\n",
            "1875/1875 [==============================] - 5s 3ms/step - loss: 0.0084 - accuracy: 0.9976 - val_loss: 0.0423 - val_accuracy: 0.9919\n",
            "Epoch 23/500\n",
            "1875/1875 [==============================] - 5s 3ms/step - loss: 0.0090 - accuracy: 0.9973 - val_loss: 0.0363 - val_accuracy: 0.9931\n",
            "Epoch 24/500\n",
            "1875/1875 [==============================] - 5s 3ms/step - loss: 0.0078 - accuracy: 0.9979 - val_loss: 0.0495 - val_accuracy: 0.9914\n",
            "Epoch 25/500\n",
            "1875/1875 [==============================] - 5s 3ms/step - loss: 0.0090 - accuracy: 0.9975 - val_loss: 0.0473 - val_accuracy: 0.9915\n",
            "Epoch 26/500\n",
            "1875/1875 [==============================] - 5s 3ms/step - loss: 0.0090 - accuracy: 0.9977 - val_loss: 0.0391 - val_accuracy: 0.9924\n",
            "Epoch 27/500\n",
            "1875/1875 [==============================] - 5s 3ms/step - loss: 0.0071 - accuracy: 0.9980 - val_loss: 0.0462 - val_accuracy: 0.9930\n",
            "Epoch 28/500\n",
            "1875/1875 [==============================] - 5s 3ms/step - loss: 0.0097 - accuracy: 0.9973 - val_loss: 0.0472 - val_accuracy: 0.9923\n",
            "Epoch 29/500\n",
            "1875/1875 [==============================] - 5s 3ms/step - loss: 0.0073 - accuracy: 0.9979 - val_loss: 0.0398 - val_accuracy: 0.9932\n",
            "Epoch 30/500\n",
            "1875/1875 [==============================] - 5s 3ms/step - loss: 0.0073 - accuracy: 0.9981 - val_loss: 0.0490 - val_accuracy: 0.9918\n",
            "Epoch 31/500\n",
            "1875/1875 [==============================] - 5s 3ms/step - loss: 0.0079 - accuracy: 0.9976 - val_loss: 0.0451 - val_accuracy: 0.9917\n",
            "Epoch 32/500\n",
            "1875/1875 [==============================] - 6s 3ms/step - loss: 0.0069 - accuracy: 0.9978 - val_loss: 0.0472 - val_accuracy: 0.9920\n",
            "Epoch 33/500\n",
            "1875/1875 [==============================] - 6s 3ms/step - loss: 0.0095 - accuracy: 0.9979 - val_loss: 0.0427 - val_accuracy: 0.9928\n",
            "Epoch 34/500\n",
            "1875/1875 [==============================] - 5s 3ms/step - loss: 0.0070 - accuracy: 0.9981 - val_loss: 0.0407 - val_accuracy: 0.9929\n",
            "Epoch 35/500\n",
            "1875/1875 [==============================] - 5s 3ms/step - loss: 0.0061 - accuracy: 0.9981 - val_loss: 0.0518 - val_accuracy: 0.9912\n",
            "Epoch 36/500\n",
            "1875/1875 [==============================] - 5s 3ms/step - loss: 0.0071 - accuracy: 0.9980 - val_loss: 0.0359 - val_accuracy: 0.9929\n",
            "Epoch 37/500\n",
            "1875/1875 [==============================] - 5s 3ms/step - loss: 0.0065 - accuracy: 0.9983 - val_loss: 0.0485 - val_accuracy: 0.9923\n",
            "Epoch 38/500\n",
            "1875/1875 [==============================] - 5s 3ms/step - loss: 0.0070 - accuracy: 0.9982 - val_loss: 0.0523 - val_accuracy: 0.9920\n",
            "Epoch 39/500\n",
            "1875/1875 [==============================] - 5s 3ms/step - loss: 0.0059 - accuracy: 0.9982 - val_loss: 0.0370 - val_accuracy: 0.9935\n",
            "Epoch 40/500\n",
            "1875/1875 [==============================] - 5s 3ms/step - loss: 0.0057 - accuracy: 0.9985 - val_loss: 0.0571 - val_accuracy: 0.9931\n",
            "Epoch 41/500\n",
            "1875/1875 [==============================] - 5s 3ms/step - loss: 0.0077 - accuracy: 0.9982 - val_loss: 0.0399 - val_accuracy: 0.9931\n",
            "Epoch 42/500\n",
            "1875/1875 [==============================] - 5s 3ms/step - loss: 0.0057 - accuracy: 0.9983 - val_loss: 0.0527 - val_accuracy: 0.9922\n",
            "Epoch 43/500\n",
            "1875/1875 [==============================] - 5s 3ms/step - loss: 0.0070 - accuracy: 0.9981 - val_loss: 0.0567 - val_accuracy: 0.9929\n",
            "Epoch 44/500\n",
            "1875/1875 [==============================] - 5s 3ms/step - loss: 0.0072 - accuracy: 0.9979 - val_loss: 0.0520 - val_accuracy: 0.9930\n",
            "Epoch 45/500\n",
            "1875/1875 [==============================] - 5s 3ms/step - loss: 0.0054 - accuracy: 0.9986 - val_loss: 0.0542 - val_accuracy: 0.9922\n",
            "Epoch 46/500\n",
            "1875/1875 [==============================] - 5s 3ms/step - loss: 0.0061 - accuracy: 0.9984 - val_loss: 0.0560 - val_accuracy: 0.9917\n",
            "Epoch 47/500\n",
            "1875/1875 [==============================] - 5s 3ms/step - loss: 0.0061 - accuracy: 0.9984 - val_loss: 0.0678 - val_accuracy: 0.9924\n",
            "Epoch 48/500\n",
            "1875/1875 [==============================] - 5s 3ms/step - loss: 0.0075 - accuracy: 0.9983 - val_loss: 0.0562 - val_accuracy: 0.9919\n",
            "Epoch 49/500\n",
            "1875/1875 [==============================] - 5s 3ms/step - loss: 0.0056 - accuracy: 0.9987 - val_loss: 0.0522 - val_accuracy: 0.9923\n",
            "Epoch 50/500\n",
            "1875/1875 [==============================] - 5s 3ms/step - loss: 0.0069 - accuracy: 0.9981 - val_loss: 0.0646 - val_accuracy: 0.9913\n",
            "Epoch 51/500\n",
            "1875/1875 [==============================] - 5s 3ms/step - loss: 0.0056 - accuracy: 0.9986 - val_loss: 0.0610 - val_accuracy: 0.9916\n",
            "Epoch 52/500\n",
            "1875/1875 [==============================] - 5s 3ms/step - loss: 0.0066 - accuracy: 0.9983 - val_loss: 0.1087 - val_accuracy: 0.9852\n",
            "Epoch 53/500\n",
            "1875/1875 [==============================] - 5s 3ms/step - loss: 0.0068 - accuracy: 0.9985 - val_loss: 0.0622 - val_accuracy: 0.9922\n",
            "Epoch 54/500\n",
            "1875/1875 [==============================] - 5s 3ms/step - loss: 0.0063 - accuracy: 0.9985 - val_loss: 0.0585 - val_accuracy: 0.9932\n",
            "Epoch 55/500\n",
            "1875/1875 [==============================] - 5s 3ms/step - loss: 0.0051 - accuracy: 0.9988 - val_loss: 0.0721 - val_accuracy: 0.9912\n",
            "Epoch 56/500\n",
            "1875/1875 [==============================] - 5s 3ms/step - loss: 0.0067 - accuracy: 0.9982 - val_loss: 0.0681 - val_accuracy: 0.9918\n",
            "Epoch 57/500\n",
            "1875/1875 [==============================] - 5s 3ms/step - loss: 0.0055 - accuracy: 0.9987 - val_loss: 0.0512 - val_accuracy: 0.9928\n",
            "Epoch 58/500\n",
            "1875/1875 [==============================] - 5s 3ms/step - loss: 0.0070 - accuracy: 0.9984 - val_loss: 0.0529 - val_accuracy: 0.9926\n",
            "Epoch 59/500\n",
            "1875/1875 [==============================] - 5s 3ms/step - loss: 0.0051 - accuracy: 0.9986 - val_loss: 0.0544 - val_accuracy: 0.9918\n",
            "Epoch 60/500\n",
            "1875/1875 [==============================] - 5s 3ms/step - loss: 0.0048 - accuracy: 0.9988 - val_loss: 0.0992 - val_accuracy: 0.9905\n",
            "Epoch 61/500\n",
            "1875/1875 [==============================] - 5s 3ms/step - loss: 0.0074 - accuracy: 0.9983 - val_loss: 0.0631 - val_accuracy: 0.9926\n",
            "Epoch 62/500\n",
            "1875/1875 [==============================] - 5s 3ms/step - loss: 0.0055 - accuracy: 0.9986 - val_loss: 0.0685 - val_accuracy: 0.9914\n",
            "Epoch 63/500\n",
            "1875/1875 [==============================] - 5s 3ms/step - loss: 0.0048 - accuracy: 0.9989 - val_loss: 0.0648 - val_accuracy: 0.9924\n",
            "Epoch 64/500\n",
            "1875/1875 [==============================] - 5s 3ms/step - loss: 0.0057 - accuracy: 0.9985 - val_loss: 0.0688 - val_accuracy: 0.9923\n",
            "Epoch 65/500\n",
            "1875/1875 [==============================] - 5s 3ms/step - loss: 0.0063 - accuracy: 0.9987 - val_loss: 0.0758 - val_accuracy: 0.9916\n",
            "Epoch 66/500\n",
            "1875/1875 [==============================] - 5s 3ms/step - loss: 0.0050 - accuracy: 0.9987 - val_loss: 0.0729 - val_accuracy: 0.9932\n",
            "Epoch 67/500\n",
            "1875/1875 [==============================] - 5s 3ms/step - loss: 0.0062 - accuracy: 0.9985 - val_loss: 0.0622 - val_accuracy: 0.9919\n",
            "Epoch 68/500\n",
            "1875/1875 [==============================] - 5s 3ms/step - loss: 0.0036 - accuracy: 0.9990 - val_loss: 0.0779 - val_accuracy: 0.9925\n",
            "Epoch 69/500\n",
            "1875/1875 [==============================] - 5s 3ms/step - loss: 0.0061 - accuracy: 0.9987 - val_loss: 0.0668 - val_accuracy: 0.9921\n",
            "Epoch 70/500\n",
            "1875/1875 [==============================] - 5s 3ms/step - loss: 0.0068 - accuracy: 0.9985 - val_loss: 0.0761 - val_accuracy: 0.9915\n",
            "Epoch 71/500\n",
            "1875/1875 [==============================] - 5s 3ms/step - loss: 0.0059 - accuracy: 0.9987 - val_loss: 0.0707 - val_accuracy: 0.9918\n",
            "Epoch 72/500\n",
            "1875/1875 [==============================] - 5s 3ms/step - loss: 0.0035 - accuracy: 0.9991 - val_loss: 0.0731 - val_accuracy: 0.9913\n",
            "Epoch 73/500\n",
            "1875/1875 [==============================] - 5s 3ms/step - loss: 0.0054 - accuracy: 0.9987 - val_loss: 0.0655 - val_accuracy: 0.9922\n",
            "Epoch 74/500\n",
            "1875/1875 [==============================] - 5s 3ms/step - loss: 0.0059 - accuracy: 0.9984 - val_loss: 0.0723 - val_accuracy: 0.9920\n",
            "Epoch 75/500\n",
            "1875/1875 [==============================] - 5s 3ms/step - loss: 0.0054 - accuracy: 0.9986 - val_loss: 0.0744 - val_accuracy: 0.9921\n",
            "Epoch 76/500\n",
            "1875/1875 [==============================] - 5s 3ms/step - loss: 0.0049 - accuracy: 0.9988 - val_loss: 0.0545 - val_accuracy: 0.9934\n",
            "Epoch 77/500\n",
            "1875/1875 [==============================] - 5s 3ms/step - loss: 0.0074 - accuracy: 0.9986 - val_loss: 0.0891 - val_accuracy: 0.9915\n",
            "Epoch 78/500\n",
            "1875/1875 [==============================] - 5s 3ms/step - loss: 0.0060 - accuracy: 0.9988 - val_loss: 0.0695 - val_accuracy: 0.9921\n",
            "Epoch 79/500\n",
            "1875/1875 [==============================] - 5s 3ms/step - loss: 0.0060 - accuracy: 0.9986 - val_loss: 0.0866 - val_accuracy: 0.9920\n",
            "Epoch 80/500\n",
            "1875/1875 [==============================] - 5s 3ms/step - loss: 0.0063 - accuracy: 0.9985 - val_loss: 0.0686 - val_accuracy: 0.9931\n",
            "Epoch 81/500\n",
            "1875/1875 [==============================] - 5s 3ms/step - loss: 0.0063 - accuracy: 0.9984 - val_loss: 0.0642 - val_accuracy: 0.9936\n",
            "Epoch 82/500\n",
            "1875/1875 [==============================] - 5s 3ms/step - loss: 0.0033 - accuracy: 0.9990 - val_loss: 0.0777 - val_accuracy: 0.9931\n",
            "Epoch 83/500\n",
            "1875/1875 [==============================] - 5s 3ms/step - loss: 0.0066 - accuracy: 0.9988 - val_loss: 0.0816 - val_accuracy: 0.9925\n",
            "Epoch 84/500\n",
            "1875/1875 [==============================] - 5s 3ms/step - loss: 0.0069 - accuracy: 0.9986 - val_loss: 0.0761 - val_accuracy: 0.9914\n",
            "Epoch 85/500\n",
            "1875/1875 [==============================] - 5s 3ms/step - loss: 0.0048 - accuracy: 0.9989 - val_loss: 0.0790 - val_accuracy: 0.9918\n",
            "Epoch 86/500\n",
            "1875/1875 [==============================] - 5s 3ms/step - loss: 0.0044 - accuracy: 0.9989 - val_loss: 0.0723 - val_accuracy: 0.9933\n",
            "Epoch 87/500\n",
            "1875/1875 [==============================] - 5s 3ms/step - loss: 0.0053 - accuracy: 0.9990 - val_loss: 0.0677 - val_accuracy: 0.9936\n",
            "Epoch 88/500\n",
            "1875/1875 [==============================] - 5s 3ms/step - loss: 0.0067 - accuracy: 0.9988 - val_loss: 0.0823 - val_accuracy: 0.9930\n",
            "Epoch 89/500\n",
            "1875/1875 [==============================] - 5s 3ms/step - loss: 0.0049 - accuracy: 0.9988 - val_loss: 0.0811 - val_accuracy: 0.9926\n",
            "Epoch 90/500\n",
            "1875/1875 [==============================] - 5s 3ms/step - loss: 0.0062 - accuracy: 0.9989 - val_loss: 0.0848 - val_accuracy: 0.9924\n",
            "Epoch 91/500\n",
            "1875/1875 [==============================] - 6s 3ms/step - loss: 0.0052 - accuracy: 0.9987 - val_loss: 0.0976 - val_accuracy: 0.9928\n",
            "Epoch 92/500\n",
            "1875/1875 [==============================] - 6s 3ms/step - loss: 0.0059 - accuracy: 0.9986 - val_loss: 0.1060 - val_accuracy: 0.9916\n",
            "Epoch 93/500\n",
            "1875/1875 [==============================] - 5s 3ms/step - loss: 0.0054 - accuracy: 0.9991 - val_loss: 0.0689 - val_accuracy: 0.9918\n",
            "Epoch 94/500\n",
            "1875/1875 [==============================] - 6s 3ms/step - loss: 0.0052 - accuracy: 0.9988 - val_loss: 0.0896 - val_accuracy: 0.9920\n",
            "Epoch 95/500\n",
            "1875/1875 [==============================] - 5s 3ms/step - loss: 0.0044 - accuracy: 0.9991 - val_loss: 0.1253 - val_accuracy: 0.9914\n",
            "Epoch 96/500\n",
            "1875/1875 [==============================] - 5s 3ms/step - loss: 0.0046 - accuracy: 0.9990 - val_loss: 0.0816 - val_accuracy: 0.9925\n",
            "Epoch 97/500\n",
            "1875/1875 [==============================] - 5s 3ms/step - loss: 0.0035 - accuracy: 0.9993 - val_loss: 0.0882 - val_accuracy: 0.9917\n",
            "Epoch 98/500\n",
            "1875/1875 [==============================] - 5s 3ms/step - loss: 0.0060 - accuracy: 0.9988 - val_loss: 0.0717 - val_accuracy: 0.9929\n",
            "Epoch 99/500\n",
            "1875/1875 [==============================] - 5s 3ms/step - loss: 0.0068 - accuracy: 0.9988 - val_loss: 0.0791 - val_accuracy: 0.9936\n",
            "Epoch 100/500\n",
            "1875/1875 [==============================] - 5s 3ms/step - loss: 0.0046 - accuracy: 0.9990 - val_loss: 0.0803 - val_accuracy: 0.9927\n",
            "Epoch 101/500\n",
            "1875/1875 [==============================] - 5s 3ms/step - loss: 0.0079 - accuracy: 0.9985 - val_loss: 0.0951 - val_accuracy: 0.9924\n",
            "Epoch 102/500\n",
            "1875/1875 [==============================] - 5s 3ms/step - loss: 0.0048 - accuracy: 0.9989 - val_loss: 0.0859 - val_accuracy: 0.9926\n",
            "Epoch 103/500\n",
            "1875/1875 [==============================] - 5s 3ms/step - loss: 0.0047 - accuracy: 0.9990 - val_loss: 0.0904 - val_accuracy: 0.9921\n",
            "Epoch 104/500\n",
            "1875/1875 [==============================] - 5s 3ms/step - loss: 0.0061 - accuracy: 0.9987 - val_loss: 0.0857 - val_accuracy: 0.9930\n",
            "Epoch 105/500\n",
            "1875/1875 [==============================] - 5s 3ms/step - loss: 0.0045 - accuracy: 0.9990 - val_loss: 0.0988 - val_accuracy: 0.9917\n",
            "Epoch 106/500\n",
            "1875/1875 [==============================] - 5s 3ms/step - loss: 0.0064 - accuracy: 0.9987 - val_loss: 0.0868 - val_accuracy: 0.9913\n",
            "Epoch 107/500\n",
            "1875/1875 [==============================] - 5s 3ms/step - loss: 0.0040 - accuracy: 0.9990 - val_loss: 0.0754 - val_accuracy: 0.9914\n",
            "Epoch 108/500\n",
            "1875/1875 [==============================] - 5s 3ms/step - loss: 0.0061 - accuracy: 0.9988 - val_loss: 0.0712 - val_accuracy: 0.9933\n",
            "Epoch 109/500\n",
            "1875/1875 [==============================] - 5s 3ms/step - loss: 0.0038 - accuracy: 0.9992 - val_loss: 0.0765 - val_accuracy: 0.9927\n",
            "Epoch 110/500\n",
            "1875/1875 [==============================] - 5s 3ms/step - loss: 0.0038 - accuracy: 0.9993 - val_loss: 0.0936 - val_accuracy: 0.9929\n",
            "Epoch 111/500\n",
            "1875/1875 [==============================] - 5s 3ms/step - loss: 0.0047 - accuracy: 0.9989 - val_loss: 0.0923 - val_accuracy: 0.9916\n",
            "Epoch 112/500\n",
            "1875/1875 [==============================] - 5s 3ms/step - loss: 0.0069 - accuracy: 0.9987 - val_loss: 0.0896 - val_accuracy: 0.9918\n",
            "Epoch 113/500\n",
            "1875/1875 [==============================] - 5s 3ms/step - loss: 0.0038 - accuracy: 0.9991 - val_loss: 0.0835 - val_accuracy: 0.9920\n",
            "Epoch 114/500\n",
            "1875/1875 [==============================] - 5s 3ms/step - loss: 0.0051 - accuracy: 0.9988 - val_loss: 0.0966 - val_accuracy: 0.9916\n",
            "Epoch 115/500\n",
            "1875/1875 [==============================] - 5s 3ms/step - loss: 0.0060 - accuracy: 0.9987 - val_loss: 0.0971 - val_accuracy: 0.9925\n",
            "Epoch 116/500\n",
            "1875/1875 [==============================] - 5s 3ms/step - loss: 0.0039 - accuracy: 0.9991 - val_loss: 0.1038 - val_accuracy: 0.9926\n",
            "Epoch 117/500\n",
            "1875/1875 [==============================] - 5s 3ms/step - loss: 0.0058 - accuracy: 0.9988 - val_loss: 0.0770 - val_accuracy: 0.9920\n",
            "Epoch 118/500\n",
            "1875/1875 [==============================] - 5s 3ms/step - loss: 0.0054 - accuracy: 0.9989 - val_loss: 0.1030 - val_accuracy: 0.9923\n",
            "Epoch 119/500\n",
            "1875/1875 [==============================] - 5s 3ms/step - loss: 0.0054 - accuracy: 0.9990 - val_loss: 0.0815 - val_accuracy: 0.9920\n",
            "Epoch 120/500\n",
            "1875/1875 [==============================] - 5s 3ms/step - loss: 0.0054 - accuracy: 0.9988 - val_loss: 0.0724 - val_accuracy: 0.9917\n",
            "Epoch 121/500\n",
            "1875/1875 [==============================] - 5s 3ms/step - loss: 0.0048 - accuracy: 0.9990 - val_loss: 0.1140 - val_accuracy: 0.9926\n",
            "Epoch 122/500\n",
            "1875/1875 [==============================] - 5s 3ms/step - loss: 0.0061 - accuracy: 0.9989 - val_loss: 0.0891 - val_accuracy: 0.9919\n",
            "Epoch 123/500\n",
            "1875/1875 [==============================] - 5s 3ms/step - loss: 0.0031 - accuracy: 0.9992 - val_loss: 0.1039 - val_accuracy: 0.9927\n",
            "Epoch 124/500\n",
            "1875/1875 [==============================] - 5s 3ms/step - loss: 0.0054 - accuracy: 0.9988 - val_loss: 0.0985 - val_accuracy: 0.9917\n",
            "Epoch 125/500\n",
            "1875/1875 [==============================] - 5s 3ms/step - loss: 0.0062 - accuracy: 0.9987 - val_loss: 0.0904 - val_accuracy: 0.9921\n",
            "Epoch 126/500\n",
            "1875/1875 [==============================] - 5s 3ms/step - loss: 0.0046 - accuracy: 0.9991 - val_loss: 0.0958 - val_accuracy: 0.9913\n",
            "Epoch 127/500\n",
            "1875/1875 [==============================] - 5s 3ms/step - loss: 0.0048 - accuracy: 0.9990 - val_loss: 0.0848 - val_accuracy: 0.9928\n",
            "Epoch 128/500\n",
            "1875/1875 [==============================] - 5s 3ms/step - loss: 0.0058 - accuracy: 0.9989 - val_loss: 0.1435 - val_accuracy: 0.9909\n",
            "Epoch 129/500\n",
            "1875/1875 [==============================] - 5s 3ms/step - loss: 0.0069 - accuracy: 0.9988 - val_loss: 0.0839 - val_accuracy: 0.9922\n",
            "Epoch 130/500\n",
            "1875/1875 [==============================] - 5s 3ms/step - loss: 0.0054 - accuracy: 0.9989 - val_loss: 0.0912 - val_accuracy: 0.9910\n",
            "Epoch 131/500\n",
            "1875/1875 [==============================] - 5s 3ms/step - loss: 0.0045 - accuracy: 0.9991 - val_loss: 0.1011 - val_accuracy: 0.9922\n",
            "Epoch 00131: early stopping\n"
          ],
          "name": "stdout"
        }
      ]
    },
    {
      "cell_type": "code",
      "metadata": {
        "colab": {
          "base_uri": "https://localhost:8080/"
        },
        "id": "7SzqOkdut0Zl",
        "outputId": "8c997984-baf3-4d1c-9a73-72632df53be4"
      },
      "source": [
        "c2f3.evaluate(X_test, y_test, batch_size =32)"
      ],
      "execution_count": 31,
      "outputs": [
        {
          "output_type": "stream",
          "text": [
            "313/313 [==============================] - 1s 2ms/step - loss: 0.1011 - accuracy: 0.9922\n"
          ],
          "name": "stdout"
        },
        {
          "output_type": "execute_result",
          "data": {
            "text/plain": [
              "[0.10114965587854385, 0.9922000169754028]"
            ]
          },
          "metadata": {
            "tags": []
          },
          "execution_count": 31
        }
      ]
    },
    {
      "cell_type": "markdown",
      "metadata": {
        "id": "4UwnTravt8L_"
      },
      "source": [
        "## Graph of loss and accuracy\n",
        "- model: C2F3"
      ]
    },
    {
      "cell_type": "code",
      "metadata": {
        "colab": {
          "base_uri": "https://localhost:8080/",
          "height": 313
        },
        "id": "X9tct3hot7qO",
        "outputId": "b76b0908-5bfe-44f4-96a1-3bca2c2d5ed2"
      },
      "source": [
        "# Plot loass and accuracy\n",
        "# Plot training & validation accuracy values\n",
        "epochs = 131\n",
        "loss_list = [100 * i for i in hist.history['loss']]\n",
        "acc_list = [100 * i for i in hist.history['accuracy']]\n",
        "plt.plot(range(1,epochs+1),loss_list) \n",
        "plt.plot(range(1,epochs+1),acc_list) \n",
        "plt.title('Model loss & accuracy')\n",
        "plt.ylabel('Accuracy (%)')\n",
        "plt.xlabel('Epoch')\n",
        "plt.legend(['loss', 'accuracy'], loc='center left')"
      ],
      "execution_count": 32,
      "outputs": [
        {
          "output_type": "execute_result",
          "data": {
            "text/plain": [
              "<matplotlib.legend.Legend at 0x7f66e43d3ef0>"
            ]
          },
          "metadata": {
            "tags": []
          },
          "execution_count": 32
        },
        {
          "output_type": "display_data",
          "data": {
            "image/png": "[encoded data removed]",
            "text/plain": [
              "<Figure size 432x288 with 1 Axes>"
            ]
          },
          "metadata": {
            "tags": [],
            "needs_background": "light"
          }
        }
      ]
    },
    {
      "cell_type": "code",
      "metadata": {
        "id": "rG9A4bEFuHcx"
      },
      "source": [
        "vloss_list = [100 * i for i in hist.history['val_loss']]\n",
        "vacc_list = [100 * i for i in hist.history['val_accuracy']]"
      ],
      "execution_count": 33,
      "outputs": []
    },
    {
      "cell_type": "code",
      "metadata": {
        "colab": {
          "base_uri": "https://localhost:8080/",
          "height": 313
        },
        "id": "yTnk7TnwuKaB",
        "outputId": "64c0f6b7-fc05-4abd-e351-28b1bda675e0"
      },
      "source": [
        "plt.plot(range(1,epochs+1),vloss_list)  \n",
        "plt.plot(range(1,epochs+1),vacc_list)  \n",
        "plt.title('Model val_loss & val_accuracy')\n",
        "plt.ylabel('Accuracy (%)')\n",
        "plt.xlabel('Epoch')\n",
        "plt.legend(['val_loss', 'val_accuracy'], loc='center left')"
      ],
      "execution_count": 34,
      "outputs": [
        {
          "output_type": "execute_result",
          "data": {
            "text/plain": [
              "<matplotlib.legend.Legend at 0x7f66e4707860>"
            ]
          },
          "metadata": {
            "tags": []
          },
          "execution_count": 34
        },
        {
          "output_type": "display_data",
          "data": {
            "image/png": "[encoded data removed]",
            "text/plain": [
              "<Figure size 432x288 with 1 Axes>"
            ]
          },
          "metadata": {
            "tags": [],
            "needs_background": "light"
          }
        }
      ]
    },
    {
      "cell_type": "code",
      "metadata": {
        "colab": {
          "base_uri": "https://localhost:8080/"
        },
        "id": "kkjKtNBiuOZq",
        "outputId": "a9e5d183-ba8b-4b69-d99e-1ed469ae15a1"
      },
      "source": [
        "np.argmax(np.array(vacc_list))"
      ],
      "execution_count": 35,
      "outputs": [
        {
          "output_type": "execute_result",
          "data": {
            "text/plain": [
              "80"
            ]
          },
          "metadata": {
            "tags": []
          },
          "execution_count": 35
        }
      ]
    },
    {
      "cell_type": "code",
      "metadata": {
        "colab": {
          "base_uri": "https://localhost:8080/"
        },
        "id": "4a-PJ1PVuRw9",
        "outputId": "0dcaabf8-bf62-4162-8f6c-c52acb136f3c"
      },
      "source": [
        "vacc_list[np.argmax(np.array(vacc_list))]"
      ],
      "execution_count": 36,
      "outputs": [
        {
          "output_type": "execute_result",
          "data": {
            "text/plain": [
              "99.36000108718872"
            ]
          },
          "metadata": {
            "tags": []
          },
          "execution_count": 36
        }
      ]
    },
    {
      "cell_type": "code",
      "metadata": {
        "colab": {
          "base_uri": "https://localhost:8080/",
          "height": 313
        },
        "id": "5hYVi3h4uVDw",
        "outputId": "fc4cfcd5-d15b-4167-f4cb-8049182d8710"
      },
      "source": [
        "plt.plot(range(1,epochs+1),acc_list)  \n",
        "plt.plot(range(1,epochs+1),vacc_list)  \n",
        "plt.title('accuracy vs. val_accuracy')\n",
        "plt.ylabel('Accuracy (%)')\n",
        "plt.xlabel('Epoch')\n",
        "plt.legend(['accuracy','val_accuracy'], loc='center')\n",
        "plt.plot(np.argmax(np.array(vacc_list))+1,vacc_list[np.argmax(np.array(vacc_list))], 'r*') "
      ],
      "execution_count": 37,
      "outputs": [
        {
          "output_type": "execute_result",
          "data": {
            "text/plain": [
              "[<matplotlib.lines.Line2D at 0x7f66e43097f0>]"
            ]
          },
          "metadata": {
            "tags": []
          },
          "execution_count": 37
        },
        {
          "output_type": "display_data",
          "data": {
            "image/png": "[encoded data removed]",
            "text/plain": [
              "<Figure size 432x288 with 1 Axes>"
            ]
          },
          "metadata": {
            "tags": [],
            "needs_background": "light"
          }
        }
      ]
    },
    {
      "cell_type": "markdown",
      "metadata": {
        "id": "GkTGIOFz0TDK"
      },
      "source": [
        "***"
      ]
    },
    {
      "cell_type": "markdown",
      "metadata": {
        "id": "65D1cK1Oudr3"
      },
      "source": [
        "## 최적화된 모형 불러와서 이용\n",
        "\n",
        "- callbacks.ModelCheckpoint를 이용해서 트레이닝 중 val_accuacy가 가장 높은 모형을 가중치와 함께 hdf5 형식으로 저장\n",
        "- load 명령으로 불러 사용\n",
        "\n",
        "> mnist_c2f2_best_weights.081-0.9936.hdf5"
      ]
    },
    {
      "cell_type": "code",
      "metadata": {
        "colab": {
          "base_uri": "https://localhost:8080/"
        },
        "id": "1jrhbBFYupkE",
        "outputId": "9e0b8dd5-ae0a-42ba-e562-ad6ece58d947"
      },
      "source": [
        "from keras.models import load_model\n",
        "\n",
        "model = load_model('mnist_c2f2_best_weights.081-0.9936.hdf5')\n",
        "model.evaluate(X_test, y_test, batch_size=32)"
      ],
      "execution_count": 38,
      "outputs": [
        {
          "output_type": "stream",
          "text": [
            "313/313 [==============================] - 1s 2ms/step - loss: 0.0642 - accuracy: 0.9936\n"
          ],
          "name": "stdout"
        },
        {
          "output_type": "execute_result",
          "data": {
            "text/plain": [
              "[0.06424620747566223, 0.9936000108718872]"
            ]
          },
          "metadata": {
            "tags": []
          },
          "execution_count": 38
        }
      ]
    },
    {
      "cell_type": "markdown",
      "metadata": {
        "id": "PHiuK2xu0WSE"
      },
      "source": [
        "## [DIY] fashion mnist model의 best model을 구하시오.\n",
        "\n",
        "- github의 \"py-tensorflow\" 폴더에 tf2_7_fmnist_CNN_best.ipynb 파일을 올리시오. \n",
        "- github의 \"py-tensorflow/st-code/model\" 폴더에 best model(hdf5 파일)을 올리시오. \n",
        "\n",
        "> fashion mnist 데이터 로딩\n",
        "```\n",
        "from keras.datasets import fashion_mnist\n",
        "(X_train0, y_train0), (X_test0, y_test0) = fashion_mnist.load_data()\n",
        "```"
      ]
    }
  ]
}