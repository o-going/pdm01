{
  "nbformat": 4,
  "nbformat_minor": 0,
  "metadata": {
    "kernelspec": {
      "display_name": "Python 3",
      "language": "python",
      "name": "python3"
    },
    "language_info": {
      "codemirror_mode": {
        "name": "ipython",
        "version": 3
      },
      "file_extension": ".py",
      "mimetype": "text/x-python",
      "name": "python",
      "nbconvert_exporter": "python",
      "pygments_lexer": "ipython3",
      "version": "3.6.5"
    },
    "colab": {
      "name": "diabetes_FCN_final.ipynb",
      "provenance": [],
      "collapsed_sections": []
    }
  },
  "cells": [
    {
      "cell_type": "markdown",
      "metadata": {
        "id": "nOvJjCFrkWDc"
      },
      "source": [
        "# **DL: FCN of Pima-Indians-Diabetes-Data** \n",
        "\n",
        "> https://medium.com/@soumen.atta/analyzing-pima-indians-diabetes-data-using-python-89a021b5f4eb\n"
      ]
    },
    {
      "cell_type": "code",
      "metadata": {
        "_cell_guid": "8e27055d-7b00-49f6-b0e8-f53ff433ddca",
        "_uuid": "1e1e2b84-2d40-497b-92bd-f238f939cfa8",
        "id": "WUOW3NKRkWDd",
        "colab": {
          "base_uri": "https://localhost:8080/"
        },
        "outputId": "60dbd23d-1862-4c4f-8a69-2060f8ff8e49"
      },
      "source": [
        "# Load the required packages \n",
        "import numpy as np\n",
        "import tensorflow as tf\n",
        "from tensorflow import keras\n",
        "import pandas as pd\n",
        "from pandas import read_csv\n",
        "import matplotlib.pyplot as plt\n",
        "%matplotlib inline\n",
        "\n",
        "tf.random.set_seed(0)\n",
        "\n",
        "print(tf.__version__)"
      ],
      "execution_count": null,
      "outputs": [
        {
          "output_type": "stream",
          "text": [
            "2.3.0\n"
          ],
          "name": "stdout"
        }
      ]
    },
    {
      "cell_type": "markdown",
      "metadata": {
        "id": "TcfPniN2kWDg"
      },
      "source": [
        "**Load CSV file using Pandas**"
      ]
    },
    {
      "cell_type": "code",
      "metadata": {
        "id": "Ahd9x_NVkWDg",
        "colab": {
          "base_uri": "https://localhost:8080/"
        },
        "outputId": "b89c0532-deef-49a1-9d51-6d1fc45592e9"
      },
      "source": [
        "# Specify the file name \n",
        "url = \"https://github.com/Redwoods/Py/raw/master/pdm2020/my-note/py-pandas/data/diabetes.csv\"\n",
        "filename = url\n",
        "# filename = 'diabetes.csv'  # access to local file\n",
        "\n",
        "# Read the data \n",
        "data = read_csv(filename) \n",
        "\n",
        "# Print the shape \n",
        "data.shape"
      ],
      "execution_count": null,
      "outputs": [
        {
          "output_type": "execute_result",
          "data": {
            "text/plain": [
              "(768, 9)"
            ]
          },
          "metadata": {
            "tags": []
          },
          "execution_count": 13
        }
      ]
    },
    {
      "cell_type": "code",
      "metadata": {
        "id": "q_g68MTvkWDi",
        "colab": {
          "base_uri": "https://localhost:8080/",
          "height": 204
        },
        "outputId": "e6037ebd-20b3-4929-9055-80bd49c648e9"
      },
      "source": [
        "# Print the first 5 rows \n",
        "data.head()"
      ],
      "execution_count": null,
      "outputs": [
        {
          "output_type": "execute_result",
          "data": {
            "text/html": [
              "<div>\n",
              "<style scoped>\n",
              "    .dataframe tbody tr th:only-of-type {\n",
              "        vertical-align: middle;\n",
              "    }\n",
              "\n",
              "    .dataframe tbody tr th {\n",
              "        vertical-align: top;\n",
              "    }\n",
              "\n",
              "    .dataframe thead th {\n",
              "        text-align: right;\n",
              "    }\n",
              "</style>\n",
              "<table border=\"1\" class=\"dataframe\">\n",
              "  <thead>\n",
              "    <tr style=\"text-align: right;\">\n",
              "      <th></th>\n",
              "      <th>Pregnancies</th>\n",
              "      <th>Glucose</th>\n",
              "      <th>BloodPressure</th>\n",
              "      <th>SkinThickness</th>\n",
              "      <th>Insulin</th>\n",
              "      <th>BMI</th>\n",
              "      <th>DiabetesPedigreeFunction</th>\n",
              "      <th>Age</th>\n",
              "      <th>Outcome</th>\n",
              "    </tr>\n",
              "  </thead>\n",
              "  <tbody>\n",
              "    <tr>\n",
              "      <th>0</th>\n",
              "      <td>6</td>\n",
              "      <td>148</td>\n",
              "      <td>72</td>\n",
              "      <td>35</td>\n",
              "      <td>0</td>\n",
              "      <td>33.6</td>\n",
              "      <td>0.627</td>\n",
              "      <td>50</td>\n",
              "      <td>1</td>\n",
              "    </tr>\n",
              "    <tr>\n",
              "      <th>1</th>\n",
              "      <td>1</td>\n",
              "      <td>85</td>\n",
              "      <td>66</td>\n",
              "      <td>29</td>\n",
              "      <td>0</td>\n",
              "      <td>26.6</td>\n",
              "      <td>0.351</td>\n",
              "      <td>31</td>\n",
              "      <td>0</td>\n",
              "    </tr>\n",
              "    <tr>\n",
              "      <th>2</th>\n",
              "      <td>8</td>\n",
              "      <td>183</td>\n",
              "      <td>64</td>\n",
              "      <td>0</td>\n",
              "      <td>0</td>\n",
              "      <td>23.3</td>\n",
              "      <td>0.672</td>\n",
              "      <td>32</td>\n",
              "      <td>1</td>\n",
              "    </tr>\n",
              "    <tr>\n",
              "      <th>3</th>\n",
              "      <td>1</td>\n",
              "      <td>89</td>\n",
              "      <td>66</td>\n",
              "      <td>23</td>\n",
              "      <td>94</td>\n",
              "      <td>28.1</td>\n",
              "      <td>0.167</td>\n",
              "      <td>21</td>\n",
              "      <td>0</td>\n",
              "    </tr>\n",
              "    <tr>\n",
              "      <th>4</th>\n",
              "      <td>0</td>\n",
              "      <td>137</td>\n",
              "      <td>40</td>\n",
              "      <td>35</td>\n",
              "      <td>168</td>\n",
              "      <td>43.1</td>\n",
              "      <td>2.288</td>\n",
              "      <td>33</td>\n",
              "      <td>1</td>\n",
              "    </tr>\n",
              "  </tbody>\n",
              "</table>\n",
              "</div>"
            ],
            "text/plain": [
              "   Pregnancies  Glucose  BloodPressure  ...  DiabetesPedigreeFunction  Age  Outcome\n",
              "0            6      148             72  ...                     0.627   50        1\n",
              "1            1       85             66  ...                     0.351   31        0\n",
              "2            8      183             64  ...                     0.672   32        1\n",
              "3            1       89             66  ...                     0.167   21        0\n",
              "4            0      137             40  ...                     2.288   33        1\n",
              "\n",
              "[5 rows x 9 columns]"
            ]
          },
          "metadata": {
            "tags": []
          },
          "execution_count": 14
        }
      ]
    },
    {
      "cell_type": "code",
      "metadata": {
        "id": "wAFYD041Xb1A"
      },
      "source": [
        "# import TF2 submodules\n",
        "from tensorflow.keras import layers, models, callbacks\n",
        "from keras.models import Sequential\n",
        "from keras.layers import Dense, Conv2D, MaxPool2D, Flatten\n",
        "from keras.callbacks import ModelCheckpoint, EarlyStopping"
      ],
      "execution_count": null,
      "outputs": []
    },
    {
      "cell_type": "code",
      "metadata": {
        "colab": {
          "base_uri": "https://localhost:8080/"
        },
        "id": "Xr_Qs9rnW3Bu",
        "outputId": "829ed753-db87-4301-ba59-f7bb77b05e16"
      },
      "source": [
        "# Split dataset to train & test set\n",
        "X_train = data.iloc[:600,0:8] # 600명\n",
        "y_train = data.iloc[:600,8] # 마지막 outcom class니까 features 제외\n",
        "X_test = data.iloc[600:,0:8]  # 168명\n",
        "y_test = data.iloc[600:,8]\n",
        "X_train.shape,y_train.shape,X_test.shape,y_test.shape"
      ],
      "execution_count": null,
      "outputs": [
        {
          "output_type": "execute_result",
          "data": {
            "text/plain": [
              "((600, 8), (600,), (168, 8), (168,))"
            ]
          },
          "metadata": {
            "tags": []
          },
          "execution_count": 91
        }
      ]
    },
    {
      "cell_type": "code",
      "metadata": {
        "id": "0B5Xc0atXtuC"
      },
      "source": [
        "# define the keras model -> FCN이 3층\n",
        "model = Sequential()\n",
        "model.add(Dense(12, input_dim=8, activation='relu'))\n",
        "model.add(Dense(8, activation='relu'))\n",
        "model.add(Dense(1, activation='sigmoid')) # softmaX 'sigmoid'-> output 마지막에 들어가는 값을 처리해서 0과 1사이의 확률값으로 출력함\n",
        "# compile the keras model\n",
        "model.compile(loss='binary_crossentropy', \n",
        "              optimizer='adam', \n",
        "              metrics=['accuracy'])"
      ],
      "execution_count": null,
      "outputs": []
    },
    {
      "cell_type": "code",
      "metadata": {
        "colab": {
          "base_uri": "https://localhost:8080/"
        },
        "id": "ROjU8SG-X2XU",
        "outputId": "950f405e-88f8-4e98-efb8-6db818266ce9"
      },
      "source": [
        "# fit the keras model on the dataset\n",
        "hist = model.fit(X_train, y_train, epochs=150, batch_size=10, verbose=1, \n",
        "                 validation_data=(X_test, y_test))"
      ],
      "execution_count": null,
      "outputs": [
        {
          "output_type": "stream",
          "text": [
            "Epoch 1/150\n",
            "60/60 [==============================] - 0s 3ms/step - loss: 8.1726 - accuracy: 0.6417 - val_loss: 5.1712 - val_accuracy: 0.6012\n",
            "Epoch 2/150\n",
            "60/60 [==============================] - 0s 1ms/step - loss: 3.1368 - accuracy: 0.6517 - val_loss: 1.9513 - val_accuracy: 0.6250\n",
            "Epoch 3/150\n",
            "60/60 [==============================] - 0s 1ms/step - loss: 1.7990 - accuracy: 0.6483 - val_loss: 1.5209 - val_accuracy: 0.6012\n",
            "Epoch 4/150\n",
            "60/60 [==============================] - 0s 1ms/step - loss: 1.4168 - accuracy: 0.6267 - val_loss: 1.1748 - val_accuracy: 0.5536\n",
            "Epoch 5/150\n",
            "60/60 [==============================] - 0s 1ms/step - loss: 1.1504 - accuracy: 0.6050 - val_loss: 1.0270 - val_accuracy: 0.5417\n",
            "Epoch 6/150\n",
            "60/60 [==============================] - 0s 1ms/step - loss: 1.0528 - accuracy: 0.6033 - val_loss: 0.8887 - val_accuracy: 0.6012\n",
            "Epoch 7/150\n",
            "60/60 [==============================] - 0s 1ms/step - loss: 0.9329 - accuracy: 0.6350 - val_loss: 0.8042 - val_accuracy: 0.5714\n",
            "Epoch 8/150\n",
            "60/60 [==============================] - 0s 1ms/step - loss: 0.8190 - accuracy: 0.6517 - val_loss: 0.7677 - val_accuracy: 0.5714\n",
            "Epoch 9/150\n",
            "60/60 [==============================] - 0s 1ms/step - loss: 0.7665 - accuracy: 0.6233 - val_loss: 0.6849 - val_accuracy: 0.6429\n",
            "Epoch 10/150\n",
            "60/60 [==============================] - 0s 1ms/step - loss: 0.7253 - accuracy: 0.6317 - val_loss: 0.6581 - val_accuracy: 0.6369\n",
            "Epoch 11/150\n",
            "60/60 [==============================] - 0s 1ms/step - loss: 0.6995 - accuracy: 0.6383 - val_loss: 0.6501 - val_accuracy: 0.6369\n",
            "Epoch 12/150\n",
            "60/60 [==============================] - 0s 1ms/step - loss: 0.6846 - accuracy: 0.6667 - val_loss: 0.6631 - val_accuracy: 0.5774\n",
            "Epoch 13/150\n",
            "60/60 [==============================] - 0s 1ms/step - loss: 0.6797 - accuracy: 0.6433 - val_loss: 0.6219 - val_accuracy: 0.6667\n",
            "Epoch 14/150\n",
            "60/60 [==============================] - 0s 1ms/step - loss: 0.6632 - accuracy: 0.6583 - val_loss: 0.6365 - val_accuracy: 0.6131\n",
            "Epoch 15/150\n",
            "60/60 [==============================] - 0s 1ms/step - loss: 0.6571 - accuracy: 0.6650 - val_loss: 0.6209 - val_accuracy: 0.6667\n",
            "Epoch 16/150\n",
            "60/60 [==============================] - 0s 1ms/step - loss: 0.6435 - accuracy: 0.6650 - val_loss: 0.6375 - val_accuracy: 0.6250\n",
            "Epoch 17/150\n",
            "60/60 [==============================] - 0s 1ms/step - loss: 0.6501 - accuracy: 0.6583 - val_loss: 0.6371 - val_accuracy: 0.6667\n",
            "Epoch 18/150\n",
            "60/60 [==============================] - 0s 1ms/step - loss: 0.6398 - accuracy: 0.6633 - val_loss: 0.6251 - val_accuracy: 0.6607\n",
            "Epoch 19/150\n",
            "60/60 [==============================] - 0s 1ms/step - loss: 0.6382 - accuracy: 0.6567 - val_loss: 0.6274 - val_accuracy: 0.6726\n",
            "Epoch 20/150\n",
            "60/60 [==============================] - 0s 1ms/step - loss: 0.6324 - accuracy: 0.6467 - val_loss: 0.6259 - val_accuracy: 0.6726\n",
            "Epoch 21/150\n",
            "60/60 [==============================] - 0s 1ms/step - loss: 0.6240 - accuracy: 0.6633 - val_loss: 0.6583 - val_accuracy: 0.6667\n",
            "Epoch 22/150\n",
            "60/60 [==============================] - 0s 1ms/step - loss: 0.6281 - accuracy: 0.6733 - val_loss: 0.6165 - val_accuracy: 0.6667\n",
            "Epoch 23/150\n",
            "60/60 [==============================] - 0s 1ms/step - loss: 0.6197 - accuracy: 0.6683 - val_loss: 0.6775 - val_accuracy: 0.6667\n",
            "Epoch 24/150\n",
            "60/60 [==============================] - 0s 1ms/step - loss: 0.6230 - accuracy: 0.6783 - val_loss: 0.7016 - val_accuracy: 0.6548\n",
            "Epoch 25/150\n",
            "60/60 [==============================] - 0s 1ms/step - loss: 0.6204 - accuracy: 0.6733 - val_loss: 0.6595 - val_accuracy: 0.5536\n",
            "Epoch 26/150\n",
            "60/60 [==============================] - 0s 1ms/step - loss: 0.6252 - accuracy: 0.6583 - val_loss: 0.6450 - val_accuracy: 0.5655\n",
            "Epoch 27/150\n",
            "60/60 [==============================] - 0s 1ms/step - loss: 0.6204 - accuracy: 0.6767 - val_loss: 0.6452 - val_accuracy: 0.5536\n",
            "Epoch 28/150\n",
            "60/60 [==============================] - 0s 1ms/step - loss: 0.6073 - accuracy: 0.6783 - val_loss: 0.6456 - val_accuracy: 0.6429\n",
            "Epoch 29/150\n",
            "60/60 [==============================] - 0s 1ms/step - loss: 0.6046 - accuracy: 0.6883 - val_loss: 0.6356 - val_accuracy: 0.6310\n",
            "Epoch 30/150\n",
            "60/60 [==============================] - 0s 1ms/step - loss: 0.6006 - accuracy: 0.6683 - val_loss: 0.6300 - val_accuracy: 0.6667\n",
            "Epoch 31/150\n",
            "60/60 [==============================] - 0s 1ms/step - loss: 0.5931 - accuracy: 0.6817 - val_loss: 0.6190 - val_accuracy: 0.6488\n",
            "Epoch 32/150\n",
            "60/60 [==============================] - 0s 1ms/step - loss: 0.5901 - accuracy: 0.6883 - val_loss: 0.6606 - val_accuracy: 0.6190\n",
            "Epoch 33/150\n",
            "60/60 [==============================] - 0s 1ms/step - loss: 0.6047 - accuracy: 0.6733 - val_loss: 0.6353 - val_accuracy: 0.6786\n",
            "Epoch 34/150\n",
            "60/60 [==============================] - 0s 1ms/step - loss: 0.5887 - accuracy: 0.6617 - val_loss: 0.6513 - val_accuracy: 0.5655\n",
            "Epoch 35/150\n",
            "60/60 [==============================] - 0s 1ms/step - loss: 0.6066 - accuracy: 0.6517 - val_loss: 0.6187 - val_accuracy: 0.5952\n",
            "Epoch 36/150\n",
            "60/60 [==============================] - 0s 1ms/step - loss: 0.5862 - accuracy: 0.6633 - val_loss: 0.6148 - val_accuracy: 0.6786\n",
            "Epoch 37/150\n",
            "60/60 [==============================] - 0s 1ms/step - loss: 0.5860 - accuracy: 0.6633 - val_loss: 0.6269 - val_accuracy: 0.6905\n",
            "Epoch 38/150\n",
            "60/60 [==============================] - 0s 1ms/step - loss: 0.5810 - accuracy: 0.6833 - val_loss: 0.6561 - val_accuracy: 0.6071\n",
            "Epoch 39/150\n",
            "60/60 [==============================] - 0s 1ms/step - loss: 0.5992 - accuracy: 0.6833 - val_loss: 0.6205 - val_accuracy: 0.6845\n",
            "Epoch 40/150\n",
            "60/60 [==============================] - 0s 1ms/step - loss: 0.5903 - accuracy: 0.6767 - val_loss: 0.6648 - val_accuracy: 0.5714\n",
            "Epoch 41/150\n",
            "60/60 [==============================] - 0s 1ms/step - loss: 0.5857 - accuracy: 0.6667 - val_loss: 0.6327 - val_accuracy: 0.5833\n",
            "Epoch 42/150\n",
            "60/60 [==============================] - 0s 1ms/step - loss: 0.5952 - accuracy: 0.6683 - val_loss: 0.6256 - val_accuracy: 0.6310\n",
            "Epoch 43/150\n",
            "60/60 [==============================] - 0s 1ms/step - loss: 0.5741 - accuracy: 0.6833 - val_loss: 0.6261 - val_accuracy: 0.6488\n",
            "Epoch 44/150\n",
            "60/60 [==============================] - 0s 1ms/step - loss: 0.5859 - accuracy: 0.6700 - val_loss: 0.6328 - val_accuracy: 0.6310\n",
            "Epoch 45/150\n",
            "60/60 [==============================] - 0s 1ms/step - loss: 0.5810 - accuracy: 0.6717 - val_loss: 0.6098 - val_accuracy: 0.6845\n",
            "Epoch 46/150\n",
            "60/60 [==============================] - 0s 1ms/step - loss: 0.5795 - accuracy: 0.6733 - val_loss: 0.6357 - val_accuracy: 0.6786\n",
            "Epoch 47/150\n",
            "60/60 [==============================] - 0s 1ms/step - loss: 0.5792 - accuracy: 0.6700 - val_loss: 0.6284 - val_accuracy: 0.6726\n",
            "Epoch 48/150\n",
            "60/60 [==============================] - 0s 1ms/step - loss: 0.5923 - accuracy: 0.6767 - val_loss: 0.6157 - val_accuracy: 0.6071\n",
            "Epoch 49/150\n",
            "60/60 [==============================] - 0s 1ms/step - loss: 0.5815 - accuracy: 0.6750 - val_loss: 0.6042 - val_accuracy: 0.6488\n",
            "Epoch 50/150\n",
            "60/60 [==============================] - 0s 1ms/step - loss: 0.5836 - accuracy: 0.6817 - val_loss: 0.6177 - val_accuracy: 0.6905\n",
            "Epoch 51/150\n",
            "60/60 [==============================] - 0s 1ms/step - loss: 0.5964 - accuracy: 0.6683 - val_loss: 0.6433 - val_accuracy: 0.6786\n",
            "Epoch 52/150\n",
            "60/60 [==============================] - 0s 1ms/step - loss: 0.5800 - accuracy: 0.6883 - val_loss: 0.6206 - val_accuracy: 0.6310\n",
            "Epoch 53/150\n",
            "60/60 [==============================] - 0s 1ms/step - loss: 0.5800 - accuracy: 0.6667 - val_loss: 0.6081 - val_accuracy: 0.7083\n",
            "Epoch 54/150\n",
            "60/60 [==============================] - 0s 1ms/step - loss: 0.5891 - accuracy: 0.6567 - val_loss: 0.6212 - val_accuracy: 0.6190\n",
            "Epoch 55/150\n",
            "60/60 [==============================] - 0s 1ms/step - loss: 0.5803 - accuracy: 0.6733 - val_loss: 0.6092 - val_accuracy: 0.7024\n",
            "Epoch 56/150\n",
            "60/60 [==============================] - 0s 1ms/step - loss: 0.5737 - accuracy: 0.6850 - val_loss: 0.6159 - val_accuracy: 0.6131\n",
            "Epoch 57/150\n",
            "60/60 [==============================] - 0s 1ms/step - loss: 0.5672 - accuracy: 0.6850 - val_loss: 0.5956 - val_accuracy: 0.7083\n",
            "Epoch 58/150\n",
            "60/60 [==============================] - 0s 1ms/step - loss: 0.5727 - accuracy: 0.6883 - val_loss: 0.6431 - val_accuracy: 0.6488\n",
            "Epoch 59/150\n",
            "60/60 [==============================] - 0s 1ms/step - loss: 0.5673 - accuracy: 0.6667 - val_loss: 0.5993 - val_accuracy: 0.6905\n",
            "Epoch 60/150\n",
            "60/60 [==============================] - 0s 1ms/step - loss: 0.5853 - accuracy: 0.6883 - val_loss: 0.6696 - val_accuracy: 0.6667\n",
            "Epoch 61/150\n",
            "60/60 [==============================] - 0s 1ms/step - loss: 0.5771 - accuracy: 0.6867 - val_loss: 0.6163 - val_accuracy: 0.6964\n",
            "Epoch 62/150\n",
            "60/60 [==============================] - 0s 1ms/step - loss: 0.5651 - accuracy: 0.6883 - val_loss: 0.6009 - val_accuracy: 0.6488\n",
            "Epoch 63/150\n",
            "60/60 [==============================] - 0s 1ms/step - loss: 0.5633 - accuracy: 0.7000 - val_loss: 0.6049 - val_accuracy: 0.7143\n",
            "Epoch 64/150\n",
            "60/60 [==============================] - 0s 1ms/step - loss: 0.5614 - accuracy: 0.6900 - val_loss: 0.6181 - val_accuracy: 0.6667\n",
            "Epoch 65/150\n",
            "60/60 [==============================] - 0s 1ms/step - loss: 0.5675 - accuracy: 0.6767 - val_loss: 0.6202 - val_accuracy: 0.6726\n",
            "Epoch 66/150\n",
            "60/60 [==============================] - 0s 1ms/step - loss: 0.5730 - accuracy: 0.6850 - val_loss: 0.6312 - val_accuracy: 0.5714\n",
            "Epoch 67/150\n",
            "60/60 [==============================] - 0s 1ms/step - loss: 0.5609 - accuracy: 0.6917 - val_loss: 0.5990 - val_accuracy: 0.6726\n",
            "Epoch 68/150\n",
            "60/60 [==============================] - 0s 1ms/step - loss: 0.5772 - accuracy: 0.6950 - val_loss: 0.6220 - val_accuracy: 0.6667\n",
            "Epoch 69/150\n",
            "60/60 [==============================] - 0s 1ms/step - loss: 0.5626 - accuracy: 0.6967 - val_loss: 0.6171 - val_accuracy: 0.6726\n",
            "Epoch 70/150\n",
            "60/60 [==============================] - 0s 1ms/step - loss: 0.5716 - accuracy: 0.6850 - val_loss: 0.6126 - val_accuracy: 0.6845\n",
            "Epoch 71/150\n",
            "60/60 [==============================] - 0s 1ms/step - loss: 0.5704 - accuracy: 0.6883 - val_loss: 0.6111 - val_accuracy: 0.6786\n",
            "Epoch 72/150\n",
            "60/60 [==============================] - 0s 1ms/step - loss: 0.5560 - accuracy: 0.7000 - val_loss: 0.5999 - val_accuracy: 0.6845\n",
            "Epoch 73/150\n",
            "60/60 [==============================] - 0s 1ms/step - loss: 0.5665 - accuracy: 0.6817 - val_loss: 0.6207 - val_accuracy: 0.6905\n",
            "Epoch 74/150\n",
            "60/60 [==============================] - 0s 1ms/step - loss: 0.5690 - accuracy: 0.6983 - val_loss: 0.6144 - val_accuracy: 0.6845\n",
            "Epoch 75/150\n",
            "60/60 [==============================] - 0s 1ms/step - loss: 0.5644 - accuracy: 0.7133 - val_loss: 0.6315 - val_accuracy: 0.6905\n",
            "Epoch 76/150\n",
            "60/60 [==============================] - 0s 1ms/step - loss: 0.5770 - accuracy: 0.6883 - val_loss: 0.6217 - val_accuracy: 0.6667\n",
            "Epoch 77/150\n",
            "60/60 [==============================] - 0s 1ms/step - loss: 0.5608 - accuracy: 0.7200 - val_loss: 0.6070 - val_accuracy: 0.6667\n",
            "Epoch 78/150\n",
            "60/60 [==============================] - 0s 1ms/step - loss: 0.5507 - accuracy: 0.7150 - val_loss: 0.6151 - val_accuracy: 0.6845\n",
            "Epoch 79/150\n",
            "60/60 [==============================] - 0s 1ms/step - loss: 0.5597 - accuracy: 0.7050 - val_loss: 0.6267 - val_accuracy: 0.6845\n",
            "Epoch 80/150\n",
            "60/60 [==============================] - 0s 1ms/step - loss: 0.5485 - accuracy: 0.7267 - val_loss: 0.6086 - val_accuracy: 0.6964\n",
            "Epoch 81/150\n",
            "60/60 [==============================] - 0s 1ms/step - loss: 0.5506 - accuracy: 0.7200 - val_loss: 0.5924 - val_accuracy: 0.7083\n",
            "Epoch 82/150\n",
            "60/60 [==============================] - 0s 1ms/step - loss: 0.5504 - accuracy: 0.7400 - val_loss: 0.6103 - val_accuracy: 0.7202\n",
            "Epoch 83/150\n",
            "60/60 [==============================] - 0s 1ms/step - loss: 0.5536 - accuracy: 0.7333 - val_loss: 0.6144 - val_accuracy: 0.7202\n",
            "Epoch 84/150\n",
            "60/60 [==============================] - 0s 1ms/step - loss: 0.5539 - accuracy: 0.7483 - val_loss: 0.6105 - val_accuracy: 0.6964\n",
            "Epoch 85/150\n",
            "60/60 [==============================] - 0s 1ms/step - loss: 0.5516 - accuracy: 0.7350 - val_loss: 0.6115 - val_accuracy: 0.7083\n",
            "Epoch 86/150\n",
            "60/60 [==============================] - 0s 1ms/step - loss: 0.5493 - accuracy: 0.7183 - val_loss: 0.6068 - val_accuracy: 0.7024\n",
            "Epoch 87/150\n",
            "60/60 [==============================] - 0s 1ms/step - loss: 0.5450 - accuracy: 0.7333 - val_loss: 0.5952 - val_accuracy: 0.7381\n",
            "Epoch 88/150\n",
            "60/60 [==============================] - 0s 1ms/step - loss: 0.5488 - accuracy: 0.7283 - val_loss: 0.6189 - val_accuracy: 0.7083\n",
            "Epoch 89/150\n",
            "60/60 [==============================] - 0s 1ms/step - loss: 0.5547 - accuracy: 0.7433 - val_loss: 0.6171 - val_accuracy: 0.7024\n",
            "Epoch 90/150\n",
            "60/60 [==============================] - 0s 1ms/step - loss: 0.5471 - accuracy: 0.7500 - val_loss: 0.6131 - val_accuracy: 0.7202\n",
            "Epoch 91/150\n",
            "60/60 [==============================] - 0s 1ms/step - loss: 0.5469 - accuracy: 0.7317 - val_loss: 0.5973 - val_accuracy: 0.7381\n",
            "Epoch 92/150\n",
            "60/60 [==============================] - 0s 1ms/step - loss: 0.5427 - accuracy: 0.7450 - val_loss: 0.5915 - val_accuracy: 0.7262\n",
            "Epoch 93/150\n",
            "60/60 [==============================] - 0s 1ms/step - loss: 0.5410 - accuracy: 0.7450 - val_loss: 0.5905 - val_accuracy: 0.7500\n",
            "Epoch 94/150\n",
            "60/60 [==============================] - 0s 1ms/step - loss: 0.5446 - accuracy: 0.7417 - val_loss: 0.5982 - val_accuracy: 0.7500\n",
            "Epoch 95/150\n",
            "60/60 [==============================] - 0s 1ms/step - loss: 0.5381 - accuracy: 0.7383 - val_loss: 0.5901 - val_accuracy: 0.7083\n",
            "Epoch 96/150\n",
            "60/60 [==============================] - 0s 1ms/step - loss: 0.5469 - accuracy: 0.7433 - val_loss: 0.6122 - val_accuracy: 0.7202\n",
            "Epoch 97/150\n",
            "60/60 [==============================] - 0s 1ms/step - loss: 0.5307 - accuracy: 0.7450 - val_loss: 0.5886 - val_accuracy: 0.7798\n",
            "Epoch 98/150\n",
            "60/60 [==============================] - 0s 1ms/step - loss: 0.5389 - accuracy: 0.7483 - val_loss: 0.5899 - val_accuracy: 0.7619\n",
            "Epoch 99/150\n",
            "60/60 [==============================] - 0s 1ms/step - loss: 0.5414 - accuracy: 0.7533 - val_loss: 0.5855 - val_accuracy: 0.7560\n",
            "Epoch 100/150\n",
            "60/60 [==============================] - 0s 1ms/step - loss: 0.5326 - accuracy: 0.7467 - val_loss: 0.5892 - val_accuracy: 0.7143\n",
            "Epoch 101/150\n",
            "60/60 [==============================] - 0s 1ms/step - loss: 0.5334 - accuracy: 0.7467 - val_loss: 0.5871 - val_accuracy: 0.7143\n",
            "Epoch 102/150\n",
            "60/60 [==============================] - 0s 1ms/step - loss: 0.5331 - accuracy: 0.7367 - val_loss: 0.5896 - val_accuracy: 0.7440\n",
            "Epoch 103/150\n",
            "60/60 [==============================] - 0s 1ms/step - loss: 0.5254 - accuracy: 0.7483 - val_loss: 0.5852 - val_accuracy: 0.7560\n",
            "Epoch 104/150\n",
            "60/60 [==============================] - 0s 1ms/step - loss: 0.5357 - accuracy: 0.7467 - val_loss: 0.5864 - val_accuracy: 0.7381\n",
            "Epoch 105/150\n",
            "60/60 [==============================] - 0s 1ms/step - loss: 0.5230 - accuracy: 0.7567 - val_loss: 0.6006 - val_accuracy: 0.7202\n",
            "Epoch 106/150\n",
            "60/60 [==============================] - 0s 1ms/step - loss: 0.5422 - accuracy: 0.7467 - val_loss: 0.5978 - val_accuracy: 0.7202\n",
            "Epoch 107/150\n",
            "60/60 [==============================] - 0s 1ms/step - loss: 0.5386 - accuracy: 0.7417 - val_loss: 0.5906 - val_accuracy: 0.7083\n",
            "Epoch 108/150\n",
            "60/60 [==============================] - 0s 1ms/step - loss: 0.5266 - accuracy: 0.7350 - val_loss: 0.6018 - val_accuracy: 0.7024\n",
            "Epoch 109/150\n",
            "60/60 [==============================] - 0s 1ms/step - loss: 0.5242 - accuracy: 0.7450 - val_loss: 0.5843 - val_accuracy: 0.7321\n",
            "Epoch 110/150\n",
            "60/60 [==============================] - 0s 1ms/step - loss: 0.5238 - accuracy: 0.7617 - val_loss: 0.6326 - val_accuracy: 0.7083\n",
            "Epoch 111/150\n",
            "60/60 [==============================] - 0s 2ms/step - loss: 0.5327 - accuracy: 0.7517 - val_loss: 0.5947 - val_accuracy: 0.7321\n",
            "Epoch 112/150\n",
            "60/60 [==============================] - 0s 1ms/step - loss: 0.5358 - accuracy: 0.7383 - val_loss: 0.5996 - val_accuracy: 0.7321\n",
            "Epoch 113/150\n",
            "60/60 [==============================] - 0s 1ms/step - loss: 0.5238 - accuracy: 0.7467 - val_loss: 0.5911 - val_accuracy: 0.6964\n",
            "Epoch 114/150\n",
            "60/60 [==============================] - 0s 1ms/step - loss: 0.5272 - accuracy: 0.7667 - val_loss: 0.6128 - val_accuracy: 0.7321\n",
            "Epoch 115/150\n",
            "60/60 [==============================] - 0s 1ms/step - loss: 0.5217 - accuracy: 0.7483 - val_loss: 0.5794 - val_accuracy: 0.7321\n",
            "Epoch 116/150\n",
            "60/60 [==============================] - 0s 1ms/step - loss: 0.5303 - accuracy: 0.7383 - val_loss: 0.5856 - val_accuracy: 0.7321\n",
            "Epoch 117/150\n",
            "60/60 [==============================] - 0s 1ms/step - loss: 0.5192 - accuracy: 0.7550 - val_loss: 0.5849 - val_accuracy: 0.7381\n",
            "Epoch 118/150\n",
            "60/60 [==============================] - 0s 1ms/step - loss: 0.5259 - accuracy: 0.7500 - val_loss: 0.5756 - val_accuracy: 0.7440\n",
            "Epoch 119/150\n",
            "60/60 [==============================] - 0s 1ms/step - loss: 0.5229 - accuracy: 0.7333 - val_loss: 0.5898 - val_accuracy: 0.7262\n",
            "Epoch 120/150\n",
            "60/60 [==============================] - 0s 1ms/step - loss: 0.5233 - accuracy: 0.7483 - val_loss: 0.6096 - val_accuracy: 0.7381\n",
            "Epoch 121/150\n",
            "60/60 [==============================] - 0s 1ms/step - loss: 0.5239 - accuracy: 0.7517 - val_loss: 0.5867 - val_accuracy: 0.7500\n",
            "Epoch 122/150\n",
            "60/60 [==============================] - 0s 1ms/step - loss: 0.5281 - accuracy: 0.7317 - val_loss: 0.5956 - val_accuracy: 0.7143\n",
            "Epoch 123/150\n",
            "60/60 [==============================] - 0s 1ms/step - loss: 0.5209 - accuracy: 0.7433 - val_loss: 0.5845 - val_accuracy: 0.7262\n",
            "Epoch 124/150\n",
            "60/60 [==============================] - 0s 1ms/step - loss: 0.5129 - accuracy: 0.7500 - val_loss: 0.6052 - val_accuracy: 0.7024\n",
            "Epoch 125/150\n",
            "60/60 [==============================] - 0s 1ms/step - loss: 0.5119 - accuracy: 0.7583 - val_loss: 0.5926 - val_accuracy: 0.7202\n",
            "Epoch 126/150\n",
            "60/60 [==============================] - 0s 1ms/step - loss: 0.5282 - accuracy: 0.7350 - val_loss: 0.5925 - val_accuracy: 0.7202\n",
            "Epoch 127/150\n",
            "60/60 [==============================] - 0s 1ms/step - loss: 0.5165 - accuracy: 0.7350 - val_loss: 0.5909 - val_accuracy: 0.7381\n",
            "Epoch 128/150\n",
            "60/60 [==============================] - 0s 1ms/step - loss: 0.5126 - accuracy: 0.7333 - val_loss: 0.6064 - val_accuracy: 0.7202\n",
            "Epoch 129/150\n",
            "60/60 [==============================] - 0s 1ms/step - loss: 0.5130 - accuracy: 0.7533 - val_loss: 0.5897 - val_accuracy: 0.7143\n",
            "Epoch 130/150\n",
            "60/60 [==============================] - 0s 1ms/step - loss: 0.5088 - accuracy: 0.7467 - val_loss: 0.5912 - val_accuracy: 0.7262\n",
            "Epoch 131/150\n",
            "60/60 [==============================] - 0s 1ms/step - loss: 0.5256 - accuracy: 0.7600 - val_loss: 0.6019 - val_accuracy: 0.7262\n",
            "Epoch 132/150\n",
            "60/60 [==============================] - 0s 1ms/step - loss: 0.5179 - accuracy: 0.7467 - val_loss: 0.5772 - val_accuracy: 0.7381\n",
            "Epoch 133/150\n",
            "60/60 [==============================] - 0s 1ms/step - loss: 0.5067 - accuracy: 0.7583 - val_loss: 0.5993 - val_accuracy: 0.7440\n",
            "Epoch 134/150\n",
            "60/60 [==============================] - 0s 1ms/step - loss: 0.5217 - accuracy: 0.7500 - val_loss: 0.5963 - val_accuracy: 0.7083\n",
            "Epoch 135/150\n",
            "60/60 [==============================] - 0s 1ms/step - loss: 0.5048 - accuracy: 0.7583 - val_loss: 0.5945 - val_accuracy: 0.7083\n",
            "Epoch 136/150\n",
            "60/60 [==============================] - 0s 1ms/step - loss: 0.5147 - accuracy: 0.7517 - val_loss: 0.5836 - val_accuracy: 0.7202\n",
            "Epoch 137/150\n",
            "60/60 [==============================] - 0s 1ms/step - loss: 0.5045 - accuracy: 0.7500 - val_loss: 0.5804 - val_accuracy: 0.7262\n",
            "Epoch 138/150\n",
            "60/60 [==============================] - 0s 1ms/step - loss: 0.5086 - accuracy: 0.7483 - val_loss: 0.5798 - val_accuracy: 0.7202\n",
            "Epoch 139/150\n",
            "60/60 [==============================] - 0s 1ms/step - loss: 0.5088 - accuracy: 0.7450 - val_loss: 0.5800 - val_accuracy: 0.7381\n",
            "Epoch 140/150\n",
            "60/60 [==============================] - 0s 1ms/step - loss: 0.5138 - accuracy: 0.7400 - val_loss: 0.5739 - val_accuracy: 0.7202\n",
            "Epoch 141/150\n",
            "60/60 [==============================] - 0s 1ms/step - loss: 0.5003 - accuracy: 0.7483 - val_loss: 0.5810 - val_accuracy: 0.7381\n",
            "Epoch 142/150\n",
            "60/60 [==============================] - 0s 1ms/step - loss: 0.5050 - accuracy: 0.7367 - val_loss: 0.5998 - val_accuracy: 0.7262\n",
            "Epoch 143/150\n",
            "60/60 [==============================] - 0s 1ms/step - loss: 0.5076 - accuracy: 0.7567 - val_loss: 0.5813 - val_accuracy: 0.7262\n",
            "Epoch 144/150\n",
            "60/60 [==============================] - 0s 1ms/step - loss: 0.5017 - accuracy: 0.7583 - val_loss: 0.5760 - val_accuracy: 0.7440\n",
            "Epoch 145/150\n",
            "60/60 [==============================] - 0s 1ms/step - loss: 0.5011 - accuracy: 0.7400 - val_loss: 0.5735 - val_accuracy: 0.7440\n",
            "Epoch 146/150\n",
            "60/60 [==============================] - 0s 1ms/step - loss: 0.4988 - accuracy: 0.7633 - val_loss: 0.5772 - val_accuracy: 0.7083\n",
            "Epoch 147/150\n",
            "60/60 [==============================] - 0s 1ms/step - loss: 0.5033 - accuracy: 0.7650 - val_loss: 0.5871 - val_accuracy: 0.7500\n",
            "Epoch 148/150\n",
            "60/60 [==============================] - 0s 1ms/step - loss: 0.4987 - accuracy: 0.7517 - val_loss: 0.5735 - val_accuracy: 0.7321\n",
            "Epoch 149/150\n",
            "60/60 [==============================] - 0s 1ms/step - loss: 0.5016 - accuracy: 0.7500 - val_loss: 0.5767 - val_accuracy: 0.7202\n",
            "Epoch 150/150\n",
            "60/60 [==============================] - 0s 1ms/step - loss: 0.4966 - accuracy: 0.7600 - val_loss: 0.5724 - val_accuracy: 0.7143\n"
          ],
          "name": "stdout"
        }
      ]
    },
    {
      "cell_type": "code",
      "metadata": {
        "colab": {
          "base_uri": "https://localhost:8080/",
          "height": 313
        },
        "id": "31lyImw0oLoB",
        "outputId": "b26a4c09-29fd-42d6-a3f9-7173a10936f9"
      },
      "source": [
        "epochs = 150\n",
        "\n",
        "acc_list = [100 * i for i in hist.history['accuracy']]\n",
        "vacc_list = [100 * i for i in hist.history['val_accuracy']]\n",
        "loss_list = hist.history['loss'] #[100 * i for i in history.history['loss']]\n",
        "vloss_list = hist.history['val_loss'] #[100 * i for i in history.history['val_loss']]\n",
        "\n",
        "\n",
        "plt.plot(range(1,epochs+1),acc_list)  \n",
        "plt.plot(range(1,epochs+1),vacc_list)  \n",
        "plt.plot(np.argmax(np.array(vacc_list))+1,vacc_list[np.argmax(np.array(vacc_list))], 'r*')\n",
        "plt.title('DL of diabetes: Model accuracy')\n",
        "plt.ylabel('Accuracy (%)')\n",
        "plt.xlabel('Epoch')\n",
        "plt.legend(['accuracy','val_accuracy','best'], loc='best')"
      ],
      "execution_count": null,
      "outputs": [
        {
          "output_type": "execute_result",
          "data": {
            "text/plain": [
              "<matplotlib.legend.Legend at 0x7ff9a0bc1a58>"
            ]
          },
          "metadata": {
            "tags": []
          },
          "execution_count": 19
        },
        {
          "output_type": "display_data",
          "data": {
            "image/png": "[encoded data removed]",
            "text/plain": [
              "<Figure size 432x288 with 1 Axes>"
            ]
          },
          "metadata": {
            "tags": [],
            "needs_background": "light"
          }
        }
      ]
    },
    {
      "cell_type": "code",
      "metadata": {
        "colab": {
          "base_uri": "https://localhost:8080/"
        },
        "id": "i-owBe_-nLfL",
        "outputId": "ae74f7ad-f87b-461d-dbca-28f8d78913d1"
      },
      "source": [
        "# model performance\n",
        "model.evaluate(X_test, y_test)"
      ],
      "execution_count": null,
      "outputs": [
        {
          "output_type": "stream",
          "text": [
            "6/6 [==============================] - 0s 1ms/step - loss: 0.5724 - accuracy: 0.7143\n"
          ],
          "name": "stdout"
        },
        {
          "output_type": "execute_result",
          "data": {
            "text/plain": [
              "[0.5724309086799622, 0.7142857313156128]"
            ]
          },
          "metadata": {
            "tags": []
          },
          "execution_count": 20
        }
      ]
    },
    {
      "cell_type": "code",
      "metadata": {
        "colab": {
          "base_uri": "https://localhost:8080/"
        },
        "id": "cv0lPPtdbZIt",
        "outputId": "a2edff47-2bef-45d1-af55-4c43be21416b"
      },
      "source": [
        "y_train[:5],y_train.shape"
      ],
      "execution_count": null,
      "outputs": [
        {
          "output_type": "execute_result",
          "data": {
            "text/plain": [
              "(0    1\n",
              " 1    0\n",
              " 2    1\n",
              " 3    0\n",
              " 4    1\n",
              " Name: Outcome, dtype: int64, (600,))"
            ]
          },
          "metadata": {
            "tags": []
          },
          "execution_count": 21
        }
      ]
    },
    {
      "cell_type": "code",
      "metadata": {
        "colab": {
          "base_uri": "https://localhost:8080/"
        },
        "id": "u10xb1P7b-QT",
        "outputId": "047339f5-4a88-4162-be8b-88743007ece6"
      },
      "source": [
        "model.predict(X_train)[0:5],[int(np.round(prob)) for prob in model.predict(X_train)[0:5]]"
      ],
      "execution_count": null,
      "outputs": [
        {
          "output_type": "execute_result",
          "data": {
            "text/plain": [
              "(array([[0.4256827 ],\n",
              "        [0.2363315 ],\n",
              "        [0.80417717],\n",
              "        [0.22246689],\n",
              "        [0.6603561 ]], dtype=float32), [0, 0, 1, 0, 1])"
            ]
          },
          "metadata": {
            "tags": []
          },
          "execution_count": 95
        }
      ]
    },
    {
      "cell_type": "code",
      "metadata": {
        "colab": {
          "base_uri": "https://localhost:8080/"
        },
        "id": "p88uIn2gdA_E",
        "outputId": "14f6fc5e-7056-431e-c47b-1bf3734ecaa3"
      },
      "source": [
        "# the first data in trainset\n",
        "X_train.iloc[0].tolist()"
      ],
      "execution_count": null,
      "outputs": [
        {
          "output_type": "execute_result",
          "data": {
            "text/plain": [
              "[6.0, 148.0, 72.0, 35.0, 125.0, 33.6, 0.627, 50.0]"
            ]
          },
          "metadata": {
            "tags": []
          },
          "execution_count": 96
        }
      ]
    },
    {
      "cell_type": "code",
      "metadata": {
        "colab": {
          "base_uri": "https://localhost:8080/"
        },
        "id": "9hu9yuFijM30",
        "outputId": "c2f6a64b-91a5-4dc0-95ac-641e71829e9b"
      },
      "source": [
        "X_test.shape"
      ],
      "execution_count": null,
      "outputs": [
        {
          "output_type": "execute_result",
          "data": {
            "text/plain": [
              "(168, 8)"
            ]
          },
          "metadata": {
            "tags": []
          },
          "execution_count": 97
        }
      ]
    },
    {
      "cell_type": "code",
      "metadata": {
        "colab": {
          "base_uri": "https://localhost:8080/"
        },
        "id": "-QBxuYwBje4t",
        "outputId": "8203be7e-1b09-4be6-8cc5-d73cde0c4010"
      },
      "source": [
        "y_test[:10].values"
      ],
      "execution_count": null,
      "outputs": [
        {
          "output_type": "execute_result",
          "data": {
            "text/plain": [
              "array([0, 0, 0, 1, 1, 0, 1, 0, 0, 0])"
            ]
          },
          "metadata": {
            "tags": []
          },
          "execution_count": 98
        }
      ]
    },
    {
      "cell_type": "code",
      "metadata": {
        "colab": {
          "base_uri": "https://localhost:8080/"
        },
        "id": "0qKhHR2BkDj1",
        "outputId": "43c46bea-7882-4a3c-9d54-eab8a649ab7c"
      },
      "source": [
        "X_test.iloc[0].values.tolist(),y_test.iloc[0]"
      ],
      "execution_count": null,
      "outputs": [
        {
          "output_type": "execute_result",
          "data": {
            "text/plain": [
              "([1.0, 108.0, 88.0, 19.0, 125.0, 27.1, 0.4, 24.0], 0)"
            ]
          },
          "metadata": {
            "tags": []
          },
          "execution_count": 99
        }
      ]
    },
    {
      "cell_type": "code",
      "metadata": {
        "colab": {
          "base_uri": "https://localhost:8080/"
        },
        "id": "8C7SkexxkS5c",
        "outputId": "040d1ffc-6fa7-49ad-b482-81cb529c3efe"
      },
      "source": [
        "# make class predictions for test data with the model\n",
        "predictions = [int(np.round(prob)) for prob in model.predict(X_test)]\n",
        "predictions[:10]"
      ],
      "execution_count": null,
      "outputs": [
        {
          "output_type": "execute_result",
          "data": {
            "text/plain": [
              "[0, 0, 0, 0, 0, 0, 1, 0, 0, 0]"
            ]
          },
          "metadata": {
            "tags": []
          },
          "execution_count": 100
        }
      ]
    },
    {
      "cell_type": "code",
      "metadata": {
        "colab": {
          "base_uri": "https://localhost:8080/"
        },
        "id": "-l8Or1_8YV8H",
        "outputId": "8fcc8db4-6cf3-4e32-d3ef-295c02ff5b30"
      },
      "source": [
        "# summarize the first 10 cases in testset\n",
        "for i in range(10):\n",
        "   print('%s => %d (expected %d)' % (X_test.iloc[i].values.tolist(), predictions[i], y_test.iloc[i]))"
      ],
      "execution_count": null,
      "outputs": [
        {
          "output_type": "stream",
          "text": [
            "[1.0, 108.0, 88.0, 19.0, 125.0, 27.1, 0.4, 24.0] => 0 (expected 0)\n",
            "[6.0, 96.0, 72.0, 29.0, 125.0, 23.7, 0.19, 28.0] => 0 (expected 0)\n",
            "[1.0, 124.0, 74.0, 36.0, 125.0, 27.8, 0.1, 30.0] => 0 (expected 0)\n",
            "[7.0, 150.0, 78.0, 29.0, 126.0, 35.2, 0.6920000000000001, 54.0] => 0 (expected 1)\n",
            "[4.0, 183.0, 72.0, 29.0, 125.0, 28.4, 0.212, 36.0] => 0 (expected 1)\n",
            "[1.0, 124.0, 60.0, 32.0, 125.0, 35.8, 0.514, 21.0] => 0 (expected 0)\n",
            "[1.0, 181.0, 78.0, 42.0, 293.0, 40.0, 1.258, 22.0] => 1 (expected 1)\n",
            "[1.0, 92.0, 62.0, 25.0, 41.0, 19.5, 0.48200000000000004, 25.0] => 0 (expected 0)\n",
            "[0.0, 152.0, 82.0, 39.0, 272.0, 41.5, 0.27, 27.0] => 0 (expected 0)\n",
            "[1.0, 111.0, 62.0, 13.0, 182.0, 24.0, 0.138, 23.0] => 0 (expected 0)\n"
          ],
          "name": "stdout"
        }
      ]
    },
    {
      "cell_type": "markdown",
      "metadata": {
        "id": "zCh-95EO_-17"
      },
      "source": [
        "### Confusion matrix"
      ]
    },
    {
      "cell_type": "code",
      "metadata": {
        "id": "i4QJwcVvADpU"
      },
      "source": [
        "import seaborn as sns\n",
        "from sklearn.metrics import confusion_matrix"
      ],
      "execution_count": null,
      "outputs": []
    },
    {
      "cell_type": "code",
      "metadata": {
        "id": "hiPMQeYXt12l"
      },
      "source": [
        "cm = confusion_matrix(y_test, predictions)"
      ],
      "execution_count": null,
      "outputs": []
    },
    {
      "cell_type": "code",
      "metadata": {
        "id": "YITaGwYjvatc"
      },
      "source": [
        "class_names = ['noDM','DM']"
      ],
      "execution_count": null,
      "outputs": []
    },
    {
      "cell_type": "code",
      "metadata": {
        "id": "2qGHMNU3u8ut",
        "colab": {
          "base_uri": "https://localhost:8080/",
          "height": 334
        },
        "outputId": "ba8e1a99-8f74-413d-be6b-4c59746c283b"
      },
      "source": [
        "plt.figure(figsize=(5,5))\n",
        "sns.heatmap(cm, cbar=False, xticklabels=class_names, yticklabels=class_names, fmt='d', annot=True, cmap=plt.cm.coolwarm)\n",
        "plt.xlabel('Predicted')\n",
        "plt.ylabel('Actual')\n",
        "plt.show()"
      ],
      "execution_count": null,
      "outputs": [
        {
          "output_type": "display_data",
          "data": {
            "image/png": "[encoded data removed]",
            "text/plain": [
              "<Figure size 360x360 with 1 Axes>"
            ]
          },
          "metadata": {
            "tags": [],
            "needs_background": "light"
          }
        }
      ]
    },
    {
      "cell_type": "markdown",
      "metadata": {
        "id": "xG6RmEh-rECP"
      },
      "source": [
        "## [DIY-1] Save the best model\n",
        "- hdf5 file"
      ]
    },
    {
      "cell_type": "code",
      "metadata": {
        "id": "UVgMnQNMrqL4"
      },
      "source": [
        "# define the keras model\n",
        "model2 = Sequential([\n",
        "    Dense(16, input_dim=8, activation='relu'),\n",
        "    Dense(8, activation='relu'), \n",
        "    Dense(1, activation='sigmoid')                 \n",
        "])\n",
        "# compile the keras model\n",
        "model2.compile(loss='binary_crossentropy', \n",
        "              optimizer='adam', \n",
        "              metrics=['accuracy'])"
      ],
      "execution_count": null,
      "outputs": []
    },
    {
      "cell_type": "markdown",
      "metadata": {
        "id": "JjB5zR4vsUHw"
      },
      "source": [
        "### callbacks"
      ]
    },
    {
      "cell_type": "code",
      "metadata": {
        "id": "V20fWcM4sTAk"
      },
      "source": [
        "cp_callback = callbacks.ModelCheckpoint(filepath=\"./diabetes_DL_best_weights.{epoch:03d}-{val_accuracy:.4f}.hdf5\", \n",
        "                              monitor='val_accuracy', verbose=0, save_best_only=True)\n",
        "es_callback = callbacks.EarlyStopping(monitor='val_accuracy', \n",
        "                            mode='max', verbose=1, patience=50)    # patience=10, 20, 50"
      ],
      "execution_count": null,
      "outputs": []
    },
    {
      "cell_type": "code",
      "metadata": {
        "colab": {
          "base_uri": "https://localhost:8080/"
        },
        "id": "hjNTHDcurqL5",
        "outputId": "36ec43ef-21ee-48c4-ff36-32d22ac09957"
      },
      "source": [
        "# fit the keras model on the dataset\n",
        "hist = model2.fit(X_train, y_train, epochs=500, batch_size=10, verbose=1, \n",
        "                  callbacks=[cp_callback, es_callback], \n",
        "                  validation_data=(X_test, y_test))"
      ],
      "execution_count": null,
      "outputs": [
        {
          "output_type": "stream",
          "text": [
            "Epoch 1/500\n",
            "60/60 [==============================] - 0s 3ms/step - loss: 1.4607 - accuracy: 0.5000 - val_loss: 1.0623 - val_accuracy: 0.5476\n",
            "Epoch 2/500\n",
            "60/60 [==============================] - 0s 1ms/step - loss: 0.9836 - accuracy: 0.5417 - val_loss: 0.9457 - val_accuracy: 0.5060\n",
            "Epoch 3/500\n",
            "60/60 [==============================] - 0s 1ms/step - loss: 0.9035 - accuracy: 0.5550 - val_loss: 0.8388 - val_accuracy: 0.5238\n",
            "Epoch 4/500\n",
            "60/60 [==============================] - 0s 1ms/step - loss: 0.7855 - accuracy: 0.5983 - val_loss: 0.7772 - val_accuracy: 0.5595\n",
            "Epoch 5/500\n",
            "60/60 [==============================] - 0s 1ms/step - loss: 0.7272 - accuracy: 0.6017 - val_loss: 0.7589 - val_accuracy: 0.5833\n",
            "Epoch 6/500\n",
            "60/60 [==============================] - 0s 1ms/step - loss: 0.6828 - accuracy: 0.6467 - val_loss: 0.7237 - val_accuracy: 0.5893\n",
            "Epoch 7/500\n",
            "60/60 [==============================] - 0s 2ms/step - loss: 0.6903 - accuracy: 0.6433 - val_loss: 0.7176 - val_accuracy: 0.6012\n",
            "Epoch 8/500\n",
            "60/60 [==============================] - 0s 1ms/step - loss: 0.6432 - accuracy: 0.6750 - val_loss: 0.6793 - val_accuracy: 0.5833\n",
            "Epoch 9/500\n",
            "60/60 [==============================] - 0s 1ms/step - loss: 0.6502 - accuracy: 0.6700 - val_loss: 0.6756 - val_accuracy: 0.5952\n",
            "Epoch 10/500\n",
            "60/60 [==============================] - 0s 1ms/step - loss: 0.6329 - accuracy: 0.6917 - val_loss: 0.6702 - val_accuracy: 0.6071\n",
            "Epoch 11/500\n",
            "60/60 [==============================] - 0s 1ms/step - loss: 0.6340 - accuracy: 0.6633 - val_loss: 0.6753 - val_accuracy: 0.5774\n",
            "Epoch 12/500\n",
            "60/60 [==============================] - 0s 1ms/step - loss: 0.6283 - accuracy: 0.6667 - val_loss: 0.6614 - val_accuracy: 0.6071\n",
            "Epoch 13/500\n",
            "60/60 [==============================] - 0s 1ms/step - loss: 0.6116 - accuracy: 0.6867 - val_loss: 0.6616 - val_accuracy: 0.6012\n",
            "Epoch 14/500\n",
            "60/60 [==============================] - 0s 1ms/step - loss: 0.6000 - accuracy: 0.6867 - val_loss: 0.6831 - val_accuracy: 0.6071\n",
            "Epoch 15/500\n",
            "60/60 [==============================] - 0s 1ms/step - loss: 0.6046 - accuracy: 0.6800 - val_loss: 0.6576 - val_accuracy: 0.6012\n",
            "Epoch 16/500\n",
            "60/60 [==============================] - 0s 1ms/step - loss: 0.5862 - accuracy: 0.6983 - val_loss: 0.6580 - val_accuracy: 0.6131\n",
            "Epoch 17/500\n",
            "60/60 [==============================] - 0s 1ms/step - loss: 0.5902 - accuracy: 0.6917 - val_loss: 0.6467 - val_accuracy: 0.6250\n",
            "Epoch 18/500\n",
            "60/60 [==============================] - 0s 2ms/step - loss: 0.5875 - accuracy: 0.6850 - val_loss: 0.6548 - val_accuracy: 0.6310\n",
            "Epoch 19/500\n",
            "60/60 [==============================] - 0s 1ms/step - loss: 0.5969 - accuracy: 0.6833 - val_loss: 0.6725 - val_accuracy: 0.6310\n",
            "Epoch 20/500\n",
            "60/60 [==============================] - 0s 2ms/step - loss: 0.5723 - accuracy: 0.7150 - val_loss: 0.6515 - val_accuracy: 0.6429\n",
            "Epoch 21/500\n",
            "60/60 [==============================] - 0s 2ms/step - loss: 0.5666 - accuracy: 0.7233 - val_loss: 0.6361 - val_accuracy: 0.6488\n",
            "Epoch 22/500\n",
            "60/60 [==============================] - 0s 1ms/step - loss: 0.5735 - accuracy: 0.7150 - val_loss: 0.6614 - val_accuracy: 0.6369\n",
            "Epoch 23/500\n",
            "60/60 [==============================] - 0s 1ms/step - loss: 0.5814 - accuracy: 0.7067 - val_loss: 0.6655 - val_accuracy: 0.6607\n",
            "Epoch 24/500\n",
            "60/60 [==============================] - 0s 1ms/step - loss: 0.5556 - accuracy: 0.7283 - val_loss: 0.6384 - val_accuracy: 0.6310\n",
            "Epoch 25/500\n",
            "60/60 [==============================] - 0s 1ms/step - loss: 0.5592 - accuracy: 0.7117 - val_loss: 0.6326 - val_accuracy: 0.6369\n",
            "Epoch 26/500\n",
            "60/60 [==============================] - 0s 1ms/step - loss: 0.5620 - accuracy: 0.7033 - val_loss: 0.6502 - val_accuracy: 0.6548\n",
            "Epoch 27/500\n",
            "60/60 [==============================] - 0s 1ms/step - loss: 0.5625 - accuracy: 0.7200 - val_loss: 0.6490 - val_accuracy: 0.6667\n",
            "Epoch 28/500\n",
            "60/60 [==============================] - 0s 1ms/step - loss: 0.5749 - accuracy: 0.7033 - val_loss: 0.6190 - val_accuracy: 0.6667\n",
            "Epoch 29/500\n",
            "60/60 [==============================] - 0s 2ms/step - loss: 0.5529 - accuracy: 0.7183 - val_loss: 0.6553 - val_accuracy: 0.6667\n",
            "Epoch 30/500\n",
            "60/60 [==============================] - 0s 1ms/step - loss: 0.5544 - accuracy: 0.7167 - val_loss: 0.6058 - val_accuracy: 0.6429\n",
            "Epoch 31/500\n",
            "60/60 [==============================] - 0s 1ms/step - loss: 0.5574 - accuracy: 0.7183 - val_loss: 0.6061 - val_accuracy: 0.6667\n",
            "Epoch 32/500\n",
            "60/60 [==============================] - 0s 1ms/step - loss: 0.5461 - accuracy: 0.7200 - val_loss: 0.6412 - val_accuracy: 0.6190\n",
            "Epoch 33/500\n",
            "60/60 [==============================] - 0s 1ms/step - loss: 0.5650 - accuracy: 0.7167 - val_loss: 0.6103 - val_accuracy: 0.6667\n",
            "Epoch 34/500\n",
            "60/60 [==============================] - 0s 1ms/step - loss: 0.5477 - accuracy: 0.7200 - val_loss: 0.6245 - val_accuracy: 0.6131\n",
            "Epoch 35/500\n",
            "60/60 [==============================] - 0s 1ms/step - loss: 0.5483 - accuracy: 0.7083 - val_loss: 0.6557 - val_accuracy: 0.6012\n",
            "Epoch 36/500\n",
            "60/60 [==============================] - 0s 1ms/step - loss: 0.5571 - accuracy: 0.7083 - val_loss: 0.6137 - val_accuracy: 0.6369\n",
            "Epoch 37/500\n",
            "60/60 [==============================] - 0s 1ms/step - loss: 0.5432 - accuracy: 0.7317 - val_loss: 0.6153 - val_accuracy: 0.6488\n",
            "Epoch 38/500\n",
            "60/60 [==============================] - 0s 1ms/step - loss: 0.5439 - accuracy: 0.7333 - val_loss: 0.6212 - val_accuracy: 0.6369\n",
            "Epoch 39/500\n",
            "60/60 [==============================] - 0s 1ms/step - loss: 0.5544 - accuracy: 0.7267 - val_loss: 0.6044 - val_accuracy: 0.6548\n",
            "Epoch 40/500\n",
            "60/60 [==============================] - 0s 1ms/step - loss: 0.5454 - accuracy: 0.7417 - val_loss: 0.6178 - val_accuracy: 0.6310\n",
            "Epoch 41/500\n",
            "60/60 [==============================] - 0s 1ms/step - loss: 0.5364 - accuracy: 0.7400 - val_loss: 0.6232 - val_accuracy: 0.6369\n",
            "Epoch 42/500\n",
            "60/60 [==============================] - 0s 1ms/step - loss: 0.5418 - accuracy: 0.7367 - val_loss: 0.6105 - val_accuracy: 0.6488\n",
            "Epoch 43/500\n",
            "60/60 [==============================] - 0s 1ms/step - loss: 0.5311 - accuracy: 0.7450 - val_loss: 0.6043 - val_accuracy: 0.6548\n",
            "Epoch 44/500\n",
            "60/60 [==============================] - 0s 2ms/step - loss: 0.5439 - accuracy: 0.7300 - val_loss: 0.6008 - val_accuracy: 0.6786\n",
            "Epoch 45/500\n",
            "60/60 [==============================] - 0s 1ms/step - loss: 0.5406 - accuracy: 0.7250 - val_loss: 0.6027 - val_accuracy: 0.6726\n",
            "Epoch 46/500\n",
            "60/60 [==============================] - 0s 1ms/step - loss: 0.5362 - accuracy: 0.7433 - val_loss: 0.5939 - val_accuracy: 0.6905\n",
            "Epoch 47/500\n",
            "60/60 [==============================] - 0s 1ms/step - loss: 0.5382 - accuracy: 0.7283 - val_loss: 0.6092 - val_accuracy: 0.6548\n",
            "Epoch 48/500\n",
            "60/60 [==============================] - 0s 1ms/step - loss: 0.5469 - accuracy: 0.7333 - val_loss: 0.6025 - val_accuracy: 0.6488\n",
            "Epoch 49/500\n",
            "60/60 [==============================] - 0s 1ms/step - loss: 0.5416 - accuracy: 0.7400 - val_loss: 0.6009 - val_accuracy: 0.6786\n",
            "Epoch 50/500\n",
            "60/60 [==============================] - 0s 1ms/step - loss: 0.5323 - accuracy: 0.7300 - val_loss: 0.5929 - val_accuracy: 0.6845\n",
            "Epoch 51/500\n",
            "60/60 [==============================] - 0s 2ms/step - loss: 0.5343 - accuracy: 0.7400 - val_loss: 0.6207 - val_accuracy: 0.6607\n",
            "Epoch 52/500\n",
            "60/60 [==============================] - 0s 1ms/step - loss: 0.5421 - accuracy: 0.7283 - val_loss: 0.5961 - val_accuracy: 0.6845\n",
            "Epoch 53/500\n",
            "60/60 [==============================] - 0s 1ms/step - loss: 0.5281 - accuracy: 0.7417 - val_loss: 0.5892 - val_accuracy: 0.6726\n",
            "Epoch 54/500\n",
            "60/60 [==============================] - 0s 1ms/step - loss: 0.5297 - accuracy: 0.7450 - val_loss: 0.6118 - val_accuracy: 0.6607\n",
            "Epoch 55/500\n",
            "60/60 [==============================] - 0s 1ms/step - loss: 0.5415 - accuracy: 0.7400 - val_loss: 0.5883 - val_accuracy: 0.6607\n",
            "Epoch 56/500\n",
            "60/60 [==============================] - 0s 1ms/step - loss: 0.5254 - accuracy: 0.7400 - val_loss: 0.6086 - val_accuracy: 0.6548\n",
            "Epoch 57/500\n",
            "60/60 [==============================] - 0s 1ms/step - loss: 0.5337 - accuracy: 0.7300 - val_loss: 0.6065 - val_accuracy: 0.6548\n",
            "Epoch 58/500\n",
            "60/60 [==============================] - 0s 2ms/step - loss: 0.5277 - accuracy: 0.7500 - val_loss: 0.5872 - val_accuracy: 0.6964\n",
            "Epoch 59/500\n",
            "60/60 [==============================] - 0s 1ms/step - loss: 0.5204 - accuracy: 0.7367 - val_loss: 0.6445 - val_accuracy: 0.6429\n",
            "Epoch 60/500\n",
            "60/60 [==============================] - 0s 1ms/step - loss: 0.5325 - accuracy: 0.7417 - val_loss: 0.5934 - val_accuracy: 0.6726\n",
            "Epoch 61/500\n",
            "60/60 [==============================] - 0s 1ms/step - loss: 0.5286 - accuracy: 0.7250 - val_loss: 0.5965 - val_accuracy: 0.6845\n",
            "Epoch 62/500\n",
            "60/60 [==============================] - 0s 1ms/step - loss: 0.5151 - accuracy: 0.7517 - val_loss: 0.5965 - val_accuracy: 0.6786\n",
            "Epoch 63/500\n",
            "60/60 [==============================] - 0s 1ms/step - loss: 0.5136 - accuracy: 0.7467 - val_loss: 0.5932 - val_accuracy: 0.6726\n",
            "Epoch 64/500\n",
            "60/60 [==============================] - 0s 1ms/step - loss: 0.5202 - accuracy: 0.7483 - val_loss: 0.5911 - val_accuracy: 0.6786\n",
            "Epoch 65/500\n",
            "60/60 [==============================] - 0s 1ms/step - loss: 0.5167 - accuracy: 0.7583 - val_loss: 0.5879 - val_accuracy: 0.6726\n",
            "Epoch 66/500\n",
            "60/60 [==============================] - 0s 1ms/step - loss: 0.5180 - accuracy: 0.7350 - val_loss: 0.5918 - val_accuracy: 0.6607\n",
            "Epoch 67/500\n",
            "60/60 [==============================] - 0s 2ms/step - loss: 0.5166 - accuracy: 0.7350 - val_loss: 0.5943 - val_accuracy: 0.6845\n",
            "Epoch 68/500\n",
            "60/60 [==============================] - 0s 1ms/step - loss: 0.5218 - accuracy: 0.7550 - val_loss: 0.6182 - val_accuracy: 0.6845\n",
            "Epoch 69/500\n",
            "60/60 [==============================] - 0s 1ms/step - loss: 0.5214 - accuracy: 0.7517 - val_loss: 0.5950 - val_accuracy: 0.7024\n",
            "Epoch 70/500\n",
            "60/60 [==============================] - 0s 1ms/step - loss: 0.5261 - accuracy: 0.7383 - val_loss: 0.5926 - val_accuracy: 0.6607\n",
            "Epoch 71/500\n",
            "60/60 [==============================] - 0s 2ms/step - loss: 0.5347 - accuracy: 0.7483 - val_loss: 0.5762 - val_accuracy: 0.7143\n",
            "Epoch 72/500\n",
            "60/60 [==============================] - 0s 1ms/step - loss: 0.5101 - accuracy: 0.7383 - val_loss: 0.5884 - val_accuracy: 0.7083\n",
            "Epoch 73/500\n",
            "60/60 [==============================] - 0s 1ms/step - loss: 0.5144 - accuracy: 0.7450 - val_loss: 0.5934 - val_accuracy: 0.7083\n",
            "Epoch 74/500\n",
            "60/60 [==============================] - 0s 1ms/step - loss: 0.5078 - accuracy: 0.7500 - val_loss: 0.5777 - val_accuracy: 0.6726\n",
            "Epoch 75/500\n",
            "60/60 [==============================] - 0s 1ms/step - loss: 0.5021 - accuracy: 0.7450 - val_loss: 0.6877 - val_accuracy: 0.6607\n",
            "Epoch 76/500\n",
            "60/60 [==============================] - 0s 1ms/step - loss: 0.5405 - accuracy: 0.7133 - val_loss: 0.5846 - val_accuracy: 0.7083\n",
            "Epoch 77/500\n",
            "60/60 [==============================] - 0s 1ms/step - loss: 0.4997 - accuracy: 0.7500 - val_loss: 0.6018 - val_accuracy: 0.6667\n",
            "Epoch 78/500\n",
            "60/60 [==============================] - 0s 1ms/step - loss: 0.5151 - accuracy: 0.7350 - val_loss: 0.5837 - val_accuracy: 0.7024\n",
            "Epoch 79/500\n",
            "60/60 [==============================] - 0s 2ms/step - loss: 0.5127 - accuracy: 0.7517 - val_loss: 0.6195 - val_accuracy: 0.6905\n",
            "Epoch 80/500\n",
            "60/60 [==============================] - 0s 1ms/step - loss: 0.5089 - accuracy: 0.7400 - val_loss: 0.5959 - val_accuracy: 0.6964\n",
            "Epoch 81/500\n",
            "60/60 [==============================] - 0s 1ms/step - loss: 0.5024 - accuracy: 0.7533 - val_loss: 0.5725 - val_accuracy: 0.6905\n",
            "Epoch 82/500\n",
            "60/60 [==============================] - 0s 1ms/step - loss: 0.5014 - accuracy: 0.7550 - val_loss: 0.5758 - val_accuracy: 0.7024\n",
            "Epoch 83/500\n",
            "60/60 [==============================] - 0s 1ms/step - loss: 0.5144 - accuracy: 0.7433 - val_loss: 0.5708 - val_accuracy: 0.6845\n",
            "Epoch 84/500\n",
            "60/60 [==============================] - 0s 1ms/step - loss: 0.5073 - accuracy: 0.7500 - val_loss: 0.5714 - val_accuracy: 0.7024\n",
            "Epoch 85/500\n",
            "60/60 [==============================] - 0s 1ms/step - loss: 0.5065 - accuracy: 0.7383 - val_loss: 0.5877 - val_accuracy: 0.6786\n",
            "Epoch 86/500\n",
            "60/60 [==============================] - 0s 1ms/step - loss: 0.5089 - accuracy: 0.7433 - val_loss: 0.5937 - val_accuracy: 0.6845\n",
            "Epoch 87/500\n",
            "60/60 [==============================] - 0s 1ms/step - loss: 0.5023 - accuracy: 0.7417 - val_loss: 0.6044 - val_accuracy: 0.6845\n",
            "Epoch 88/500\n",
            "60/60 [==============================] - 0s 1ms/step - loss: 0.5058 - accuracy: 0.7583 - val_loss: 0.5808 - val_accuracy: 0.7024\n",
            "Epoch 89/500\n",
            "60/60 [==============================] - 0s 1ms/step - loss: 0.5106 - accuracy: 0.7483 - val_loss: 0.6102 - val_accuracy: 0.6964\n",
            "Epoch 90/500\n",
            "60/60 [==============================] - 0s 1ms/step - loss: 0.5024 - accuracy: 0.7667 - val_loss: 0.6015 - val_accuracy: 0.6964\n",
            "Epoch 91/500\n",
            "60/60 [==============================] - 0s 1ms/step - loss: 0.5039 - accuracy: 0.7500 - val_loss: 0.5646 - val_accuracy: 0.7083\n",
            "Epoch 92/500\n",
            "60/60 [==============================] - 0s 2ms/step - loss: 0.5002 - accuracy: 0.7550 - val_loss: 0.5712 - val_accuracy: 0.7321\n",
            "Epoch 93/500\n",
            "60/60 [==============================] - 0s 1ms/step - loss: 0.5077 - accuracy: 0.7567 - val_loss: 0.5713 - val_accuracy: 0.6905\n",
            "Epoch 94/500\n",
            "60/60 [==============================] - 0s 1ms/step - loss: 0.4993 - accuracy: 0.7367 - val_loss: 0.5615 - val_accuracy: 0.6845\n",
            "Epoch 95/500\n",
            "60/60 [==============================] - 0s 1ms/step - loss: 0.4973 - accuracy: 0.7567 - val_loss: 0.5807 - val_accuracy: 0.6905\n",
            "Epoch 96/500\n",
            "60/60 [==============================] - 0s 1ms/step - loss: 0.5068 - accuracy: 0.7550 - val_loss: 0.6087 - val_accuracy: 0.6667\n",
            "Epoch 97/500\n",
            "60/60 [==============================] - 0s 1ms/step - loss: 0.4975 - accuracy: 0.7600 - val_loss: 0.5711 - val_accuracy: 0.6964\n",
            "Epoch 98/500\n",
            "60/60 [==============================] - 0s 1ms/step - loss: 0.4989 - accuracy: 0.7567 - val_loss: 0.5743 - val_accuracy: 0.6905\n",
            "Epoch 99/500\n",
            "60/60 [==============================] - 0s 1ms/step - loss: 0.4969 - accuracy: 0.7433 - val_loss: 0.5846 - val_accuracy: 0.7024\n",
            "Epoch 100/500\n",
            "60/60 [==============================] - 0s 1ms/step - loss: 0.5084 - accuracy: 0.7567 - val_loss: 0.5797 - val_accuracy: 0.6905\n",
            "Epoch 101/500\n",
            "60/60 [==============================] - 0s 1ms/step - loss: 0.5077 - accuracy: 0.7500 - val_loss: 0.6298 - val_accuracy: 0.6726\n",
            "Epoch 102/500\n",
            "60/60 [==============================] - 0s 1ms/step - loss: 0.4986 - accuracy: 0.7600 - val_loss: 0.5703 - val_accuracy: 0.6905\n",
            "Epoch 103/500\n",
            "60/60 [==============================] - 0s 2ms/step - loss: 0.4846 - accuracy: 0.7533 - val_loss: 0.5926 - val_accuracy: 0.7143\n",
            "Epoch 104/500\n",
            "60/60 [==============================] - 0s 1ms/step - loss: 0.5135 - accuracy: 0.7483 - val_loss: 0.5785 - val_accuracy: 0.7024\n",
            "Epoch 105/500\n",
            "60/60 [==============================] - 0s 1ms/step - loss: 0.4862 - accuracy: 0.7550 - val_loss: 0.5742 - val_accuracy: 0.6845\n",
            "Epoch 106/500\n",
            "60/60 [==============================] - 0s 1ms/step - loss: 0.4908 - accuracy: 0.7533 - val_loss: 0.5771 - val_accuracy: 0.7143\n",
            "Epoch 107/500\n",
            "60/60 [==============================] - 0s 2ms/step - loss: 0.5046 - accuracy: 0.7383 - val_loss: 0.5762 - val_accuracy: 0.7381\n",
            "Epoch 108/500\n",
            "60/60 [==============================] - 0s 2ms/step - loss: 0.4877 - accuracy: 0.7517 - val_loss: 0.5689 - val_accuracy: 0.7143\n",
            "Epoch 109/500\n",
            "60/60 [==============================] - 0s 1ms/step - loss: 0.4857 - accuracy: 0.7733 - val_loss: 0.5934 - val_accuracy: 0.7024\n",
            "Epoch 110/500\n",
            "60/60 [==============================] - 0s 1ms/step - loss: 0.4975 - accuracy: 0.7700 - val_loss: 0.6005 - val_accuracy: 0.6905\n",
            "Epoch 111/500\n",
            "60/60 [==============================] - 0s 1ms/step - loss: 0.4925 - accuracy: 0.7517 - val_loss: 0.5705 - val_accuracy: 0.7143\n",
            "Epoch 112/500\n",
            "60/60 [==============================] - 0s 1ms/step - loss: 0.5042 - accuracy: 0.7567 - val_loss: 0.5608 - val_accuracy: 0.7262\n",
            "Epoch 113/500\n",
            "60/60 [==============================] - 0s 1ms/step - loss: 0.4858 - accuracy: 0.7583 - val_loss: 0.5823 - val_accuracy: 0.6905\n",
            "Epoch 114/500\n",
            "60/60 [==============================] - 0s 1ms/step - loss: 0.4884 - accuracy: 0.7583 - val_loss: 0.5894 - val_accuracy: 0.6964\n",
            "Epoch 115/500\n",
            "60/60 [==============================] - 0s 1ms/step - loss: 0.4881 - accuracy: 0.7417 - val_loss: 0.5731 - val_accuracy: 0.7202\n",
            "Epoch 116/500\n",
            "60/60 [==============================] - 0s 1ms/step - loss: 0.4928 - accuracy: 0.7533 - val_loss: 0.5877 - val_accuracy: 0.7024\n",
            "Epoch 117/500\n",
            "60/60 [==============================] - 0s 1ms/step - loss: 0.4951 - accuracy: 0.7583 - val_loss: 0.5792 - val_accuracy: 0.7083\n",
            "Epoch 118/500\n",
            "60/60 [==============================] - 0s 2ms/step - loss: 0.5006 - accuracy: 0.7550 - val_loss: 0.5708 - val_accuracy: 0.7024\n",
            "Epoch 119/500\n",
            "60/60 [==============================] - 0s 1ms/step - loss: 0.4891 - accuracy: 0.7517 - val_loss: 0.5726 - val_accuracy: 0.7143\n",
            "Epoch 120/500\n",
            "60/60 [==============================] - 0s 1ms/step - loss: 0.4998 - accuracy: 0.7483 - val_loss: 0.5715 - val_accuracy: 0.6964\n",
            "Epoch 121/500\n",
            "60/60 [==============================] - 0s 1ms/step - loss: 0.5028 - accuracy: 0.7583 - val_loss: 0.5720 - val_accuracy: 0.7143\n",
            "Epoch 122/500\n",
            "60/60 [==============================] - 0s 1ms/step - loss: 0.4962 - accuracy: 0.7600 - val_loss: 0.5684 - val_accuracy: 0.7202\n",
            "Epoch 123/500\n",
            "60/60 [==============================] - 0s 1ms/step - loss: 0.4810 - accuracy: 0.7617 - val_loss: 0.5726 - val_accuracy: 0.7083\n",
            "Epoch 124/500\n",
            "60/60 [==============================] - 0s 1ms/step - loss: 0.5082 - accuracy: 0.7383 - val_loss: 0.5710 - val_accuracy: 0.7083\n",
            "Epoch 125/500\n",
            "60/60 [==============================] - 0s 1ms/step - loss: 0.4929 - accuracy: 0.7500 - val_loss: 0.5628 - val_accuracy: 0.7262\n",
            "Epoch 126/500\n",
            "60/60 [==============================] - 0s 1ms/step - loss: 0.4859 - accuracy: 0.7567 - val_loss: 0.5707 - val_accuracy: 0.7083\n",
            "Epoch 127/500\n",
            "60/60 [==============================] - 0s 1ms/step - loss: 0.4832 - accuracy: 0.7567 - val_loss: 0.5751 - val_accuracy: 0.7024\n",
            "Epoch 128/500\n",
            "60/60 [==============================] - 0s 1ms/step - loss: 0.4790 - accuracy: 0.7717 - val_loss: 0.5902 - val_accuracy: 0.6964\n",
            "Epoch 129/500\n",
            "60/60 [==============================] - 0s 1ms/step - loss: 0.4804 - accuracy: 0.7433 - val_loss: 0.5627 - val_accuracy: 0.7321\n",
            "Epoch 130/500\n",
            "60/60 [==============================] - 0s 1ms/step - loss: 0.4756 - accuracy: 0.7483 - val_loss: 0.5622 - val_accuracy: 0.6964\n",
            "Epoch 131/500\n",
            "60/60 [==============================] - 0s 1ms/step - loss: 0.4865 - accuracy: 0.7667 - val_loss: 0.5626 - val_accuracy: 0.7202\n",
            "Epoch 132/500\n",
            "60/60 [==============================] - 0s 2ms/step - loss: 0.4942 - accuracy: 0.7367 - val_loss: 0.5882 - val_accuracy: 0.7024\n",
            "Epoch 133/500\n",
            "60/60 [==============================] - 0s 1ms/step - loss: 0.4732 - accuracy: 0.7550 - val_loss: 0.5871 - val_accuracy: 0.7024\n",
            "Epoch 134/500\n",
            "60/60 [==============================] - 0s 1ms/step - loss: 0.4809 - accuracy: 0.7700 - val_loss: 0.6029 - val_accuracy: 0.7024\n",
            "Epoch 135/500\n",
            "60/60 [==============================] - 0s 1ms/step - loss: 0.4770 - accuracy: 0.7583 - val_loss: 0.5846 - val_accuracy: 0.7202\n",
            "Epoch 136/500\n",
            "60/60 [==============================] - 0s 1ms/step - loss: 0.4720 - accuracy: 0.7617 - val_loss: 0.5588 - val_accuracy: 0.7262\n",
            "Epoch 137/500\n",
            "60/60 [==============================] - 0s 2ms/step - loss: 0.4969 - accuracy: 0.7533 - val_loss: 0.5590 - val_accuracy: 0.7500\n",
            "Epoch 138/500\n",
            "60/60 [==============================] - 0s 1ms/step - loss: 0.4801 - accuracy: 0.7517 - val_loss: 0.5870 - val_accuracy: 0.7024\n",
            "Epoch 139/500\n",
            "60/60 [==============================] - 0s 1ms/step - loss: 0.4898 - accuracy: 0.7600 - val_loss: 0.5822 - val_accuracy: 0.7083\n",
            "Epoch 140/500\n",
            "60/60 [==============================] - 0s 1ms/step - loss: 0.4877 - accuracy: 0.7533 - val_loss: 0.5832 - val_accuracy: 0.7262\n",
            "Epoch 141/500\n",
            "60/60 [==============================] - 0s 1ms/step - loss: 0.4800 - accuracy: 0.7533 - val_loss: 0.5656 - val_accuracy: 0.7262\n",
            "Epoch 142/500\n",
            "60/60 [==============================] - 0s 1ms/step - loss: 0.4729 - accuracy: 0.7633 - val_loss: 0.5714 - val_accuracy: 0.7202\n",
            "Epoch 143/500\n",
            "60/60 [==============================] - 0s 1ms/step - loss: 0.4953 - accuracy: 0.7667 - val_loss: 0.5720 - val_accuracy: 0.7202\n",
            "Epoch 144/500\n",
            "60/60 [==============================] - 0s 1ms/step - loss: 0.4753 - accuracy: 0.7667 - val_loss: 0.5632 - val_accuracy: 0.7143\n",
            "Epoch 145/500\n",
            "60/60 [==============================] - 0s 1ms/step - loss: 0.4836 - accuracy: 0.7617 - val_loss: 0.5542 - val_accuracy: 0.7202\n",
            "Epoch 146/500\n",
            "60/60 [==============================] - 0s 1ms/step - loss: 0.4742 - accuracy: 0.7550 - val_loss: 0.5496 - val_accuracy: 0.7262\n",
            "Epoch 147/500\n",
            "60/60 [==============================] - 0s 1ms/step - loss: 0.4788 - accuracy: 0.7650 - val_loss: 0.5536 - val_accuracy: 0.7083\n",
            "Epoch 148/500\n",
            "60/60 [==============================] - 0s 2ms/step - loss: 0.4718 - accuracy: 0.7683 - val_loss: 0.5561 - val_accuracy: 0.7202\n",
            "Epoch 149/500\n",
            "60/60 [==============================] - 0s 1ms/step - loss: 0.4756 - accuracy: 0.7633 - val_loss: 0.5591 - val_accuracy: 0.7381\n",
            "Epoch 150/500\n",
            "60/60 [==============================] - 0s 1ms/step - loss: 0.4993 - accuracy: 0.7550 - val_loss: 0.5489 - val_accuracy: 0.7440\n",
            "Epoch 151/500\n",
            "60/60 [==============================] - 0s 2ms/step - loss: 0.4959 - accuracy: 0.7733 - val_loss: 0.5681 - val_accuracy: 0.7500\n",
            "Epoch 152/500\n",
            "60/60 [==============================] - 0s 1ms/step - loss: 0.4767 - accuracy: 0.7517 - val_loss: 0.5544 - val_accuracy: 0.7024\n",
            "Epoch 153/500\n",
            "60/60 [==============================] - 0s 1ms/step - loss: 0.4846 - accuracy: 0.7433 - val_loss: 0.5751 - val_accuracy: 0.7143\n",
            "Epoch 154/500\n",
            "60/60 [==============================] - 0s 1ms/step - loss: 0.4969 - accuracy: 0.7517 - val_loss: 0.5558 - val_accuracy: 0.7381\n",
            "Epoch 155/500\n",
            "60/60 [==============================] - 0s 1ms/step - loss: 0.4676 - accuracy: 0.7783 - val_loss: 0.5521 - val_accuracy: 0.7321\n",
            "Epoch 156/500\n",
            "60/60 [==============================] - 0s 1ms/step - loss: 0.4808 - accuracy: 0.7567 - val_loss: 0.5490 - val_accuracy: 0.7202\n",
            "Epoch 157/500\n",
            "60/60 [==============================] - 0s 1ms/step - loss: 0.4722 - accuracy: 0.7700 - val_loss: 0.5459 - val_accuracy: 0.7143\n",
            "Epoch 158/500\n",
            "60/60 [==============================] - 0s 1ms/step - loss: 0.4850 - accuracy: 0.7650 - val_loss: 0.5646 - val_accuracy: 0.7024\n",
            "Epoch 159/500\n",
            "60/60 [==============================] - 0s 2ms/step - loss: 0.4657 - accuracy: 0.7750 - val_loss: 0.5460 - val_accuracy: 0.7500\n",
            "Epoch 160/500\n",
            "60/60 [==============================] - 0s 1ms/step - loss: 0.4746 - accuracy: 0.7600 - val_loss: 0.5671 - val_accuracy: 0.6964\n",
            "Epoch 161/500\n",
            "60/60 [==============================] - 0s 2ms/step - loss: 0.4674 - accuracy: 0.7583 - val_loss: 0.5380 - val_accuracy: 0.7619\n",
            "Epoch 162/500\n",
            "60/60 [==============================] - 0s 1ms/step - loss: 0.4729 - accuracy: 0.7683 - val_loss: 0.5590 - val_accuracy: 0.7143\n",
            "Epoch 163/500\n",
            "60/60 [==============================] - 0s 1ms/step - loss: 0.4823 - accuracy: 0.7700 - val_loss: 0.5495 - val_accuracy: 0.7024\n",
            "Epoch 164/500\n",
            "60/60 [==============================] - 0s 2ms/step - loss: 0.4729 - accuracy: 0.7567 - val_loss: 0.5765 - val_accuracy: 0.7024\n",
            "Epoch 165/500\n",
            "60/60 [==============================] - 0s 1ms/step - loss: 0.4717 - accuracy: 0.7633 - val_loss: 0.5641 - val_accuracy: 0.7262\n",
            "Epoch 166/500\n",
            "60/60 [==============================] - 0s 1ms/step - loss: 0.5036 - accuracy: 0.7433 - val_loss: 0.5469 - val_accuracy: 0.7083\n",
            "Epoch 167/500\n",
            "60/60 [==============================] - 0s 1ms/step - loss: 0.4759 - accuracy: 0.7617 - val_loss: 0.5508 - val_accuracy: 0.7143\n",
            "Epoch 168/500\n",
            "60/60 [==============================] - 0s 2ms/step - loss: 0.4664 - accuracy: 0.7650 - val_loss: 0.5476 - val_accuracy: 0.7560\n",
            "Epoch 169/500\n",
            "60/60 [==============================] - 0s 1ms/step - loss: 0.4708 - accuracy: 0.7717 - val_loss: 0.5616 - val_accuracy: 0.7321\n",
            "Epoch 170/500\n",
            "60/60 [==============================] - 0s 2ms/step - loss: 0.4849 - accuracy: 0.7467 - val_loss: 0.5509 - val_accuracy: 0.7381\n",
            "Epoch 171/500\n",
            "60/60 [==============================] - 0s 1ms/step - loss: 0.4677 - accuracy: 0.7800 - val_loss: 0.5598 - val_accuracy: 0.7083\n",
            "Epoch 172/500\n",
            "60/60 [==============================] - 0s 1ms/step - loss: 0.4679 - accuracy: 0.7633 - val_loss: 0.5441 - val_accuracy: 0.7440\n",
            "Epoch 173/500\n",
            "60/60 [==============================] - 0s 1ms/step - loss: 0.4716 - accuracy: 0.7700 - val_loss: 0.5412 - val_accuracy: 0.7143\n",
            "Epoch 174/500\n",
            "60/60 [==============================] - 0s 1ms/step - loss: 0.4769 - accuracy: 0.7683 - val_loss: 0.5671 - val_accuracy: 0.7024\n",
            "Epoch 175/500\n",
            "60/60 [==============================] - 0s 1ms/step - loss: 0.4657 - accuracy: 0.7633 - val_loss: 0.5572 - val_accuracy: 0.7381\n",
            "Epoch 176/500\n",
            "60/60 [==============================] - 0s 1ms/step - loss: 0.4632 - accuracy: 0.7717 - val_loss: 0.5510 - val_accuracy: 0.7500\n",
            "Epoch 177/500\n",
            "60/60 [==============================] - 0s 1ms/step - loss: 0.4665 - accuracy: 0.7767 - val_loss: 0.5427 - val_accuracy: 0.7202\n",
            "Epoch 178/500\n",
            "60/60 [==============================] - 0s 1ms/step - loss: 0.4707 - accuracy: 0.7617 - val_loss: 0.5569 - val_accuracy: 0.7083\n",
            "Epoch 179/500\n",
            "60/60 [==============================] - 0s 1ms/step - loss: 0.4657 - accuracy: 0.7767 - val_loss: 0.5735 - val_accuracy: 0.7083\n",
            "Epoch 180/500\n",
            "60/60 [==============================] - 0s 1ms/step - loss: 0.4581 - accuracy: 0.7667 - val_loss: 0.5402 - val_accuracy: 0.7321\n",
            "Epoch 181/500\n",
            "60/60 [==============================] - 0s 2ms/step - loss: 0.4604 - accuracy: 0.7750 - val_loss: 0.5748 - val_accuracy: 0.7440\n",
            "Epoch 182/500\n",
            "60/60 [==============================] - 0s 1ms/step - loss: 0.4637 - accuracy: 0.7717 - val_loss: 0.5425 - val_accuracy: 0.7440\n",
            "Epoch 183/500\n",
            "60/60 [==============================] - 0s 1ms/step - loss: 0.4823 - accuracy: 0.7483 - val_loss: 0.5870 - val_accuracy: 0.6845\n",
            "Epoch 184/500\n",
            "60/60 [==============================] - 0s 1ms/step - loss: 0.4757 - accuracy: 0.7683 - val_loss: 0.5358 - val_accuracy: 0.7440\n",
            "Epoch 185/500\n",
            "60/60 [==============================] - 0s 1ms/step - loss: 0.4661 - accuracy: 0.7583 - val_loss: 0.5872 - val_accuracy: 0.7262\n",
            "Epoch 186/500\n",
            "60/60 [==============================] - 0s 2ms/step - loss: 0.4872 - accuracy: 0.7633 - val_loss: 0.5650 - val_accuracy: 0.6964\n",
            "Epoch 187/500\n",
            "60/60 [==============================] - 0s 1ms/step - loss: 0.4699 - accuracy: 0.7717 - val_loss: 0.5622 - val_accuracy: 0.7083\n",
            "Epoch 188/500\n",
            "60/60 [==============================] - 0s 1ms/step - loss: 0.4717 - accuracy: 0.7650 - val_loss: 0.5867 - val_accuracy: 0.6964\n",
            "Epoch 189/500\n",
            "60/60 [==============================] - 0s 1ms/step - loss: 0.4861 - accuracy: 0.7617 - val_loss: 0.5211 - val_accuracy: 0.7560\n",
            "Epoch 190/500\n",
            "60/60 [==============================] - 0s 1ms/step - loss: 0.4624 - accuracy: 0.7767 - val_loss: 0.5282 - val_accuracy: 0.7202\n",
            "Epoch 191/500\n",
            "60/60 [==============================] - 0s 1ms/step - loss: 0.4589 - accuracy: 0.7767 - val_loss: 0.5698 - val_accuracy: 0.7143\n",
            "Epoch 192/500\n",
            "60/60 [==============================] - 0s 1ms/step - loss: 0.4814 - accuracy: 0.7683 - val_loss: 0.5364 - val_accuracy: 0.7143\n",
            "Epoch 193/500\n",
            "60/60 [==============================] - 0s 1ms/step - loss: 0.4693 - accuracy: 0.7533 - val_loss: 0.5385 - val_accuracy: 0.7024\n",
            "Epoch 194/500\n",
            "60/60 [==============================] - 0s 2ms/step - loss: 0.4792 - accuracy: 0.7567 - val_loss: 0.5459 - val_accuracy: 0.7202\n",
            "Epoch 195/500\n",
            "60/60 [==============================] - 0s 1ms/step - loss: 0.4717 - accuracy: 0.7483 - val_loss: 0.5782 - val_accuracy: 0.7083\n",
            "Epoch 196/500\n",
            "60/60 [==============================] - 0s 1ms/step - loss: 0.4735 - accuracy: 0.7717 - val_loss: 0.5981 - val_accuracy: 0.7024\n",
            "Epoch 197/500\n",
            "60/60 [==============================] - 0s 2ms/step - loss: 0.4642 - accuracy: 0.7700 - val_loss: 0.5464 - val_accuracy: 0.7381\n",
            "Epoch 198/500\n",
            "60/60 [==============================] - 0s 1ms/step - loss: 0.4598 - accuracy: 0.7717 - val_loss: 0.5521 - val_accuracy: 0.7440\n",
            "Epoch 199/500\n",
            "60/60 [==============================] - 0s 2ms/step - loss: 0.4560 - accuracy: 0.7667 - val_loss: 0.5502 - val_accuracy: 0.7202\n",
            "Epoch 200/500\n",
            "60/60 [==============================] - 0s 1ms/step - loss: 0.4567 - accuracy: 0.7717 - val_loss: 0.5568 - val_accuracy: 0.7143\n",
            "Epoch 201/500\n",
            "60/60 [==============================] - 0s 2ms/step - loss: 0.4565 - accuracy: 0.7817 - val_loss: 0.5482 - val_accuracy: 0.7083\n",
            "Epoch 202/500\n",
            "60/60 [==============================] - 0s 1ms/step - loss: 0.4622 - accuracy: 0.7750 - val_loss: 0.5407 - val_accuracy: 0.7143\n",
            "Epoch 203/500\n",
            "60/60 [==============================] - 0s 2ms/step - loss: 0.4612 - accuracy: 0.7617 - val_loss: 0.5426 - val_accuracy: 0.7500\n",
            "Epoch 204/500\n",
            "60/60 [==============================] - 0s 1ms/step - loss: 0.4604 - accuracy: 0.7683 - val_loss: 0.5760 - val_accuracy: 0.6726\n",
            "Epoch 205/500\n",
            "60/60 [==============================] - 0s 2ms/step - loss: 0.4677 - accuracy: 0.7717 - val_loss: 0.5639 - val_accuracy: 0.7321\n",
            "Epoch 206/500\n",
            "60/60 [==============================] - 0s 1ms/step - loss: 0.4526 - accuracy: 0.7833 - val_loss: 0.5741 - val_accuracy: 0.7560\n",
            "Epoch 207/500\n",
            "60/60 [==============================] - 0s 1ms/step - loss: 0.4622 - accuracy: 0.7600 - val_loss: 0.5438 - val_accuracy: 0.7440\n",
            "Epoch 208/500\n",
            "60/60 [==============================] - 0s 1ms/step - loss: 0.4573 - accuracy: 0.7850 - val_loss: 0.5691 - val_accuracy: 0.6964\n",
            "Epoch 209/500\n",
            "60/60 [==============================] - 0s 2ms/step - loss: 0.4582 - accuracy: 0.7650 - val_loss: 0.5380 - val_accuracy: 0.7560\n",
            "Epoch 210/500\n",
            "60/60 [==============================] - 0s 2ms/step - loss: 0.4466 - accuracy: 0.7833 - val_loss: 0.5493 - val_accuracy: 0.7143\n",
            "Epoch 211/500\n",
            "60/60 [==============================] - 0s 1ms/step - loss: 0.4533 - accuracy: 0.7683 - val_loss: 0.5574 - val_accuracy: 0.6964\n",
            "Epoch 00211: early stopping\n"
          ],
          "name": "stdout"
        }
      ]
    },
    {
      "cell_type": "code",
      "metadata": {
        "colab": {
          "base_uri": "https://localhost:8080/",
          "height": 313
        },
        "id": "7cTBmcNAuIDs",
        "outputId": "eb66c52e-f937-42b4-c57a-a367ad0d1baf"
      },
      "source": [
        "epochs = 211\n",
        "\n",
        "acc_list = [100 * i for i in hist.history['accuracy']]\n",
        "vacc_list = [100 * i for i in hist.history['val_accuracy']]\n",
        "loss_list = hist.history['loss'] #[100 * i for i in history.history['loss']]\n",
        "vloss_list = hist.history['val_loss'] #[100 * i for i in history.history['val_loss']]\n",
        "\n",
        "\n",
        "plt.plot(range(1,epochs+1),acc_list)  \n",
        "plt.plot(range(1,epochs+1),vacc_list)  \n",
        "plt.plot(np.argmax(np.array(vacc_list))+1,vacc_list[np.argmax(np.array(vacc_list))], 'r*')\n",
        "plt.title('DL of diabetes: Model accuracy')\n",
        "plt.ylabel('Accuracy (%)')\n",
        "plt.xlabel('Epoch')\n",
        "plt.legend(['accuracy','val_accuracy','best'], loc='best')"
      ],
      "execution_count": null,
      "outputs": [
        {
          "output_type": "execute_result",
          "data": {
            "text/plain": [
              "<matplotlib.legend.Legend at 0x7ff9a0cfe588>"
            ]
          },
          "metadata": {
            "tags": []
          },
          "execution_count": 47
        },
        {
          "output_type": "display_data",
          "data": {
            "image/png": "[encoded data removed]",
            "text/plain": [
              "<Figure size 432x288 with 1 Axes>"
            ]
          },
          "metadata": {
            "tags": [],
            "needs_background": "light"
          }
        }
      ]
    },
    {
      "cell_type": "markdown",
      "metadata": {
        "id": "mfpDVTp9tp0T"
      },
      "source": [
        "### best model\n",
        "> diabetes_DL_best_weights.161-0.7619.hdf5"
      ]
    },
    {
      "cell_type": "code",
      "metadata": {
        "colab": {
          "base_uri": "https://localhost:8080/"
        },
        "id": "7XICED9Jt5ls",
        "outputId": "844d2b85-82b8-40d1-caae-ff984fd48999"
      },
      "source": [
        "# model2 performance\n",
        "model2.evaluate(X_test, y_test)"
      ],
      "execution_count": null,
      "outputs": [
        {
          "output_type": "stream",
          "text": [
            "6/6 [==============================] - 0s 1ms/step - loss: 0.5574 - accuracy: 0.6964\n"
          ],
          "name": "stdout"
        },
        {
          "output_type": "execute_result",
          "data": {
            "text/plain": [
              "[0.5573704242706299, 0.6964285969734192]"
            ]
          },
          "metadata": {
            "tags": []
          },
          "execution_count": 48
        }
      ]
    },
    {
      "cell_type": "code",
      "metadata": {
        "colab": {
          "base_uri": "https://localhost:8080/"
        },
        "id": "qdp3G_DcZ1Ek",
        "outputId": "67521eab-90ce-4c0b-aa3c-ec915ff944f3"
      },
      "source": [
        "from keras.models import load_model\n",
        "\n",
        "# model = load_model('your_best_model.hdf5')\n",
        "model2_best = load_model('diabetes_DL_best_weights.161-0.7619.hdf5')\n",
        "model2_best.evaluate(X_test, y_test)"
      ],
      "execution_count": null,
      "outputs": [
        {
          "output_type": "stream",
          "text": [
            "6/6 [==============================] - 0s 1ms/step - loss: 0.5380 - accuracy: 0.7619\n"
          ],
          "name": "stdout"
        },
        {
          "output_type": "execute_result",
          "data": {
            "text/plain": [
              "[0.5380279421806335, 0.761904776096344]"
            ]
          },
          "metadata": {
            "tags": []
          },
          "execution_count": 49
        }
      ]
    },
    {
      "cell_type": "markdown",
      "metadata": {
        "id": "eukhU9Aouuvh"
      },
      "source": [
        "### Confusion matrix"
      ]
    },
    {
      "cell_type": "code",
      "metadata": {
        "id": "0WS_7RLZuuvv"
      },
      "source": [
        "import seaborn as sns\n",
        "from sklearn.metrics import confusion_matrix"
      ],
      "execution_count": null,
      "outputs": []
    },
    {
      "cell_type": "code",
      "metadata": {
        "id": "zTLGt00Qu6DX"
      },
      "source": [
        "predictions = [int(np.round(prob)) for prob in model2_best.predict(X_test)]"
      ],
      "execution_count": null,
      "outputs": []
    },
    {
      "cell_type": "code",
      "metadata": {
        "id": "jwSOH52-uuvw"
      },
      "source": [
        "cm = confusion_matrix(y_test, predictions)"
      ],
      "execution_count": null,
      "outputs": []
    },
    {
      "cell_type": "code",
      "metadata": {
        "id": "c0CKU5L2uuvw"
      },
      "source": [
        "class_names = ['noDM','DM']"
      ],
      "execution_count": null,
      "outputs": []
    },
    {
      "cell_type": "code",
      "metadata": {
        "colab": {
          "base_uri": "https://localhost:8080/",
          "height": 334
        },
        "id": "aXwWPtltuuvx",
        "outputId": "801dc77a-fef9-4659-b58a-d6466a88fd58"
      },
      "source": [
        "plt.figure(figsize=(5,5))\n",
        "sns.heatmap(cm, cbar=False, xticklabels=class_names, yticklabels=class_names, fmt='d', annot=True, cmap=plt.cm.coolwarm)\n",
        "plt.xlabel('Predicted')\n",
        "plt.ylabel('Actual')\n",
        "plt.show()"
      ],
      "execution_count": null,
      "outputs": [
        {
          "output_type": "display_data",
          "data": {
            "image/png": "[encoded data removed]",
            "text/plain": [
              "<Figure size 360x360 with 1 Axes>"
            ]
          },
          "metadata": {
            "tags": [],
            "needs_background": "light"
          }
        }
      ]
    },
    {
      "cell_type": "markdown",
      "metadata": {
        "id": "ICOiTafiyl7b"
      },
      "source": [
        "***"
      ]
    },
    {
      "cell_type": "markdown",
      "metadata": {
        "id": "s_NsDYVbyc1_"
      },
      "source": [
        "## [DIY-2] 데이터 전처리 후 딥러닝 모델 만들어서 평가"
      ]
    },
    {
      "cell_type": "markdown",
      "metadata": {
        "id": "rWoRa2VqSkHI"
      },
      "source": [
        "## Check data\n",
        "- null\n",
        "- NaN"
      ]
    },
    {
      "cell_type": "code",
      "metadata": {
        "id": "whrqReP4mOhl",
        "colab": {
          "base_uri": "https://localhost:8080/"
        },
        "outputId": "928e7c8c-1877-4865-d2f3-a1122f337b07"
      },
      "source": [
        "# Check NaN\n",
        "data.isna().sum()\n",
        "# data.isnull().sum()\n",
        "# 이렇게 검사를 했을 때는 아무런 문제가 없는 다 0의 값이 나온다."
      ],
      "execution_count": null,
      "outputs": [
        {
          "output_type": "execute_result",
          "data": {
            "text/plain": [
              "Pregnancies                 0\n",
              "Glucose                     0\n",
              "BloodPressure               0\n",
              "SkinThickness               0\n",
              "Insulin                     0\n",
              "BMI                         0\n",
              "DiabetesPedigreeFunction    0\n",
              "Age                         0\n",
              "Outcome                     0\n",
              "dtype: int64"
            ]
          },
          "metadata": {
            "tags": []
          },
          "execution_count": 55
        }
      ]
    },
    {
      "cell_type": "markdown",
      "metadata": {
        "id": "h--H_58sxzEz"
      },
      "source": [
        "### 과연 diabetes 데이터는 문제가 없는가?\n",
        "\n",
        "- 각 항목에서 0이 허용되지 않는 경우에 0이 있다면 => 문제 있는 데이터!\n",
        "- Pregnancies, Outcome은 0이 가능한 값이므로 제외하고 0이 있는 항목(column) 조사\n",
        "- 0이 나오면 안되는 값들이 존재하기 때문에 data를 전처리를 해주어야 함"
      ]
    },
    {
      "cell_type": "code",
      "metadata": {
        "colab": {
          "base_uri": "https://localhost:8080/",
          "height": 379
        },
        "id": "9ETrQATux_Wt",
        "outputId": "a10bffee-7d9c-4ca3-ddc3-2632cf6d0fbf"
      },
      "source": [
        "data.head(10) # 0이 나오면 안되는 항목들이 0의 값을 가지고 있는 data들이 있음"
      ],
      "execution_count": null,
      "outputs": [
        {
          "output_type": "execute_result",
          "data": {
            "text/html": [
              "<div>\n",
              "<style scoped>\n",
              "    .dataframe tbody tr th:only-of-type {\n",
              "        vertical-align: middle;\n",
              "    }\n",
              "\n",
              "    .dataframe tbody tr th {\n",
              "        vertical-align: top;\n",
              "    }\n",
              "\n",
              "    .dataframe thead th {\n",
              "        text-align: right;\n",
              "    }\n",
              "</style>\n",
              "<table border=\"1\" class=\"dataframe\">\n",
              "  <thead>\n",
              "    <tr style=\"text-align: right;\">\n",
              "      <th></th>\n",
              "      <th>Pregnancies</th>\n",
              "      <th>Glucose</th>\n",
              "      <th>BloodPressure</th>\n",
              "      <th>SkinThickness</th>\n",
              "      <th>Insulin</th>\n",
              "      <th>BMI</th>\n",
              "      <th>DiabetesPedigreeFunction</th>\n",
              "      <th>Age</th>\n",
              "      <th>Outcome</th>\n",
              "    </tr>\n",
              "  </thead>\n",
              "  <tbody>\n",
              "    <tr>\n",
              "      <th>0</th>\n",
              "      <td>6</td>\n",
              "      <td>148</td>\n",
              "      <td>72</td>\n",
              "      <td>35</td>\n",
              "      <td>0</td>\n",
              "      <td>33.6</td>\n",
              "      <td>0.627</td>\n",
              "      <td>50</td>\n",
              "      <td>1</td>\n",
              "    </tr>\n",
              "    <tr>\n",
              "      <th>1</th>\n",
              "      <td>1</td>\n",
              "      <td>85</td>\n",
              "      <td>66</td>\n",
              "      <td>29</td>\n",
              "      <td>0</td>\n",
              "      <td>26.6</td>\n",
              "      <td>0.351</td>\n",
              "      <td>31</td>\n",
              "      <td>0</td>\n",
              "    </tr>\n",
              "    <tr>\n",
              "      <th>2</th>\n",
              "      <td>8</td>\n",
              "      <td>183</td>\n",
              "      <td>64</td>\n",
              "      <td>0</td>\n",
              "      <td>0</td>\n",
              "      <td>23.3</td>\n",
              "      <td>0.672</td>\n",
              "      <td>32</td>\n",
              "      <td>1</td>\n",
              "    </tr>\n",
              "    <tr>\n",
              "      <th>3</th>\n",
              "      <td>1</td>\n",
              "      <td>89</td>\n",
              "      <td>66</td>\n",
              "      <td>23</td>\n",
              "      <td>94</td>\n",
              "      <td>28.1</td>\n",
              "      <td>0.167</td>\n",
              "      <td>21</td>\n",
              "      <td>0</td>\n",
              "    </tr>\n",
              "    <tr>\n",
              "      <th>4</th>\n",
              "      <td>0</td>\n",
              "      <td>137</td>\n",
              "      <td>40</td>\n",
              "      <td>35</td>\n",
              "      <td>168</td>\n",
              "      <td>43.1</td>\n",
              "      <td>2.288</td>\n",
              "      <td>33</td>\n",
              "      <td>1</td>\n",
              "    </tr>\n",
              "    <tr>\n",
              "      <th>5</th>\n",
              "      <td>5</td>\n",
              "      <td>116</td>\n",
              "      <td>74</td>\n",
              "      <td>0</td>\n",
              "      <td>0</td>\n",
              "      <td>25.6</td>\n",
              "      <td>0.201</td>\n",
              "      <td>30</td>\n",
              "      <td>0</td>\n",
              "    </tr>\n",
              "    <tr>\n",
              "      <th>6</th>\n",
              "      <td>3</td>\n",
              "      <td>78</td>\n",
              "      <td>50</td>\n",
              "      <td>32</td>\n",
              "      <td>88</td>\n",
              "      <td>31.0</td>\n",
              "      <td>0.248</td>\n",
              "      <td>26</td>\n",
              "      <td>1</td>\n",
              "    </tr>\n",
              "    <tr>\n",
              "      <th>7</th>\n",
              "      <td>10</td>\n",
              "      <td>115</td>\n",
              "      <td>0</td>\n",
              "      <td>0</td>\n",
              "      <td>0</td>\n",
              "      <td>35.3</td>\n",
              "      <td>0.134</td>\n",
              "      <td>29</td>\n",
              "      <td>0</td>\n",
              "    </tr>\n",
              "    <tr>\n",
              "      <th>8</th>\n",
              "      <td>2</td>\n",
              "      <td>197</td>\n",
              "      <td>70</td>\n",
              "      <td>45</td>\n",
              "      <td>543</td>\n",
              "      <td>30.5</td>\n",
              "      <td>0.158</td>\n",
              "      <td>53</td>\n",
              "      <td>1</td>\n",
              "    </tr>\n",
              "    <tr>\n",
              "      <th>9</th>\n",
              "      <td>8</td>\n",
              "      <td>125</td>\n",
              "      <td>96</td>\n",
              "      <td>0</td>\n",
              "      <td>0</td>\n",
              "      <td>0.0</td>\n",
              "      <td>0.232</td>\n",
              "      <td>54</td>\n",
              "      <td>1</td>\n",
              "    </tr>\n",
              "  </tbody>\n",
              "</table>\n",
              "</div>"
            ],
            "text/plain": [
              "   Pregnancies  Glucose  BloodPressure  ...  DiabetesPedigreeFunction  Age  Outcome\n",
              "0            6      148             72  ...                     0.627   50        1\n",
              "1            1       85             66  ...                     0.351   31        0\n",
              "2            8      183             64  ...                     0.672   32        1\n",
              "3            1       89             66  ...                     0.167   21        0\n",
              "4            0      137             40  ...                     2.288   33        1\n",
              "5            5      116             74  ...                     0.201   30        0\n",
              "6            3       78             50  ...                     0.248   26        1\n",
              "7           10      115              0  ...                     0.134   29        0\n",
              "8            2      197             70  ...                     0.158   53        1\n",
              "9            8      125             96  ...                     0.232   54        1\n",
              "\n",
              "[10 rows x 9 columns]"
            ]
          },
          "metadata": {
            "tags": []
          },
          "execution_count": 57
        }
      ]
    },
    {
      "cell_type": "code",
      "metadata": {
        "colab": {
          "base_uri": "https://localhost:8080/"
        },
        "id": "UN8Ub9s-y7RM",
        "outputId": "29005c08-c9af-4ba5-849f-791ad8a6d69d"
      },
      "source": [
        "# Pregnancies, Outcome은 0이 가능한 값이므로 제외하고 0이 있는 항목(column) 조사 (0을 가지면 안되는 항목들)\n",
        "columns_with_zero = data.columns[(data==0).sum() > 0][1:-1]\n",
        "columns_with_zero"
      ],
      "execution_count": null,
      "outputs": [
        {
          "output_type": "execute_result",
          "data": {
            "text/plain": [
              "Index(['Glucose', 'BloodPressure', 'SkinThickness', 'Insulin', 'BMI'], dtype='object')"
            ]
          },
          "metadata": {
            "tags": []
          },
          "execution_count": 59
        }
      ]
    },
    {
      "cell_type": "code",
      "metadata": {
        "id": "jYGrj7udx6mk"
      },
      "source": [
        "# Clean the data : zero2median()\n",
        "# 1. Check zeros in features with Pregnancies, Outcome excluded.\n",
        "# 2. Replace zero with NaN \n",
        "# 3. Replace NaN with the median of the corresponding featurs\n",
        "def zero2median(df):\n",
        "    columns_with_zero = df.columns[(df==0).sum() > 0][1:-1]\n",
        "    # Index(['Glucose', 'BloodPressure', 'SkinThickness', 'Insulin', 'BMI'], dtype='object')\n",
        "    df[columns_with_zero]=df[columns_with_zero].replace(0,np.nan)\n",
        "    for feature in columns_with_zero:\n",
        "        df[feature].fillna(df[feature].median(),inplace=True) # 앞에서 NaN으로 바꾸어 주었는데 이를 또 중간값으로 바꿔줌\n",
        "\n",
        "    return df\n",
        "\n",
        "# Make clean dataframe, data2 from data\n",
        "data2 = zero2median(data)"
      ],
      "execution_count": null,
      "outputs": []
    },
    {
      "cell_type": "code",
      "metadata": {
        "colab": {
          "base_uri": "https://localhost:8080/",
          "height": 379
        },
        "id": "jUBEg3S0zxQv",
        "outputId": "1b17d6d9-4acb-4b09-e625-951488769f1f"
      },
      "source": [
        "data2.head(10)  # median() 함수로 중간값으로 바꿔준 후 head로 변경된 data2의 앞에 10개의 data들을 보여줌"
      ],
      "execution_count": null,
      "outputs": [
        {
          "output_type": "execute_result",
          "data": {
            "text/html": [
              "<div>\n",
              "<style scoped>\n",
              "    .dataframe tbody tr th:only-of-type {\n",
              "        vertical-align: middle;\n",
              "    }\n",
              "\n",
              "    .dataframe tbody tr th {\n",
              "        vertical-align: top;\n",
              "    }\n",
              "\n",
              "    .dataframe thead th {\n",
              "        text-align: right;\n",
              "    }\n",
              "</style>\n",
              "<table border=\"1\" class=\"dataframe\">\n",
              "  <thead>\n",
              "    <tr style=\"text-align: right;\">\n",
              "      <th></th>\n",
              "      <th>Pregnancies</th>\n",
              "      <th>Glucose</th>\n",
              "      <th>BloodPressure</th>\n",
              "      <th>SkinThickness</th>\n",
              "      <th>Insulin</th>\n",
              "      <th>BMI</th>\n",
              "      <th>DiabetesPedigreeFunction</th>\n",
              "      <th>Age</th>\n",
              "      <th>Outcome</th>\n",
              "    </tr>\n",
              "  </thead>\n",
              "  <tbody>\n",
              "    <tr>\n",
              "      <th>0</th>\n",
              "      <td>6</td>\n",
              "      <td>148.0</td>\n",
              "      <td>72.0</td>\n",
              "      <td>35.0</td>\n",
              "      <td>125.0</td>\n",
              "      <td>33.6</td>\n",
              "      <td>0.627</td>\n",
              "      <td>50</td>\n",
              "      <td>1</td>\n",
              "    </tr>\n",
              "    <tr>\n",
              "      <th>1</th>\n",
              "      <td>1</td>\n",
              "      <td>85.0</td>\n",
              "      <td>66.0</td>\n",
              "      <td>29.0</td>\n",
              "      <td>125.0</td>\n",
              "      <td>26.6</td>\n",
              "      <td>0.351</td>\n",
              "      <td>31</td>\n",
              "      <td>0</td>\n",
              "    </tr>\n",
              "    <tr>\n",
              "      <th>2</th>\n",
              "      <td>8</td>\n",
              "      <td>183.0</td>\n",
              "      <td>64.0</td>\n",
              "      <td>29.0</td>\n",
              "      <td>125.0</td>\n",
              "      <td>23.3</td>\n",
              "      <td>0.672</td>\n",
              "      <td>32</td>\n",
              "      <td>1</td>\n",
              "    </tr>\n",
              "    <tr>\n",
              "      <th>3</th>\n",
              "      <td>1</td>\n",
              "      <td>89.0</td>\n",
              "      <td>66.0</td>\n",
              "      <td>23.0</td>\n",
              "      <td>94.0</td>\n",
              "      <td>28.1</td>\n",
              "      <td>0.167</td>\n",
              "      <td>21</td>\n",
              "      <td>0</td>\n",
              "    </tr>\n",
              "    <tr>\n",
              "      <th>4</th>\n",
              "      <td>0</td>\n",
              "      <td>137.0</td>\n",
              "      <td>40.0</td>\n",
              "      <td>35.0</td>\n",
              "      <td>168.0</td>\n",
              "      <td>43.1</td>\n",
              "      <td>2.288</td>\n",
              "      <td>33</td>\n",
              "      <td>1</td>\n",
              "    </tr>\n",
              "    <tr>\n",
              "      <th>5</th>\n",
              "      <td>5</td>\n",
              "      <td>116.0</td>\n",
              "      <td>74.0</td>\n",
              "      <td>29.0</td>\n",
              "      <td>125.0</td>\n",
              "      <td>25.6</td>\n",
              "      <td>0.201</td>\n",
              "      <td>30</td>\n",
              "      <td>0</td>\n",
              "    </tr>\n",
              "    <tr>\n",
              "      <th>6</th>\n",
              "      <td>3</td>\n",
              "      <td>78.0</td>\n",
              "      <td>50.0</td>\n",
              "      <td>32.0</td>\n",
              "      <td>88.0</td>\n",
              "      <td>31.0</td>\n",
              "      <td>0.248</td>\n",
              "      <td>26</td>\n",
              "      <td>1</td>\n",
              "    </tr>\n",
              "    <tr>\n",
              "      <th>7</th>\n",
              "      <td>10</td>\n",
              "      <td>115.0</td>\n",
              "      <td>72.0</td>\n",
              "      <td>29.0</td>\n",
              "      <td>125.0</td>\n",
              "      <td>35.3</td>\n",
              "      <td>0.134</td>\n",
              "      <td>29</td>\n",
              "      <td>0</td>\n",
              "    </tr>\n",
              "    <tr>\n",
              "      <th>8</th>\n",
              "      <td>2</td>\n",
              "      <td>197.0</td>\n",
              "      <td>70.0</td>\n",
              "      <td>45.0</td>\n",
              "      <td>543.0</td>\n",
              "      <td>30.5</td>\n",
              "      <td>0.158</td>\n",
              "      <td>53</td>\n",
              "      <td>1</td>\n",
              "    </tr>\n",
              "    <tr>\n",
              "      <th>9</th>\n",
              "      <td>8</td>\n",
              "      <td>125.0</td>\n",
              "      <td>96.0</td>\n",
              "      <td>29.0</td>\n",
              "      <td>125.0</td>\n",
              "      <td>32.3</td>\n",
              "      <td>0.232</td>\n",
              "      <td>54</td>\n",
              "      <td>1</td>\n",
              "    </tr>\n",
              "  </tbody>\n",
              "</table>\n",
              "</div>"
            ],
            "text/plain": [
              "   Pregnancies  Glucose  BloodPressure  ...  DiabetesPedigreeFunction  Age  Outcome\n",
              "0            6    148.0           72.0  ...                     0.627   50        1\n",
              "1            1     85.0           66.0  ...                     0.351   31        0\n",
              "2            8    183.0           64.0  ...                     0.672   32        1\n",
              "3            1     89.0           66.0  ...                     0.167   21        0\n",
              "4            0    137.0           40.0  ...                     2.288   33        1\n",
              "5            5    116.0           74.0  ...                     0.201   30        0\n",
              "6            3     78.0           50.0  ...                     0.248   26        1\n",
              "7           10    115.0           72.0  ...                     0.134   29        0\n",
              "8            2    197.0           70.0  ...                     0.158   53        1\n",
              "9            8    125.0           96.0  ...                     0.232   54        1\n",
              "\n",
              "[10 rows x 9 columns]"
            ]
          },
          "metadata": {
            "tags": []
          },
          "execution_count": 63
        }
      ]
    },
    {
      "cell_type": "markdown",
      "metadata": {
        "id": "Ares-U3O0bIm"
      },
      "source": [
        "## [DIY] 전처리된 데이터프레임 data2를 이용해서 FCN으로 best model을 찾으시오.\n",
        "- best model: hdf5 file\n",
        "- Accuracy graph\n",
        "- Confusion matrix graph"
      ]
    },
    {
      "cell_type": "markdown",
      "metadata": {
        "id": "vyz-jhTcfOE5"
      },
      "source": [
        "##**Find of data2 FCN best model**"
      ]
    },
    {
      "cell_type": "code",
      "metadata": {
        "colab": {
          "base_uri": "https://localhost:8080/"
        },
        "id": "6cd7tnIihvjr",
        "outputId": "b9ead7e9-e012-4b17-cfd1-4c9ac4a688a6"
      },
      "source": [
        "# Load the required packages \r\n",
        "import numpy as np\r\n",
        "import tensorflow as tf\r\n",
        "from tensorflow import keras\r\n",
        "import pandas as pd\r\n",
        "from pandas import read_csv\r\n",
        "import matplotlib.pyplot as plt\r\n",
        "%matplotlib inline\r\n",
        "\r\n",
        "tf.random.set_seed(0)\r\n",
        "\r\n",
        "print(tf.__version__)"
      ],
      "execution_count": null,
      "outputs": [
        {
          "output_type": "stream",
          "text": [
            "2.3.0\n"
          ],
          "name": "stdout"
        }
      ]
    },
    {
      "cell_type": "code",
      "metadata": {
        "colab": {
          "base_uri": "https://localhost:8080/",
          "height": 224
        },
        "id": "T-v6vMh1u8xy",
        "outputId": "585552fc-ffad-42a5-9074-0ae61824669e"
      },
      "source": [
        "# Print the first 5 rows \r\n",
        "data2.head()"
      ],
      "execution_count": null,
      "outputs": [
        {
          "output_type": "execute_result",
          "data": {
            "text/html": [
              "<div>\n",
              "<style scoped>\n",
              "    .dataframe tbody tr th:only-of-type {\n",
              "        vertical-align: middle;\n",
              "    }\n",
              "\n",
              "    .dataframe tbody tr th {\n",
              "        vertical-align: top;\n",
              "    }\n",
              "\n",
              "    .dataframe thead th {\n",
              "        text-align: right;\n",
              "    }\n",
              "</style>\n",
              "<table border=\"1\" class=\"dataframe\">\n",
              "  <thead>\n",
              "    <tr style=\"text-align: right;\">\n",
              "      <th></th>\n",
              "      <th>Pregnancies</th>\n",
              "      <th>Glucose</th>\n",
              "      <th>BloodPressure</th>\n",
              "      <th>SkinThickness</th>\n",
              "      <th>Insulin</th>\n",
              "      <th>BMI</th>\n",
              "      <th>DiabetesPedigreeFunction</th>\n",
              "      <th>Age</th>\n",
              "      <th>Outcome</th>\n",
              "    </tr>\n",
              "  </thead>\n",
              "  <tbody>\n",
              "    <tr>\n",
              "      <th>0</th>\n",
              "      <td>6</td>\n",
              "      <td>148.0</td>\n",
              "      <td>72.0</td>\n",
              "      <td>35.0</td>\n",
              "      <td>125.0</td>\n",
              "      <td>33.6</td>\n",
              "      <td>0.627</td>\n",
              "      <td>50</td>\n",
              "      <td>1</td>\n",
              "    </tr>\n",
              "    <tr>\n",
              "      <th>1</th>\n",
              "      <td>1</td>\n",
              "      <td>85.0</td>\n",
              "      <td>66.0</td>\n",
              "      <td>29.0</td>\n",
              "      <td>125.0</td>\n",
              "      <td>26.6</td>\n",
              "      <td>0.351</td>\n",
              "      <td>31</td>\n",
              "      <td>0</td>\n",
              "    </tr>\n",
              "    <tr>\n",
              "      <th>2</th>\n",
              "      <td>8</td>\n",
              "      <td>183.0</td>\n",
              "      <td>64.0</td>\n",
              "      <td>29.0</td>\n",
              "      <td>125.0</td>\n",
              "      <td>23.3</td>\n",
              "      <td>0.672</td>\n",
              "      <td>32</td>\n",
              "      <td>1</td>\n",
              "    </tr>\n",
              "    <tr>\n",
              "      <th>3</th>\n",
              "      <td>1</td>\n",
              "      <td>89.0</td>\n",
              "      <td>66.0</td>\n",
              "      <td>23.0</td>\n",
              "      <td>94.0</td>\n",
              "      <td>28.1</td>\n",
              "      <td>0.167</td>\n",
              "      <td>21</td>\n",
              "      <td>0</td>\n",
              "    </tr>\n",
              "    <tr>\n",
              "      <th>4</th>\n",
              "      <td>0</td>\n",
              "      <td>137.0</td>\n",
              "      <td>40.0</td>\n",
              "      <td>35.0</td>\n",
              "      <td>168.0</td>\n",
              "      <td>43.1</td>\n",
              "      <td>2.288</td>\n",
              "      <td>33</td>\n",
              "      <td>1</td>\n",
              "    </tr>\n",
              "  </tbody>\n",
              "</table>\n",
              "</div>"
            ],
            "text/plain": [
              "   Pregnancies  Glucose  BloodPressure  ...  DiabetesPedigreeFunction  Age  Outcome\n",
              "0            6    148.0           72.0  ...                     0.627   50        1\n",
              "1            1     85.0           66.0  ...                     0.351   31        0\n",
              "2            8    183.0           64.0  ...                     0.672   32        1\n",
              "3            1     89.0           66.0  ...                     0.167   21        0\n",
              "4            0    137.0           40.0  ...                     2.288   33        1\n",
              "\n",
              "[5 rows x 9 columns]"
            ]
          },
          "metadata": {
            "tags": []
          },
          "execution_count": 103
        }
      ]
    },
    {
      "cell_type": "code",
      "metadata": {
        "id": "rBcvV67bu8ud"
      },
      "source": [
        "# import TF2 submodules\r\n",
        "from tensorflow.keras import layers, models, callbacks\r\n",
        "from keras.models import Sequential\r\n",
        "from keras.layers import Dense, Conv2D, MaxPool2D, Flatten\r\n",
        "from keras.callbacks import ModelCheckpoint, EarlyStopping"
      ],
      "execution_count": null,
      "outputs": []
    },
    {
      "cell_type": "code",
      "metadata": {
        "colab": {
          "base_uri": "https://localhost:8080/"
        },
        "id": "pEFTbQx3u8qN",
        "outputId": "6e1fe322-da75-4783-9d5f-5d8a4b6c759a"
      },
      "source": [
        "# Split dataset to train & test set -> slicing으로 train, test data\r\n",
        "X_train = data2.iloc[:600,0:8] # train data 600개\r\n",
        "y_train = data2.iloc[:600,8]  # outcome은 class여서 제외, feature data만 추출\r\n",
        "X_test = data2.iloc[600:,0:8]  # test data 168개\r\n",
        "y_test = data2.iloc[600:,8]\r\n",
        "X_train.shape,y_train.shape,X_test.shape,y_test.shape"
      ],
      "execution_count": 120,
      "outputs": [
        {
          "output_type": "execute_result",
          "data": {
            "text/plain": [
              "((600, 8), (600,), (168, 8), (168,))"
            ]
          },
          "metadata": {
            "tags": []
          },
          "execution_count": 120
        }
      ]
    },
    {
      "cell_type": "code",
      "metadata": {
        "id": "xYo7NRYfu8k7"
      },
      "source": [
        "# define the keras model\r\n",
        "model3 = Sequential()\r\n",
        "model3.add(Dense(12, input_dim=8, activation='relu'))\r\n",
        "model3.add(Dense(8, activation='relu'))\r\n",
        "model3.add(Dense(1, activation='sigmoid')) # softmax\r\n",
        "# compile the keras model\r\n",
        "model3.compile(loss='binary_crossentropy', \r\n",
        "              optimizer='adam', \r\n",
        "              metrics=['accuracy'])"
      ],
      "execution_count": 121,
      "outputs": []
    },
    {
      "cell_type": "code",
      "metadata": {
        "id": "AanL2jxVu8gS",
        "colab": {
          "base_uri": "https://localhost:8080/"
        },
        "outputId": "fdbb9776-c47a-4e64-db63-2297120109da"
      },
      "source": [
        "# fit the keras model on the dataset\r\n",
        "hist = model3.fit(X_train, y_train, epochs=150, batch_size=10, verbose=1, \r\n",
        "                 validation_data=(X_test, y_test))"
      ],
      "execution_count": 122,
      "outputs": [
        {
          "output_type": "stream",
          "text": [
            "Epoch 1/150\n",
            "60/60 [==============================] - 0s 3ms/step - loss: 30.9780 - accuracy: 0.3467 - val_loss: 16.0297 - val_accuracy: 0.3571\n",
            "Epoch 2/150\n",
            "60/60 [==============================] - 0s 1ms/step - loss: 6.1192 - accuracy: 0.4483 - val_loss: 1.1882 - val_accuracy: 0.6548\n",
            "Epoch 3/150\n",
            "60/60 [==============================] - 0s 1ms/step - loss: 1.0335 - accuracy: 0.5800 - val_loss: 0.9286 - val_accuracy: 0.5238\n",
            "Epoch 4/150\n",
            "60/60 [==============================] - 0s 1ms/step - loss: 0.8788 - accuracy: 0.6017 - val_loss: 0.8658 - val_accuracy: 0.5119\n",
            "Epoch 5/150\n",
            "60/60 [==============================] - 0s 1ms/step - loss: 0.8233 - accuracy: 0.6050 - val_loss: 0.7982 - val_accuracy: 0.5714\n",
            "Epoch 6/150\n",
            "60/60 [==============================] - 0s 1ms/step - loss: 0.7860 - accuracy: 0.6067 - val_loss: 0.7715 - val_accuracy: 0.6012\n",
            "Epoch 7/150\n",
            "60/60 [==============================] - 0s 1ms/step - loss: 0.7619 - accuracy: 0.6117 - val_loss: 0.7361 - val_accuracy: 0.6012\n",
            "Epoch 8/150\n",
            "60/60 [==============================] - 0s 1ms/step - loss: 0.7420 - accuracy: 0.6233 - val_loss: 0.7155 - val_accuracy: 0.6131\n",
            "Epoch 9/150\n",
            "60/60 [==============================] - 0s 1ms/step - loss: 0.7235 - accuracy: 0.6183 - val_loss: 0.6997 - val_accuracy: 0.6071\n",
            "Epoch 10/150\n",
            "60/60 [==============================] - 0s 1ms/step - loss: 0.7136 - accuracy: 0.6533 - val_loss: 0.6790 - val_accuracy: 0.6131\n",
            "Epoch 11/150\n",
            "60/60 [==============================] - 0s 1ms/step - loss: 0.6998 - accuracy: 0.6383 - val_loss: 0.6694 - val_accuracy: 0.6310\n",
            "Epoch 12/150\n",
            "60/60 [==============================] - 0s 1ms/step - loss: 0.6820 - accuracy: 0.6367 - val_loss: 0.6538 - val_accuracy: 0.6071\n",
            "Epoch 13/150\n",
            "60/60 [==============================] - 0s 1ms/step - loss: 0.6715 - accuracy: 0.6500 - val_loss: 0.6414 - val_accuracy: 0.6250\n",
            "Epoch 14/150\n",
            "60/60 [==============================] - 0s 1ms/step - loss: 0.6569 - accuracy: 0.6500 - val_loss: 0.6413 - val_accuracy: 0.6429\n",
            "Epoch 15/150\n",
            "60/60 [==============================] - 0s 1ms/step - loss: 0.6535 - accuracy: 0.6450 - val_loss: 0.6376 - val_accuracy: 0.6548\n",
            "Epoch 16/150\n",
            "60/60 [==============================] - 0s 1ms/step - loss: 0.6400 - accuracy: 0.6733 - val_loss: 0.6188 - val_accuracy: 0.6488\n",
            "Epoch 17/150\n",
            "60/60 [==============================] - 0s 1ms/step - loss: 0.6307 - accuracy: 0.6733 - val_loss: 0.6107 - val_accuracy: 0.6607\n",
            "Epoch 18/150\n",
            "60/60 [==============================] - 0s 1ms/step - loss: 0.6207 - accuracy: 0.6683 - val_loss: 0.6017 - val_accuracy: 0.6726\n",
            "Epoch 19/150\n",
            "60/60 [==============================] - 0s 1ms/step - loss: 0.6234 - accuracy: 0.6833 - val_loss: 0.6284 - val_accuracy: 0.6190\n",
            "Epoch 20/150\n",
            "60/60 [==============================] - 0s 1ms/step - loss: 0.6142 - accuracy: 0.6683 - val_loss: 0.6041 - val_accuracy: 0.6905\n",
            "Epoch 21/150\n",
            "60/60 [==============================] - 0s 1ms/step - loss: 0.6001 - accuracy: 0.6867 - val_loss: 0.5887 - val_accuracy: 0.6905\n",
            "Epoch 22/150\n",
            "60/60 [==============================] - 0s 1ms/step - loss: 0.6166 - accuracy: 0.6633 - val_loss: 0.5805 - val_accuracy: 0.7024\n",
            "Epoch 23/150\n",
            "60/60 [==============================] - 0s 1ms/step - loss: 0.5940 - accuracy: 0.6917 - val_loss: 0.5838 - val_accuracy: 0.7024\n",
            "Epoch 24/150\n",
            "60/60 [==============================] - 0s 1ms/step - loss: 0.5886 - accuracy: 0.7083 - val_loss: 0.5732 - val_accuracy: 0.7083\n",
            "Epoch 25/150\n",
            "60/60 [==============================] - 0s 1ms/step - loss: 0.5863 - accuracy: 0.6867 - val_loss: 0.5705 - val_accuracy: 0.7202\n",
            "Epoch 26/150\n",
            "60/60 [==============================] - 0s 1ms/step - loss: 0.5924 - accuracy: 0.6900 - val_loss: 0.5743 - val_accuracy: 0.7024\n",
            "Epoch 27/150\n",
            "60/60 [==============================] - 0s 1ms/step - loss: 0.5889 - accuracy: 0.6967 - val_loss: 0.6216 - val_accuracy: 0.6667\n",
            "Epoch 28/150\n",
            "60/60 [==============================] - 0s 1ms/step - loss: 0.6069 - accuracy: 0.6800 - val_loss: 0.5654 - val_accuracy: 0.7024\n",
            "Epoch 29/150\n",
            "60/60 [==============================] - 0s 1ms/step - loss: 0.5731 - accuracy: 0.7017 - val_loss: 0.5788 - val_accuracy: 0.7024\n",
            "Epoch 30/150\n",
            "60/60 [==============================] - 0s 1ms/step - loss: 0.5775 - accuracy: 0.7100 - val_loss: 0.5693 - val_accuracy: 0.7024\n",
            "Epoch 31/150\n",
            "60/60 [==============================] - 0s 1ms/step - loss: 0.5856 - accuracy: 0.6917 - val_loss: 0.5548 - val_accuracy: 0.7262\n",
            "Epoch 32/150\n",
            "60/60 [==============================] - 0s 1ms/step - loss: 0.5729 - accuracy: 0.7000 - val_loss: 0.5863 - val_accuracy: 0.6905\n",
            "Epoch 33/150\n",
            "60/60 [==============================] - 0s 1ms/step - loss: 0.5875 - accuracy: 0.6867 - val_loss: 0.5566 - val_accuracy: 0.7143\n",
            "Epoch 34/150\n",
            "60/60 [==============================] - 0s 1ms/step - loss: 0.5771 - accuracy: 0.7100 - val_loss: 0.5451 - val_accuracy: 0.7083\n",
            "Epoch 35/150\n",
            "60/60 [==============================] - 0s 1ms/step - loss: 0.5681 - accuracy: 0.7067 - val_loss: 0.5685 - val_accuracy: 0.7202\n",
            "Epoch 36/150\n",
            "60/60 [==============================] - 0s 1ms/step - loss: 0.5851 - accuracy: 0.7033 - val_loss: 0.5481 - val_accuracy: 0.7202\n",
            "Epoch 37/150\n",
            "60/60 [==============================] - 0s 1ms/step - loss: 0.5766 - accuracy: 0.6883 - val_loss: 0.5416 - val_accuracy: 0.7202\n",
            "Epoch 38/150\n",
            "60/60 [==============================] - 0s 1ms/step - loss: 0.5715 - accuracy: 0.7133 - val_loss: 0.5502 - val_accuracy: 0.7083\n",
            "Epoch 39/150\n",
            "60/60 [==============================] - 0s 1ms/step - loss: 0.5716 - accuracy: 0.7250 - val_loss: 0.5649 - val_accuracy: 0.7143\n",
            "Epoch 40/150\n",
            "60/60 [==============================] - 0s 1ms/step - loss: 0.5723 - accuracy: 0.6883 - val_loss: 0.5431 - val_accuracy: 0.7262\n",
            "Epoch 41/150\n",
            "60/60 [==============================] - 0s 1ms/step - loss: 0.5558 - accuracy: 0.7217 - val_loss: 0.5460 - val_accuracy: 0.7321\n",
            "Epoch 42/150\n",
            "60/60 [==============================] - 0s 1ms/step - loss: 0.5664 - accuracy: 0.6933 - val_loss: 0.5440 - val_accuracy: 0.7024\n",
            "Epoch 43/150\n",
            "60/60 [==============================] - 0s 1ms/step - loss: 0.5550 - accuracy: 0.7150 - val_loss: 0.5682 - val_accuracy: 0.7321\n",
            "Epoch 44/150\n",
            "60/60 [==============================] - 0s 1ms/step - loss: 0.5739 - accuracy: 0.6883 - val_loss: 0.5789 - val_accuracy: 0.6905\n",
            "Epoch 45/150\n",
            "60/60 [==============================] - 0s 1ms/step - loss: 0.5807 - accuracy: 0.7150 - val_loss: 0.5370 - val_accuracy: 0.7440\n",
            "Epoch 46/150\n",
            "60/60 [==============================] - 0s 1ms/step - loss: 0.5579 - accuracy: 0.7033 - val_loss: 0.5433 - val_accuracy: 0.7024\n",
            "Epoch 47/150\n",
            "60/60 [==============================] - 0s 1ms/step - loss: 0.5616 - accuracy: 0.7133 - val_loss: 0.5451 - val_accuracy: 0.7143\n",
            "Epoch 48/150\n",
            "60/60 [==============================] - 0s 1ms/step - loss: 0.5739 - accuracy: 0.7167 - val_loss: 0.5703 - val_accuracy: 0.7262\n",
            "Epoch 49/150\n",
            "60/60 [==============================] - 0s 1ms/step - loss: 0.5787 - accuracy: 0.7000 - val_loss: 0.5381 - val_accuracy: 0.7321\n",
            "Epoch 50/150\n",
            "60/60 [==============================] - 0s 1ms/step - loss: 0.5569 - accuracy: 0.6983 - val_loss: 0.5368 - val_accuracy: 0.7440\n",
            "Epoch 51/150\n",
            "60/60 [==============================] - 0s 1ms/step - loss: 0.5624 - accuracy: 0.7133 - val_loss: 0.5300 - val_accuracy: 0.7560\n",
            "Epoch 52/150\n",
            "60/60 [==============================] - 0s 1ms/step - loss: 0.5753 - accuracy: 0.6867 - val_loss: 0.5750 - val_accuracy: 0.6845\n",
            "Epoch 53/150\n",
            "60/60 [==============================] - 0s 2ms/step - loss: 0.5609 - accuracy: 0.7233 - val_loss: 0.5476 - val_accuracy: 0.7440\n",
            "Epoch 54/150\n",
            "60/60 [==============================] - 0s 1ms/step - loss: 0.5554 - accuracy: 0.7200 - val_loss: 0.5362 - val_accuracy: 0.7440\n",
            "Epoch 55/150\n",
            "60/60 [==============================] - 0s 1ms/step - loss: 0.5589 - accuracy: 0.7250 - val_loss: 0.5338 - val_accuracy: 0.7500\n",
            "Epoch 56/150\n",
            "60/60 [==============================] - 0s 2ms/step - loss: 0.5546 - accuracy: 0.7017 - val_loss: 0.5361 - val_accuracy: 0.7500\n",
            "Epoch 57/150\n",
            "60/60 [==============================] - 0s 1ms/step - loss: 0.5684 - accuracy: 0.7117 - val_loss: 0.5704 - val_accuracy: 0.7262\n",
            "Epoch 58/150\n",
            "60/60 [==============================] - 0s 1ms/step - loss: 0.5494 - accuracy: 0.7350 - val_loss: 0.5357 - val_accuracy: 0.7560\n",
            "Epoch 59/150\n",
            "60/60 [==============================] - 0s 1ms/step - loss: 0.5519 - accuracy: 0.7133 - val_loss: 0.5643 - val_accuracy: 0.7321\n",
            "Epoch 60/150\n",
            "60/60 [==============================] - 0s 1ms/step - loss: 0.5618 - accuracy: 0.7133 - val_loss: 0.5336 - val_accuracy: 0.7619\n",
            "Epoch 61/150\n",
            "60/60 [==============================] - 0s 1ms/step - loss: 0.5708 - accuracy: 0.6917 - val_loss: 0.5530 - val_accuracy: 0.7143\n",
            "Epoch 62/150\n",
            "60/60 [==============================] - 0s 1ms/step - loss: 0.5486 - accuracy: 0.7200 - val_loss: 0.5351 - val_accuracy: 0.7500\n",
            "Epoch 63/150\n",
            "60/60 [==============================] - 0s 1ms/step - loss: 0.5486 - accuracy: 0.7117 - val_loss: 0.5295 - val_accuracy: 0.7619\n",
            "Epoch 64/150\n",
            "60/60 [==============================] - 0s 1ms/step - loss: 0.5489 - accuracy: 0.7183 - val_loss: 0.5299 - val_accuracy: 0.7560\n",
            "Epoch 65/150\n",
            "60/60 [==============================] - 0s 1ms/step - loss: 0.5613 - accuracy: 0.7083 - val_loss: 0.5332 - val_accuracy: 0.7560\n",
            "Epoch 66/150\n",
            "60/60 [==============================] - 0s 1ms/step - loss: 0.5559 - accuracy: 0.7183 - val_loss: 0.5285 - val_accuracy: 0.7560\n",
            "Epoch 67/150\n",
            "60/60 [==============================] - 0s 1ms/step - loss: 0.5523 - accuracy: 0.7133 - val_loss: 0.5261 - val_accuracy: 0.7619\n",
            "Epoch 68/150\n",
            "60/60 [==============================] - 0s 1ms/step - loss: 0.5497 - accuracy: 0.7267 - val_loss: 0.6614 - val_accuracy: 0.6667\n",
            "Epoch 69/150\n",
            "60/60 [==============================] - 0s 1ms/step - loss: 0.5698 - accuracy: 0.7083 - val_loss: 0.5551 - val_accuracy: 0.6964\n",
            "Epoch 70/150\n",
            "60/60 [==============================] - 0s 1ms/step - loss: 0.5572 - accuracy: 0.7033 - val_loss: 0.5369 - val_accuracy: 0.7202\n",
            "Epoch 71/150\n",
            "60/60 [==============================] - 0s 1ms/step - loss: 0.5634 - accuracy: 0.7233 - val_loss: 0.5629 - val_accuracy: 0.6964\n",
            "Epoch 72/150\n",
            "60/60 [==============================] - 0s 1ms/step - loss: 0.5450 - accuracy: 0.7167 - val_loss: 0.5382 - val_accuracy: 0.7738\n",
            "Epoch 73/150\n",
            "60/60 [==============================] - 0s 1ms/step - loss: 0.5574 - accuracy: 0.7067 - val_loss: 0.5589 - val_accuracy: 0.6964\n",
            "Epoch 74/150\n",
            "60/60 [==============================] - 0s 1ms/step - loss: 0.5475 - accuracy: 0.7333 - val_loss: 0.5262 - val_accuracy: 0.7560\n",
            "Epoch 75/150\n",
            "60/60 [==============================] - 0s 1ms/step - loss: 0.5412 - accuracy: 0.7217 - val_loss: 0.5929 - val_accuracy: 0.6786\n",
            "Epoch 76/150\n",
            "60/60 [==============================] - 0s 1ms/step - loss: 0.5695 - accuracy: 0.7167 - val_loss: 0.5263 - val_accuracy: 0.7560\n",
            "Epoch 77/150\n",
            "60/60 [==============================] - 0s 1ms/step - loss: 0.5344 - accuracy: 0.7150 - val_loss: 0.5270 - val_accuracy: 0.7619\n",
            "Epoch 78/150\n",
            "60/60 [==============================] - 0s 1ms/step - loss: 0.5413 - accuracy: 0.7267 - val_loss: 0.5238 - val_accuracy: 0.7560\n",
            "Epoch 79/150\n",
            "60/60 [==============================] - 0s 1ms/step - loss: 0.5427 - accuracy: 0.7217 - val_loss: 0.5261 - val_accuracy: 0.7440\n",
            "Epoch 80/150\n",
            "60/60 [==============================] - 0s 1ms/step - loss: 0.5371 - accuracy: 0.7250 - val_loss: 0.5215 - val_accuracy: 0.7619\n",
            "Epoch 81/150\n",
            "60/60 [==============================] - 0s 1ms/step - loss: 0.5429 - accuracy: 0.7167 - val_loss: 0.5247 - val_accuracy: 0.7381\n",
            "Epoch 82/150\n",
            "60/60 [==============================] - 0s 1ms/step - loss: 0.5335 - accuracy: 0.7400 - val_loss: 0.5183 - val_accuracy: 0.7679\n",
            "Epoch 83/150\n",
            "60/60 [==============================] - 0s 1ms/step - loss: 0.5467 - accuracy: 0.7167 - val_loss: 0.5207 - val_accuracy: 0.7619\n",
            "Epoch 84/150\n",
            "60/60 [==============================] - 0s 1ms/step - loss: 0.5333 - accuracy: 0.7350 - val_loss: 0.5175 - val_accuracy: 0.7679\n",
            "Epoch 85/150\n",
            "60/60 [==============================] - 0s 1ms/step - loss: 0.5342 - accuracy: 0.7267 - val_loss: 0.5249 - val_accuracy: 0.7381\n",
            "Epoch 86/150\n",
            "60/60 [==============================] - 0s 1ms/step - loss: 0.5392 - accuracy: 0.7350 - val_loss: 0.5236 - val_accuracy: 0.7857\n",
            "Epoch 87/150\n",
            "60/60 [==============================] - 0s 1ms/step - loss: 0.5430 - accuracy: 0.7267 - val_loss: 0.5263 - val_accuracy: 0.7738\n",
            "Epoch 88/150\n",
            "60/60 [==============================] - 0s 1ms/step - loss: 0.5311 - accuracy: 0.7483 - val_loss: 0.5216 - val_accuracy: 0.7738\n",
            "Epoch 89/150\n",
            "60/60 [==============================] - 0s 1ms/step - loss: 0.5414 - accuracy: 0.7300 - val_loss: 0.5223 - val_accuracy: 0.7560\n",
            "Epoch 90/150\n",
            "60/60 [==============================] - 0s 1ms/step - loss: 0.5453 - accuracy: 0.7300 - val_loss: 0.5163 - val_accuracy: 0.7738\n",
            "Epoch 91/150\n",
            "60/60 [==============================] - 0s 1ms/step - loss: 0.5352 - accuracy: 0.7367 - val_loss: 0.5166 - val_accuracy: 0.7619\n",
            "Epoch 92/150\n",
            "60/60 [==============================] - 0s 1ms/step - loss: 0.5319 - accuracy: 0.7283 - val_loss: 0.5306 - val_accuracy: 0.7857\n",
            "Epoch 93/150\n",
            "60/60 [==============================] - 0s 1ms/step - loss: 0.5458 - accuracy: 0.7383 - val_loss: 0.5344 - val_accuracy: 0.7143\n",
            "Epoch 94/150\n",
            "60/60 [==============================] - 0s 1ms/step - loss: 0.5347 - accuracy: 0.7300 - val_loss: 0.5356 - val_accuracy: 0.7262\n",
            "Epoch 95/150\n",
            "60/60 [==============================] - 0s 1ms/step - loss: 0.5358 - accuracy: 0.7433 - val_loss: 0.5165 - val_accuracy: 0.7679\n",
            "Epoch 96/150\n",
            "60/60 [==============================] - 0s 1ms/step - loss: 0.5375 - accuracy: 0.7367 - val_loss: 0.5192 - val_accuracy: 0.7738\n",
            "Epoch 97/150\n",
            "60/60 [==============================] - 0s 1ms/step - loss: 0.5347 - accuracy: 0.7350 - val_loss: 0.5191 - val_accuracy: 0.7440\n",
            "Epoch 98/150\n",
            "60/60 [==============================] - 0s 1ms/step - loss: 0.5278 - accuracy: 0.7367 - val_loss: 0.5257 - val_accuracy: 0.7381\n",
            "Epoch 99/150\n",
            "60/60 [==============================] - 0s 1ms/step - loss: 0.5462 - accuracy: 0.7333 - val_loss: 0.5215 - val_accuracy: 0.7560\n",
            "Epoch 100/150\n",
            "60/60 [==============================] - 0s 1ms/step - loss: 0.5542 - accuracy: 0.7200 - val_loss: 0.5287 - val_accuracy: 0.7262\n",
            "Epoch 101/150\n",
            "60/60 [==============================] - 0s 1ms/step - loss: 0.5421 - accuracy: 0.7300 - val_loss: 0.5231 - val_accuracy: 0.7857\n",
            "Epoch 102/150\n",
            "60/60 [==============================] - 0s 1ms/step - loss: 0.5364 - accuracy: 0.7283 - val_loss: 0.5203 - val_accuracy: 0.7560\n",
            "Epoch 103/150\n",
            "60/60 [==============================] - 0s 1ms/step - loss: 0.5291 - accuracy: 0.7333 - val_loss: 0.5142 - val_accuracy: 0.7857\n",
            "Epoch 104/150\n",
            "60/60 [==============================] - 0s 1ms/step - loss: 0.5342 - accuracy: 0.7350 - val_loss: 0.5086 - val_accuracy: 0.7738\n",
            "Epoch 105/150\n",
            "60/60 [==============================] - 0s 1ms/step - loss: 0.5223 - accuracy: 0.7367 - val_loss: 0.5408 - val_accuracy: 0.7619\n",
            "Epoch 106/150\n",
            "60/60 [==============================] - 0s 1ms/step - loss: 0.5221 - accuracy: 0.7383 - val_loss: 0.5096 - val_accuracy: 0.7560\n",
            "Epoch 107/150\n",
            "60/60 [==============================] - 0s 1ms/step - loss: 0.5269 - accuracy: 0.7300 - val_loss: 0.5111 - val_accuracy: 0.7738\n",
            "Epoch 108/150\n",
            "60/60 [==============================] - 0s 1ms/step - loss: 0.5222 - accuracy: 0.7450 - val_loss: 0.5100 - val_accuracy: 0.7500\n",
            "Epoch 109/150\n",
            "60/60 [==============================] - 0s 1ms/step - loss: 0.5274 - accuracy: 0.7417 - val_loss: 0.5105 - val_accuracy: 0.7619\n",
            "Epoch 110/150\n",
            "60/60 [==============================] - 0s 1ms/step - loss: 0.5297 - accuracy: 0.7417 - val_loss: 0.5092 - val_accuracy: 0.7738\n",
            "Epoch 111/150\n",
            "60/60 [==============================] - 0s 1ms/step - loss: 0.5369 - accuracy: 0.7150 - val_loss: 0.5082 - val_accuracy: 0.7679\n",
            "Epoch 112/150\n",
            "60/60 [==============================] - 0s 1ms/step - loss: 0.5327 - accuracy: 0.7250 - val_loss: 0.5634 - val_accuracy: 0.7262\n",
            "Epoch 113/150\n",
            "60/60 [==============================] - 0s 1ms/step - loss: 0.5254 - accuracy: 0.7383 - val_loss: 0.5146 - val_accuracy: 0.7560\n",
            "Epoch 114/150\n",
            "60/60 [==============================] - 0s 1ms/step - loss: 0.5216 - accuracy: 0.7417 - val_loss: 0.5079 - val_accuracy: 0.7500\n",
            "Epoch 115/150\n",
            "60/60 [==============================] - 0s 1ms/step - loss: 0.5250 - accuracy: 0.7333 - val_loss: 0.5211 - val_accuracy: 0.7440\n",
            "Epoch 116/150\n",
            "60/60 [==============================] - 0s 1ms/step - loss: 0.5446 - accuracy: 0.7333 - val_loss: 0.6097 - val_accuracy: 0.6607\n",
            "Epoch 117/150\n",
            "60/60 [==============================] - 0s 1ms/step - loss: 0.5513 - accuracy: 0.7167 - val_loss: 0.5038 - val_accuracy: 0.7679\n",
            "Epoch 118/150\n",
            "60/60 [==============================] - 0s 1ms/step - loss: 0.5628 - accuracy: 0.7150 - val_loss: 0.5080 - val_accuracy: 0.7500\n",
            "Epoch 119/150\n",
            "60/60 [==============================] - 0s 1ms/step - loss: 0.5232 - accuracy: 0.7383 - val_loss: 0.5536 - val_accuracy: 0.7440\n",
            "Epoch 120/150\n",
            "60/60 [==============================] - 0s 1ms/step - loss: 0.5406 - accuracy: 0.7167 - val_loss: 0.5399 - val_accuracy: 0.6905\n",
            "Epoch 121/150\n",
            "60/60 [==============================] - 0s 1ms/step - loss: 0.5226 - accuracy: 0.7467 - val_loss: 0.5051 - val_accuracy: 0.7976\n",
            "Epoch 122/150\n",
            "60/60 [==============================] - 0s 1ms/step - loss: 0.5294 - accuracy: 0.7500 - val_loss: 0.5002 - val_accuracy: 0.7917\n",
            "Epoch 123/150\n",
            "60/60 [==============================] - 0s 1ms/step - loss: 0.5292 - accuracy: 0.7417 - val_loss: 0.5322 - val_accuracy: 0.7083\n",
            "Epoch 124/150\n",
            "60/60 [==============================] - 0s 1ms/step - loss: 0.5305 - accuracy: 0.7433 - val_loss: 0.5040 - val_accuracy: 0.7500\n",
            "Epoch 125/150\n",
            "60/60 [==============================] - 0s 1ms/step - loss: 0.5219 - accuracy: 0.7333 - val_loss: 0.5283 - val_accuracy: 0.7798\n",
            "Epoch 126/150\n",
            "60/60 [==============================] - 0s 1ms/step - loss: 0.5178 - accuracy: 0.7583 - val_loss: 0.5080 - val_accuracy: 0.7560\n",
            "Epoch 127/150\n",
            "60/60 [==============================] - 0s 1ms/step - loss: 0.5262 - accuracy: 0.7283 - val_loss: 0.5031 - val_accuracy: 0.7798\n",
            "Epoch 128/150\n",
            "60/60 [==============================] - 0s 1ms/step - loss: 0.5268 - accuracy: 0.7317 - val_loss: 0.5198 - val_accuracy: 0.7381\n",
            "Epoch 129/150\n",
            "60/60 [==============================] - 0s 1ms/step - loss: 0.5187 - accuracy: 0.7350 - val_loss: 0.4993 - val_accuracy: 0.7738\n",
            "Epoch 130/150\n",
            "60/60 [==============================] - 0s 1ms/step - loss: 0.5150 - accuracy: 0.7450 - val_loss: 0.5003 - val_accuracy: 0.7738\n",
            "Epoch 131/150\n",
            "60/60 [==============================] - 0s 1ms/step - loss: 0.5211 - accuracy: 0.7450 - val_loss: 0.5046 - val_accuracy: 0.7619\n",
            "Epoch 132/150\n",
            "60/60 [==============================] - 0s 1ms/step - loss: 0.5291 - accuracy: 0.7400 - val_loss: 0.5015 - val_accuracy: 0.7798\n",
            "Epoch 133/150\n",
            "60/60 [==============================] - 0s 1ms/step - loss: 0.5228 - accuracy: 0.7350 - val_loss: 0.5699 - val_accuracy: 0.6726\n",
            "Epoch 134/150\n",
            "60/60 [==============================] - 0s 1ms/step - loss: 0.5243 - accuracy: 0.7383 - val_loss: 0.5245 - val_accuracy: 0.7202\n",
            "Epoch 135/150\n",
            "60/60 [==============================] - 0s 1ms/step - loss: 0.5196 - accuracy: 0.7383 - val_loss: 0.5128 - val_accuracy: 0.8095\n",
            "Epoch 136/150\n",
            "60/60 [==============================] - 0s 1ms/step - loss: 0.5127 - accuracy: 0.7517 - val_loss: 0.5012 - val_accuracy: 0.7560\n",
            "Epoch 137/150\n",
            "60/60 [==============================] - 0s 1ms/step - loss: 0.5261 - accuracy: 0.7317 - val_loss: 0.5023 - val_accuracy: 0.7917\n",
            "Epoch 138/150\n",
            "60/60 [==============================] - 0s 1ms/step - loss: 0.5062 - accuracy: 0.7550 - val_loss: 0.5398 - val_accuracy: 0.7500\n",
            "Epoch 139/150\n",
            "60/60 [==============================] - 0s 1ms/step - loss: 0.5139 - accuracy: 0.7533 - val_loss: 0.5259 - val_accuracy: 0.7202\n",
            "Epoch 140/150\n",
            "60/60 [==============================] - 0s 1ms/step - loss: 0.5184 - accuracy: 0.7417 - val_loss: 0.5007 - val_accuracy: 0.7857\n",
            "Epoch 141/150\n",
            "60/60 [==============================] - 0s 1ms/step - loss: 0.5139 - accuracy: 0.7417 - val_loss: 0.5098 - val_accuracy: 0.8036\n",
            "Epoch 142/150\n",
            "60/60 [==============================] - 0s 2ms/step - loss: 0.5119 - accuracy: 0.7467 - val_loss: 0.5240 - val_accuracy: 0.7143\n",
            "Epoch 143/150\n",
            "60/60 [==============================] - 0s 2ms/step - loss: 0.5287 - accuracy: 0.7283 - val_loss: 0.5536 - val_accuracy: 0.7440\n",
            "Epoch 144/150\n",
            "60/60 [==============================] - 0s 1ms/step - loss: 0.5161 - accuracy: 0.7517 - val_loss: 0.4923 - val_accuracy: 0.7917\n",
            "Epoch 145/150\n",
            "60/60 [==============================] - 0s 1ms/step - loss: 0.5130 - accuracy: 0.7467 - val_loss: 0.5032 - val_accuracy: 0.7381\n",
            "Epoch 146/150\n",
            "60/60 [==============================] - 0s 1ms/step - loss: 0.5145 - accuracy: 0.7483 - val_loss: 0.4960 - val_accuracy: 0.7679\n",
            "Epoch 147/150\n",
            "60/60 [==============================] - 0s 1ms/step - loss: 0.5194 - accuracy: 0.7367 - val_loss: 0.4954 - val_accuracy: 0.8036\n",
            "Epoch 148/150\n",
            "60/60 [==============================] - 0s 1ms/step - loss: 0.5127 - accuracy: 0.7450 - val_loss: 0.4927 - val_accuracy: 0.7738\n",
            "Epoch 149/150\n",
            "60/60 [==============================] - 0s 1ms/step - loss: 0.5104 - accuracy: 0.7417 - val_loss: 0.5072 - val_accuracy: 0.7381\n",
            "Epoch 150/150\n",
            "60/60 [==============================] - 0s 1ms/step - loss: 0.5205 - accuracy: 0.7250 - val_loss: 0.5226 - val_accuracy: 0.7321\n"
          ],
          "name": "stdout"
        }
      ]
    },
    {
      "cell_type": "code",
      "metadata": {
        "id": "7qIiOhX7u8V2",
        "colab": {
          "base_uri": "https://localhost:8080/",
          "height": 313
        },
        "outputId": "863ce1dc-b05a-48af-957c-d5a47a9bf37d"
      },
      "source": [
        "epochs = 150\r\n",
        "\r\n",
        "acc_list = [100 * i for i in hist.history['accuracy']]\r\n",
        "vacc_list = [100 * i for i in hist.history['val_accuracy']]\r\n",
        "loss_list = hist.history['loss'] #[100 * i for i in history.history['loss']]\r\n",
        "vloss_list = hist.history['val_loss'] #[100 * i for i in history.history['val_loss']]\r\n",
        "\r\n",
        "plt.plot(range(1,epochs+1),acc_list)  \r\n",
        "plt.plot(range(1,epochs+1),vacc_list)  \r\n",
        "plt.plot(np.argmax(np.array(vacc_list))+1,vacc_list[np.argmax(np.array(vacc_list))], 'r*')\r\n",
        "plt.title('DL of diabetes: data2 of Model3 accuracy')\r\n",
        "plt.ylabel('Accuracy (%)')\r\n",
        "plt.xlabel('Epoch')\r\n",
        "plt.legend(['accuracy','val_accuracy','best'], loc='best')"
      ],
      "execution_count": 123,
      "outputs": [
        {
          "output_type": "execute_result",
          "data": {
            "text/plain": [
              "<matplotlib.legend.Legend at 0x7ff9a0f92400>"
            ]
          },
          "metadata": {
            "tags": []
          },
          "execution_count": 123
        },
        {
          "output_type": "display_data",
          "data": {
            "image/png": "[encoded data removed]",
            "text/plain": [
              "<Figure size 432x288 with 1 Axes>"
            ]
          },
          "metadata": {
            "tags": [],
            "needs_background": "light"
          }
        }
      ]
    },
    {
      "cell_type": "code",
      "metadata": {
        "id": "U8_XSBFLu8R3",
        "colab": {
          "base_uri": "https://localhost:8080/"
        },
        "outputId": "7c7cc1e6-4b19-4f74-a1d8-037d2c952177"
      },
      "source": [
        "# model performance -> 마지막 accuracy\r\n",
        "model3.evaluate(X_test, y_test)"
      ],
      "execution_count": 124,
      "outputs": [
        {
          "output_type": "stream",
          "text": [
            "6/6 [==============================] - 0s 1ms/step - loss: 0.5226 - accuracy: 0.7321\n"
          ],
          "name": "stdout"
        },
        {
          "output_type": "execute_result",
          "data": {
            "text/plain": [
              "[0.5225703120231628, 0.7321428656578064]"
            ]
          },
          "metadata": {
            "tags": []
          },
          "execution_count": 124
        }
      ]
    },
    {
      "cell_type": "code",
      "metadata": {
        "id": "ZW_8rb7Su8Du",
        "colab": {
          "base_uri": "https://localhost:8080/"
        },
        "outputId": "73045bc8-ee16-4f4f-92b1-55a4cb560537"
      },
      "source": [
        "y_train[:5],y_train.shape"
      ],
      "execution_count": 125,
      "outputs": [
        {
          "output_type": "execute_result",
          "data": {
            "text/plain": [
              "(0    1\n",
              " 1    0\n",
              " 2    1\n",
              " 3    0\n",
              " 4    1\n",
              " Name: Outcome, dtype: int64, (600,))"
            ]
          },
          "metadata": {
            "tags": []
          },
          "execution_count": 125
        }
      ]
    },
    {
      "cell_type": "code",
      "metadata": {
        "id": "Vwp4c5cpu79u",
        "colab": {
          "base_uri": "https://localhost:8080/"
        },
        "outputId": "e633b485-39b2-4e5a-f9da-6b8b81e69cab"
      },
      "source": [
        "# 5명의 예측\r\n",
        "model3.predict(X_train)[0:5],[int(np.round(prob)) for prob in model3.predict(X_train)[0:5]]"
      ],
      "execution_count": 130,
      "outputs": [
        {
          "output_type": "execute_result",
          "data": {
            "text/plain": [
              "(array([[0.517084  ],\n",
              "        [0.1001581 ],\n",
              "        [0.67643404],\n",
              "        [0.11337999],\n",
              "        [0.7873576 ]], dtype=float32), [1, 0, 1, 0, 1])"
            ]
          },
          "metadata": {
            "tags": []
          },
          "execution_count": 130
        }
      ]
    },
    {
      "cell_type": "code",
      "metadata": {
        "id": "6fJlOAVtu70c",
        "colab": {
          "base_uri": "https://localhost:8080/"
        },
        "outputId": "8f0cceb3-a66c-4937-f49a-903a33b8eb2c"
      },
      "source": [
        "# the first data in trainset\r\n",
        "X_train.iloc[0].tolist()"
      ],
      "execution_count": 129,
      "outputs": [
        {
          "output_type": "execute_result",
          "data": {
            "text/plain": [
              "[6.0, 148.0, 72.0, 35.0, 125.0, 33.6, 0.627, 50.0]"
            ]
          },
          "metadata": {
            "tags": []
          },
          "execution_count": 129
        }
      ]
    },
    {
      "cell_type": "code",
      "metadata": {
        "id": "spfEq-i2u7qq",
        "colab": {
          "base_uri": "https://localhost:8080/"
        },
        "outputId": "95b268d9-be35-47ba-d4e5-1d87b84d1b29"
      },
      "source": [
        "X_test.shape"
      ],
      "execution_count": 132,
      "outputs": [
        {
          "output_type": "execute_result",
          "data": {
            "text/plain": [
              "(168, 8)"
            ]
          },
          "metadata": {
            "tags": []
          },
          "execution_count": 132
        }
      ]
    },
    {
      "cell_type": "code",
      "metadata": {
        "id": "JpXkspD-u7gB",
        "colab": {
          "base_uri": "https://localhost:8080/"
        },
        "outputId": "5fd693cc-702f-49e0-f869-3e41bf822dbd"
      },
      "source": [
        "y_test[:10].values"
      ],
      "execution_count": 133,
      "outputs": [
        {
          "output_type": "execute_result",
          "data": {
            "text/plain": [
              "array([0, 0, 0, 1, 1, 0, 1, 0, 0, 0])"
            ]
          },
          "metadata": {
            "tags": []
          },
          "execution_count": 133
        }
      ]
    },
    {
      "cell_type": "code",
      "metadata": {
        "id": "1Iby1wkiu7Wi",
        "colab": {
          "base_uri": "https://localhost:8080/"
        },
        "outputId": "e3a0edf0-ecba-4451-f250-e41bbc68b7fc"
      },
      "source": [
        "X_test.iloc[0].values.tolist(),y_test.iloc[0]"
      ],
      "execution_count": 134,
      "outputs": [
        {
          "output_type": "execute_result",
          "data": {
            "text/plain": [
              "([1.0, 108.0, 88.0, 19.0, 125.0, 27.1, 0.4, 24.0], 0)"
            ]
          },
          "metadata": {
            "tags": []
          },
          "execution_count": 134
        }
      ]
    },
    {
      "cell_type": "code",
      "metadata": {
        "id": "y28Mg6SVu7Ma",
        "colab": {
          "base_uri": "https://localhost:8080/"
        },
        "outputId": "4ac58b78-d7fc-4172-e165-f5b633d2c380"
      },
      "source": [
        "# make class predictions for test data with the model\r\n",
        "predictions = [int(np.round(prob)) for prob in model3.predict(X_test)]\r\n",
        "predictions[:10]"
      ],
      "execution_count": 135,
      "outputs": [
        {
          "output_type": "execute_result",
          "data": {
            "text/plain": [
              "[0, 0, 0, 1, 1, 0, 0, 0, 0, 0]"
            ]
          },
          "metadata": {
            "tags": []
          },
          "execution_count": 135
        }
      ]
    },
    {
      "cell_type": "code",
      "metadata": {
        "id": "iCUxTajsu7DL",
        "colab": {
          "base_uri": "https://localhost:8080/"
        },
        "outputId": "04408f3f-2596-4ffc-e4c9-7b3750aaded3"
      },
      "source": [
        "# summarize the first 10 cases in testset\r\n",
        "for i in range(10):\r\n",
        "   print('%s => %d (expected %d)' % (X_test.iloc[i].values.tolist(), predictions[i], y_test.iloc[i]))"
      ],
      "execution_count": 136,
      "outputs": [
        {
          "output_type": "stream",
          "text": [
            "[1.0, 108.0, 88.0, 19.0, 125.0, 27.1, 0.4, 24.0] => 0 (expected 0)\n",
            "[6.0, 96.0, 72.0, 29.0, 125.0, 23.7, 0.19, 28.0] => 0 (expected 0)\n",
            "[1.0, 124.0, 74.0, 36.0, 125.0, 27.8, 0.1, 30.0] => 0 (expected 0)\n",
            "[7.0, 150.0, 78.0, 29.0, 126.0, 35.2, 0.6920000000000001, 54.0] => 1 (expected 1)\n",
            "[4.0, 183.0, 72.0, 29.0, 125.0, 28.4, 0.212, 36.0] => 1 (expected 1)\n",
            "[1.0, 124.0, 60.0, 32.0, 125.0, 35.8, 0.514, 21.0] => 0 (expected 0)\n",
            "[1.0, 181.0, 78.0, 42.0, 293.0, 40.0, 1.258, 22.0] => 0 (expected 1)\n",
            "[1.0, 92.0, 62.0, 25.0, 41.0, 19.5, 0.48200000000000004, 25.0] => 0 (expected 0)\n",
            "[0.0, 152.0, 82.0, 39.0, 272.0, 41.5, 0.27, 27.0] => 0 (expected 0)\n",
            "[1.0, 111.0, 62.0, 13.0, 182.0, 24.0, 0.138, 23.0] => 0 (expected 0)\n"
          ],
          "name": "stdout"
        }
      ]
    },
    {
      "cell_type": "markdown",
      "metadata": {
        "id": "0bkYcBkhyJKe"
      },
      "source": [
        "**Confusion matrix**"
      ]
    },
    {
      "cell_type": "code",
      "metadata": {
        "id": "9equDULDu60w"
      },
      "source": [
        "import seaborn as sns\r\n",
        "from sklearn.metrics import confusion_matrix"
      ],
      "execution_count": 137,
      "outputs": []
    },
    {
      "cell_type": "code",
      "metadata": {
        "id": "f-S64b19u6hS"
      },
      "source": [
        "cm = confusion_matrix(y_test, predictions)"
      ],
      "execution_count": 138,
      "outputs": []
    },
    {
      "cell_type": "code",
      "metadata": {
        "id": "rvPdOkOoyAWv"
      },
      "source": [
        "class_names = ['noDM','DM']"
      ],
      "execution_count": 139,
      "outputs": []
    },
    {
      "cell_type": "code",
      "metadata": {
        "colab": {
          "base_uri": "https://localhost:8080/",
          "height": 334
        },
        "id": "EQKyWUJJyAJ9",
        "outputId": "51d7908a-863c-40a4-a938-2089891cfc88"
      },
      "source": [
        "plt.figure(figsize=(5,5))\r\n",
        "sns.heatmap(cm, cbar=False, xticklabels=class_names, yticklabels=class_names, fmt='d', annot=True, cmap=plt.cm.coolwarm)\r\n",
        "plt.xlabel('Predicted')\r\n",
        "plt.ylabel('Actual')\r\n",
        "plt.show()"
      ],
      "execution_count": 141,
      "outputs": [
        {
          "output_type": "display_data",
          "data": {
            "image/png": "[encoded data removed]",
            "text/plain": [
              "<Figure size 360x360 with 1 Axes>"
            ]
          },
          "metadata": {
            "tags": [],
            "needs_background": "light"
          }
        }
      ]
    },
    {
      "cell_type": "markdown",
      "metadata": {
        "id": "b3_vRV-iydnI"
      },
      "source": [
        "##**Save the best model**\r\n",
        "* hdf5 file"
      ]
    },
    {
      "cell_type": "code",
      "metadata": {
        "id": "zpBhnY9Rx_-I"
      },
      "source": [
        "# define the keras model\r\n",
        "model4 = Sequential([\r\n",
        "    Dense(16, input_dim=8, activation='relu'),\r\n",
        "    Dense(8, activation='relu'), \r\n",
        "    Dense(1, activation='sigmoid')                 \r\n",
        "])\r\n",
        "# compile the keras model\r\n",
        "model4.compile(loss='binary_crossentropy', \r\n",
        "              optimizer='adam', \r\n",
        "              metrics=['accuracy'])"
      ],
      "execution_count": 142,
      "outputs": []
    },
    {
      "cell_type": "markdown",
      "metadata": {
        "id": "U9XorqPDy7_I"
      },
      "source": [
        "**callbacks**"
      ]
    },
    {
      "cell_type": "code",
      "metadata": {
        "id": "nCz041uzx_zd"
      },
      "source": [
        "cp_callback = callbacks.ModelCheckpoint(filepath=\"./diabetes_DL_data2_best_weights.{epoch:03d}-{val_accuracy:.4f}.hdf5\", \r\n",
        "                              monitor='val_accuracy', verbose=0, save_best_only=True)\r\n",
        "es_callback = callbacks.EarlyStopping(monitor='val_accuracy', \r\n",
        "                            mode='max', verbose=1, patience=50)    # patience=10, 20, 50"
      ],
      "execution_count": 143,
      "outputs": []
    },
    {
      "cell_type": "code",
      "metadata": {
        "colab": {
          "base_uri": "https://localhost:8080/"
        },
        "id": "mG-wRJC7x_mh",
        "outputId": "4041e7b9-b9a2-455b-9380-98217158d531"
      },
      "source": [
        "# fit the keras model on the dataset\r\n",
        "hist = model4.fit(X_train, y_train, epochs=500, batch_size=10, verbose=1, \r\n",
        "                  callbacks=[cp_callback, es_callback], \r\n",
        "                  validation_data=(X_test, y_test))"
      ],
      "execution_count": 144,
      "outputs": [
        {
          "output_type": "stream",
          "text": [
            "Epoch 1/500\n",
            "60/60 [==============================] - 0s 3ms/step - loss: 4.0882 - accuracy: 0.4700 - val_loss: 1.5585 - val_accuracy: 0.6012\n",
            "Epoch 2/500\n",
            "60/60 [==============================] - 0s 1ms/step - loss: 1.0102 - accuracy: 0.6367 - val_loss: 0.7748 - val_accuracy: 0.6071\n",
            "Epoch 3/500\n",
            "60/60 [==============================] - 0s 1ms/step - loss: 0.7441 - accuracy: 0.6583 - val_loss: 0.6746 - val_accuracy: 0.5952\n",
            "Epoch 4/500\n",
            "60/60 [==============================] - 0s 2ms/step - loss: 0.7215 - accuracy: 0.6617 - val_loss: 0.6333 - val_accuracy: 0.6250\n",
            "Epoch 5/500\n",
            "60/60 [==============================] - 0s 1ms/step - loss: 0.6740 - accuracy: 0.6750 - val_loss: 0.6356 - val_accuracy: 0.6488\n",
            "Epoch 6/500\n",
            "60/60 [==============================] - 0s 1ms/step - loss: 0.6651 - accuracy: 0.6983 - val_loss: 0.6443 - val_accuracy: 0.6429\n",
            "Epoch 7/500\n",
            "60/60 [==============================] - 0s 1ms/step - loss: 0.6680 - accuracy: 0.6767 - val_loss: 0.6927 - val_accuracy: 0.6131\n",
            "Epoch 8/500\n",
            "60/60 [==============================] - 0s 1ms/step - loss: 0.6540 - accuracy: 0.6900 - val_loss: 0.6738 - val_accuracy: 0.6250\n",
            "Epoch 9/500\n",
            "60/60 [==============================] - 0s 1ms/step - loss: 0.6511 - accuracy: 0.6917 - val_loss: 0.6774 - val_accuracy: 0.6310\n",
            "Epoch 10/500\n",
            "60/60 [==============================] - 0s 1ms/step - loss: 0.6526 - accuracy: 0.6850 - val_loss: 0.6436 - val_accuracy: 0.6488\n",
            "Epoch 11/500\n",
            "60/60 [==============================] - 0s 1ms/step - loss: 0.6399 - accuracy: 0.6833 - val_loss: 0.6374 - val_accuracy: 0.6310\n",
            "Epoch 12/500\n",
            "60/60 [==============================] - 0s 1ms/step - loss: 0.6430 - accuracy: 0.6817 - val_loss: 0.6636 - val_accuracy: 0.6250\n",
            "Epoch 13/500\n",
            "60/60 [==============================] - 0s 1ms/step - loss: 0.6384 - accuracy: 0.7000 - val_loss: 0.6397 - val_accuracy: 0.6845\n",
            "Epoch 14/500\n",
            "60/60 [==============================] - 0s 1ms/step - loss: 0.6267 - accuracy: 0.6900 - val_loss: 0.7480 - val_accuracy: 0.6071\n",
            "Epoch 15/500\n",
            "60/60 [==============================] - 0s 1ms/step - loss: 0.6450 - accuracy: 0.6817 - val_loss: 0.6670 - val_accuracy: 0.6131\n",
            "Epoch 16/500\n",
            "60/60 [==============================] - 0s 1ms/step - loss: 0.6181 - accuracy: 0.6817 - val_loss: 0.6495 - val_accuracy: 0.6548\n",
            "Epoch 17/500\n",
            "60/60 [==============================] - 0s 1ms/step - loss: 0.6288 - accuracy: 0.6933 - val_loss: 0.6607 - val_accuracy: 0.6310\n",
            "Epoch 18/500\n",
            "60/60 [==============================] - 0s 1ms/step - loss: 0.6133 - accuracy: 0.7000 - val_loss: 0.6282 - val_accuracy: 0.6726\n",
            "Epoch 19/500\n",
            "60/60 [==============================] - 0s 1ms/step - loss: 0.6071 - accuracy: 0.6917 - val_loss: 0.6595 - val_accuracy: 0.6190\n",
            "Epoch 20/500\n",
            "60/60 [==============================] - 0s 1ms/step - loss: 0.6125 - accuracy: 0.6833 - val_loss: 0.6716 - val_accuracy: 0.6012\n",
            "Epoch 21/500\n",
            "60/60 [==============================] - 0s 1ms/step - loss: 0.6035 - accuracy: 0.6917 - val_loss: 0.6561 - val_accuracy: 0.6845\n",
            "Epoch 22/500\n",
            "60/60 [==============================] - 0s 1ms/step - loss: 0.6046 - accuracy: 0.6850 - val_loss: 0.6396 - val_accuracy: 0.6429\n",
            "Epoch 23/500\n",
            "60/60 [==============================] - 0s 1ms/step - loss: 0.6090 - accuracy: 0.6933 - val_loss: 0.6586 - val_accuracy: 0.6369\n",
            "Epoch 24/500\n",
            "60/60 [==============================] - 0s 1ms/step - loss: 0.6163 - accuracy: 0.6917 - val_loss: 0.6505 - val_accuracy: 0.6726\n",
            "Epoch 25/500\n",
            "60/60 [==============================] - 0s 1ms/step - loss: 0.6047 - accuracy: 0.6800 - val_loss: 0.6367 - val_accuracy: 0.6429\n",
            "Epoch 26/500\n",
            "60/60 [==============================] - 0s 1ms/step - loss: 0.6212 - accuracy: 0.6800 - val_loss: 0.6380 - val_accuracy: 0.6310\n",
            "Epoch 27/500\n",
            "60/60 [==============================] - 0s 1ms/step - loss: 0.5993 - accuracy: 0.6967 - val_loss: 0.6132 - val_accuracy: 0.6667\n",
            "Epoch 28/500\n",
            "60/60 [==============================] - 0s 1ms/step - loss: 0.6043 - accuracy: 0.7017 - val_loss: 0.6413 - val_accuracy: 0.6369\n",
            "Epoch 29/500\n",
            "60/60 [==============================] - 0s 1ms/step - loss: 0.6028 - accuracy: 0.6900 - val_loss: 0.6219 - val_accuracy: 0.6607\n",
            "Epoch 30/500\n",
            "60/60 [==============================] - 0s 1ms/step - loss: 0.5866 - accuracy: 0.6917 - val_loss: 0.6185 - val_accuracy: 0.6786\n",
            "Epoch 31/500\n",
            "60/60 [==============================] - 0s 1ms/step - loss: 0.5851 - accuracy: 0.7100 - val_loss: 0.6443 - val_accuracy: 0.6488\n",
            "Epoch 32/500\n",
            "60/60 [==============================] - 0s 1ms/step - loss: 0.6108 - accuracy: 0.6917 - val_loss: 0.6824 - val_accuracy: 0.6012\n",
            "Epoch 33/500\n",
            "60/60 [==============================] - 0s 1ms/step - loss: 0.6062 - accuracy: 0.6983 - val_loss: 0.6277 - val_accuracy: 0.6488\n",
            "Epoch 34/500\n",
            "60/60 [==============================] - 0s 1ms/step - loss: 0.5891 - accuracy: 0.6967 - val_loss: 0.6540 - val_accuracy: 0.6488\n",
            "Epoch 35/500\n",
            "60/60 [==============================] - 0s 1ms/step - loss: 0.6112 - accuracy: 0.6967 - val_loss: 0.6351 - val_accuracy: 0.6429\n",
            "Epoch 36/500\n",
            "60/60 [==============================] - 0s 1ms/step - loss: 0.5951 - accuracy: 0.6967 - val_loss: 0.6308 - val_accuracy: 0.6964\n",
            "Epoch 37/500\n",
            "60/60 [==============================] - 0s 1ms/step - loss: 0.5947 - accuracy: 0.6950 - val_loss: 0.6110 - val_accuracy: 0.6845\n",
            "Epoch 38/500\n",
            "60/60 [==============================] - 0s 1ms/step - loss: 0.5906 - accuracy: 0.6950 - val_loss: 0.6360 - val_accuracy: 0.6488\n",
            "Epoch 39/500\n",
            "60/60 [==============================] - 0s 1ms/step - loss: 0.5923 - accuracy: 0.7017 - val_loss: 0.6242 - val_accuracy: 0.6548\n",
            "Epoch 40/500\n",
            "60/60 [==============================] - 0s 1ms/step - loss: 0.5912 - accuracy: 0.6983 - val_loss: 0.6079 - val_accuracy: 0.6726\n",
            "Epoch 41/500\n",
            "60/60 [==============================] - 0s 1ms/step - loss: 0.5924 - accuracy: 0.7033 - val_loss: 0.6327 - val_accuracy: 0.6548\n",
            "Epoch 42/500\n",
            "60/60 [==============================] - 0s 1ms/step - loss: 0.5814 - accuracy: 0.7117 - val_loss: 0.6089 - val_accuracy: 0.6845\n",
            "Epoch 43/500\n",
            "60/60 [==============================] - 0s 1ms/step - loss: 0.5765 - accuracy: 0.7117 - val_loss: 0.6366 - val_accuracy: 0.6429\n",
            "Epoch 44/500\n",
            "60/60 [==============================] - 0s 1ms/step - loss: 0.5802 - accuracy: 0.7133 - val_loss: 0.6077 - val_accuracy: 0.6905\n",
            "Epoch 45/500\n",
            "60/60 [==============================] - 0s 1ms/step - loss: 0.5793 - accuracy: 0.7150 - val_loss: 0.6100 - val_accuracy: 0.6905\n",
            "Epoch 46/500\n",
            "60/60 [==============================] - 0s 2ms/step - loss: 0.5788 - accuracy: 0.7150 - val_loss: 0.6283 - val_accuracy: 0.6905\n",
            "Epoch 47/500\n",
            "60/60 [==============================] - 0s 1ms/step - loss: 0.5841 - accuracy: 0.7117 - val_loss: 0.6225 - val_accuracy: 0.6488\n",
            "Epoch 48/500\n",
            "60/60 [==============================] - 0s 1ms/step - loss: 0.5868 - accuracy: 0.7050 - val_loss: 0.6080 - val_accuracy: 0.6786\n",
            "Epoch 49/500\n",
            "60/60 [==============================] - 0s 1ms/step - loss: 0.5803 - accuracy: 0.7133 - val_loss: 0.6208 - val_accuracy: 0.6964\n",
            "Epoch 50/500\n",
            "60/60 [==============================] - 0s 1ms/step - loss: 0.5824 - accuracy: 0.7050 - val_loss: 0.6111 - val_accuracy: 0.6786\n",
            "Epoch 51/500\n",
            "60/60 [==============================] - 0s 2ms/step - loss: 0.5817 - accuracy: 0.7033 - val_loss: 0.6089 - val_accuracy: 0.7024\n",
            "Epoch 52/500\n",
            "60/60 [==============================] - 0s 1ms/step - loss: 0.5920 - accuracy: 0.6883 - val_loss: 0.6189 - val_accuracy: 0.7024\n",
            "Epoch 53/500\n",
            "60/60 [==============================] - 0s 1ms/step - loss: 0.5788 - accuracy: 0.7150 - val_loss: 0.6426 - val_accuracy: 0.6607\n",
            "Epoch 54/500\n",
            "60/60 [==============================] - 0s 1ms/step - loss: 0.5888 - accuracy: 0.7150 - val_loss: 0.6122 - val_accuracy: 0.6726\n",
            "Epoch 55/500\n",
            "60/60 [==============================] - 0s 1ms/step - loss: 0.5951 - accuracy: 0.7083 - val_loss: 0.6415 - val_accuracy: 0.6369\n",
            "Epoch 56/500\n",
            "60/60 [==============================] - 0s 1ms/step - loss: 0.5899 - accuracy: 0.7017 - val_loss: 0.6251 - val_accuracy: 0.6488\n",
            "Epoch 57/500\n",
            "60/60 [==============================] - 0s 1ms/step - loss: 0.5815 - accuracy: 0.7133 - val_loss: 0.6611 - val_accuracy: 0.6250\n",
            "Epoch 58/500\n",
            "60/60 [==============================] - 0s 1ms/step - loss: 0.5985 - accuracy: 0.7050 - val_loss: 0.6091 - val_accuracy: 0.6845\n",
            "Epoch 59/500\n",
            "60/60 [==============================] - 0s 1ms/step - loss: 0.5833 - accuracy: 0.7100 - val_loss: 0.6357 - val_accuracy: 0.6488\n",
            "Epoch 60/500\n",
            "60/60 [==============================] - 0s 1ms/step - loss: 0.5785 - accuracy: 0.6933 - val_loss: 0.6236 - val_accuracy: 0.6726\n",
            "Epoch 61/500\n",
            "60/60 [==============================] - 0s 1ms/step - loss: 0.5966 - accuracy: 0.6933 - val_loss: 0.6297 - val_accuracy: 0.7024\n",
            "Epoch 62/500\n",
            "60/60 [==============================] - 0s 1ms/step - loss: 0.5773 - accuracy: 0.7050 - val_loss: 0.6027 - val_accuracy: 0.6845\n",
            "Epoch 63/500\n",
            "60/60 [==============================] - 0s 2ms/step - loss: 0.5669 - accuracy: 0.7150 - val_loss: 0.6085 - val_accuracy: 0.7083\n",
            "Epoch 64/500\n",
            "60/60 [==============================] - 0s 1ms/step - loss: 0.5734 - accuracy: 0.7000 - val_loss: 0.5998 - val_accuracy: 0.7083\n",
            "Epoch 65/500\n",
            "60/60 [==============================] - 0s 1ms/step - loss: 0.5844 - accuracy: 0.7083 - val_loss: 0.6575 - val_accuracy: 0.6607\n",
            "Epoch 66/500\n",
            "60/60 [==============================] - 0s 1ms/step - loss: 0.5792 - accuracy: 0.7150 - val_loss: 0.5975 - val_accuracy: 0.7083\n",
            "Epoch 67/500\n",
            "60/60 [==============================] - 0s 2ms/step - loss: 0.5773 - accuracy: 0.7017 - val_loss: 0.6015 - val_accuracy: 0.6905\n",
            "Epoch 68/500\n",
            "60/60 [==============================] - 0s 1ms/step - loss: 0.5782 - accuracy: 0.7133 - val_loss: 0.6072 - val_accuracy: 0.6905\n",
            "Epoch 69/500\n",
            "60/60 [==============================] - 0s 1ms/step - loss: 0.5686 - accuracy: 0.7117 - val_loss: 0.6135 - val_accuracy: 0.6726\n",
            "Epoch 70/500\n",
            "60/60 [==============================] - 0s 2ms/step - loss: 0.5754 - accuracy: 0.6950 - val_loss: 0.6504 - val_accuracy: 0.6429\n",
            "Epoch 71/500\n",
            "60/60 [==============================] - 0s 1ms/step - loss: 0.5764 - accuracy: 0.7050 - val_loss: 0.6052 - val_accuracy: 0.6845\n",
            "Epoch 72/500\n",
            "60/60 [==============================] - 0s 1ms/step - loss: 0.5608 - accuracy: 0.7200 - val_loss: 0.5934 - val_accuracy: 0.6905\n",
            "Epoch 73/500\n",
            "60/60 [==============================] - 0s 1ms/step - loss: 0.5845 - accuracy: 0.7067 - val_loss: 0.6004 - val_accuracy: 0.6845\n",
            "Epoch 74/500\n",
            "60/60 [==============================] - 0s 1ms/step - loss: 0.5682 - accuracy: 0.7083 - val_loss: 0.6121 - val_accuracy: 0.6964\n",
            "Epoch 75/500\n",
            "60/60 [==============================] - 0s 1ms/step - loss: 0.5743 - accuracy: 0.7233 - val_loss: 0.6381 - val_accuracy: 0.6905\n",
            "Epoch 76/500\n",
            "60/60 [==============================] - 0s 1ms/step - loss: 0.5755 - accuracy: 0.7067 - val_loss: 0.6648 - val_accuracy: 0.6369\n",
            "Epoch 77/500\n",
            "60/60 [==============================] - 0s 1ms/step - loss: 0.5813 - accuracy: 0.7050 - val_loss: 0.5970 - val_accuracy: 0.6726\n",
            "Epoch 78/500\n",
            "60/60 [==============================] - 0s 1ms/step - loss: 0.5673 - accuracy: 0.7133 - val_loss: 0.6075 - val_accuracy: 0.6845\n",
            "Epoch 79/500\n",
            "60/60 [==============================] - 0s 1ms/step - loss: 0.5774 - accuracy: 0.7067 - val_loss: 0.6030 - val_accuracy: 0.7024\n",
            "Epoch 80/500\n",
            "60/60 [==============================] - 0s 1ms/step - loss: 0.5639 - accuracy: 0.7017 - val_loss: 0.5799 - val_accuracy: 0.7202\n",
            "Epoch 81/500\n",
            "60/60 [==============================] - 0s 1ms/step - loss: 0.5637 - accuracy: 0.7083 - val_loss: 0.5706 - val_accuracy: 0.7024\n",
            "Epoch 82/500\n",
            "60/60 [==============================] - 0s 2ms/step - loss: 0.5554 - accuracy: 0.7233 - val_loss: 0.5809 - val_accuracy: 0.7262\n",
            "Epoch 83/500\n",
            "60/60 [==============================] - 0s 1ms/step - loss: 0.5645 - accuracy: 0.7150 - val_loss: 0.5766 - val_accuracy: 0.7024\n",
            "Epoch 84/500\n",
            "60/60 [==============================] - 0s 1ms/step - loss: 0.5539 - accuracy: 0.7100 - val_loss: 0.5741 - val_accuracy: 0.7202\n",
            "Epoch 85/500\n",
            "60/60 [==============================] - 0s 1ms/step - loss: 0.5553 - accuracy: 0.7100 - val_loss: 0.5733 - val_accuracy: 0.7202\n",
            "Epoch 86/500\n",
            "60/60 [==============================] - 0s 1ms/step - loss: 0.5493 - accuracy: 0.7233 - val_loss: 0.5667 - val_accuracy: 0.7560\n",
            "Epoch 87/500\n",
            "60/60 [==============================] - 0s 1ms/step - loss: 0.5583 - accuracy: 0.7200 - val_loss: 0.5861 - val_accuracy: 0.7321\n",
            "Epoch 88/500\n",
            "60/60 [==============================] - 0s 1ms/step - loss: 0.5441 - accuracy: 0.7217 - val_loss: 0.5851 - val_accuracy: 0.7321\n",
            "Epoch 89/500\n",
            "60/60 [==============================] - 0s 1ms/step - loss: 0.5585 - accuracy: 0.7100 - val_loss: 0.5754 - val_accuracy: 0.7143\n",
            "Epoch 90/500\n",
            "60/60 [==============================] - 0s 1ms/step - loss: 0.5582 - accuracy: 0.7400 - val_loss: 0.5612 - val_accuracy: 0.7440\n",
            "Epoch 91/500\n",
            "60/60 [==============================] - 0s 1ms/step - loss: 0.5473 - accuracy: 0.7167 - val_loss: 0.5777 - val_accuracy: 0.7262\n",
            "Epoch 92/500\n",
            "60/60 [==============================] - 0s 1ms/step - loss: 0.5543 - accuracy: 0.7150 - val_loss: 0.5792 - val_accuracy: 0.7500\n",
            "Epoch 93/500\n",
            "60/60 [==============================] - 0s 1ms/step - loss: 0.5622 - accuracy: 0.7183 - val_loss: 0.5597 - val_accuracy: 0.7202\n",
            "Epoch 94/500\n",
            "60/60 [==============================] - 0s 1ms/step - loss: 0.5507 - accuracy: 0.7167 - val_loss: 0.5712 - val_accuracy: 0.6964\n",
            "Epoch 95/500\n",
            "60/60 [==============================] - 0s 1ms/step - loss: 0.5510 - accuracy: 0.7283 - val_loss: 0.5786 - val_accuracy: 0.7143\n",
            "Epoch 96/500\n",
            "60/60 [==============================] - 0s 1ms/step - loss: 0.5562 - accuracy: 0.7050 - val_loss: 0.5842 - val_accuracy: 0.7262\n",
            "Epoch 97/500\n",
            "60/60 [==============================] - 0s 1ms/step - loss: 0.5482 - accuracy: 0.7267 - val_loss: 0.5625 - val_accuracy: 0.7381\n",
            "Epoch 98/500\n",
            "60/60 [==============================] - 0s 1ms/step - loss: 0.5402 - accuracy: 0.7150 - val_loss: 0.5869 - val_accuracy: 0.6905\n",
            "Epoch 99/500\n",
            "60/60 [==============================] - 0s 1ms/step - loss: 0.5544 - accuracy: 0.7133 - val_loss: 0.5536 - val_accuracy: 0.7143\n",
            "Epoch 100/500\n",
            "60/60 [==============================] - 0s 1ms/step - loss: 0.5571 - accuracy: 0.7133 - val_loss: 0.5617 - val_accuracy: 0.7202\n",
            "Epoch 101/500\n",
            "60/60 [==============================] - 0s 1ms/step - loss: 0.5569 - accuracy: 0.7183 - val_loss: 0.5932 - val_accuracy: 0.7143\n",
            "Epoch 102/500\n",
            "60/60 [==============================] - 0s 2ms/step - loss: 0.5521 - accuracy: 0.6917 - val_loss: 0.5651 - val_accuracy: 0.7083\n",
            "Epoch 103/500\n",
            "60/60 [==============================] - 0s 2ms/step - loss: 0.5377 - accuracy: 0.7250 - val_loss: 0.5758 - val_accuracy: 0.7440\n",
            "Epoch 104/500\n",
            "60/60 [==============================] - 0s 1ms/step - loss: 0.5482 - accuracy: 0.7250 - val_loss: 0.5562 - val_accuracy: 0.7500\n",
            "Epoch 105/500\n",
            "60/60 [==============================] - 0s 1ms/step - loss: 0.5367 - accuracy: 0.7433 - val_loss: 0.5777 - val_accuracy: 0.7560\n",
            "Epoch 106/500\n",
            "60/60 [==============================] - 0s 1ms/step - loss: 0.5399 - accuracy: 0.7117 - val_loss: 0.5515 - val_accuracy: 0.7381\n",
            "Epoch 107/500\n",
            "60/60 [==============================] - 0s 1ms/step - loss: 0.5436 - accuracy: 0.7200 - val_loss: 0.5620 - val_accuracy: 0.7262\n",
            "Epoch 108/500\n",
            "60/60 [==============================] - 0s 1ms/step - loss: 0.5304 - accuracy: 0.7317 - val_loss: 0.5667 - val_accuracy: 0.7143\n",
            "Epoch 109/500\n",
            "60/60 [==============================] - 0s 1ms/step - loss: 0.5356 - accuracy: 0.7200 - val_loss: 0.5615 - val_accuracy: 0.7083\n",
            "Epoch 110/500\n",
            "60/60 [==============================] - 0s 1ms/step - loss: 0.5375 - accuracy: 0.7383 - val_loss: 0.6008 - val_accuracy: 0.7262\n",
            "Epoch 111/500\n",
            "60/60 [==============================] - 0s 1ms/step - loss: 0.5506 - accuracy: 0.7067 - val_loss: 0.5475 - val_accuracy: 0.7143\n",
            "Epoch 112/500\n",
            "60/60 [==============================] - 0s 1ms/step - loss: 0.5432 - accuracy: 0.7283 - val_loss: 0.5682 - val_accuracy: 0.7321\n",
            "Epoch 113/500\n",
            "60/60 [==============================] - 0s 1ms/step - loss: 0.5349 - accuracy: 0.7233 - val_loss: 0.5565 - val_accuracy: 0.7202\n",
            "Epoch 114/500\n",
            "60/60 [==============================] - 0s 1ms/step - loss: 0.5347 - accuracy: 0.7283 - val_loss: 0.5701 - val_accuracy: 0.7321\n",
            "Epoch 115/500\n",
            "60/60 [==============================] - 0s 1ms/step - loss: 0.5324 - accuracy: 0.7250 - val_loss: 0.5612 - val_accuracy: 0.7381\n",
            "Epoch 116/500\n",
            "60/60 [==============================] - 0s 1ms/step - loss: 0.5477 - accuracy: 0.7217 - val_loss: 0.6272 - val_accuracy: 0.6548\n",
            "Epoch 117/500\n",
            "60/60 [==============================] - 0s 2ms/step - loss: 0.5399 - accuracy: 0.7200 - val_loss: 0.5478 - val_accuracy: 0.7262\n",
            "Epoch 118/500\n",
            "60/60 [==============================] - 0s 1ms/step - loss: 0.5606 - accuracy: 0.7100 - val_loss: 0.5484 - val_accuracy: 0.7321\n",
            "Epoch 119/500\n",
            "60/60 [==============================] - 0s 1ms/step - loss: 0.5353 - accuracy: 0.7250 - val_loss: 0.5663 - val_accuracy: 0.7560\n",
            "Epoch 120/500\n",
            "60/60 [==============================] - 0s 1ms/step - loss: 0.5477 - accuracy: 0.7133 - val_loss: 0.5423 - val_accuracy: 0.7202\n",
            "Epoch 121/500\n",
            "60/60 [==============================] - 0s 2ms/step - loss: 0.5458 - accuracy: 0.7217 - val_loss: 0.5699 - val_accuracy: 0.7798\n",
            "Epoch 122/500\n",
            "60/60 [==============================] - 0s 2ms/step - loss: 0.5389 - accuracy: 0.7333 - val_loss: 0.5396 - val_accuracy: 0.7500\n",
            "Epoch 123/500\n",
            "60/60 [==============================] - 0s 1ms/step - loss: 0.5313 - accuracy: 0.7450 - val_loss: 0.5595 - val_accuracy: 0.7083\n",
            "Epoch 124/500\n",
            "60/60 [==============================] - 0s 1ms/step - loss: 0.5387 - accuracy: 0.7233 - val_loss: 0.5512 - val_accuracy: 0.7024\n",
            "Epoch 125/500\n",
            "60/60 [==============================] - 0s 1ms/step - loss: 0.5445 - accuracy: 0.7217 - val_loss: 0.5477 - val_accuracy: 0.7440\n",
            "Epoch 126/500\n",
            "60/60 [==============================] - 0s 2ms/step - loss: 0.5288 - accuracy: 0.7450 - val_loss: 0.5448 - val_accuracy: 0.7262\n",
            "Epoch 127/500\n",
            "60/60 [==============================] - 0s 1ms/step - loss: 0.5376 - accuracy: 0.7317 - val_loss: 0.5488 - val_accuracy: 0.7083\n",
            "Epoch 128/500\n",
            "60/60 [==============================] - 0s 1ms/step - loss: 0.5290 - accuracy: 0.7350 - val_loss: 0.5524 - val_accuracy: 0.7381\n",
            "Epoch 129/500\n",
            "60/60 [==============================] - 0s 1ms/step - loss: 0.5250 - accuracy: 0.7167 - val_loss: 0.5380 - val_accuracy: 0.7381\n",
            "Epoch 130/500\n",
            "60/60 [==============================] - 0s 1ms/step - loss: 0.5215 - accuracy: 0.7350 - val_loss: 0.5435 - val_accuracy: 0.7440\n",
            "Epoch 131/500\n",
            "60/60 [==============================] - 0s 2ms/step - loss: 0.5246 - accuracy: 0.7433 - val_loss: 0.5540 - val_accuracy: 0.7024\n",
            "Epoch 132/500\n",
            "60/60 [==============================] - 0s 1ms/step - loss: 0.5563 - accuracy: 0.7117 - val_loss: 0.5597 - val_accuracy: 0.6905\n",
            "Epoch 133/500\n",
            "60/60 [==============================] - 0s 1ms/step - loss: 0.5315 - accuracy: 0.7150 - val_loss: 0.5800 - val_accuracy: 0.7024\n",
            "Epoch 134/500\n",
            "60/60 [==============================] - 0s 1ms/step - loss: 0.5297 - accuracy: 0.7300 - val_loss: 0.5649 - val_accuracy: 0.7024\n",
            "Epoch 135/500\n",
            "60/60 [==============================] - 0s 1ms/step - loss: 0.5291 - accuracy: 0.7150 - val_loss: 0.5452 - val_accuracy: 0.7619\n",
            "Epoch 136/500\n",
            "60/60 [==============================] - 0s 1ms/step - loss: 0.5214 - accuracy: 0.7350 - val_loss: 0.5506 - val_accuracy: 0.7440\n",
            "Epoch 137/500\n",
            "60/60 [==============================] - 0s 1ms/step - loss: 0.5337 - accuracy: 0.7200 - val_loss: 0.5463 - val_accuracy: 0.7798\n",
            "Epoch 138/500\n",
            "60/60 [==============================] - 0s 1ms/step - loss: 0.5214 - accuracy: 0.7283 - val_loss: 0.5905 - val_accuracy: 0.6905\n",
            "Epoch 139/500\n",
            "60/60 [==============================] - 0s 1ms/step - loss: 0.5376 - accuracy: 0.7283 - val_loss: 0.5753 - val_accuracy: 0.7083\n",
            "Epoch 140/500\n",
            "60/60 [==============================] - 0s 1ms/step - loss: 0.5324 - accuracy: 0.7217 - val_loss: 0.5571 - val_accuracy: 0.7619\n",
            "Epoch 141/500\n",
            "60/60 [==============================] - 0s 1ms/step - loss: 0.5207 - accuracy: 0.7333 - val_loss: 0.5374 - val_accuracy: 0.7798\n",
            "Epoch 142/500\n",
            "60/60 [==============================] - 0s 1ms/step - loss: 0.5203 - accuracy: 0.7333 - val_loss: 0.5589 - val_accuracy: 0.7381\n",
            "Epoch 143/500\n",
            "60/60 [==============================] - 0s 1ms/step - loss: 0.5299 - accuracy: 0.7250 - val_loss: 0.5700 - val_accuracy: 0.7619\n",
            "Epoch 144/500\n",
            "60/60 [==============================] - 0s 2ms/step - loss: 0.5277 - accuracy: 0.7233 - val_loss: 0.5419 - val_accuracy: 0.7917\n",
            "Epoch 145/500\n",
            "60/60 [==============================] - 0s 1ms/step - loss: 0.5310 - accuracy: 0.7367 - val_loss: 0.5381 - val_accuracy: 0.7440\n",
            "Epoch 146/500\n",
            "60/60 [==============================] - 0s 1ms/step - loss: 0.5350 - accuracy: 0.7300 - val_loss: 0.5339 - val_accuracy: 0.7381\n",
            "Epoch 147/500\n",
            "60/60 [==============================] - 0s 1ms/step - loss: 0.5238 - accuracy: 0.7333 - val_loss: 0.5404 - val_accuracy: 0.7262\n",
            "Epoch 148/500\n",
            "60/60 [==============================] - 0s 1ms/step - loss: 0.5183 - accuracy: 0.7300 - val_loss: 0.5364 - val_accuracy: 0.7679\n",
            "Epoch 149/500\n",
            "60/60 [==============================] - 0s 1ms/step - loss: 0.5231 - accuracy: 0.7283 - val_loss: 0.5529 - val_accuracy: 0.7202\n",
            "Epoch 150/500\n",
            "60/60 [==============================] - 0s 1ms/step - loss: 0.5363 - accuracy: 0.7083 - val_loss: 0.5438 - val_accuracy: 0.7321\n",
            "Epoch 151/500\n",
            "60/60 [==============================] - 0s 1ms/step - loss: 0.5383 - accuracy: 0.7283 - val_loss: 0.5386 - val_accuracy: 0.7679\n",
            "Epoch 152/500\n",
            "60/60 [==============================] - 0s 1ms/step - loss: 0.5231 - accuracy: 0.7300 - val_loss: 0.5310 - val_accuracy: 0.7262\n",
            "Epoch 153/500\n",
            "60/60 [==============================] - 0s 1ms/step - loss: 0.5313 - accuracy: 0.7267 - val_loss: 0.5617 - val_accuracy: 0.7679\n",
            "Epoch 154/500\n",
            "60/60 [==============================] - 0s 1ms/step - loss: 0.5348 - accuracy: 0.7133 - val_loss: 0.5475 - val_accuracy: 0.7738\n",
            "Epoch 155/500\n",
            "60/60 [==============================] - 0s 1ms/step - loss: 0.5183 - accuracy: 0.7433 - val_loss: 0.5414 - val_accuracy: 0.7262\n",
            "Epoch 156/500\n",
            "60/60 [==============================] - 0s 1ms/step - loss: 0.5230 - accuracy: 0.7300 - val_loss: 0.5465 - val_accuracy: 0.7560\n",
            "Epoch 157/500\n",
            "60/60 [==============================] - 0s 1ms/step - loss: 0.5203 - accuracy: 0.7350 - val_loss: 0.5500 - val_accuracy: 0.7381\n",
            "Epoch 158/500\n",
            "60/60 [==============================] - 0s 1ms/step - loss: 0.5268 - accuracy: 0.7417 - val_loss: 0.5340 - val_accuracy: 0.7143\n",
            "Epoch 159/500\n",
            "60/60 [==============================] - 0s 1ms/step - loss: 0.5191 - accuracy: 0.7250 - val_loss: 0.5301 - val_accuracy: 0.7500\n",
            "Epoch 160/500\n",
            "60/60 [==============================] - 0s 1ms/step - loss: 0.5226 - accuracy: 0.7200 - val_loss: 0.5243 - val_accuracy: 0.7381\n",
            "Epoch 161/500\n",
            "60/60 [==============================] - 0s 1ms/step - loss: 0.5306 - accuracy: 0.7333 - val_loss: 0.5230 - val_accuracy: 0.7262\n",
            "Epoch 162/500\n",
            "60/60 [==============================] - 0s 1ms/step - loss: 0.5114 - accuracy: 0.7433 - val_loss: 0.5512 - val_accuracy: 0.7500\n",
            "Epoch 163/500\n",
            "60/60 [==============================] - 0s 2ms/step - loss: 0.5284 - accuracy: 0.7300 - val_loss: 0.5296 - val_accuracy: 0.7738\n",
            "Epoch 164/500\n",
            "60/60 [==============================] - 0s 1ms/step - loss: 0.5286 - accuracy: 0.7433 - val_loss: 0.5541 - val_accuracy: 0.7321\n",
            "Epoch 165/500\n",
            "60/60 [==============================] - 0s 1ms/step - loss: 0.5193 - accuracy: 0.7317 - val_loss: 0.5355 - val_accuracy: 0.7857\n",
            "Epoch 166/500\n",
            "60/60 [==============================] - 0s 1ms/step - loss: 0.5433 - accuracy: 0.7150 - val_loss: 0.5349 - val_accuracy: 0.7440\n",
            "Epoch 167/500\n",
            "60/60 [==============================] - 0s 1ms/step - loss: 0.5278 - accuracy: 0.7233 - val_loss: 0.5309 - val_accuracy: 0.7262\n",
            "Epoch 168/500\n",
            "60/60 [==============================] - 0s 1ms/step - loss: 0.5186 - accuracy: 0.7350 - val_loss: 0.5442 - val_accuracy: 0.7917\n",
            "Epoch 169/500\n",
            "60/60 [==============================] - 0s 1ms/step - loss: 0.5231 - accuracy: 0.7300 - val_loss: 0.5298 - val_accuracy: 0.7798\n",
            "Epoch 170/500\n",
            "60/60 [==============================] - 0s 1ms/step - loss: 0.5372 - accuracy: 0.7067 - val_loss: 0.5286 - val_accuracy: 0.7262\n",
            "Epoch 171/500\n",
            "60/60 [==============================] - 0s 1ms/step - loss: 0.5176 - accuracy: 0.7350 - val_loss: 0.5253 - val_accuracy: 0.7500\n",
            "Epoch 172/500\n",
            "60/60 [==============================] - 0s 1ms/step - loss: 0.5108 - accuracy: 0.7450 - val_loss: 0.5300 - val_accuracy: 0.7857\n",
            "Epoch 173/500\n",
            "60/60 [==============================] - 0s 1ms/step - loss: 0.5100 - accuracy: 0.7367 - val_loss: 0.5482 - val_accuracy: 0.7738\n",
            "Epoch 174/500\n",
            "60/60 [==============================] - 0s 1ms/step - loss: 0.5180 - accuracy: 0.7333 - val_loss: 0.5615 - val_accuracy: 0.7143\n",
            "Epoch 175/500\n",
            "60/60 [==============================] - 0s 2ms/step - loss: 0.5048 - accuracy: 0.7483 - val_loss: 0.5610 - val_accuracy: 0.7857\n",
            "Epoch 176/500\n",
            "60/60 [==============================] - 0s 2ms/step - loss: 0.5025 - accuracy: 0.7400 - val_loss: 0.5527 - val_accuracy: 0.7262\n",
            "Epoch 177/500\n",
            "60/60 [==============================] - 0s 1ms/step - loss: 0.5006 - accuracy: 0.7550 - val_loss: 0.5298 - val_accuracy: 0.7857\n",
            "Epoch 178/500\n",
            "60/60 [==============================] - 0s 1ms/step - loss: 0.5081 - accuracy: 0.7450 - val_loss: 0.5339 - val_accuracy: 0.8036\n",
            "Epoch 179/500\n",
            "60/60 [==============================] - 0s 1ms/step - loss: 0.5097 - accuracy: 0.7500 - val_loss: 0.5333 - val_accuracy: 0.7381\n",
            "Epoch 180/500\n",
            "60/60 [==============================] - 0s 1ms/step - loss: 0.5019 - accuracy: 0.7517 - val_loss: 0.5323 - val_accuracy: 0.7679\n",
            "Epoch 181/500\n",
            "60/60 [==============================] - 0s 1ms/step - loss: 0.4965 - accuracy: 0.7517 - val_loss: 0.6108 - val_accuracy: 0.6667\n",
            "Epoch 182/500\n",
            "60/60 [==============================] - 0s 1ms/step - loss: 0.5038 - accuracy: 0.7583 - val_loss: 0.5181 - val_accuracy: 0.7619\n",
            "Epoch 183/500\n",
            "60/60 [==============================] - 0s 1ms/step - loss: 0.5220 - accuracy: 0.7350 - val_loss: 0.5771 - val_accuracy: 0.7202\n",
            "Epoch 184/500\n",
            "60/60 [==============================] - 0s 1ms/step - loss: 0.5230 - accuracy: 0.7233 - val_loss: 0.5395 - val_accuracy: 0.7560\n",
            "Epoch 185/500\n",
            "60/60 [==============================] - 0s 1ms/step - loss: 0.5146 - accuracy: 0.7383 - val_loss: 0.6022 - val_accuracy: 0.6667\n",
            "Epoch 186/500\n",
            "60/60 [==============================] - 0s 2ms/step - loss: 0.5138 - accuracy: 0.7367 - val_loss: 0.5246 - val_accuracy: 0.7381\n",
            "Epoch 187/500\n",
            "60/60 [==============================] - 0s 1ms/step - loss: 0.4956 - accuracy: 0.7483 - val_loss: 0.5435 - val_accuracy: 0.7202\n",
            "Epoch 188/500\n",
            "60/60 [==============================] - 0s 2ms/step - loss: 0.5021 - accuracy: 0.7583 - val_loss: 0.5731 - val_accuracy: 0.7024\n",
            "Epoch 189/500\n",
            "60/60 [==============================] - 0s 1ms/step - loss: 0.5054 - accuracy: 0.7500 - val_loss: 0.5246 - val_accuracy: 0.7560\n",
            "Epoch 190/500\n",
            "60/60 [==============================] - 0s 1ms/step - loss: 0.4958 - accuracy: 0.7683 - val_loss: 0.5407 - val_accuracy: 0.7560\n",
            "Epoch 191/500\n",
            "60/60 [==============================] - 0s 1ms/step - loss: 0.4921 - accuracy: 0.7467 - val_loss: 0.5894 - val_accuracy: 0.7440\n",
            "Epoch 192/500\n",
            "60/60 [==============================] - 0s 1ms/step - loss: 0.5027 - accuracy: 0.7550 - val_loss: 0.5421 - val_accuracy: 0.7262\n",
            "Epoch 193/500\n",
            "60/60 [==============================] - 0s 1ms/step - loss: 0.5036 - accuracy: 0.7533 - val_loss: 0.5459 - val_accuracy: 0.7321\n",
            "Epoch 194/500\n",
            "60/60 [==============================] - 0s 1ms/step - loss: 0.5022 - accuracy: 0.7517 - val_loss: 0.5286 - val_accuracy: 0.7560\n",
            "Epoch 195/500\n",
            "60/60 [==============================] - 0s 1ms/step - loss: 0.5023 - accuracy: 0.7350 - val_loss: 0.5276 - val_accuracy: 0.7560\n",
            "Epoch 196/500\n",
            "60/60 [==============================] - 0s 1ms/step - loss: 0.5041 - accuracy: 0.7400 - val_loss: 0.6059 - val_accuracy: 0.7262\n",
            "Epoch 197/500\n",
            "60/60 [==============================] - 0s 2ms/step - loss: 0.4989 - accuracy: 0.7550 - val_loss: 0.5517 - val_accuracy: 0.7857\n",
            "Epoch 198/500\n",
            "60/60 [==============================] - 0s 1ms/step - loss: 0.5042 - accuracy: 0.7383 - val_loss: 0.5350 - val_accuracy: 0.8036\n",
            "Epoch 199/500\n",
            "60/60 [==============================] - 0s 1ms/step - loss: 0.4956 - accuracy: 0.7500 - val_loss: 0.5424 - val_accuracy: 0.7738\n",
            "Epoch 200/500\n",
            "60/60 [==============================] - 0s 1ms/step - loss: 0.4953 - accuracy: 0.7467 - val_loss: 0.5105 - val_accuracy: 0.7798\n",
            "Epoch 201/500\n",
            "60/60 [==============================] - 0s 1ms/step - loss: 0.5016 - accuracy: 0.7400 - val_loss: 0.5245 - val_accuracy: 0.7500\n",
            "Epoch 202/500\n",
            "60/60 [==============================] - 0s 2ms/step - loss: 0.5012 - accuracy: 0.7383 - val_loss: 0.5355 - val_accuracy: 0.7619\n",
            "Epoch 203/500\n",
            "60/60 [==============================] - 0s 2ms/step - loss: 0.4845 - accuracy: 0.7600 - val_loss: 0.5237 - val_accuracy: 0.8274\n",
            "Epoch 204/500\n",
            "60/60 [==============================] - 0s 1ms/step - loss: 0.5058 - accuracy: 0.7400 - val_loss: 0.5599 - val_accuracy: 0.7500\n",
            "Epoch 205/500\n",
            "60/60 [==============================] - 0s 1ms/step - loss: 0.4962 - accuracy: 0.7550 - val_loss: 0.5084 - val_accuracy: 0.7857\n",
            "Epoch 206/500\n",
            "60/60 [==============================] - 0s 1ms/step - loss: 0.4893 - accuracy: 0.7700 - val_loss: 0.5861 - val_accuracy: 0.7024\n",
            "Epoch 207/500\n",
            "60/60 [==============================] - 0s 1ms/step - loss: 0.4930 - accuracy: 0.7417 - val_loss: 0.5119 - val_accuracy: 0.7798\n",
            "Epoch 208/500\n",
            "60/60 [==============================] - 0s 2ms/step - loss: 0.4920 - accuracy: 0.7617 - val_loss: 0.5445 - val_accuracy: 0.7619\n",
            "Epoch 209/500\n",
            "60/60 [==============================] - 0s 1ms/step - loss: 0.4910 - accuracy: 0.7467 - val_loss: 0.5184 - val_accuracy: 0.7917\n",
            "Epoch 210/500\n",
            "60/60 [==============================] - 0s 1ms/step - loss: 0.4881 - accuracy: 0.7667 - val_loss: 0.5296 - val_accuracy: 0.7738\n",
            "Epoch 211/500\n",
            "60/60 [==============================] - 0s 1ms/step - loss: 0.4897 - accuracy: 0.7583 - val_loss: 0.5102 - val_accuracy: 0.7619\n",
            "Epoch 212/500\n",
            "60/60 [==============================] - 0s 1ms/step - loss: 0.4853 - accuracy: 0.7550 - val_loss: 0.5037 - val_accuracy: 0.7619\n",
            "Epoch 213/500\n",
            "60/60 [==============================] - 0s 1ms/step - loss: 0.4901 - accuracy: 0.7617 - val_loss: 0.5113 - val_accuracy: 0.7917\n",
            "Epoch 214/500\n",
            "60/60 [==============================] - 0s 2ms/step - loss: 0.4827 - accuracy: 0.7583 - val_loss: 0.5079 - val_accuracy: 0.7976\n",
            "Epoch 215/500\n",
            "60/60 [==============================] - 0s 1ms/step - loss: 0.4850 - accuracy: 0.7600 - val_loss: 0.5244 - val_accuracy: 0.7679\n",
            "Epoch 216/500\n",
            "60/60 [==============================] - 0s 1ms/step - loss: 0.4773 - accuracy: 0.7600 - val_loss: 0.5463 - val_accuracy: 0.7857\n",
            "Epoch 217/500\n",
            "60/60 [==============================] - 0s 1ms/step - loss: 0.5007 - accuracy: 0.7483 - val_loss: 0.5164 - val_accuracy: 0.7798\n",
            "Epoch 218/500\n",
            "60/60 [==============================] - 0s 1ms/step - loss: 0.4826 - accuracy: 0.7617 - val_loss: 0.5083 - val_accuracy: 0.7679\n",
            "Epoch 219/500\n",
            "60/60 [==============================] - 0s 2ms/step - loss: 0.4903 - accuracy: 0.7467 - val_loss: 0.5442 - val_accuracy: 0.7917\n",
            "Epoch 220/500\n",
            "60/60 [==============================] - 0s 1ms/step - loss: 0.4869 - accuracy: 0.7617 - val_loss: 0.5596 - val_accuracy: 0.7560\n",
            "Epoch 221/500\n",
            "60/60 [==============================] - 0s 1ms/step - loss: 0.4861 - accuracy: 0.7583 - val_loss: 0.5139 - val_accuracy: 0.7857\n",
            "Epoch 222/500\n",
            "60/60 [==============================] - 0s 1ms/step - loss: 0.4948 - accuracy: 0.7483 - val_loss: 0.5321 - val_accuracy: 0.8155\n",
            "Epoch 223/500\n",
            "60/60 [==============================] - 0s 1ms/step - loss: 0.4777 - accuracy: 0.7700 - val_loss: 0.5529 - val_accuracy: 0.7560\n",
            "Epoch 224/500\n",
            "60/60 [==============================] - 0s 1ms/step - loss: 0.4872 - accuracy: 0.7617 - val_loss: 0.5168 - val_accuracy: 0.7857\n",
            "Epoch 225/500\n",
            "60/60 [==============================] - 0s 1ms/step - loss: 0.4787 - accuracy: 0.7650 - val_loss: 0.5328 - val_accuracy: 0.7560\n",
            "Epoch 226/500\n",
            "60/60 [==============================] - 0s 2ms/step - loss: 0.4840 - accuracy: 0.7733 - val_loss: 0.5899 - val_accuracy: 0.7679\n",
            "Epoch 227/500\n",
            "60/60 [==============================] - 0s 1ms/step - loss: 0.4888 - accuracy: 0.7500 - val_loss: 0.5321 - val_accuracy: 0.7738\n",
            "Epoch 228/500\n",
            "60/60 [==============================] - 0s 1ms/step - loss: 0.4877 - accuracy: 0.7533 - val_loss: 0.5119 - val_accuracy: 0.7917\n",
            "Epoch 229/500\n",
            "60/60 [==============================] - 0s 1ms/step - loss: 0.4860 - accuracy: 0.7767 - val_loss: 0.5112 - val_accuracy: 0.7738\n",
            "Epoch 230/500\n",
            "60/60 [==============================] - 0s 2ms/step - loss: 0.4831 - accuracy: 0.7650 - val_loss: 0.5255 - val_accuracy: 0.8214\n",
            "Epoch 231/500\n",
            "60/60 [==============================] - 0s 1ms/step - loss: 0.4895 - accuracy: 0.7400 - val_loss: 0.5123 - val_accuracy: 0.7857\n",
            "Epoch 232/500\n",
            "60/60 [==============================] - 0s 1ms/step - loss: 0.4917 - accuracy: 0.7483 - val_loss: 0.5036 - val_accuracy: 0.7917\n",
            "Epoch 233/500\n",
            "60/60 [==============================] - 0s 1ms/step - loss: 0.4807 - accuracy: 0.7550 - val_loss: 0.5189 - val_accuracy: 0.7500\n",
            "Epoch 234/500\n",
            "60/60 [==============================] - 0s 1ms/step - loss: 0.4826 - accuracy: 0.7533 - val_loss: 0.5228 - val_accuracy: 0.8274\n",
            "Epoch 235/500\n",
            "60/60 [==============================] - 0s 1ms/step - loss: 0.4795 - accuracy: 0.7517 - val_loss: 0.5190 - val_accuracy: 0.8095\n",
            "Epoch 236/500\n",
            "60/60 [==============================] - 0s 1ms/step - loss: 0.4709 - accuracy: 0.7583 - val_loss: 0.5152 - val_accuracy: 0.7917\n",
            "Epoch 237/500\n",
            "60/60 [==============================] - 0s 1ms/step - loss: 0.4815 - accuracy: 0.7600 - val_loss: 0.5356 - val_accuracy: 0.8155\n",
            "Epoch 238/500\n",
            "60/60 [==============================] - 0s 1ms/step - loss: 0.5067 - accuracy: 0.7533 - val_loss: 0.5323 - val_accuracy: 0.7976\n",
            "Epoch 239/500\n",
            "60/60 [==============================] - 0s 1ms/step - loss: 0.4823 - accuracy: 0.7500 - val_loss: 0.5084 - val_accuracy: 0.7619\n",
            "Epoch 240/500\n",
            "60/60 [==============================] - 0s 1ms/step - loss: 0.4760 - accuracy: 0.7633 - val_loss: 0.5302 - val_accuracy: 0.7619\n",
            "Epoch 241/500\n",
            "60/60 [==============================] - 0s 2ms/step - loss: 0.4793 - accuracy: 0.7617 - val_loss: 0.5091 - val_accuracy: 0.7857\n",
            "Epoch 242/500\n",
            "60/60 [==============================] - 0s 1ms/step - loss: 0.4849 - accuracy: 0.7633 - val_loss: 0.5274 - val_accuracy: 0.7381\n",
            "Epoch 243/500\n",
            "60/60 [==============================] - 0s 1ms/step - loss: 0.4807 - accuracy: 0.7450 - val_loss: 0.5030 - val_accuracy: 0.7976\n",
            "Epoch 244/500\n",
            "60/60 [==============================] - 0s 2ms/step - loss: 0.4895 - accuracy: 0.7583 - val_loss: 0.5096 - val_accuracy: 0.7798\n",
            "Epoch 245/500\n",
            "60/60 [==============================] - 0s 1ms/step - loss: 0.4763 - accuracy: 0.7733 - val_loss: 0.5101 - val_accuracy: 0.7976\n",
            "Epoch 246/500\n",
            "60/60 [==============================] - 0s 1ms/step - loss: 0.4692 - accuracy: 0.7733 - val_loss: 0.4985 - val_accuracy: 0.7917\n",
            "Epoch 247/500\n",
            "60/60 [==============================] - 0s 2ms/step - loss: 0.4777 - accuracy: 0.7700 - val_loss: 0.5029 - val_accuracy: 0.7976\n",
            "Epoch 248/500\n",
            "60/60 [==============================] - 0s 1ms/step - loss: 0.4764 - accuracy: 0.7617 - val_loss: 0.5085 - val_accuracy: 0.8155\n",
            "Epoch 249/500\n",
            "60/60 [==============================] - 0s 1ms/step - loss: 0.4736 - accuracy: 0.7567 - val_loss: 0.5342 - val_accuracy: 0.7976\n",
            "Epoch 250/500\n",
            "60/60 [==============================] - 0s 1ms/step - loss: 0.4749 - accuracy: 0.7533 - val_loss: 0.5413 - val_accuracy: 0.7738\n",
            "Epoch 251/500\n",
            "60/60 [==============================] - 0s 2ms/step - loss: 0.4774 - accuracy: 0.7667 - val_loss: 0.5228 - val_accuracy: 0.7679\n",
            "Epoch 252/500\n",
            "60/60 [==============================] - 0s 2ms/step - loss: 0.4764 - accuracy: 0.7617 - val_loss: 0.5340 - val_accuracy: 0.7976\n",
            "Epoch 253/500\n",
            "60/60 [==============================] - 0s 1ms/step - loss: 0.4797 - accuracy: 0.7583 - val_loss: 0.5077 - val_accuracy: 0.7917\n",
            "Epoch 00253: early stopping\n"
          ],
          "name": "stdout"
        }
      ]
    },
    {
      "cell_type": "markdown",
      "metadata": {
        "id": "jglY9Trsz9Kb"
      },
      "source": [
        "**Accuracy graph**"
      ]
    },
    {
      "cell_type": "code",
      "metadata": {
        "colab": {
          "base_uri": "https://localhost:8080/",
          "height": 313
        },
        "id": "djvw_6LWx_hr",
        "outputId": "314592f5-0b81-4b18-8554-406ff0a5b3f8"
      },
      "source": [
        "epochs = 253\r\n",
        "\r\n",
        "acc_list = [100 * i for i in hist.history['accuracy']]\r\n",
        "vacc_list = [100 * i for i in hist.history['val_accuracy']]\r\n",
        "loss_list = hist.history['loss'] #[100 * i for i in history.history['loss']]\r\n",
        "vloss_list = hist.history['val_loss'] #[100 * i for i in history.history['val_loss']]\r\n",
        "\r\n",
        "plt.plot(range(1,epochs+1),acc_list)  \r\n",
        "plt.plot(range(1,epochs+1),vacc_list)  \r\n",
        "plt.plot(np.argmax(np.array(vacc_list))+1,vacc_list[np.argmax(np.array(vacc_list))], 'r*')\r\n",
        "plt.title('DL of diabetes: data2 of Model4 accuracy')\r\n",
        "plt.ylabel('Accuracy (%)')\r\n",
        "plt.xlabel('Epoch')\r\n",
        "plt.legend(['accuracy','val_accuracy','best'], loc='best')"
      ],
      "execution_count": 149,
      "outputs": [
        {
          "output_type": "execute_result",
          "data": {
            "text/plain": [
              "<matplotlib.legend.Legend at 0x7ff9941348d0>"
            ]
          },
          "metadata": {
            "tags": []
          },
          "execution_count": 149
        },
        {
          "output_type": "display_data",
          "data": {
            "image/png": "[encoded data removed]",
            "text/plain": [
              "<Figure size 432x288 with 1 Axes>"
            ]
          },
          "metadata": {
            "tags": [],
            "needs_background": "light"
          }
        }
      ]
    },
    {
      "cell_type": "markdown",
      "metadata": {
        "id": "1VLem2MV0L5X"
      },
      "source": [
        "**Best model**\r\n",
        "- diabetes_DL_data2_best_weights.203-0.8274.hdf5"
      ]
    },
    {
      "cell_type": "code",
      "metadata": {
        "colab": {
          "base_uri": "https://localhost:8080/"
        },
        "id": "7i3BBcuaznwa",
        "outputId": "ad55a4d7-8fde-4e37-94f5-27c9321c9609"
      },
      "source": [
        "# model2 performance\r\n",
        "model4.evaluate(X_test, y_test)"
      ],
      "execution_count": 150,
      "outputs": [
        {
          "output_type": "stream",
          "text": [
            "6/6 [==============================] - 0s 1ms/step - loss: 0.5077 - accuracy: 0.7917\n"
          ],
          "name": "stdout"
        },
        {
          "output_type": "execute_result",
          "data": {
            "text/plain": [
              "[0.5076934695243835, 0.7916666865348816]"
            ]
          },
          "metadata": {
            "tags": []
          },
          "execution_count": 150
        }
      ]
    },
    {
      "cell_type": "code",
      "metadata": {
        "colab": {
          "base_uri": "https://localhost:8080/"
        },
        "id": "q6foZIDOx_IW",
        "outputId": "c4e0b7bb-6c4a-4146-e990-62484c7e16f5"
      },
      "source": [
        "from keras.models import load_model\r\n",
        "\r\n",
        "# model = load_model('your_best_model.hdf5')\r\n",
        "model4_best = load_model('diabetes_DL_data2_best_weights.203-0.8274.hdf5')\r\n",
        "model4_best.evaluate(X_test, y_test)"
      ],
      "execution_count": 151,
      "outputs": [
        {
          "output_type": "stream",
          "text": [
            "6/6 [==============================] - 0s 1ms/step - loss: 0.5237 - accuracy: 0.8274\n"
          ],
          "name": "stdout"
        },
        {
          "output_type": "execute_result",
          "data": {
            "text/plain": [
              "[0.5237209796905518, 0.8273809552192688]"
            ]
          },
          "metadata": {
            "tags": []
          },
          "execution_count": 151
        }
      ]
    },
    {
      "cell_type": "markdown",
      "metadata": {
        "id": "_FopxQHm01cn"
      },
      "source": [
        "**Confusion matrix**"
      ]
    },
    {
      "cell_type": "code",
      "metadata": {
        "id": "Rna7STYRzpOI"
      },
      "source": [
        "predictions = [int(np.round(prob)) for prob in model4_best.predict(X_test)]"
      ],
      "execution_count": 152,
      "outputs": []
    },
    {
      "cell_type": "code",
      "metadata": {
        "id": "snlh_U-TzpKK"
      },
      "source": [
        "cm = confusion_matrix(y_test, predictions)"
      ],
      "execution_count": 153,
      "outputs": []
    },
    {
      "cell_type": "code",
      "metadata": {
        "id": "1q3CDWDVzpFr"
      },
      "source": [
        "class_names = ['noDM','DM']"
      ],
      "execution_count": 155,
      "outputs": []
    },
    {
      "cell_type": "code",
      "metadata": {
        "colab": {
          "base_uri": "https://localhost:8080/",
          "height": 334
        },
        "id": "-mDBiy3wzpCS",
        "outputId": "70599758-7f6b-49a2-e35d-ba41e4e7d0be"
      },
      "source": [
        "plt.figure(figsize=(5,5))\r\n",
        "sns.heatmap(cm, cbar=False, xticklabels=class_names, yticklabels=class_names, fmt='d', annot=True, cmap=plt.cm.coolwarm)\r\n",
        "plt.xlabel('Predicted')\r\n",
        "plt.ylabel('Actual')\r\n",
        "plt.show()"
      ],
      "execution_count": 156,
      "outputs": [
        {
          "output_type": "display_data",
          "data": {
            "image/png": "[encoded data removed]",
            "text/plain": [
              "<Figure size 360x360 with 1 Axes>"
            ]
          },
          "metadata": {
            "tags": [],
            "needs_background": "light"
          }
        }
      ]
    }
  ]
}